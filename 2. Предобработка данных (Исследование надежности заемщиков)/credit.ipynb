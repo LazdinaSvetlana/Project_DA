{
 "cells": [
  {
   "cell_type": "markdown",
   "id": "c81daeeb",
   "metadata": {
    "deletable": false,
    "id": "c81daeeb"
   },
   "source": [
    "# Исследование надежности заемщиков\n"
   ]
  },
  {
   "cell_type": "markdown",
   "id": "744d7639",
   "metadata": {
    "deletable": false,
    "id": "744d7639"
   },
   "source": [
    "## Откройте таблицу и изучите общую информацию о данных"
   ]
  },
  {
   "cell_type": "markdown",
   "id": "e7a14c31",
   "metadata": {
    "deletable": false,
    "id": "e7a14c31"
   },
   "source": [
    "**Задание 1. Импортируйте библиотеку pandas. Считайте данные из csv-файла в датафрейм и сохраните в переменную `data`. Путь к файлу:**\n",
    "\n",
    "`/datasets/data.csv`"
   ]
  },
  {
   "cell_type": "code",
   "execution_count": 1,
   "id": "fca96ccd",
   "metadata": {},
   "outputs": [],
   "source": [
    "import pandas as pd\n",
    "import seaborn"
   ]
  },
  {
   "cell_type": "code",
   "execution_count": 2,
   "id": "7bcf75c9",
   "metadata": {
    "deletable": false,
    "id": "7bcf75c9"
   },
   "outputs": [],
   "source": [
    "try:\n",
    "    data = pd.read_csv('/datasets/data.csv')\n",
    "except:\n",
    "    data = pd.read_csv('https://...../datasets/data.csv')"
   ]
  },
  {
   "cell_type": "markdown",
   "id": "b8038fe3",
   "metadata": {
    "deletable": false,
    "id": "b8038fe3"
   },
   "source": [
    "**Задание 2. Выведите первые 20 строчек датафрейма `data` на экран.**"
   ]
  },
  {
   "cell_type": "code",
   "execution_count": 3,
   "id": "2a7cab99",
   "metadata": {
    "deletable": false,
    "id": "2a7cab99",
    "outputId": "1a8f3ef2-d323-4ec2-ddf7-89670b5944c4"
   },
   "outputs": [
    {
     "data": {
      "text/html": [
       "<div>\n",
       "<style scoped>\n",
       "    .dataframe tbody tr th:only-of-type {\n",
       "        vertical-align: middle;\n",
       "    }\n",
       "\n",
       "    .dataframe tbody tr th {\n",
       "        vertical-align: top;\n",
       "    }\n",
       "\n",
       "    .dataframe thead th {\n",
       "        text-align: right;\n",
       "    }\n",
       "</style>\n",
       "<table border=\"1\" class=\"dataframe\">\n",
       "  <thead>\n",
       "    <tr style=\"text-align: right;\">\n",
       "      <th></th>\n",
       "      <th>children</th>\n",
       "      <th>days_employed</th>\n",
       "      <th>dob_years</th>\n",
       "      <th>education</th>\n",
       "      <th>education_id</th>\n",
       "      <th>family_status</th>\n",
       "      <th>family_status_id</th>\n",
       "      <th>gender</th>\n",
       "      <th>income_type</th>\n",
       "      <th>debt</th>\n",
       "      <th>total_income</th>\n",
       "      <th>purpose</th>\n",
       "    </tr>\n",
       "  </thead>\n",
       "  <tbody>\n",
       "    <tr>\n",
       "      <th>0</th>\n",
       "      <td>1</td>\n",
       "      <td>-8437.673028</td>\n",
       "      <td>42</td>\n",
       "      <td>высшее</td>\n",
       "      <td>0</td>\n",
       "      <td>женат / замужем</td>\n",
       "      <td>0</td>\n",
       "      <td>F</td>\n",
       "      <td>сотрудник</td>\n",
       "      <td>0</td>\n",
       "      <td>253875.639453</td>\n",
       "      <td>покупка жилья</td>\n",
       "    </tr>\n",
       "    <tr>\n",
       "      <th>1</th>\n",
       "      <td>1</td>\n",
       "      <td>-4024.803754</td>\n",
       "      <td>36</td>\n",
       "      <td>среднее</td>\n",
       "      <td>1</td>\n",
       "      <td>женат / замужем</td>\n",
       "      <td>0</td>\n",
       "      <td>F</td>\n",
       "      <td>сотрудник</td>\n",
       "      <td>0</td>\n",
       "      <td>112080.014102</td>\n",
       "      <td>приобретение автомобиля</td>\n",
       "    </tr>\n",
       "    <tr>\n",
       "      <th>2</th>\n",
       "      <td>0</td>\n",
       "      <td>-5623.422610</td>\n",
       "      <td>33</td>\n",
       "      <td>Среднее</td>\n",
       "      <td>1</td>\n",
       "      <td>женат / замужем</td>\n",
       "      <td>0</td>\n",
       "      <td>M</td>\n",
       "      <td>сотрудник</td>\n",
       "      <td>0</td>\n",
       "      <td>145885.952297</td>\n",
       "      <td>покупка жилья</td>\n",
       "    </tr>\n",
       "    <tr>\n",
       "      <th>3</th>\n",
       "      <td>3</td>\n",
       "      <td>-4124.747207</td>\n",
       "      <td>32</td>\n",
       "      <td>среднее</td>\n",
       "      <td>1</td>\n",
       "      <td>женат / замужем</td>\n",
       "      <td>0</td>\n",
       "      <td>M</td>\n",
       "      <td>сотрудник</td>\n",
       "      <td>0</td>\n",
       "      <td>267628.550329</td>\n",
       "      <td>дополнительное образование</td>\n",
       "    </tr>\n",
       "    <tr>\n",
       "      <th>4</th>\n",
       "      <td>0</td>\n",
       "      <td>340266.072047</td>\n",
       "      <td>53</td>\n",
       "      <td>среднее</td>\n",
       "      <td>1</td>\n",
       "      <td>гражданский брак</td>\n",
       "      <td>1</td>\n",
       "      <td>F</td>\n",
       "      <td>пенсионер</td>\n",
       "      <td>0</td>\n",
       "      <td>158616.077870</td>\n",
       "      <td>сыграть свадьбу</td>\n",
       "    </tr>\n",
       "    <tr>\n",
       "      <th>5</th>\n",
       "      <td>0</td>\n",
       "      <td>-926.185831</td>\n",
       "      <td>27</td>\n",
       "      <td>высшее</td>\n",
       "      <td>0</td>\n",
       "      <td>гражданский брак</td>\n",
       "      <td>1</td>\n",
       "      <td>M</td>\n",
       "      <td>компаньон</td>\n",
       "      <td>0</td>\n",
       "      <td>255763.565419</td>\n",
       "      <td>покупка жилья</td>\n",
       "    </tr>\n",
       "    <tr>\n",
       "      <th>6</th>\n",
       "      <td>0</td>\n",
       "      <td>-2879.202052</td>\n",
       "      <td>43</td>\n",
       "      <td>высшее</td>\n",
       "      <td>0</td>\n",
       "      <td>женат / замужем</td>\n",
       "      <td>0</td>\n",
       "      <td>F</td>\n",
       "      <td>компаньон</td>\n",
       "      <td>0</td>\n",
       "      <td>240525.971920</td>\n",
       "      <td>операции с жильем</td>\n",
       "    </tr>\n",
       "    <tr>\n",
       "      <th>7</th>\n",
       "      <td>0</td>\n",
       "      <td>-152.779569</td>\n",
       "      <td>50</td>\n",
       "      <td>СРЕДНЕЕ</td>\n",
       "      <td>1</td>\n",
       "      <td>женат / замужем</td>\n",
       "      <td>0</td>\n",
       "      <td>M</td>\n",
       "      <td>сотрудник</td>\n",
       "      <td>0</td>\n",
       "      <td>135823.934197</td>\n",
       "      <td>образование</td>\n",
       "    </tr>\n",
       "    <tr>\n",
       "      <th>8</th>\n",
       "      <td>2</td>\n",
       "      <td>-6929.865299</td>\n",
       "      <td>35</td>\n",
       "      <td>ВЫСШЕЕ</td>\n",
       "      <td>0</td>\n",
       "      <td>гражданский брак</td>\n",
       "      <td>1</td>\n",
       "      <td>F</td>\n",
       "      <td>сотрудник</td>\n",
       "      <td>0</td>\n",
       "      <td>95856.832424</td>\n",
       "      <td>на проведение свадьбы</td>\n",
       "    </tr>\n",
       "    <tr>\n",
       "      <th>9</th>\n",
       "      <td>0</td>\n",
       "      <td>-2188.756445</td>\n",
       "      <td>41</td>\n",
       "      <td>среднее</td>\n",
       "      <td>1</td>\n",
       "      <td>женат / замужем</td>\n",
       "      <td>0</td>\n",
       "      <td>M</td>\n",
       "      <td>сотрудник</td>\n",
       "      <td>0</td>\n",
       "      <td>144425.938277</td>\n",
       "      <td>покупка жилья для семьи</td>\n",
       "    </tr>\n",
       "    <tr>\n",
       "      <th>10</th>\n",
       "      <td>2</td>\n",
       "      <td>-4171.483647</td>\n",
       "      <td>36</td>\n",
       "      <td>высшее</td>\n",
       "      <td>0</td>\n",
       "      <td>женат / замужем</td>\n",
       "      <td>0</td>\n",
       "      <td>M</td>\n",
       "      <td>компаньон</td>\n",
       "      <td>0</td>\n",
       "      <td>113943.491460</td>\n",
       "      <td>покупка недвижимости</td>\n",
       "    </tr>\n",
       "    <tr>\n",
       "      <th>11</th>\n",
       "      <td>0</td>\n",
       "      <td>-792.701887</td>\n",
       "      <td>40</td>\n",
       "      <td>среднее</td>\n",
       "      <td>1</td>\n",
       "      <td>женат / замужем</td>\n",
       "      <td>0</td>\n",
       "      <td>F</td>\n",
       "      <td>сотрудник</td>\n",
       "      <td>0</td>\n",
       "      <td>77069.234271</td>\n",
       "      <td>покупка коммерческой недвижимости</td>\n",
       "    </tr>\n",
       "    <tr>\n",
       "      <th>12</th>\n",
       "      <td>0</td>\n",
       "      <td>NaN</td>\n",
       "      <td>65</td>\n",
       "      <td>среднее</td>\n",
       "      <td>1</td>\n",
       "      <td>гражданский брак</td>\n",
       "      <td>1</td>\n",
       "      <td>M</td>\n",
       "      <td>пенсионер</td>\n",
       "      <td>0</td>\n",
       "      <td>NaN</td>\n",
       "      <td>сыграть свадьбу</td>\n",
       "    </tr>\n",
       "    <tr>\n",
       "      <th>13</th>\n",
       "      <td>0</td>\n",
       "      <td>-1846.641941</td>\n",
       "      <td>54</td>\n",
       "      <td>неоконченное высшее</td>\n",
       "      <td>2</td>\n",
       "      <td>женат / замужем</td>\n",
       "      <td>0</td>\n",
       "      <td>F</td>\n",
       "      <td>сотрудник</td>\n",
       "      <td>0</td>\n",
       "      <td>130458.228857</td>\n",
       "      <td>приобретение автомобиля</td>\n",
       "    </tr>\n",
       "    <tr>\n",
       "      <th>14</th>\n",
       "      <td>0</td>\n",
       "      <td>-1844.956182</td>\n",
       "      <td>56</td>\n",
       "      <td>высшее</td>\n",
       "      <td>0</td>\n",
       "      <td>гражданский брак</td>\n",
       "      <td>1</td>\n",
       "      <td>F</td>\n",
       "      <td>компаньон</td>\n",
       "      <td>1</td>\n",
       "      <td>165127.911772</td>\n",
       "      <td>покупка жилой недвижимости</td>\n",
       "    </tr>\n",
       "    <tr>\n",
       "      <th>15</th>\n",
       "      <td>1</td>\n",
       "      <td>-972.364419</td>\n",
       "      <td>26</td>\n",
       "      <td>среднее</td>\n",
       "      <td>1</td>\n",
       "      <td>женат / замужем</td>\n",
       "      <td>0</td>\n",
       "      <td>F</td>\n",
       "      <td>сотрудник</td>\n",
       "      <td>0</td>\n",
       "      <td>116820.904450</td>\n",
       "      <td>строительство собственной недвижимости</td>\n",
       "    </tr>\n",
       "    <tr>\n",
       "      <th>16</th>\n",
       "      <td>0</td>\n",
       "      <td>-1719.934226</td>\n",
       "      <td>35</td>\n",
       "      <td>среднее</td>\n",
       "      <td>1</td>\n",
       "      <td>женат / замужем</td>\n",
       "      <td>0</td>\n",
       "      <td>F</td>\n",
       "      <td>сотрудник</td>\n",
       "      <td>0</td>\n",
       "      <td>289202.704229</td>\n",
       "      <td>недвижимость</td>\n",
       "    </tr>\n",
       "    <tr>\n",
       "      <th>17</th>\n",
       "      <td>0</td>\n",
       "      <td>-2369.999720</td>\n",
       "      <td>33</td>\n",
       "      <td>высшее</td>\n",
       "      <td>0</td>\n",
       "      <td>гражданский брак</td>\n",
       "      <td>1</td>\n",
       "      <td>M</td>\n",
       "      <td>сотрудник</td>\n",
       "      <td>0</td>\n",
       "      <td>90410.586745</td>\n",
       "      <td>строительство недвижимости</td>\n",
       "    </tr>\n",
       "    <tr>\n",
       "      <th>18</th>\n",
       "      <td>0</td>\n",
       "      <td>400281.136913</td>\n",
       "      <td>53</td>\n",
       "      <td>среднее</td>\n",
       "      <td>1</td>\n",
       "      <td>вдовец / вдова</td>\n",
       "      <td>2</td>\n",
       "      <td>F</td>\n",
       "      <td>пенсионер</td>\n",
       "      <td>0</td>\n",
       "      <td>56823.777243</td>\n",
       "      <td>на покупку подержанного автомобиля</td>\n",
       "    </tr>\n",
       "    <tr>\n",
       "      <th>19</th>\n",
       "      <td>0</td>\n",
       "      <td>-10038.818549</td>\n",
       "      <td>48</td>\n",
       "      <td>СРЕДНЕЕ</td>\n",
       "      <td>1</td>\n",
       "      <td>в разводе</td>\n",
       "      <td>3</td>\n",
       "      <td>F</td>\n",
       "      <td>сотрудник</td>\n",
       "      <td>0</td>\n",
       "      <td>242831.107982</td>\n",
       "      <td>на покупку своего автомобиля</td>\n",
       "    </tr>\n",
       "  </tbody>\n",
       "</table>\n",
       "</div>"
      ],
      "text/plain": [
       "    children  days_employed  dob_years            education  education_id  \\\n",
       "0          1   -8437.673028         42               высшее             0   \n",
       "1          1   -4024.803754         36              среднее             1   \n",
       "2          0   -5623.422610         33              Среднее             1   \n",
       "3          3   -4124.747207         32              среднее             1   \n",
       "4          0  340266.072047         53              среднее             1   \n",
       "5          0    -926.185831         27               высшее             0   \n",
       "6          0   -2879.202052         43               высшее             0   \n",
       "7          0    -152.779569         50              СРЕДНЕЕ             1   \n",
       "8          2   -6929.865299         35               ВЫСШЕЕ             0   \n",
       "9          0   -2188.756445         41              среднее             1   \n",
       "10         2   -4171.483647         36               высшее             0   \n",
       "11         0    -792.701887         40              среднее             1   \n",
       "12         0            NaN         65              среднее             1   \n",
       "13         0   -1846.641941         54  неоконченное высшее             2   \n",
       "14         0   -1844.956182         56               высшее             0   \n",
       "15         1    -972.364419         26              среднее             1   \n",
       "16         0   -1719.934226         35              среднее             1   \n",
       "17         0   -2369.999720         33               высшее             0   \n",
       "18         0  400281.136913         53              среднее             1   \n",
       "19         0  -10038.818549         48              СРЕДНЕЕ             1   \n",
       "\n",
       "       family_status  family_status_id gender income_type  debt  \\\n",
       "0    женат / замужем                 0      F   сотрудник     0   \n",
       "1    женат / замужем                 0      F   сотрудник     0   \n",
       "2    женат / замужем                 0      M   сотрудник     0   \n",
       "3    женат / замужем                 0      M   сотрудник     0   \n",
       "4   гражданский брак                 1      F   пенсионер     0   \n",
       "5   гражданский брак                 1      M   компаньон     0   \n",
       "6    женат / замужем                 0      F   компаньон     0   \n",
       "7    женат / замужем                 0      M   сотрудник     0   \n",
       "8   гражданский брак                 1      F   сотрудник     0   \n",
       "9    женат / замужем                 0      M   сотрудник     0   \n",
       "10   женат / замужем                 0      M   компаньон     0   \n",
       "11   женат / замужем                 0      F   сотрудник     0   \n",
       "12  гражданский брак                 1      M   пенсионер     0   \n",
       "13   женат / замужем                 0      F   сотрудник     0   \n",
       "14  гражданский брак                 1      F   компаньон     1   \n",
       "15   женат / замужем                 0      F   сотрудник     0   \n",
       "16   женат / замужем                 0      F   сотрудник     0   \n",
       "17  гражданский брак                 1      M   сотрудник     0   \n",
       "18    вдовец / вдова                 2      F   пенсионер     0   \n",
       "19         в разводе                 3      F   сотрудник     0   \n",
       "\n",
       "     total_income                                 purpose  \n",
       "0   253875.639453                           покупка жилья  \n",
       "1   112080.014102                 приобретение автомобиля  \n",
       "2   145885.952297                           покупка жилья  \n",
       "3   267628.550329              дополнительное образование  \n",
       "4   158616.077870                         сыграть свадьбу  \n",
       "5   255763.565419                           покупка жилья  \n",
       "6   240525.971920                       операции с жильем  \n",
       "7   135823.934197                             образование  \n",
       "8    95856.832424                   на проведение свадьбы  \n",
       "9   144425.938277                 покупка жилья для семьи  \n",
       "10  113943.491460                    покупка недвижимости  \n",
       "11   77069.234271       покупка коммерческой недвижимости  \n",
       "12            NaN                         сыграть свадьбу  \n",
       "13  130458.228857                 приобретение автомобиля  \n",
       "14  165127.911772              покупка жилой недвижимости  \n",
       "15  116820.904450  строительство собственной недвижимости  \n",
       "16  289202.704229                            недвижимость  \n",
       "17   90410.586745              строительство недвижимости  \n",
       "18   56823.777243      на покупку подержанного автомобиля  \n",
       "19  242831.107982            на покупку своего автомобиля  "
      ]
     },
     "execution_count": 3,
     "metadata": {},
     "output_type": "execute_result"
    }
   ],
   "source": [
    "data.head(20)"
   ]
  },
  {
   "cell_type": "markdown",
   "id": "1c12e233",
   "metadata": {
    "deletable": false,
    "id": "1c12e233"
   },
   "source": [
    "**Задание 3. Выведите основную информацию о датафрейме с помощью метода `info()`.**"
   ]
  },
  {
   "cell_type": "code",
   "execution_count": 4,
   "id": "2b757bca",
   "metadata": {
    "deletable": false,
    "id": "2b757bca",
    "outputId": "15376089-8dad-46c9-b520-c05248d43158"
   },
   "outputs": [
    {
     "name": "stdout",
     "output_type": "stream",
     "text": [
      "<class 'pandas.core.frame.DataFrame'>\n",
      "RangeIndex: 21525 entries, 0 to 21524\n",
      "Data columns (total 12 columns):\n",
      " #   Column            Non-Null Count  Dtype  \n",
      "---  ------            --------------  -----  \n",
      " 0   children          21525 non-null  int64  \n",
      " 1   days_employed     19351 non-null  float64\n",
      " 2   dob_years         21525 non-null  int64  \n",
      " 3   education         21525 non-null  object \n",
      " 4   education_id      21525 non-null  int64  \n",
      " 5   family_status     21525 non-null  object \n",
      " 6   family_status_id  21525 non-null  int64  \n",
      " 7   gender            21525 non-null  object \n",
      " 8   income_type       21525 non-null  object \n",
      " 9   debt              21525 non-null  int64  \n",
      " 10  total_income      19351 non-null  float64\n",
      " 11  purpose           21525 non-null  object \n",
      "dtypes: float64(2), int64(5), object(5)\n",
      "memory usage: 2.0+ MB\n"
     ]
    }
   ],
   "source": [
    "data.info()"
   ]
  },
  {
   "cell_type": "markdown",
   "id": "333ec665",
   "metadata": {
    "deletable": false,
    "id": "333ec665"
   },
   "source": [
    "## Предобработка данных"
   ]
  },
  {
   "cell_type": "markdown",
   "id": "02d92d53",
   "metadata": {
    "deletable": false,
    "id": "02d92d53"
   },
   "source": [
    "### Удаление пропусков"
   ]
  },
  {
   "cell_type": "markdown",
   "id": "cd84967c",
   "metadata": {
    "deletable": false,
    "id": "cd84967c"
   },
   "source": [
    "**Задание 4. Выведите количество пропущенных значений для каждого столбца. Используйте комбинацию двух методов.**"
   ]
  },
  {
   "cell_type": "code",
   "execution_count": 5,
   "id": "7f9b2309",
   "metadata": {
    "deletable": false,
    "id": "7f9b2309",
    "outputId": "81f4d817-781c-465c-ed15-91ce4446810d"
   },
   "outputs": [
    {
     "data": {
      "text/plain": [
       "children               0\n",
       "days_employed       2174\n",
       "dob_years              0\n",
       "education              0\n",
       "education_id           0\n",
       "family_status          0\n",
       "family_status_id       0\n",
       "gender                 0\n",
       "income_type            0\n",
       "debt                   0\n",
       "total_income        2174\n",
       "purpose                0\n",
       "dtype: int64"
      ]
     },
     "execution_count": 5,
     "metadata": {},
     "output_type": "execute_result"
    }
   ],
   "source": [
    "data.isna().sum()"
   ]
  },
  {
   "cell_type": "markdown",
   "id": "db86e27b",
   "metadata": {
    "deletable": false,
    "id": "db86e27b"
   },
   "source": [
    "**Задание 5. В двух столбцах есть пропущенные значения. Один из них — `days_employed`. Пропуски в этом столбце вы обработаете на следующем этапе. Другой столбец с пропущенными значениями — `total_income` — хранит данные о доходах. На сумму дохода сильнее всего влияет тип занятости, поэтому заполнить пропуски в этом столбце нужно медианным значением по каждому типу из столбца `income_type`. Например, у человека с типом занятости `сотрудник` пропуск в столбце `total_income` должен быть заполнен медианным доходом среди всех записей с тем же типом.**"
   ]
  },
  {
   "cell_type": "code",
   "execution_count": 6,
   "id": "42006a93",
   "metadata": {
    "deletable": false,
    "id": "42006a93"
   },
   "outputs": [],
   "source": [
    "for t in data['income_type'].unique():\n",
    "    data.loc[(data['income_type'] == t) & (data['total_income'].isna()), 'total_income'] = \\\n",
    "    data.loc[(data['income_type'] == t), 'total_income'].median()"
   ]
  },
  {
   "cell_type": "code",
   "execution_count": 7,
   "id": "2d2949c5",
   "metadata": {},
   "outputs": [
    {
     "data": {
      "text/plain": [
       "children               0\n",
       "days_employed       2174\n",
       "dob_years              0\n",
       "education              0\n",
       "education_id           0\n",
       "family_status          0\n",
       "family_status_id       0\n",
       "gender                 0\n",
       "income_type            0\n",
       "debt                   0\n",
       "total_income           0\n",
       "purpose                0\n",
       "dtype: int64"
      ]
     },
     "execution_count": 7,
     "metadata": {},
     "output_type": "execute_result"
    }
   ],
   "source": [
    "data.isna().sum() # проверка заполнения"
   ]
  },
  {
   "cell_type": "markdown",
   "id": "89da5ece",
   "metadata": {
    "deletable": false,
    "id": "89da5ece"
   },
   "source": [
    "### Обработка аномальных значений"
   ]
  },
  {
   "cell_type": "markdown",
   "id": "57964554",
   "metadata": {
    "deletable": false,
    "id": "57964554"
   },
   "source": [
    "**Задание 6. В данных могут встречаться артефакты (аномалии) — значения, которые не отражают действительность и появились по какой-то ошибке. таким артефактом будет отрицательное количество дней трудового стажа в столбце `days_employed`. Для реальных данных это нормально. Обработайте значения в этом столбце: замените все отрицательные значения положительными с помощью метода `abs()`.**"
   ]
  },
  {
   "cell_type": "code",
   "execution_count": 8,
   "id": "f6f055bf",
   "metadata": {
    "deletable": false,
    "id": "f6f055bf"
   },
   "outputs": [],
   "source": [
    "data['days_employed'] = data['days_employed'].abs()"
   ]
  },
  {
   "cell_type": "code",
   "execution_count": 9,
   "id": "b011b6b7",
   "metadata": {},
   "outputs": [
    {
     "data": {
      "text/html": [
       "<div>\n",
       "<style scoped>\n",
       "    .dataframe tbody tr th:only-of-type {\n",
       "        vertical-align: middle;\n",
       "    }\n",
       "\n",
       "    .dataframe tbody tr th {\n",
       "        vertical-align: top;\n",
       "    }\n",
       "\n",
       "    .dataframe thead th {\n",
       "        text-align: right;\n",
       "    }\n",
       "</style>\n",
       "<table border=\"1\" class=\"dataframe\">\n",
       "  <thead>\n",
       "    <tr style=\"text-align: right;\">\n",
       "      <th></th>\n",
       "      <th>children</th>\n",
       "      <th>days_employed</th>\n",
       "      <th>dob_years</th>\n",
       "      <th>education</th>\n",
       "      <th>education_id</th>\n",
       "      <th>family_status</th>\n",
       "      <th>family_status_id</th>\n",
       "      <th>gender</th>\n",
       "      <th>income_type</th>\n",
       "      <th>debt</th>\n",
       "      <th>total_income</th>\n",
       "      <th>purpose</th>\n",
       "    </tr>\n",
       "  </thead>\n",
       "  <tbody>\n",
       "    <tr>\n",
       "      <th>0</th>\n",
       "      <td>1</td>\n",
       "      <td>8437.673028</td>\n",
       "      <td>42</td>\n",
       "      <td>высшее</td>\n",
       "      <td>0</td>\n",
       "      <td>женат / замужем</td>\n",
       "      <td>0</td>\n",
       "      <td>F</td>\n",
       "      <td>сотрудник</td>\n",
       "      <td>0</td>\n",
       "      <td>253875.639453</td>\n",
       "      <td>покупка жилья</td>\n",
       "    </tr>\n",
       "    <tr>\n",
       "      <th>1</th>\n",
       "      <td>1</td>\n",
       "      <td>4024.803754</td>\n",
       "      <td>36</td>\n",
       "      <td>среднее</td>\n",
       "      <td>1</td>\n",
       "      <td>женат / замужем</td>\n",
       "      <td>0</td>\n",
       "      <td>F</td>\n",
       "      <td>сотрудник</td>\n",
       "      <td>0</td>\n",
       "      <td>112080.014102</td>\n",
       "      <td>приобретение автомобиля</td>\n",
       "    </tr>\n",
       "    <tr>\n",
       "      <th>2</th>\n",
       "      <td>0</td>\n",
       "      <td>5623.422610</td>\n",
       "      <td>33</td>\n",
       "      <td>Среднее</td>\n",
       "      <td>1</td>\n",
       "      <td>женат / замужем</td>\n",
       "      <td>0</td>\n",
       "      <td>M</td>\n",
       "      <td>сотрудник</td>\n",
       "      <td>0</td>\n",
       "      <td>145885.952297</td>\n",
       "      <td>покупка жилья</td>\n",
       "    </tr>\n",
       "  </tbody>\n",
       "</table>\n",
       "</div>"
      ],
      "text/plain": [
       "   children  days_employed  dob_years education  education_id  \\\n",
       "0         1    8437.673028         42    высшее             0   \n",
       "1         1    4024.803754         36   среднее             1   \n",
       "2         0    5623.422610         33   Среднее             1   \n",
       "\n",
       "     family_status  family_status_id gender income_type  debt   total_income  \\\n",
       "0  женат / замужем                 0      F   сотрудник     0  253875.639453   \n",
       "1  женат / замужем                 0      F   сотрудник     0  112080.014102   \n",
       "2  женат / замужем                 0      M   сотрудник     0  145885.952297   \n",
       "\n",
       "                   purpose  \n",
       "0            покупка жилья  \n",
       "1  приобретение автомобиля  \n",
       "2            покупка жилья  "
      ]
     },
     "execution_count": 9,
     "metadata": {},
     "output_type": "execute_result"
    }
   ],
   "source": [
    "data.head(3)"
   ]
  },
  {
   "cell_type": "markdown",
   "id": "6107dd2f",
   "metadata": {
    "deletable": false,
    "id": "6107dd2f"
   },
   "source": [
    "**Задание 7. Для каждого типа занятости выведите медианное значение трудового стажа `days_employed` в днях.**"
   ]
  },
  {
   "cell_type": "code",
   "execution_count": 10,
   "id": "85a5faf6",
   "metadata": {
    "deletable": false,
    "id": "85a5faf6",
    "outputId": "801ef80e-522b-4668-f34e-565af7432bcf"
   },
   "outputs": [
    {
     "data": {
      "text/plain": [
       "income_type\n",
       "безработный        366413.652744\n",
       "в декрете            3296.759962\n",
       "госслужащий          2689.368353\n",
       "компаньон            1547.382223\n",
       "пенсионер          365213.306266\n",
       "предприниматель       520.848083\n",
       "сотрудник            1574.202821\n",
       "студент               578.751554\n",
       "Name: days_employed, dtype: float64"
      ]
     },
     "execution_count": 10,
     "metadata": {},
     "output_type": "execute_result"
    }
   ],
   "source": [
    "data.groupby('income_type')['days_employed'].agg('median')"
   ]
  },
  {
   "cell_type": "markdown",
   "id": "38d1a030",
   "metadata": {
    "deletable": false,
    "id": "38d1a030"
   },
   "source": [
    "У двух типов (безработные и пенсионеры) получатся аномально большие значения. Исправить такие значения сложно, поэтому оставьте их как есть. Тем более этот столбец не понадобится вам для исследования."
   ]
  },
  {
   "cell_type": "markdown",
   "id": "d8a9f147",
   "metadata": {
    "deletable": false,
    "id": "d8a9f147"
   },
   "source": [
    "**Задание 8. Выведите перечень уникальных значений столбца `children`.**"
   ]
  },
  {
   "cell_type": "code",
   "execution_count": 11,
   "id": "ef5056eb",
   "metadata": {
    "deletable": false,
    "id": "ef5056eb",
    "outputId": "6975b15c-7f95-4697-d16d-a0c79b657b03"
   },
   "outputs": [
    {
     "data": {
      "text/plain": [
       "array([ 1,  0,  3,  2, -1,  4, 20,  5], dtype=int64)"
      ]
     },
     "execution_count": 11,
     "metadata": {},
     "output_type": "execute_result"
    }
   ],
   "source": [
    "data['children'].unique()"
   ]
  },
  {
   "cell_type": "markdown",
   "id": "40b9ebf2",
   "metadata": {
    "deletable": false,
    "id": "40b9ebf2"
   },
   "source": [
    "**Задание 9. В столбце `children` есть два аномальных значения. Удалите строки, в которых встречаются такие аномальные значения из датафрейма `data`.**"
   ]
  },
  {
   "cell_type": "code",
   "execution_count": 12,
   "id": "3ff9801d",
   "metadata": {
    "deletable": false,
    "id": "3ff9801d"
   },
   "outputs": [],
   "source": [
    "data = data[(data['children'] != -1) & (data['children'] != 20)]"
   ]
  },
  {
   "cell_type": "markdown",
   "id": "bbc4d0ce",
   "metadata": {
    "deletable": false,
    "id": "bbc4d0ce"
   },
   "source": [
    "**Задание 10. Ещё раз выведите перечень уникальных значений столбца `children`, чтобы убедиться, что артефакты удалены.**"
   ]
  },
  {
   "cell_type": "code",
   "execution_count": 13,
   "id": "ad4fa8b7",
   "metadata": {
    "deletable": false,
    "id": "ad4fa8b7",
    "outputId": "b2097101-d49d-44d9-901b-32a65c9463d1"
   },
   "outputs": [
    {
     "data": {
      "text/plain": [
       "array([1, 0, 3, 2, 4, 5], dtype=int64)"
      ]
     },
     "execution_count": 13,
     "metadata": {},
     "output_type": "execute_result"
    }
   ],
   "source": [
    "data['children'].unique()"
   ]
  },
  {
   "cell_type": "markdown",
   "id": "75440b63",
   "metadata": {
    "deletable": false,
    "id": "75440b63"
   },
   "source": [
    "### Удаление пропусков (продолжение)"
   ]
  },
  {
   "cell_type": "markdown",
   "id": "f4ea573f",
   "metadata": {
    "deletable": false,
    "id": "f4ea573f"
   },
   "source": [
    "**Задание 11. Заполните пропуски в столбце `days_employed` медианными значениями по каждого типа занятости `income_type`.**"
   ]
  },
  {
   "cell_type": "code",
   "execution_count": 14,
   "id": "af6b1a7e",
   "metadata": {
    "deletable": false,
    "id": "af6b1a7e"
   },
   "outputs": [],
   "source": [
    "for t in data['income_type'].unique():\n",
    "    data.loc[(data['income_type'] == t) & (data['days_employed'].isna()), 'days_employed'] = \\\n",
    "    data.loc[(data['income_type'] == t), 'days_employed'].median()"
   ]
  },
  {
   "cell_type": "markdown",
   "id": "2753f40d",
   "metadata": {
    "deletable": false,
    "id": "2753f40d"
   },
   "source": [
    "**Задание 12. Убедитесь, что все пропуски заполнены. Проверьте себя и ещё раз выведите количество пропущенных значений для каждого столбца с помощью двух методов.**"
   ]
  },
  {
   "cell_type": "code",
   "execution_count": 15,
   "id": "55f78bc2",
   "metadata": {
    "deletable": false,
    "id": "55f78bc2",
    "outputId": "8da1e4e1-358e-4e87-98c9-f261bce0a7b2"
   },
   "outputs": [
    {
     "data": {
      "text/plain": [
       "children            0\n",
       "days_employed       0\n",
       "dob_years           0\n",
       "education           0\n",
       "education_id        0\n",
       "family_status       0\n",
       "family_status_id    0\n",
       "gender              0\n",
       "income_type         0\n",
       "debt                0\n",
       "total_income        0\n",
       "purpose             0\n",
       "dtype: int64"
      ]
     },
     "execution_count": 15,
     "metadata": {},
     "output_type": "execute_result"
    }
   ],
   "source": [
    "data.isna().sum()"
   ]
  },
  {
   "cell_type": "markdown",
   "id": "ddc81e43",
   "metadata": {
    "deletable": false,
    "id": "ddc81e43"
   },
   "source": [
    "### Изменение типов данных"
   ]
  },
  {
   "cell_type": "markdown",
   "id": "42d19d24",
   "metadata": {
    "deletable": false,
    "id": "42d19d24"
   },
   "source": [
    "**Задание 13. Замените вещественный тип данных в столбце `total_income` на целочисленный с помощью метода `astype()`.**"
   ]
  },
  {
   "cell_type": "code",
   "execution_count": 16,
   "id": "920b65ad",
   "metadata": {
    "deletable": false,
    "id": "920b65ad"
   },
   "outputs": [],
   "source": [
    "data['total_income'] = data['total_income'].astype(int)"
   ]
  },
  {
   "cell_type": "markdown",
   "id": "80c420ba",
   "metadata": {
    "deletable": false,
    "id": "80c420ba"
   },
   "source": [
    "### Обработка дубликатов"
   ]
  },
  {
   "cell_type": "markdown",
   "id": "dc587695",
   "metadata": {
    "deletable": false,
    "id": "dc587695"
   },
   "source": [
    "**Задание 14. Выведите на экран количество строк-дубликатов в данных. Если такие строки присутствуют, удалите их.**"
   ]
  },
  {
   "cell_type": "code",
   "execution_count": 17,
   "id": "3ee445e4",
   "metadata": {
    "deletable": false,
    "id": "3ee445e4",
    "outputId": "9684deba-1934-42d1-99e1-cda61740f822"
   },
   "outputs": [
    {
     "data": {
      "text/plain": [
       "54"
      ]
     },
     "execution_count": 17,
     "metadata": {},
     "output_type": "execute_result"
    }
   ],
   "source": [
    "data.duplicated().sum()"
   ]
  },
  {
   "cell_type": "code",
   "execution_count": 18,
   "id": "8575fe05",
   "metadata": {
    "deletable": false,
    "id": "8575fe05"
   },
   "outputs": [],
   "source": [
    "data = data.drop_duplicates()"
   ]
  },
  {
   "cell_type": "markdown",
   "id": "9771a76c",
   "metadata": {
    "deletable": false,
    "id": "9771a76c"
   },
   "source": [
    "**Задание 15. Обработайте неявные дубликаты в столбце `education`. В этом столбце есть одни и те же значения, но записанные по-разному: с использованием заглавных и строчных букв. Приведите их к нижнему регистру. Проверьте остальные столбцы.**"
   ]
  },
  {
   "cell_type": "code",
   "execution_count": 19,
   "id": "a3ce7d11",
   "metadata": {},
   "outputs": [
    {
     "data": {
      "text/html": [
       "<div>\n",
       "<style scoped>\n",
       "    .dataframe tbody tr th:only-of-type {\n",
       "        vertical-align: middle;\n",
       "    }\n",
       "\n",
       "    .dataframe tbody tr th {\n",
       "        vertical-align: top;\n",
       "    }\n",
       "\n",
       "    .dataframe thead th {\n",
       "        text-align: right;\n",
       "    }\n",
       "</style>\n",
       "<table border=\"1\" class=\"dataframe\">\n",
       "  <thead>\n",
       "    <tr style=\"text-align: right;\">\n",
       "      <th></th>\n",
       "      <th>children</th>\n",
       "      <th>days_employed</th>\n",
       "      <th>dob_years</th>\n",
       "      <th>education</th>\n",
       "      <th>education_id</th>\n",
       "      <th>family_status</th>\n",
       "      <th>family_status_id</th>\n",
       "      <th>gender</th>\n",
       "      <th>income_type</th>\n",
       "      <th>debt</th>\n",
       "      <th>total_income</th>\n",
       "      <th>purpose</th>\n",
       "    </tr>\n",
       "  </thead>\n",
       "  <tbody>\n",
       "    <tr>\n",
       "      <th>0</th>\n",
       "      <td>1</td>\n",
       "      <td>8437.673028</td>\n",
       "      <td>42</td>\n",
       "      <td>высшее</td>\n",
       "      <td>0</td>\n",
       "      <td>женат / замужем</td>\n",
       "      <td>0</td>\n",
       "      <td>F</td>\n",
       "      <td>сотрудник</td>\n",
       "      <td>0</td>\n",
       "      <td>253875</td>\n",
       "      <td>покупка жилья</td>\n",
       "    </tr>\n",
       "    <tr>\n",
       "      <th>1</th>\n",
       "      <td>1</td>\n",
       "      <td>4024.803754</td>\n",
       "      <td>36</td>\n",
       "      <td>среднее</td>\n",
       "      <td>1</td>\n",
       "      <td>женат / замужем</td>\n",
       "      <td>0</td>\n",
       "      <td>F</td>\n",
       "      <td>сотрудник</td>\n",
       "      <td>0</td>\n",
       "      <td>112080</td>\n",
       "      <td>приобретение автомобиля</td>\n",
       "    </tr>\n",
       "    <tr>\n",
       "      <th>2</th>\n",
       "      <td>0</td>\n",
       "      <td>5623.422610</td>\n",
       "      <td>33</td>\n",
       "      <td>Среднее</td>\n",
       "      <td>1</td>\n",
       "      <td>женат / замужем</td>\n",
       "      <td>0</td>\n",
       "      <td>M</td>\n",
       "      <td>сотрудник</td>\n",
       "      <td>0</td>\n",
       "      <td>145885</td>\n",
       "      <td>покупка жилья</td>\n",
       "    </tr>\n",
       "    <tr>\n",
       "      <th>3</th>\n",
       "      <td>3</td>\n",
       "      <td>4124.747207</td>\n",
       "      <td>32</td>\n",
       "      <td>среднее</td>\n",
       "      <td>1</td>\n",
       "      <td>женат / замужем</td>\n",
       "      <td>0</td>\n",
       "      <td>M</td>\n",
       "      <td>сотрудник</td>\n",
       "      <td>0</td>\n",
       "      <td>267628</td>\n",
       "      <td>дополнительное образование</td>\n",
       "    </tr>\n",
       "    <tr>\n",
       "      <th>4</th>\n",
       "      <td>0</td>\n",
       "      <td>340266.072047</td>\n",
       "      <td>53</td>\n",
       "      <td>среднее</td>\n",
       "      <td>1</td>\n",
       "      <td>гражданский брак</td>\n",
       "      <td>1</td>\n",
       "      <td>F</td>\n",
       "      <td>пенсионер</td>\n",
       "      <td>0</td>\n",
       "      <td>158616</td>\n",
       "      <td>сыграть свадьбу</td>\n",
       "    </tr>\n",
       "  </tbody>\n",
       "</table>\n",
       "</div>"
      ],
      "text/plain": [
       "   children  days_employed  dob_years education  education_id  \\\n",
       "0         1    8437.673028         42    высшее             0   \n",
       "1         1    4024.803754         36   среднее             1   \n",
       "2         0    5623.422610         33   Среднее             1   \n",
       "3         3    4124.747207         32   среднее             1   \n",
       "4         0  340266.072047         53   среднее             1   \n",
       "\n",
       "      family_status  family_status_id gender income_type  debt  total_income  \\\n",
       "0   женат / замужем                 0      F   сотрудник     0        253875   \n",
       "1   женат / замужем                 0      F   сотрудник     0        112080   \n",
       "2   женат / замужем                 0      M   сотрудник     0        145885   \n",
       "3   женат / замужем                 0      M   сотрудник     0        267628   \n",
       "4  гражданский брак                 1      F   пенсионер     0        158616   \n",
       "\n",
       "                      purpose  \n",
       "0               покупка жилья  \n",
       "1     приобретение автомобиля  \n",
       "2               покупка жилья  \n",
       "3  дополнительное образование  \n",
       "4             сыграть свадьбу  "
      ]
     },
     "execution_count": 19,
     "metadata": {},
     "output_type": "execute_result"
    }
   ],
   "source": [
    "data.head(5)"
   ]
  },
  {
   "cell_type": "code",
   "execution_count": 20,
   "id": "a9f8e2bf",
   "metadata": {
    "deletable": false,
    "id": "a9f8e2bf"
   },
   "outputs": [],
   "source": [
    "data['education'] = data['education'].str.lower()"
   ]
  },
  {
   "cell_type": "markdown",
   "id": "9904cf55",
   "metadata": {
    "deletable": false,
    "id": "9904cf55"
   },
   "source": [
    "### Категоризация данных"
   ]
  },
  {
   "cell_type": "markdown",
   "id": "72fcc8a2",
   "metadata": {
    "deletable": false,
    "id": "72fcc8a2"
   },
   "source": [
    "**Задание 16. На основании диапазонов, указанных ниже, создайте в датафрейме `data` столбец `total_income_category` с категориями:**\n",
    "\n",
    "- 0–30000 — `'E'`;\n",
    "- 30001–50000 — `'D'`;\n",
    "- 50001–200000 — `'C'`;\n",
    "- 200001–1000000 — `'B'`;\n",
    "- 1000001 и выше — `'A'`.\n",
    "\n",
    "\n",
    "**Например, кредитополучателю с доходом 25000 нужно назначить категорию `'E'`, а клиенту, получающему 235000, — `'B'`. Используйте собственную функцию с именем `categorize_income()` и метод `apply()`.**"
   ]
  },
  {
   "cell_type": "code",
   "execution_count": 21,
   "id": "e1771346",
   "metadata": {
    "deletable": false,
    "id": "e1771346"
   },
   "outputs": [],
   "source": [
    "def categorize_income(income):\n",
    "    try:\n",
    "        if 0 <= income <= 30000:\n",
    "            return 'E'\n",
    "        elif 30001 <= income <= 50000:\n",
    "            return 'D'\n",
    "        elif 50001 <= income <= 200000:\n",
    "            return 'C'\n",
    "        elif 200001 <= income <= 1000000:\n",
    "            return 'B'\n",
    "        elif income >= 1000001:\n",
    "            return 'A'\n",
    "    except:\n",
    "        pass"
   ]
  },
  {
   "cell_type": "code",
   "execution_count": 22,
   "id": "d5f3586d",
   "metadata": {
    "deletable": false,
    "id": "d5f3586d"
   },
   "outputs": [],
   "source": [
    "data['total_income_category'] = data['total_income'].apply(categorize_income)"
   ]
  },
  {
   "cell_type": "code",
   "execution_count": 23,
   "id": "82cc3ea1",
   "metadata": {},
   "outputs": [
    {
     "data": {
      "text/html": [
       "<div>\n",
       "<style scoped>\n",
       "    .dataframe tbody tr th:only-of-type {\n",
       "        vertical-align: middle;\n",
       "    }\n",
       "\n",
       "    .dataframe tbody tr th {\n",
       "        vertical-align: top;\n",
       "    }\n",
       "\n",
       "    .dataframe thead th {\n",
       "        text-align: right;\n",
       "    }\n",
       "</style>\n",
       "<table border=\"1\" class=\"dataframe\">\n",
       "  <thead>\n",
       "    <tr style=\"text-align: right;\">\n",
       "      <th></th>\n",
       "      <th>children</th>\n",
       "      <th>days_employed</th>\n",
       "      <th>dob_years</th>\n",
       "      <th>education</th>\n",
       "      <th>education_id</th>\n",
       "      <th>family_status</th>\n",
       "      <th>family_status_id</th>\n",
       "      <th>gender</th>\n",
       "      <th>income_type</th>\n",
       "      <th>debt</th>\n",
       "      <th>total_income</th>\n",
       "      <th>purpose</th>\n",
       "      <th>total_income_category</th>\n",
       "    </tr>\n",
       "  </thead>\n",
       "  <tbody>\n",
       "    <tr>\n",
       "      <th>0</th>\n",
       "      <td>1</td>\n",
       "      <td>8437.673028</td>\n",
       "      <td>42</td>\n",
       "      <td>высшее</td>\n",
       "      <td>0</td>\n",
       "      <td>женат / замужем</td>\n",
       "      <td>0</td>\n",
       "      <td>F</td>\n",
       "      <td>сотрудник</td>\n",
       "      <td>0</td>\n",
       "      <td>253875</td>\n",
       "      <td>покупка жилья</td>\n",
       "      <td>B</td>\n",
       "    </tr>\n",
       "    <tr>\n",
       "      <th>1</th>\n",
       "      <td>1</td>\n",
       "      <td>4024.803754</td>\n",
       "      <td>36</td>\n",
       "      <td>среднее</td>\n",
       "      <td>1</td>\n",
       "      <td>женат / замужем</td>\n",
       "      <td>0</td>\n",
       "      <td>F</td>\n",
       "      <td>сотрудник</td>\n",
       "      <td>0</td>\n",
       "      <td>112080</td>\n",
       "      <td>приобретение автомобиля</td>\n",
       "      <td>C</td>\n",
       "    </tr>\n",
       "    <tr>\n",
       "      <th>2</th>\n",
       "      <td>0</td>\n",
       "      <td>5623.422610</td>\n",
       "      <td>33</td>\n",
       "      <td>среднее</td>\n",
       "      <td>1</td>\n",
       "      <td>женат / замужем</td>\n",
       "      <td>0</td>\n",
       "      <td>M</td>\n",
       "      <td>сотрудник</td>\n",
       "      <td>0</td>\n",
       "      <td>145885</td>\n",
       "      <td>покупка жилья</td>\n",
       "      <td>C</td>\n",
       "    </tr>\n",
       "  </tbody>\n",
       "</table>\n",
       "</div>"
      ],
      "text/plain": [
       "   children  days_employed  dob_years education  education_id  \\\n",
       "0         1    8437.673028         42    высшее             0   \n",
       "1         1    4024.803754         36   среднее             1   \n",
       "2         0    5623.422610         33   среднее             1   \n",
       "\n",
       "     family_status  family_status_id gender income_type  debt  total_income  \\\n",
       "0  женат / замужем                 0      F   сотрудник     0        253875   \n",
       "1  женат / замужем                 0      F   сотрудник     0        112080   \n",
       "2  женат / замужем                 0      M   сотрудник     0        145885   \n",
       "\n",
       "                   purpose total_income_category  \n",
       "0            покупка жилья                     B  \n",
       "1  приобретение автомобиля                     C  \n",
       "2            покупка жилья                     C  "
      ]
     },
     "execution_count": 23,
     "metadata": {},
     "output_type": "execute_result"
    }
   ],
   "source": [
    "data.head(3)"
   ]
  },
  {
   "cell_type": "markdown",
   "id": "dde49b5c",
   "metadata": {
    "deletable": false,
    "id": "dde49b5c"
   },
   "source": [
    "**Задание 17. Выведите на экран перечень уникальных целей взятия кредита из столбца `purpose`.**"
   ]
  },
  {
   "cell_type": "code",
   "execution_count": 24,
   "id": "f67ce9b3",
   "metadata": {
    "deletable": false,
    "id": "f67ce9b3",
    "outputId": "673c12d9-7d7e-4ae0-9812-c622c89dd244"
   },
   "outputs": [
    {
     "data": {
      "text/plain": [
       "array(['покупка жилья', 'приобретение автомобиля',\n",
       "       'дополнительное образование', 'сыграть свадьбу',\n",
       "       'операции с жильем', 'образование', 'на проведение свадьбы',\n",
       "       'покупка жилья для семьи', 'покупка недвижимости',\n",
       "       'покупка коммерческой недвижимости', 'покупка жилой недвижимости',\n",
       "       'строительство собственной недвижимости', 'недвижимость',\n",
       "       'строительство недвижимости', 'на покупку подержанного автомобиля',\n",
       "       'на покупку своего автомобиля',\n",
       "       'операции с коммерческой недвижимостью',\n",
       "       'строительство жилой недвижимости', 'жилье',\n",
       "       'операции со своей недвижимостью', 'автомобили',\n",
       "       'заняться образованием', 'сделка с подержанным автомобилем',\n",
       "       'получение образования', 'автомобиль', 'свадьба',\n",
       "       'получение дополнительного образования', 'покупка своего жилья',\n",
       "       'операции с недвижимостью', 'получение высшего образования',\n",
       "       'свой автомобиль', 'сделка с автомобилем',\n",
       "       'профильное образование', 'высшее образование',\n",
       "       'покупка жилья для сдачи', 'на покупку автомобиля', 'ремонт жилью',\n",
       "       'заняться высшим образованием'], dtype=object)"
      ]
     },
     "execution_count": 24,
     "metadata": {},
     "output_type": "execute_result"
    }
   ],
   "source": [
    "data['purpose'].unique()"
   ]
  },
  {
   "cell_type": "markdown",
   "id": "85d0aef0",
   "metadata": {
    "deletable": false,
    "id": "85d0aef0"
   },
   "source": [
    "**Задание 18. Создайте функцию, которая на основании данных из столбца `purpose` сформирует новый столбец `purpose_category`, в который войдут следующие категории:**\n",
    "\n",
    "- `'операции с автомобилем'`,\n",
    "- `'операции с недвижимостью'`,\n",
    "- `'проведение свадьбы'`,\n",
    "- `'получение образования'`.\n",
    "\n",
    "**Например, если в столбце `purpose` находится подстрока `'на покупку автомобиля'`, то в столбце `purpose_category` должна появиться строка `'операции с автомобилем'`.**\n",
    "\n",
    "**Используйте собственную функцию с именем `categorize_purpose()` и метод `apply()`. Изучите данные в столбце `purpose` и определите, какие подстроки помогут вам правильно определить категорию.**"
   ]
  },
  {
   "cell_type": "code",
   "execution_count": 25,
   "id": "e149fab4",
   "metadata": {
    "deletable": false,
    "id": "e149fab4"
   },
   "outputs": [],
   "source": [
    "def categorize_purpose(row):\n",
    "    try:\n",
    "        if 'автом' in row:\n",
    "            return 'операции с автомобилем'\n",
    "        elif 'жил' in row or 'недвиж' in row:\n",
    "            return 'операции с недвижимостью'\n",
    "        elif 'свад' in row:\n",
    "            return 'проведение свадьбы'\n",
    "        elif 'образов' in row:\n",
    "            return 'получение образования'\n",
    "    except:\n",
    "        return 'нет категории'"
   ]
  },
  {
   "cell_type": "code",
   "execution_count": 26,
   "id": "bf36e69b",
   "metadata": {
    "deletable": false,
    "id": "bf36e69b"
   },
   "outputs": [
    {
     "data": {
      "text/html": [
       "<div>\n",
       "<style scoped>\n",
       "    .dataframe tbody tr th:only-of-type {\n",
       "        vertical-align: middle;\n",
       "    }\n",
       "\n",
       "    .dataframe tbody tr th {\n",
       "        vertical-align: top;\n",
       "    }\n",
       "\n",
       "    .dataframe thead th {\n",
       "        text-align: right;\n",
       "    }\n",
       "</style>\n",
       "<table border=\"1\" class=\"dataframe\">\n",
       "  <thead>\n",
       "    <tr style=\"text-align: right;\">\n",
       "      <th></th>\n",
       "      <th>children</th>\n",
       "      <th>days_employed</th>\n",
       "      <th>dob_years</th>\n",
       "      <th>education</th>\n",
       "      <th>education_id</th>\n",
       "      <th>family_status</th>\n",
       "      <th>family_status_id</th>\n",
       "      <th>gender</th>\n",
       "      <th>income_type</th>\n",
       "      <th>debt</th>\n",
       "      <th>total_income</th>\n",
       "      <th>purpose</th>\n",
       "      <th>total_income_category</th>\n",
       "      <th>purpose_category</th>\n",
       "    </tr>\n",
       "  </thead>\n",
       "  <tbody>\n",
       "    <tr>\n",
       "      <th>0</th>\n",
       "      <td>1</td>\n",
       "      <td>8437.673028</td>\n",
       "      <td>42</td>\n",
       "      <td>высшее</td>\n",
       "      <td>0</td>\n",
       "      <td>женат / замужем</td>\n",
       "      <td>0</td>\n",
       "      <td>F</td>\n",
       "      <td>сотрудник</td>\n",
       "      <td>0</td>\n",
       "      <td>253875</td>\n",
       "      <td>покупка жилья</td>\n",
       "      <td>B</td>\n",
       "      <td>операции с недвижимостью</td>\n",
       "    </tr>\n",
       "    <tr>\n",
       "      <th>1</th>\n",
       "      <td>1</td>\n",
       "      <td>4024.803754</td>\n",
       "      <td>36</td>\n",
       "      <td>среднее</td>\n",
       "      <td>1</td>\n",
       "      <td>женат / замужем</td>\n",
       "      <td>0</td>\n",
       "      <td>F</td>\n",
       "      <td>сотрудник</td>\n",
       "      <td>0</td>\n",
       "      <td>112080</td>\n",
       "      <td>приобретение автомобиля</td>\n",
       "      <td>C</td>\n",
       "      <td>операции с автомобилем</td>\n",
       "    </tr>\n",
       "    <tr>\n",
       "      <th>2</th>\n",
       "      <td>0</td>\n",
       "      <td>5623.422610</td>\n",
       "      <td>33</td>\n",
       "      <td>среднее</td>\n",
       "      <td>1</td>\n",
       "      <td>женат / замужем</td>\n",
       "      <td>0</td>\n",
       "      <td>M</td>\n",
       "      <td>сотрудник</td>\n",
       "      <td>0</td>\n",
       "      <td>145885</td>\n",
       "      <td>покупка жилья</td>\n",
       "      <td>C</td>\n",
       "      <td>операции с недвижимостью</td>\n",
       "    </tr>\n",
       "    <tr>\n",
       "      <th>3</th>\n",
       "      <td>3</td>\n",
       "      <td>4124.747207</td>\n",
       "      <td>32</td>\n",
       "      <td>среднее</td>\n",
       "      <td>1</td>\n",
       "      <td>женат / замужем</td>\n",
       "      <td>0</td>\n",
       "      <td>M</td>\n",
       "      <td>сотрудник</td>\n",
       "      <td>0</td>\n",
       "      <td>267628</td>\n",
       "      <td>дополнительное образование</td>\n",
       "      <td>B</td>\n",
       "      <td>получение образования</td>\n",
       "    </tr>\n",
       "    <tr>\n",
       "      <th>4</th>\n",
       "      <td>0</td>\n",
       "      <td>340266.072047</td>\n",
       "      <td>53</td>\n",
       "      <td>среднее</td>\n",
       "      <td>1</td>\n",
       "      <td>гражданский брак</td>\n",
       "      <td>1</td>\n",
       "      <td>F</td>\n",
       "      <td>пенсионер</td>\n",
       "      <td>0</td>\n",
       "      <td>158616</td>\n",
       "      <td>сыграть свадьбу</td>\n",
       "      <td>C</td>\n",
       "      <td>проведение свадьбы</td>\n",
       "    </tr>\n",
       "  </tbody>\n",
       "</table>\n",
       "</div>"
      ],
      "text/plain": [
       "   children  days_employed  dob_years education  education_id  \\\n",
       "0         1    8437.673028         42    высшее             0   \n",
       "1         1    4024.803754         36   среднее             1   \n",
       "2         0    5623.422610         33   среднее             1   \n",
       "3         3    4124.747207         32   среднее             1   \n",
       "4         0  340266.072047         53   среднее             1   \n",
       "\n",
       "      family_status  family_status_id gender income_type  debt  total_income  \\\n",
       "0   женат / замужем                 0      F   сотрудник     0        253875   \n",
       "1   женат / замужем                 0      F   сотрудник     0        112080   \n",
       "2   женат / замужем                 0      M   сотрудник     0        145885   \n",
       "3   женат / замужем                 0      M   сотрудник     0        267628   \n",
       "4  гражданский брак                 1      F   пенсионер     0        158616   \n",
       "\n",
       "                      purpose total_income_category          purpose_category  \n",
       "0               покупка жилья                     B  операции с недвижимостью  \n",
       "1     приобретение автомобиля                     C    операции с автомобилем  \n",
       "2               покупка жилья                     C  операции с недвижимостью  \n",
       "3  дополнительное образование                     B     получение образования  \n",
       "4             сыграть свадьбу                     C        проведение свадьбы  "
      ]
     },
     "execution_count": 26,
     "metadata": {},
     "output_type": "execute_result"
    }
   ],
   "source": [
    "data['purpose_category'] = data['purpose'].apply(categorize_purpose)\n",
    "data.head(5)"
   ]
  },
  {
   "cell_type": "markdown",
   "id": "09b242bf",
   "metadata": {
    "deletable": false,
    "editable": false,
    "id": "09b242bf"
   },
   "source": [
    "## Исследуйте данные и ответьте на вопросы"
   ]
  },
  {
   "cell_type": "markdown",
   "id": "c5d66278",
   "metadata": {
    "deletable": false,
    "editable": false,
    "id": "c5d66278"
   },
   "source": [
    "**Задание 19. Есть ли зависимость между количеством детей и возвратом кредита в срок?**"
   ]
  },
  {
   "cell_type": "code",
   "execution_count": 27,
   "id": "2cacfc4a",
   "metadata": {
    "id": "2cacfc4a"
   },
   "outputs": [
    {
     "data": {
      "text/html": [
       "<div>\n",
       "<style scoped>\n",
       "    .dataframe tbody tr th:only-of-type {\n",
       "        vertical-align: middle;\n",
       "    }\n",
       "\n",
       "    .dataframe tbody tr th {\n",
       "        vertical-align: top;\n",
       "    }\n",
       "\n",
       "    .dataframe thead th {\n",
       "        text-align: right;\n",
       "    }\n",
       "</style>\n",
       "<table border=\"1\" class=\"dataframe\">\n",
       "  <thead>\n",
       "    <tr style=\"text-align: right;\">\n",
       "      <th></th>\n",
       "      <th>Кол-во детей</th>\n",
       "      <th>Всего кредитополучателей</th>\n",
       "      <th>Всего должников</th>\n",
       "      <th>Доля дожников</th>\n",
       "    </tr>\n",
       "  </thead>\n",
       "  <tbody>\n",
       "    <tr>\n",
       "      <th>0</th>\n",
       "      <td>0</td>\n",
       "      <td>14107</td>\n",
       "      <td>1063</td>\n",
       "      <td>0.075353</td>\n",
       "    </tr>\n",
       "    <tr>\n",
       "      <th>1</th>\n",
       "      <td>1</td>\n",
       "      <td>4809</td>\n",
       "      <td>444</td>\n",
       "      <td>0.092327</td>\n",
       "    </tr>\n",
       "    <tr>\n",
       "      <th>2</th>\n",
       "      <td>2</td>\n",
       "      <td>2052</td>\n",
       "      <td>194</td>\n",
       "      <td>0.094542</td>\n",
       "    </tr>\n",
       "    <tr>\n",
       "      <th>3</th>\n",
       "      <td>3</td>\n",
       "      <td>330</td>\n",
       "      <td>27</td>\n",
       "      <td>0.081818</td>\n",
       "    </tr>\n",
       "    <tr>\n",
       "      <th>4</th>\n",
       "      <td>4</td>\n",
       "      <td>41</td>\n",
       "      <td>4</td>\n",
       "      <td>0.097561</td>\n",
       "    </tr>\n",
       "    <tr>\n",
       "      <th>5</th>\n",
       "      <td>5</td>\n",
       "      <td>9</td>\n",
       "      <td>0</td>\n",
       "      <td>0.000000</td>\n",
       "    </tr>\n",
       "  </tbody>\n",
       "</table>\n",
       "</div>"
      ],
      "text/plain": [
       "   Кол-во детей  Всего кредитополучателей  Всего должников  Доля дожников\n",
       "0             0                     14107             1063       0.075353\n",
       "1             1                      4809              444       0.092327\n",
       "2             2                      2052              194       0.094542\n",
       "3             3                       330               27       0.081818\n",
       "4             4                        41                4       0.097561\n",
       "5             5                         9                0       0.000000"
      ]
     },
     "execution_count": 27,
     "metadata": {},
     "output_type": "execute_result"
    }
   ],
   "source": [
    "def part_debt(index,name_column):\n",
    "    data_pivot_table = (data.pivot_table(index=index, values = 'debt', aggfunc = ['count','sum','mean'])).reset_index()\n",
    "    data_pivot_table.columns = [name_column,'Всего кредитополучателей', 'Всего должников', 'Доля дожников']\n",
    "    return data_pivot_table\n",
    "\n",
    "data_grouped_children = part_debt('children', 'Кол-во детей')\n",
    "data_grouped_children"
   ]
  },
  {
   "cell_type": "code",
   "execution_count": 28,
   "id": "dec16e70",
   "metadata": {},
   "outputs": [
    {
     "data": {
      "image/png": "[encoded data removed]",
      "text/plain": [
       "<Figure size 1300x600 with 1 Axes>"
      ]
     },
     "metadata": {},
     "output_type": "display_data"
    }
   ],
   "source": [
    "seaborn.set(rc={'figure.figsize':(13,6)})\n",
    "seaborn.barplot(x=data_grouped_children['Кол-во детей'] , y=data_grouped_children['Доля дожников']); \n",
    "#разобралась как задать ось х по столбцу. До этого была проблема из-за несброшенных индексов\n",
    "#импорт библиотеки seaborn перенесла в начало"
   ]
  },
  {
   "cell_type": "markdown",
   "id": "3a6b99ec",
   "metadata": {
    "deletable": false,
    "id": "3a6b99ec"
   },
   "source": [
    "**Вывод:** Выборка семей с пятью детьми слишком мала, чтобы делать по ней выводы. Исходя из остальных данных, показатели лучше всего у людей без детей (примерно на 1,5-2%). Количество детей влияет незначительно на выплату кредитов. "
   ]
  },
  {
   "cell_type": "markdown",
   "id": "7c270842",
   "metadata": {},
   "source": [
    "<div class=\"alert alert-success\">\n",
    "<b>Комментарий ревьюера №1</b> \n",
    "    \n",
    "Вывод верный!\n",
    "</div>"
   ]
  },
  {
   "cell_type": "markdown",
   "id": "97be82ca",
   "metadata": {
    "deletable": false,
    "editable": false,
    "id": "97be82ca"
   },
   "source": [
    "**Задание 20. Есть ли зависимость между семейным положением и возвратом кредита в срок?**"
   ]
  },
  {
   "cell_type": "code",
   "execution_count": 29,
   "id": "dc3f7ee8",
   "metadata": {
    "id": "dc3f7ee8"
   },
   "outputs": [
    {
     "data": {
      "text/html": [
       "<div>\n",
       "<style scoped>\n",
       "    .dataframe tbody tr th:only-of-type {\n",
       "        vertical-align: middle;\n",
       "    }\n",
       "\n",
       "    .dataframe tbody tr th {\n",
       "        vertical-align: top;\n",
       "    }\n",
       "\n",
       "    .dataframe thead th {\n",
       "        text-align: right;\n",
       "    }\n",
       "</style>\n",
       "<table border=\"1\" class=\"dataframe\">\n",
       "  <thead>\n",
       "    <tr style=\"text-align: right;\">\n",
       "      <th></th>\n",
       "      <th>Семейное положение</th>\n",
       "      <th>Всего кредитополучателей</th>\n",
       "      <th>Всего должников</th>\n",
       "      <th>Доля дожников</th>\n",
       "    </tr>\n",
       "  </thead>\n",
       "  <tbody>\n",
       "    <tr>\n",
       "      <th>0</th>\n",
       "      <td>Не женат / не замужем</td>\n",
       "      <td>2796</td>\n",
       "      <td>273</td>\n",
       "      <td>0.097639</td>\n",
       "    </tr>\n",
       "    <tr>\n",
       "      <th>1</th>\n",
       "      <td>в разводе</td>\n",
       "      <td>1189</td>\n",
       "      <td>84</td>\n",
       "      <td>0.070648</td>\n",
       "    </tr>\n",
       "    <tr>\n",
       "      <th>2</th>\n",
       "      <td>вдовец / вдова</td>\n",
       "      <td>951</td>\n",
       "      <td>63</td>\n",
       "      <td>0.066246</td>\n",
       "    </tr>\n",
       "    <tr>\n",
       "      <th>3</th>\n",
       "      <td>гражданский брак</td>\n",
       "      <td>4146</td>\n",
       "      <td>385</td>\n",
       "      <td>0.092861</td>\n",
       "    </tr>\n",
       "    <tr>\n",
       "      <th>4</th>\n",
       "      <td>женат / замужем</td>\n",
       "      <td>12266</td>\n",
       "      <td>927</td>\n",
       "      <td>0.075575</td>\n",
       "    </tr>\n",
       "  </tbody>\n",
       "</table>\n",
       "</div>"
      ],
      "text/plain": [
       "      Семейное положение  Всего кредитополучателей  Всего должников  \\\n",
       "0  Не женат / не замужем                      2796              273   \n",
       "1              в разводе                      1189               84   \n",
       "2         вдовец / вдова                       951               63   \n",
       "3       гражданский брак                      4146              385   \n",
       "4        женат / замужем                     12266              927   \n",
       "\n",
       "   Доля дожников  \n",
       "0       0.097639  \n",
       "1       0.070648  \n",
       "2       0.066246  \n",
       "3       0.092861  \n",
       "4       0.075575  "
      ]
     },
     "execution_count": 29,
     "metadata": {},
     "output_type": "execute_result"
    }
   ],
   "source": [
    "data_grouped_family = part_debt('family_status', 'Семейное положение')\n",
    "data_grouped_family"
   ]
  },
  {
   "cell_type": "code",
   "execution_count": 30,
   "id": "f258160f",
   "metadata": {},
   "outputs": [
    {
     "data": {
      "image/png": "[encoded data removed]",
      "text/plain": [
       "<Figure size 1300x600 with 1 Axes>"
      ]
     },
     "metadata": {},
     "output_type": "display_data"
    }
   ],
   "source": [
    "seaborn.barplot(x=data_grouped_family['Семейное положение'], y=data_grouped_family['Доля дожников']);"
   ]
  },
  {
   "cell_type": "markdown",
   "id": "1cef7837",
   "metadata": {
    "deletable": false,
    "id": "1cef7837"
   },
   "source": [
    "**Вывод:** Меньше всего должников в категориях \"вдовец/вдова\" - 6,6% и \"в разводе\" - 7%, больше всего в категориях \"Не женат\" - 9,8% и \"гражданский брак\" - 9,3%. Но разница составляет всего около 2%."
   ]
  },
  {
   "cell_type": "markdown",
   "id": "1e8b2fca",
   "metadata": {
    "deletable": false,
    "editable": false,
    "id": "1e8b2fca"
   },
   "source": [
    "**Задание 21. Есть ли зависимость между уровнем дохода и возвратом кредита в срок?**"
   ]
  },
  {
   "cell_type": "code",
   "execution_count": 31,
   "id": "cd7e3720",
   "metadata": {
    "id": "cd7e3720"
   },
   "outputs": [
    {
     "data": {
      "text/html": [
       "<div>\n",
       "<style scoped>\n",
       "    .dataframe tbody tr th:only-of-type {\n",
       "        vertical-align: middle;\n",
       "    }\n",
       "\n",
       "    .dataframe tbody tr th {\n",
       "        vertical-align: top;\n",
       "    }\n",
       "\n",
       "    .dataframe thead th {\n",
       "        text-align: right;\n",
       "    }\n",
       "</style>\n",
       "<table border=\"1\" class=\"dataframe\">\n",
       "  <thead>\n",
       "    <tr style=\"text-align: right;\">\n",
       "      <th></th>\n",
       "      <th>Категория дохода</th>\n",
       "      <th>Всего кредитополучателей</th>\n",
       "      <th>Всего должников</th>\n",
       "      <th>Доля дожников</th>\n",
       "    </tr>\n",
       "  </thead>\n",
       "  <tbody>\n",
       "    <tr>\n",
       "      <th>0</th>\n",
       "      <td>A</td>\n",
       "      <td>25</td>\n",
       "      <td>2</td>\n",
       "      <td>0.080000</td>\n",
       "    </tr>\n",
       "    <tr>\n",
       "      <th>1</th>\n",
       "      <td>B</td>\n",
       "      <td>5014</td>\n",
       "      <td>354</td>\n",
       "      <td>0.070602</td>\n",
       "    </tr>\n",
       "    <tr>\n",
       "      <th>2</th>\n",
       "      <td>C</td>\n",
       "      <td>15938</td>\n",
       "      <td>1353</td>\n",
       "      <td>0.084891</td>\n",
       "    </tr>\n",
       "    <tr>\n",
       "      <th>3</th>\n",
       "      <td>D</td>\n",
       "      <td>349</td>\n",
       "      <td>21</td>\n",
       "      <td>0.060172</td>\n",
       "    </tr>\n",
       "    <tr>\n",
       "      <th>4</th>\n",
       "      <td>E</td>\n",
       "      <td>22</td>\n",
       "      <td>2</td>\n",
       "      <td>0.090909</td>\n",
       "    </tr>\n",
       "  </tbody>\n",
       "</table>\n",
       "</div>"
      ],
      "text/plain": [
       "  Категория дохода  Всего кредитополучателей  Всего должников  Доля дожников\n",
       "0                A                        25                2       0.080000\n",
       "1                B                      5014              354       0.070602\n",
       "2                C                     15938             1353       0.084891\n",
       "3                D                       349               21       0.060172\n",
       "4                E                        22                2       0.090909"
      ]
     },
     "execution_count": 31,
     "metadata": {},
     "output_type": "execute_result"
    }
   ],
   "source": [
    "data_grouped_income = part_debt('total_income_category', 'Категория дохода')\n",
    "data_grouped_income\n",
    "# Ваш код будет здесь. Вы можете создавать новые ячейки."
   ]
  },
  {
   "cell_type": "code",
   "execution_count": 32,
   "id": "37c22f3f",
   "metadata": {},
   "outputs": [
    {
     "data": {
      "image/png": "[encoded data removed]",
      "text/plain": [
       "<Figure size 1300x600 with 1 Axes>"
      ]
     },
     "metadata": {},
     "output_type": "display_data"
    }
   ],
   "source": [
    "seaborn.barplot(x=(data_grouped_income['Категория дохода']) , y=(data_grouped_income['Доля дожников']));"
   ]
  },
  {
   "cell_type": "markdown",
   "id": "e8593def",
   "metadata": {
    "deletable": false,
    "id": "e8593def"
   },
   "source": [
    "**Вывод:** Меньше всего должников в категории D (доход от 30 000 до 50 000) около 6%. Больше всего -  категории E (до 30 000)- 9%. Но так же, как и в предыдущих исследованиях разница между категориями всего около 1,5-3%"
   ]
  },
  {
   "cell_type": "markdown",
   "id": "99ecbd1f",
   "metadata": {
    "deletable": false,
    "editable": false,
    "id": "99ecbd1f"
   },
   "source": [
    "**Задание 22. Как разные цели кредита влияют на его возврат в срок?**"
   ]
  },
  {
   "cell_type": "code",
   "execution_count": 33,
   "id": "2b687290",
   "metadata": {
    "id": "2b687290"
   },
   "outputs": [
    {
     "data": {
      "text/html": [
       "<div>\n",
       "<style scoped>\n",
       "    .dataframe tbody tr th:only-of-type {\n",
       "        vertical-align: middle;\n",
       "    }\n",
       "\n",
       "    .dataframe tbody tr th {\n",
       "        vertical-align: top;\n",
       "    }\n",
       "\n",
       "    .dataframe thead th {\n",
       "        text-align: right;\n",
       "    }\n",
       "</style>\n",
       "<table border=\"1\" class=\"dataframe\">\n",
       "  <thead>\n",
       "    <tr style=\"text-align: right;\">\n",
       "      <th></th>\n",
       "      <th>Цель кредита</th>\n",
       "      <th>Всего кредитополучателей</th>\n",
       "      <th>Всего должников</th>\n",
       "      <th>Доля дожников</th>\n",
       "    </tr>\n",
       "  </thead>\n",
       "  <tbody>\n",
       "    <tr>\n",
       "      <th>0</th>\n",
       "      <td>операции с автомобилем</td>\n",
       "      <td>4281</td>\n",
       "      <td>400</td>\n",
       "      <td>0.093436</td>\n",
       "    </tr>\n",
       "    <tr>\n",
       "      <th>1</th>\n",
       "      <td>операции с недвижимостью</td>\n",
       "      <td>10754</td>\n",
       "      <td>780</td>\n",
       "      <td>0.072531</td>\n",
       "    </tr>\n",
       "    <tr>\n",
       "      <th>2</th>\n",
       "      <td>получение образования</td>\n",
       "      <td>3989</td>\n",
       "      <td>369</td>\n",
       "      <td>0.092504</td>\n",
       "    </tr>\n",
       "    <tr>\n",
       "      <th>3</th>\n",
       "      <td>проведение свадьбы</td>\n",
       "      <td>2324</td>\n",
       "      <td>183</td>\n",
       "      <td>0.078744</td>\n",
       "    </tr>\n",
       "  </tbody>\n",
       "</table>\n",
       "</div>"
      ],
      "text/plain": [
       "               Цель кредита  Всего кредитополучателей  Всего должников  \\\n",
       "0    операции с автомобилем                      4281              400   \n",
       "1  операции с недвижимостью                     10754              780   \n",
       "2     получение образования                      3989              369   \n",
       "3        проведение свадьбы                      2324              183   \n",
       "\n",
       "   Доля дожников  \n",
       "0       0.093436  \n",
       "1       0.072531  \n",
       "2       0.092504  \n",
       "3       0.078744  "
      ]
     },
     "execution_count": 33,
     "metadata": {},
     "output_type": "execute_result"
    }
   ],
   "source": [
    "data_grouped_purpose = part_debt('purpose_category', 'Цель кредита')\n",
    "data_grouped_purpose\n",
    "# Ваш код будет здесь. Вы можете создавать новые ячейки."
   ]
  },
  {
   "cell_type": "code",
   "execution_count": 34,
   "id": "20b638fd",
   "metadata": {},
   "outputs": [
    {
     "data": {
      "image/png": "[encoded data removed]",
      "text/plain": [
       "<Figure size 1300x600 with 1 Axes>"
      ]
     },
     "metadata": {},
     "output_type": "display_data"
    }
   ],
   "source": [
    "seaborn.barplot(x=(data_grouped_purpose['Цель кредита']), y=(data_grouped_purpose['Доля дожников']));\n",
    "#Та же проблема с наезжающим текстом"
   ]
  },
  {
   "cell_type": "markdown",
   "id": "b4bb2ce6",
   "metadata": {
    "deletable": false,
    "id": "b4bb2ce6"
   },
   "source": [
    "**Вывод:** Меньше всего должников среди тех, кто брал кредит на недвижимость - около 7%. Больше всего - среди тех, кто брал на образование и автомобиль - около 9%. Так же, как и в предыдущих исследованиях разница между категориями всего около 2%"
   ]
  },
  {
   "cell_type": "markdown",
   "id": "09c3ac4c",
   "metadata": {
    "deletable": false,
    "editable": false,
    "id": "09c3ac4c"
   },
   "source": [
    "**Задание 23. Приведите возможные причины появления пропусков в исходных данных.**"
   ]
  },
  {
   "cell_type": "markdown",
   "id": "9da2ceda",
   "metadata": {
    "deletable": false,
    "id": "9da2ceda"
   },
   "source": [
    "*Ответ:* \n",
    "В данных были обнаружены пропуски в двух колонках: days_employed - трудовой стаж и total_income - ежемесячный доход. \n",
    "    \n",
    "    Пропуск в колонке с ежемесячным доходом может быть по двум причинам: \n",
    "* официально подтвержденного дохода нет,\n",
    "* человек не сообщил банку о своих доходах по каким-либо причинам\n",
    "   \n",
    "   Пропуски в трудовом стаже могут быть обусловлены отсутствием официального тружового стажа.\n",
    "   \n",
    "   Так же проблемы с данными могли возникунуть на этапе выгрузки (об этом так же свидетельствует отрицательные велицины в трудовом стаже, которых в реальности быть не может)\n"
   ]
  },
  {
   "cell_type": "markdown",
   "id": "7b0487d6",
   "metadata": {
    "deletable": false,
    "editable": false,
    "id": "7b0487d6"
   },
   "source": [
    "**Задание 24. Объясните, почему заполнить пропуски медианным значением — лучшее решение для количественных переменных.**"
   ]
  },
  {
   "cell_type": "markdown",
   "id": "7ecf2b8e",
   "metadata": {
    "deletable": false,
    "id": "7ecf2b8e"
   },
   "source": [
    "*Ответ:* \n",
    "- Процент пропусков составляет около 10%, избавиться от данных будет не лучшим решением, т.к. это достаточно сильно сократит выборку. \n",
    "- Заполнение по среднему значению приведет к искажению. В выборке могут встречатся сильно отклоняющиеся от среднего значения, которые будут смещать среднее в большую или меньшую сторону.\n",
    "\n",
    "Таким образом заполение по медиане приведет к наименьшим искажениям. Для более точного результата, заполняем не просто медианой по всем данным, а в зависимости от другой категории. Например: медианный ежемесячный доход  - в зависимости от типа деятельности, который обычно сильнее всего и влияет на доход."
   ]
  },
  {
   "cell_type": "markdown",
   "id": "a334fec4",
   "metadata": {},
   "source": [
    "### **Дополнительные исследования**"
   ]
  },
  {
   "cell_type": "markdown",
   "id": "23b44f6d",
   "metadata": {},
   "source": [
    "**1.** Посмотрим зависимость выплаты кредита в зависимости от пола"
   ]
  },
  {
   "cell_type": "code",
   "execution_count": 35,
   "id": "80850ce6",
   "metadata": {},
   "outputs": [
    {
     "data": {
      "text/html": [
       "<div>\n",
       "<style scoped>\n",
       "    .dataframe tbody tr th:only-of-type {\n",
       "        vertical-align: middle;\n",
       "    }\n",
       "\n",
       "    .dataframe tbody tr th {\n",
       "        vertical-align: top;\n",
       "    }\n",
       "\n",
       "    .dataframe thead th {\n",
       "        text-align: right;\n",
       "    }\n",
       "</style>\n",
       "<table border=\"1\" class=\"dataframe\">\n",
       "  <thead>\n",
       "    <tr style=\"text-align: right;\">\n",
       "      <th></th>\n",
       "      <th>Пол</th>\n",
       "      <th>Всего кредитополучателей</th>\n",
       "      <th>Всего должников</th>\n",
       "      <th>Доля дожников</th>\n",
       "    </tr>\n",
       "  </thead>\n",
       "  <tbody>\n",
       "    <tr>\n",
       "      <th>0</th>\n",
       "      <td>F</td>\n",
       "      <td>14107</td>\n",
       "      <td>989</td>\n",
       "      <td>0.070107</td>\n",
       "    </tr>\n",
       "    <tr>\n",
       "      <th>1</th>\n",
       "      <td>M</td>\n",
       "      <td>7240</td>\n",
       "      <td>743</td>\n",
       "      <td>0.102624</td>\n",
       "    </tr>\n",
       "    <tr>\n",
       "      <th>2</th>\n",
       "      <td>XNA</td>\n",
       "      <td>1</td>\n",
       "      <td>0</td>\n",
       "      <td>0.000000</td>\n",
       "    </tr>\n",
       "  </tbody>\n",
       "</table>\n",
       "</div>"
      ],
      "text/plain": [
       "   Пол  Всего кредитополучателей  Всего должников  Доля дожников\n",
       "0    F                     14107              989       0.070107\n",
       "1    M                      7240              743       0.102624\n",
       "2  XNA                         1                0       0.000000"
      ]
     },
     "execution_count": 35,
     "metadata": {},
     "output_type": "execute_result"
    }
   ],
   "source": [
    "data_grouped_sex = part_debt('gender', 'Пол')\n",
    "data_grouped_sex"
   ]
  },
  {
   "cell_type": "markdown",
   "id": "92312f96",
   "metadata": {},
   "source": [
    "Есть аномальное непонятное значение XNA, удалим строку\t"
   ]
  },
  {
   "cell_type": "code",
   "execution_count": 36,
   "id": "7ab76b5e",
   "metadata": {},
   "outputs": [
    {
     "data": {
      "text/html": [
       "<div>\n",
       "<style scoped>\n",
       "    .dataframe tbody tr th:only-of-type {\n",
       "        vertical-align: middle;\n",
       "    }\n",
       "\n",
       "    .dataframe tbody tr th {\n",
       "        vertical-align: top;\n",
       "    }\n",
       "\n",
       "    .dataframe thead th {\n",
       "        text-align: right;\n",
       "    }\n",
       "</style>\n",
       "<table border=\"1\" class=\"dataframe\">\n",
       "  <thead>\n",
       "    <tr style=\"text-align: right;\">\n",
       "      <th></th>\n",
       "      <th>Пол</th>\n",
       "      <th>Всего кредитополучателей</th>\n",
       "      <th>Всего должников</th>\n",
       "      <th>Доля дожников</th>\n",
       "    </tr>\n",
       "  </thead>\n",
       "  <tbody>\n",
       "    <tr>\n",
       "      <th>0</th>\n",
       "      <td>F</td>\n",
       "      <td>14107</td>\n",
       "      <td>989</td>\n",
       "      <td>0.070107</td>\n",
       "    </tr>\n",
       "    <tr>\n",
       "      <th>1</th>\n",
       "      <td>M</td>\n",
       "      <td>7240</td>\n",
       "      <td>743</td>\n",
       "      <td>0.102624</td>\n",
       "    </tr>\n",
       "  </tbody>\n",
       "</table>\n",
       "</div>"
      ],
      "text/plain": [
       "  Пол  Всего кредитополучателей  Всего должников  Доля дожников\n",
       "0   F                     14107              989       0.070107\n",
       "1   M                      7240              743       0.102624"
      ]
     },
     "execution_count": 36,
     "metadata": {},
     "output_type": "execute_result"
    }
   ],
   "source": [
    "data_grouped_sex = data_grouped_sex[data_grouped_sex['Пол'] != \"XNA\"]\n",
    "data_grouped_sex"
   ]
  },
  {
   "cell_type": "code",
   "execution_count": 37,
   "id": "fb601158",
   "metadata": {},
   "outputs": [
    {
     "data": {
      "image/png": "[encoded data removed]",
      "text/plain": [
       "<Figure size 1300x600 with 1 Axes>"
      ]
     },
     "metadata": {},
     "output_type": "display_data"
    }
   ],
   "source": [
    "seaborn.barplot(x=(data_grouped_sex['Пол']), y=(data_grouped_sex['Доля дожников']));"
   ]
  },
  {
   "cell_type": "markdown",
   "id": "f532a056",
   "metadata": {},
   "source": [
    "**Выаод** Женщины чаще выплачивают кредит, чем мужчины. Разница составляет примерно 3,2%. "
   ]
  },
  {
   "cell_type": "markdown",
   "id": "4b58dca4",
   "metadata": {},
   "source": [
    "**2.** Попробуем найти лучших клиентов для банка, выдающего кредит"
   ]
  },
  {
   "cell_type": "code",
   "execution_count": 38,
   "id": "6a17cf18",
   "metadata": {},
   "outputs": [
    {
     "data": {
      "text/html": [
       "<div>\n",
       "<style scoped>\n",
       "    .dataframe tbody tr th:only-of-type {\n",
       "        vertical-align: middle;\n",
       "    }\n",
       "\n",
       "    .dataframe tbody tr th {\n",
       "        vertical-align: top;\n",
       "    }\n",
       "\n",
       "    .dataframe thead th {\n",
       "        text-align: right;\n",
       "    }\n",
       "</style>\n",
       "<table border=\"1\" class=\"dataframe\">\n",
       "  <thead>\n",
       "    <tr style=\"text-align: right;\">\n",
       "      <th></th>\n",
       "      <th>children</th>\n",
       "      <th>days_employed</th>\n",
       "      <th>dob_years</th>\n",
       "      <th>education</th>\n",
       "      <th>education_id</th>\n",
       "      <th>family_status</th>\n",
       "      <th>family_status_id</th>\n",
       "      <th>gender</th>\n",
       "      <th>income_type</th>\n",
       "      <th>debt</th>\n",
       "      <th>total_income</th>\n",
       "      <th>purpose</th>\n",
       "      <th>total_income_category</th>\n",
       "      <th>purpose_category</th>\n",
       "      <th>perfect_candidat</th>\n",
       "    </tr>\n",
       "  </thead>\n",
       "  <tbody>\n",
       "    <tr>\n",
       "      <th>1919</th>\n",
       "      <td>0</td>\n",
       "      <td>3031.208341</td>\n",
       "      <td>44</td>\n",
       "      <td>среднее</td>\n",
       "      <td>1</td>\n",
       "      <td>вдовец / вдова</td>\n",
       "      <td>2</td>\n",
       "      <td>F</td>\n",
       "      <td>сотрудник</td>\n",
       "      <td>0</td>\n",
       "      <td>48925</td>\n",
       "      <td>строительство собственной недвижимости</td>\n",
       "      <td>D</td>\n",
       "      <td>операции с недвижимостью</td>\n",
       "      <td>хороший кандидат</td>\n",
       "    </tr>\n",
       "    <tr>\n",
       "      <th>3574</th>\n",
       "      <td>0</td>\n",
       "      <td>343627.912639</td>\n",
       "      <td>64</td>\n",
       "      <td>среднее</td>\n",
       "      <td>1</td>\n",
       "      <td>вдовец / вдова</td>\n",
       "      <td>2</td>\n",
       "      <td>F</td>\n",
       "      <td>пенсионер</td>\n",
       "      <td>0</td>\n",
       "      <td>46279</td>\n",
       "      <td>жилье</td>\n",
       "      <td>D</td>\n",
       "      <td>операции с недвижимостью</td>\n",
       "      <td>хороший кандидат</td>\n",
       "    </tr>\n",
       "    <tr>\n",
       "      <th>4583</th>\n",
       "      <td>0</td>\n",
       "      <td>341443.389498</td>\n",
       "      <td>63</td>\n",
       "      <td>среднее</td>\n",
       "      <td>1</td>\n",
       "      <td>вдовец / вдова</td>\n",
       "      <td>2</td>\n",
       "      <td>F</td>\n",
       "      <td>пенсионер</td>\n",
       "      <td>0</td>\n",
       "      <td>46473</td>\n",
       "      <td>жилье</td>\n",
       "      <td>D</td>\n",
       "      <td>операции с недвижимостью</td>\n",
       "      <td>хороший кандидат</td>\n",
       "    </tr>\n",
       "    <tr>\n",
       "      <th>4727</th>\n",
       "      <td>0</td>\n",
       "      <td>334348.871543</td>\n",
       "      <td>61</td>\n",
       "      <td>среднее</td>\n",
       "      <td>1</td>\n",
       "      <td>вдовец / вдова</td>\n",
       "      <td>2</td>\n",
       "      <td>F</td>\n",
       "      <td>пенсионер</td>\n",
       "      <td>0</td>\n",
       "      <td>47823</td>\n",
       "      <td>операции с жильем</td>\n",
       "      <td>D</td>\n",
       "      <td>операции с недвижимостью</td>\n",
       "      <td>хороший кандидат</td>\n",
       "    </tr>\n",
       "    <tr>\n",
       "      <th>4963</th>\n",
       "      <td>0</td>\n",
       "      <td>360639.907161</td>\n",
       "      <td>72</td>\n",
       "      <td>начальное</td>\n",
       "      <td>3</td>\n",
       "      <td>вдовец / вдова</td>\n",
       "      <td>2</td>\n",
       "      <td>F</td>\n",
       "      <td>пенсионер</td>\n",
       "      <td>0</td>\n",
       "      <td>34024</td>\n",
       "      <td>операции со своей недвижимостью</td>\n",
       "      <td>D</td>\n",
       "      <td>операции с недвижимостью</td>\n",
       "      <td>хороший кандидат</td>\n",
       "    </tr>\n",
       "    <tr>\n",
       "      <th>10944</th>\n",
       "      <td>0</td>\n",
       "      <td>361943.358117</td>\n",
       "      <td>53</td>\n",
       "      <td>среднее</td>\n",
       "      <td>1</td>\n",
       "      <td>вдовец / вдова</td>\n",
       "      <td>2</td>\n",
       "      <td>F</td>\n",
       "      <td>пенсионер</td>\n",
       "      <td>0</td>\n",
       "      <td>39383</td>\n",
       "      <td>ремонт жилью</td>\n",
       "      <td>D</td>\n",
       "      <td>операции с недвижимостью</td>\n",
       "      <td>хороший кандидат</td>\n",
       "    </tr>\n",
       "    <tr>\n",
       "      <th>11049</th>\n",
       "      <td>0</td>\n",
       "      <td>355035.101774</td>\n",
       "      <td>51</td>\n",
       "      <td>среднее</td>\n",
       "      <td>1</td>\n",
       "      <td>вдовец / вдова</td>\n",
       "      <td>2</td>\n",
       "      <td>F</td>\n",
       "      <td>пенсионер</td>\n",
       "      <td>0</td>\n",
       "      <td>42091</td>\n",
       "      <td>покупка коммерческой недвижимости</td>\n",
       "      <td>D</td>\n",
       "      <td>операции с недвижимостью</td>\n",
       "      <td>хороший кандидат</td>\n",
       "    </tr>\n",
       "    <tr>\n",
       "      <th>11157</th>\n",
       "      <td>0</td>\n",
       "      <td>329416.874245</td>\n",
       "      <td>71</td>\n",
       "      <td>среднее</td>\n",
       "      <td>1</td>\n",
       "      <td>вдовец / вдова</td>\n",
       "      <td>2</td>\n",
       "      <td>F</td>\n",
       "      <td>пенсионер</td>\n",
       "      <td>0</td>\n",
       "      <td>39406</td>\n",
       "      <td>покупка жилой недвижимости</td>\n",
       "      <td>D</td>\n",
       "      <td>операции с недвижимостью</td>\n",
       "      <td>хороший кандидат</td>\n",
       "    </tr>\n",
       "    <tr>\n",
       "      <th>12417</th>\n",
       "      <td>0</td>\n",
       "      <td>388408.975161</td>\n",
       "      <td>64</td>\n",
       "      <td>высшее</td>\n",
       "      <td>0</td>\n",
       "      <td>вдовец / вдова</td>\n",
       "      <td>2</td>\n",
       "      <td>F</td>\n",
       "      <td>пенсионер</td>\n",
       "      <td>0</td>\n",
       "      <td>42319</td>\n",
       "      <td>покупка жилой недвижимости</td>\n",
       "      <td>D</td>\n",
       "      <td>операции с недвижимостью</td>\n",
       "      <td>хороший кандидат</td>\n",
       "    </tr>\n",
       "    <tr>\n",
       "      <th>14202</th>\n",
       "      <td>0</td>\n",
       "      <td>349012.164686</td>\n",
       "      <td>54</td>\n",
       "      <td>среднее</td>\n",
       "      <td>1</td>\n",
       "      <td>вдовец / вдова</td>\n",
       "      <td>2</td>\n",
       "      <td>F</td>\n",
       "      <td>пенсионер</td>\n",
       "      <td>0</td>\n",
       "      <td>47378</td>\n",
       "      <td>строительство недвижимости</td>\n",
       "      <td>D</td>\n",
       "      <td>операции с недвижимостью</td>\n",
       "      <td>хороший кандидат</td>\n",
       "    </tr>\n",
       "    <tr>\n",
       "      <th>18134</th>\n",
       "      <td>0</td>\n",
       "      <td>391408.539064</td>\n",
       "      <td>68</td>\n",
       "      <td>среднее</td>\n",
       "      <td>1</td>\n",
       "      <td>вдовец / вдова</td>\n",
       "      <td>2</td>\n",
       "      <td>F</td>\n",
       "      <td>пенсионер</td>\n",
       "      <td>0</td>\n",
       "      <td>41558</td>\n",
       "      <td>ремонт жилью</td>\n",
       "      <td>D</td>\n",
       "      <td>операции с недвижимостью</td>\n",
       "      <td>хороший кандидат</td>\n",
       "    </tr>\n",
       "  </tbody>\n",
       "</table>\n",
       "</div>"
      ],
      "text/plain": [
       "       children  days_employed  dob_years  education  education_id  \\\n",
       "1919          0    3031.208341         44    среднее             1   \n",
       "3574          0  343627.912639         64    среднее             1   \n",
       "4583          0  341443.389498         63    среднее             1   \n",
       "4727          0  334348.871543         61    среднее             1   \n",
       "4963          0  360639.907161         72  начальное             3   \n",
       "10944         0  361943.358117         53    среднее             1   \n",
       "11049         0  355035.101774         51    среднее             1   \n",
       "11157         0  329416.874245         71    среднее             1   \n",
       "12417         0  388408.975161         64     высшее             0   \n",
       "14202         0  349012.164686         54    среднее             1   \n",
       "18134         0  391408.539064         68    среднее             1   \n",
       "\n",
       "        family_status  family_status_id gender income_type  debt  \\\n",
       "1919   вдовец / вдова                 2      F   сотрудник     0   \n",
       "3574   вдовец / вдова                 2      F   пенсионер     0   \n",
       "4583   вдовец / вдова                 2      F   пенсионер     0   \n",
       "4727   вдовец / вдова                 2      F   пенсионер     0   \n",
       "4963   вдовец / вдова                 2      F   пенсионер     0   \n",
       "10944  вдовец / вдова                 2      F   пенсионер     0   \n",
       "11049  вдовец / вдова                 2      F   пенсионер     0   \n",
       "11157  вдовец / вдова                 2      F   пенсионер     0   \n",
       "12417  вдовец / вдова                 2      F   пенсионер     0   \n",
       "14202  вдовец / вдова                 2      F   пенсионер     0   \n",
       "18134  вдовец / вдова                 2      F   пенсионер     0   \n",
       "\n",
       "       total_income                                 purpose  \\\n",
       "1919          48925  строительство собственной недвижимости   \n",
       "3574          46279                                   жилье   \n",
       "4583          46473                                   жилье   \n",
       "4727          47823                       операции с жильем   \n",
       "4963          34024         операции со своей недвижимостью   \n",
       "10944         39383                            ремонт жилью   \n",
       "11049         42091       покупка коммерческой недвижимости   \n",
       "11157         39406              покупка жилой недвижимости   \n",
       "12417         42319              покупка жилой недвижимости   \n",
       "14202         47378              строительство недвижимости   \n",
       "18134         41558                            ремонт жилью   \n",
       "\n",
       "      total_income_category          purpose_category  perfect_candidat  \n",
       "1919                      D  операции с недвижимостью  хороший кандидат  \n",
       "3574                      D  операции с недвижимостью  хороший кандидат  \n",
       "4583                      D  операции с недвижимостью  хороший кандидат  \n",
       "4727                      D  операции с недвижимостью  хороший кандидат  \n",
       "4963                      D  операции с недвижимостью  хороший кандидат  \n",
       "10944                     D  операции с недвижимостью  хороший кандидат  \n",
       "11049                     D  операции с недвижимостью  хороший кандидат  \n",
       "11157                     D  операции с недвижимостью  хороший кандидат  \n",
       "12417                     D  операции с недвижимостью  хороший кандидат  \n",
       "14202                     D  операции с недвижимостью  хороший кандидат  \n",
       "18134                     D  операции с недвижимостью  хороший кандидат  "
      ]
     },
     "execution_count": 38,
     "metadata": {},
     "output_type": "execute_result"
    }
   ],
   "source": [
    "# функция для поиска кандидата, входящего во все 4 группы с лучшим показателям по выплате\n",
    "def perfect_credit(row): \n",
    "    if (row['children'] == 0) & (row['family_status'] == 'вдовец / вдова')  & (row['total_income_category'] == 'D') & (row['purpose_category'] == 'операции с недвижимостью') & (row['gender'] == 'F'):\n",
    "        return 'хороший кандидат'\n",
    "    else:\n",
    "        return 'нужна проверка'\n",
    "data['perfect_candidat'] = data.apply(perfect_credit, axis=1)\n",
    "data.loc[data['perfect_candidat'] == 'хороший кандидат'] # фильтр нужных строк\n"
   ]
  },
  {
   "cell_type": "code",
   "execution_count": 39,
   "id": "2621726a",
   "metadata": {},
   "outputs": [
    {
     "data": {
      "text/plain": [
       "11"
      ]
     },
     "execution_count": 39,
     "metadata": {},
     "output_type": "execute_result"
    }
   ],
   "source": [
    "data.loc[data['perfect_candidat'] == 'хороший кандидат']['gender'].count() #считаем кол-во строк (кол-во идеальных кандидатов)"
   ]
  },
  {
   "cell_type": "markdown",
   "id": "fad2e776",
   "metadata": {},
   "source": [
    "В нашей выборке всего 11 человек входит сразу во все категории с лучшей статистикой по выплате кредита"
   ]
  },
  {
   "cell_type": "markdown",
   "id": "9bf2d116",
   "metadata": {},
   "source": [
    "**3.** Попробуем найти самых рискованных клиентов для банка"
   ]
  },
  {
   "cell_type": "code",
   "execution_count": 40,
   "id": "6647f638",
   "metadata": {},
   "outputs": [
    {
     "data": {
      "text/html": [
       "<div>\n",
       "<style scoped>\n",
       "    .dataframe tbody tr th:only-of-type {\n",
       "        vertical-align: middle;\n",
       "    }\n",
       "\n",
       "    .dataframe tbody tr th {\n",
       "        vertical-align: top;\n",
       "    }\n",
       "\n",
       "    .dataframe thead th {\n",
       "        text-align: right;\n",
       "    }\n",
       "</style>\n",
       "<table border=\"1\" class=\"dataframe\">\n",
       "  <thead>\n",
       "    <tr style=\"text-align: right;\">\n",
       "      <th></th>\n",
       "      <th>children</th>\n",
       "      <th>days_employed</th>\n",
       "      <th>dob_years</th>\n",
       "      <th>education</th>\n",
       "      <th>education_id</th>\n",
       "      <th>family_status</th>\n",
       "      <th>family_status_id</th>\n",
       "      <th>gender</th>\n",
       "      <th>income_type</th>\n",
       "      <th>debt</th>\n",
       "      <th>total_income</th>\n",
       "      <th>purpose</th>\n",
       "      <th>total_income_category</th>\n",
       "      <th>purpose_category</th>\n",
       "      <th>perfect_candidat</th>\n",
       "      <th>risky_candidat</th>\n",
       "    </tr>\n",
       "  </thead>\n",
       "  <tbody>\n",
       "  </tbody>\n",
       "</table>\n",
       "</div>"
      ],
      "text/plain": [
       "Empty DataFrame\n",
       "Columns: [children, days_employed, dob_years, education, education_id, family_status, family_status_id, gender, income_type, debt, total_income, purpose, total_income_category, purpose_category, perfect_candidat, risky_candidat]\n",
       "Index: []"
      ]
     },
     "execution_count": 40,
     "metadata": {},
     "output_type": "execute_result"
    }
   ],
   "source": [
    "def perfect_credit(row): \n",
    "    if ((row['children'] == 4)|(row['children'] == 4)) & (row['family_status'] == 'Не женат / не замужем')  & (row['total_income_category'] == 'D') & (row['purpose_category'] == 'операции с автомобилем') & (row['gender'] == 'M'):\n",
    "        return 'ненадежный кандидат'\n",
    "    else:\n",
    "        return 'нужна проверка'\n",
    "\n",
    "data['risky_candidat'] = data.apply(perfect_credit, axis=1)\n",
    "data.loc[data['risky_candidat'] == 'ненадежный кандидат'] # фильтр нужных строк"
   ]
  },
  {
   "cell_type": "markdown",
   "id": "fe2add10",
   "metadata": {},
   "source": [
    "В нашей выбоке людей, подходящих во все категории с худшей статистикой по выплатам нет"
   ]
  },
  {
   "cell_type": "markdown",
   "id": "6db5255a",
   "metadata": {
    "deletable": false,
    "editable": false,
    "id": "6db5255a"
   },
   "source": [
    "## Общий вывод."
   ]
  },
  {
   "cell_type": "markdown",
   "id": "bad65432",
   "metadata": {
    "id": "bad65432"
   },
   "source": [
    "Все из исследованных факторов (наличие детей, семейное положение, уровень дохода, цель кредита) в малой степени влияют на выплату кредита. В каждом исследовании разница между группами составляет не более 3% (в среднем 1,5%). Однако женщины чаще мужчин возвращают заемные средства.\n",
    "\n",
    "При выдаче кредита лучше учитывать сразу несколько факторов в совокупности. \n",
    "Наиболее благонадежным клиентом по результатам исследования считается человек:\n",
    "* Женщина-вдова без детей с доходом 30 000 – 50 000 с целью кредита на недвижимость.\n",
    "Из нашей выборки в 21525 человек только 11 входят сразу в 4 категории с лучшей статистикой по возрату задолжности.\n",
    "\n",
    "Самым рискованным будет:\n",
    "* Не женатый мужчина, имеющий 2х или 4х детей, с доходом до 30 000 и целью кредита на автомобиль. \n",
    "Таких в нашей выборке нет. Относительно реальной жизни действительно такие люди будут встречаться очень редко"
   ]
  }
 ],
 "metadata": {
  "ExecuteTimeLog": [
   {
    "duration": 466,
    "start_time": "2022-07-20T08:19:46.638Z"
   },
   {
    "duration": 23,
    "start_time": "2022-07-20T08:19:47.106Z"
   },
   {
    "duration": 14,
    "start_time": "2022-07-20T08:19:47.131Z"
   },
   {
    "duration": 9,
    "start_time": "2022-07-20T08:19:47.146Z"
   },
   {
    "duration": 31,
    "start_time": "2022-07-20T08:19:47.156Z"
   },
   {
    "duration": 3,
    "start_time": "2022-07-20T08:19:47.189Z"
   },
   {
    "duration": 41,
    "start_time": "2022-07-20T08:19:47.194Z"
   },
   {
    "duration": 4,
    "start_time": "2022-07-20T08:19:47.238Z"
   },
   {
    "duration": 12,
    "start_time": "2022-07-20T08:19:47.243Z"
   },
   {
    "duration": 5,
    "start_time": "2022-07-20T08:19:47.256Z"
   },
   {
    "duration": 35,
    "start_time": "2022-07-20T08:19:47.262Z"
   },
   {
    "duration": 26,
    "start_time": "2022-07-20T08:19:47.298Z"
   },
   {
    "duration": 4,
    "start_time": "2022-07-20T08:19:47.325Z"
   },
   {
    "duration": 18,
    "start_time": "2022-07-20T08:19:47.331Z"
   },
   {
    "duration": 21,
    "start_time": "2022-07-20T08:19:47.351Z"
   },
   {
    "duration": 26,
    "start_time": "2022-07-20T08:19:47.373Z"
   },
   {
    "duration": 3,
    "start_time": "2022-07-20T08:19:47.401Z"
   },
   {
    "duration": 25,
    "start_time": "2022-07-20T08:19:47.406Z"
   },
   {
    "duration": 9,
    "start_time": "2022-07-20T08:19:47.432Z"
   },
   {
    "duration": 7,
    "start_time": "2022-07-20T08:19:47.443Z"
   },
   {
    "duration": 11,
    "start_time": "2022-07-20T08:19:47.451Z"
   },
   {
    "duration": 3,
    "start_time": "2022-07-20T08:19:47.463Z"
   },
   {
    "duration": 7,
    "start_time": "2022-07-20T08:19:47.467Z"
   },
   {
    "duration": 6,
    "start_time": "2022-07-20T08:19:47.476Z"
   },
   {
    "duration": 5,
    "start_time": "2022-07-20T08:19:47.484Z"
   },
   {
    "duration": 23,
    "start_time": "2022-07-20T09:32:15.165Z"
   },
   {
    "duration": 4,
    "start_time": "2022-07-20T09:40:13.894Z"
   },
   {
    "duration": 16,
    "start_time": "2022-07-20T09:46:00.745Z"
   },
   {
    "duration": 12,
    "start_time": "2022-07-20T09:46:31.678Z"
   },
   {
    "duration": 13,
    "start_time": "2022-07-20T09:46:37.667Z"
   },
   {
    "duration": 66,
    "start_time": "2022-07-20T09:48:23.817Z"
   },
   {
    "duration": 9,
    "start_time": "2022-07-20T09:48:31.409Z"
   },
   {
    "duration": 5,
    "start_time": "2022-07-20T09:48:37.665Z"
   },
   {
    "duration": 15,
    "start_time": "2022-07-20T09:49:11.025Z"
   },
   {
    "duration": 50,
    "start_time": "2022-07-20T09:55:25.677Z"
   },
   {
    "duration": 1621,
    "start_time": "2022-07-20T09:56:07.466Z"
   },
   {
    "duration": 858,
    "start_time": "2022-07-20T09:56:20.927Z"
   },
   {
    "duration": 710,
    "start_time": "2022-07-20T09:56:24.793Z"
   },
   {
    "duration": 127,
    "start_time": "2022-07-20T09:56:51.145Z"
   },
   {
    "duration": 5,
    "start_time": "2022-07-20T09:57:32.124Z"
   },
   {
    "duration": 4,
    "start_time": "2022-07-20T09:57:34.264Z"
   },
   {
    "duration": 51,
    "start_time": "2022-07-20T09:58:56.965Z"
   },
   {
    "duration": 15,
    "start_time": "2022-07-20T09:59:44.449Z"
   },
   {
    "duration": 291,
    "start_time": "2022-07-20T10:01:49.917Z"
   },
   {
    "duration": 39,
    "start_time": "2022-07-20T10:02:18.992Z"
   },
   {
    "duration": 21,
    "start_time": "2022-07-20T10:02:48.273Z"
   },
   {
    "duration": 1391,
    "start_time": "2022-07-20T10:03:32.068Z"
   },
   {
    "duration": 18,
    "start_time": "2022-07-20T10:03:41.525Z"
   },
   {
    "duration": 13,
    "start_time": "2022-07-20T10:07:16.994Z"
   },
   {
    "duration": 23,
    "start_time": "2022-07-20T10:08:38.058Z"
   },
   {
    "duration": 5,
    "start_time": "2022-07-20T10:09:26.077Z"
   },
   {
    "duration": 7,
    "start_time": "2022-07-20T10:09:35.022Z"
   },
   {
    "duration": 7,
    "start_time": "2022-07-20T10:09:51.015Z"
   },
   {
    "duration": 28,
    "start_time": "2022-07-20T10:09:59.585Z"
   },
   {
    "duration": 31,
    "start_time": "2022-07-20T10:10:17.794Z"
   },
   {
    "duration": 12,
    "start_time": "2022-07-20T10:11:10.445Z"
   },
   {
    "duration": 11,
    "start_time": "2022-07-20T10:11:13.763Z"
   },
   {
    "duration": 27,
    "start_time": "2022-07-20T10:11:30.433Z"
   },
   {
    "duration": 9,
    "start_time": "2022-07-20T10:11:54.306Z"
   },
   {
    "duration": 8,
    "start_time": "2022-07-20T10:12:19.405Z"
   },
   {
    "duration": 108,
    "start_time": "2022-07-20T10:20:40.717Z"
   },
   {
    "duration": 139,
    "start_time": "2022-07-20T10:21:15.292Z"
   },
   {
    "duration": 92,
    "start_time": "2022-07-20T10:21:36.967Z"
   },
   {
    "duration": 56,
    "start_time": "2022-07-20T10:21:58.894Z"
   },
   {
    "duration": 10,
    "start_time": "2022-07-20T10:22:10.186Z"
   },
   {
    "duration": 15,
    "start_time": "2022-07-20T10:22:18.187Z"
   },
   {
    "duration": 14,
    "start_time": "2022-07-20T10:22:47.599Z"
   },
   {
    "duration": 15,
    "start_time": "2022-07-20T10:26:04.779Z"
   },
   {
    "duration": 15,
    "start_time": "2022-07-20T10:26:36.060Z"
   },
   {
    "duration": 23,
    "start_time": "2022-07-20T10:27:59.966Z"
   },
   {
    "duration": 22,
    "start_time": "2022-07-20T10:28:12.269Z"
   },
   {
    "duration": 20,
    "start_time": "2022-07-20T10:32:25.069Z"
   },
   {
    "duration": 15,
    "start_time": "2022-07-20T10:32:40.191Z"
   },
   {
    "duration": 15,
    "start_time": "2022-07-20T10:35:06.926Z"
   },
   {
    "duration": 20,
    "start_time": "2022-07-20T10:36:07.036Z"
   },
   {
    "duration": 13,
    "start_time": "2022-07-20T10:36:33.191Z"
   },
   {
    "duration": 15,
    "start_time": "2022-07-20T10:38:05.766Z"
   },
   {
    "duration": 291,
    "start_time": "2022-07-20T10:39:49.816Z"
   },
   {
    "duration": 23,
    "start_time": "2022-07-20T10:40:31.614Z"
   },
   {
    "duration": 9,
    "start_time": "2022-07-20T10:41:38.912Z"
   },
   {
    "duration": 8,
    "start_time": "2022-07-20T10:41:41.405Z"
   },
   {
    "duration": 14,
    "start_time": "2022-07-20T10:41:45.095Z"
   },
   {
    "duration": 9,
    "start_time": "2022-07-20T10:44:52.946Z"
   },
   {
    "duration": 59,
    "start_time": "2022-07-20T10:45:28.791Z"
   },
   {
    "duration": 1021,
    "start_time": "2022-07-20T10:46:08.131Z"
   },
   {
    "duration": 1492,
    "start_time": "2022-07-20T10:46:20.844Z"
   },
   {
    "duration": 229,
    "start_time": "2022-07-20T10:52:10.554Z"
   },
   {
    "duration": 525,
    "start_time": "2022-07-20T10:53:04.213Z"
   },
   {
    "duration": 13,
    "start_time": "2022-07-20T10:53:32.694Z"
   },
   {
    "duration": 1102,
    "start_time": "2022-07-20T10:53:53.993Z"
   },
   {
    "duration": 104,
    "start_time": "2022-07-20T10:54:26.595Z"
   },
   {
    "duration": 263,
    "start_time": "2022-07-20T10:54:58.211Z"
   },
   {
    "duration": 13,
    "start_time": "2022-07-20T10:55:08.813Z"
   },
   {
    "duration": 108,
    "start_time": "2022-07-20T10:55:58.682Z"
   },
   {
    "duration": 14,
    "start_time": "2022-07-20T10:57:12.524Z"
   },
   {
    "duration": 13,
    "start_time": "2022-07-20T10:57:20.668Z"
   },
   {
    "duration": 17,
    "start_time": "2022-07-20T10:57:29.044Z"
   },
   {
    "duration": 13,
    "start_time": "2022-07-20T10:57:32.428Z"
   },
   {
    "duration": 553,
    "start_time": "2022-07-20T10:58:05.592Z"
   },
   {
    "duration": 24,
    "start_time": "2022-07-20T10:58:06.147Z"
   },
   {
    "duration": 17,
    "start_time": "2022-07-20T10:58:06.174Z"
   },
   {
    "duration": 31,
    "start_time": "2022-07-20T10:58:06.193Z"
   },
   {
    "duration": 37,
    "start_time": "2022-07-20T10:58:06.227Z"
   },
   {
    "duration": 3,
    "start_time": "2022-07-20T10:58:06.266Z"
   },
   {
    "duration": 15,
    "start_time": "2022-07-20T10:58:06.270Z"
   },
   {
    "duration": 7,
    "start_time": "2022-07-20T10:58:06.287Z"
   },
   {
    "duration": 32,
    "start_time": "2022-07-20T10:58:06.295Z"
   },
   {
    "duration": 5,
    "start_time": "2022-07-20T10:58:06.329Z"
   },
   {
    "duration": 39,
    "start_time": "2022-07-20T10:58:06.335Z"
   },
   {
    "duration": 10,
    "start_time": "2022-07-20T10:58:06.375Z"
   },
   {
    "duration": 6,
    "start_time": "2022-07-20T10:58:06.387Z"
   },
   {
    "duration": 42,
    "start_time": "2022-07-20T10:58:06.395Z"
   },
   {
    "duration": 18,
    "start_time": "2022-07-20T10:58:06.439Z"
   },
   {
    "duration": 11,
    "start_time": "2022-07-20T10:58:06.459Z"
   },
   {
    "duration": 6,
    "start_time": "2022-07-20T10:58:06.472Z"
   },
   {
    "duration": 14,
    "start_time": "2022-07-20T10:58:06.479Z"
   },
   {
    "duration": 8,
    "start_time": "2022-07-20T10:58:06.495Z"
   },
   {
    "duration": 4,
    "start_time": "2022-07-20T10:58:06.524Z"
   },
   {
    "duration": 32,
    "start_time": "2022-07-20T10:58:06.530Z"
   },
   {
    "duration": 69,
    "start_time": "2022-07-20T10:58:10.354Z"
   },
   {
    "duration": 15,
    "start_time": "2022-07-20T10:58:24.280Z"
   },
   {
    "duration": 1840,
    "start_time": "2022-07-20T11:00:09.900Z"
   },
   {
    "duration": 2394,
    "start_time": "2022-07-20T11:00:29.867Z"
   },
   {
    "duration": 1422,
    "start_time": "2022-07-20T11:02:07.873Z"
   },
   {
    "duration": 1946,
    "start_time": "2022-07-20T11:03:26.711Z"
   },
   {
    "duration": 1930,
    "start_time": "2022-07-20T11:03:39.546Z"
   },
   {
    "duration": 770,
    "start_time": "2022-07-20T11:04:59.116Z"
   },
   {
    "duration": 1893,
    "start_time": "2022-07-20T11:05:15.831Z"
   },
   {
    "duration": 15,
    "start_time": "2022-07-20T11:06:06.851Z"
   },
   {
    "duration": 13,
    "start_time": "2022-07-20T11:07:04.603Z"
   },
   {
    "duration": 14,
    "start_time": "2022-07-20T11:07:34.063Z"
   },
   {
    "duration": 187,
    "start_time": "2022-07-20T11:08:13.713Z"
   },
   {
    "duration": 16,
    "start_time": "2022-07-20T11:09:18.936Z"
   },
   {
    "duration": 1308,
    "start_time": "2022-07-20T11:10:37.877Z"
   },
   {
    "duration": 1036,
    "start_time": "2022-07-20T11:10:52.921Z"
   },
   {
    "duration": 1628,
    "start_time": "2022-07-20T11:11:03.294Z"
   },
   {
    "duration": 16,
    "start_time": "2022-07-20T11:11:13.743Z"
   },
   {
    "duration": 8,
    "start_time": "2022-07-20T11:13:57.739Z"
   },
   {
    "duration": 72,
    "start_time": "2022-07-20T11:14:04.072Z"
   },
   {
    "duration": 15,
    "start_time": "2022-07-20T11:14:04.146Z"
   },
   {
    "duration": 29,
    "start_time": "2022-07-20T11:14:04.162Z"
   },
   {
    "duration": 12,
    "start_time": "2022-07-20T11:14:04.193Z"
   },
   {
    "duration": 41,
    "start_time": "2022-07-20T11:14:04.207Z"
   },
   {
    "duration": 4,
    "start_time": "2022-07-20T11:14:04.250Z"
   },
   {
    "duration": 42,
    "start_time": "2022-07-20T11:14:04.255Z"
   },
   {
    "duration": 21,
    "start_time": "2022-07-20T11:14:04.299Z"
   },
   {
    "duration": 48,
    "start_time": "2022-07-20T11:14:04.322Z"
   },
   {
    "duration": 26,
    "start_time": "2022-07-20T11:14:04.372Z"
   },
   {
    "duration": 38,
    "start_time": "2022-07-20T11:14:04.399Z"
   },
   {
    "duration": 9,
    "start_time": "2022-07-20T11:14:04.438Z"
   },
   {
    "duration": 11,
    "start_time": "2022-07-20T11:14:04.449Z"
   },
   {
    "duration": 36,
    "start_time": "2022-07-20T11:14:04.462Z"
   },
   {
    "duration": 17,
    "start_time": "2022-07-20T11:14:04.500Z"
   },
   {
    "duration": 23,
    "start_time": "2022-07-20T11:14:04.519Z"
   },
   {
    "duration": 23,
    "start_time": "2022-07-20T11:14:04.543Z"
   },
   {
    "duration": 39,
    "start_time": "2022-07-20T11:14:04.568Z"
   },
   {
    "duration": 23,
    "start_time": "2022-07-20T11:14:04.609Z"
   },
   {
    "duration": 22,
    "start_time": "2022-07-20T11:14:04.634Z"
   },
   {
    "duration": 37,
    "start_time": "2022-07-20T11:14:04.658Z"
   },
   {
    "duration": 36,
    "start_time": "2022-07-20T11:14:04.697Z"
   },
   {
    "duration": 127,
    "start_time": "2022-07-20T11:14:04.735Z"
   },
   {
    "duration": 1449,
    "start_time": "2022-07-20T11:14:04.864Z"
   },
   {
    "duration": 14,
    "start_time": "2022-07-20T11:14:22.402Z"
   },
   {
    "duration": 18,
    "start_time": "2022-07-20T11:15:25.774Z"
   },
   {
    "duration": 55,
    "start_time": "2022-07-20T11:15:32.761Z"
   },
   {
    "duration": 71,
    "start_time": "2022-07-20T11:15:39.866Z"
   },
   {
    "duration": 15,
    "start_time": "2022-07-20T11:15:39.938Z"
   },
   {
    "duration": 16,
    "start_time": "2022-07-20T11:15:39.955Z"
   },
   {
    "duration": 10,
    "start_time": "2022-07-20T11:15:39.973Z"
   },
   {
    "duration": 50,
    "start_time": "2022-07-20T11:15:39.985Z"
   },
   {
    "duration": 3,
    "start_time": "2022-07-20T11:15:40.037Z"
   },
   {
    "duration": 16,
    "start_time": "2022-07-20T11:15:40.042Z"
   },
   {
    "duration": 6,
    "start_time": "2022-07-20T11:15:40.060Z"
   },
   {
    "duration": 9,
    "start_time": "2022-07-20T11:15:40.067Z"
   },
   {
    "duration": 6,
    "start_time": "2022-07-20T11:15:40.077Z"
   },
   {
    "duration": 55,
    "start_time": "2022-07-20T11:15:40.085Z"
   },
   {
    "duration": 10,
    "start_time": "2022-07-20T11:15:40.142Z"
   },
   {
    "duration": 7,
    "start_time": "2022-07-20T11:15:40.153Z"
   },
   {
    "duration": 19,
    "start_time": "2022-07-20T11:15:40.163Z"
   },
   {
    "duration": 40,
    "start_time": "2022-07-20T11:15:40.183Z"
   },
   {
    "duration": 11,
    "start_time": "2022-07-20T11:15:40.225Z"
   },
   {
    "duration": 4,
    "start_time": "2022-07-20T11:15:40.238Z"
   },
   {
    "duration": 15,
    "start_time": "2022-07-20T11:15:40.244Z"
   },
   {
    "duration": 5,
    "start_time": "2022-07-20T11:15:40.261Z"
   },
   {
    "duration": 3,
    "start_time": "2022-07-20T11:15:40.268Z"
   },
   {
    "duration": 50,
    "start_time": "2022-07-20T11:15:40.273Z"
   },
   {
    "duration": 12,
    "start_time": "2022-07-20T11:15:40.325Z"
   },
   {
    "duration": 134,
    "start_time": "2022-07-20T11:15:40.339Z"
   },
   {
    "duration": 13,
    "start_time": "2022-07-20T11:15:40.474Z"
   },
   {
    "duration": 17,
    "start_time": "2022-07-20T11:15:59.865Z"
   },
   {
    "duration": 17,
    "start_time": "2022-07-20T11:16:28.164Z"
   },
   {
    "duration": 19,
    "start_time": "2022-07-20T11:16:39.444Z"
   },
   {
    "duration": 15,
    "start_time": "2022-07-20T11:16:50.404Z"
   },
   {
    "duration": 122,
    "start_time": "2022-07-20T11:17:17.564Z"
   },
   {
    "duration": 10,
    "start_time": "2022-07-20T11:23:16.373Z"
   },
   {
    "duration": 14,
    "start_time": "2022-07-20T11:23:26.542Z"
   },
   {
    "duration": 117,
    "start_time": "2022-07-20T11:23:28.213Z"
   },
   {
    "duration": 47,
    "start_time": "2022-07-21T07:37:13.686Z"
   },
   {
    "duration": 7,
    "start_time": "2022-07-21T07:37:20.743Z"
   },
   {
    "duration": 534,
    "start_time": "2022-07-21T07:37:23.872Z"
   },
   {
    "duration": 22,
    "start_time": "2022-07-21T07:37:24.408Z"
   },
   {
    "duration": 15,
    "start_time": "2022-07-21T07:37:24.431Z"
   },
   {
    "duration": 9,
    "start_time": "2022-07-21T07:37:24.448Z"
   },
   {
    "duration": 57,
    "start_time": "2022-07-21T07:37:24.459Z"
   },
   {
    "duration": 3,
    "start_time": "2022-07-21T07:37:24.518Z"
   },
   {
    "duration": 19,
    "start_time": "2022-07-21T07:37:24.522Z"
   },
   {
    "duration": 4,
    "start_time": "2022-07-21T07:37:24.543Z"
   },
   {
    "duration": 10,
    "start_time": "2022-07-21T07:37:24.548Z"
   },
   {
    "duration": 10,
    "start_time": "2022-07-21T07:37:24.560Z"
   },
   {
    "duration": 47,
    "start_time": "2022-07-21T07:37:24.571Z"
   },
   {
    "duration": 9,
    "start_time": "2022-07-21T07:37:24.619Z"
   },
   {
    "duration": 6,
    "start_time": "2022-07-21T07:37:24.629Z"
   },
   {
    "duration": 19,
    "start_time": "2022-07-21T07:37:24.637Z"
   },
   {
    "duration": 16,
    "start_time": "2022-07-21T07:37:24.658Z"
   },
   {
    "duration": 28,
    "start_time": "2022-07-21T07:37:24.676Z"
   },
   {
    "duration": 4,
    "start_time": "2022-07-21T07:37:24.705Z"
   },
   {
    "duration": 17,
    "start_time": "2022-07-21T07:37:24.711Z"
   },
   {
    "duration": 10,
    "start_time": "2022-07-21T07:37:24.730Z"
   },
   {
    "duration": 12,
    "start_time": "2022-07-21T07:37:24.741Z"
   },
   {
    "duration": 34,
    "start_time": "2022-07-21T07:37:24.755Z"
   },
   {
    "duration": 21,
    "start_time": "2022-07-21T07:37:24.791Z"
   },
   {
    "duration": 1030,
    "start_time": "2022-07-21T07:37:24.814Z"
   },
   {
    "duration": 15,
    "start_time": "2022-07-21T07:37:25.846Z"
   },
   {
    "duration": 144,
    "start_time": "2022-07-21T07:37:25.862Z"
   },
   {
    "duration": 13,
    "start_time": "2022-07-21T07:37:26.008Z"
   },
   {
    "duration": 130,
    "start_time": "2022-07-21T07:37:26.022Z"
   },
   {
    "duration": 130,
    "start_time": "2022-07-21T07:37:55.352Z"
   },
   {
    "duration": 52,
    "start_time": "2022-07-21T09:54:30.820Z"
   },
   {
    "duration": 610,
    "start_time": "2022-07-21T09:54:34.702Z"
   },
   {
    "duration": 26,
    "start_time": "2022-07-21T09:54:35.317Z"
   },
   {
    "duration": 16,
    "start_time": "2022-07-21T09:54:35.345Z"
   },
   {
    "duration": 16,
    "start_time": "2022-07-21T09:54:35.362Z"
   },
   {
    "duration": 56,
    "start_time": "2022-07-21T09:54:35.381Z"
   },
   {
    "duration": 4,
    "start_time": "2022-07-21T09:54:35.438Z"
   },
   {
    "duration": 15,
    "start_time": "2022-07-21T09:54:35.444Z"
   },
   {
    "duration": 10,
    "start_time": "2022-07-21T09:54:35.461Z"
   },
   {
    "duration": 15,
    "start_time": "2022-07-21T09:54:35.473Z"
   },
   {
    "duration": 19,
    "start_time": "2022-07-21T09:54:35.490Z"
   },
   {
    "duration": 40,
    "start_time": "2022-07-21T09:54:35.511Z"
   },
   {
    "duration": 11,
    "start_time": "2022-07-21T09:54:35.553Z"
   },
   {
    "duration": 6,
    "start_time": "2022-07-21T09:54:35.570Z"
   },
   {
    "duration": 40,
    "start_time": "2022-07-21T09:54:35.580Z"
   },
   {
    "duration": 20,
    "start_time": "2022-07-21T09:54:35.621Z"
   },
   {
    "duration": 13,
    "start_time": "2022-07-21T09:54:35.643Z"
   },
   {
    "duration": 3,
    "start_time": "2022-07-21T09:54:35.658Z"
   },
   {
    "duration": 14,
    "start_time": "2022-07-21T09:54:35.663Z"
   },
   {
    "duration": 33,
    "start_time": "2022-07-21T09:54:35.678Z"
   },
   {
    "duration": 7,
    "start_time": "2022-07-21T09:54:35.713Z"
   },
   {
    "duration": 31,
    "start_time": "2022-07-21T09:54:35.722Z"
   },
   {
    "duration": 13,
    "start_time": "2022-07-21T09:54:35.755Z"
   },
   {
    "duration": 1179,
    "start_time": "2022-07-21T09:54:35.770Z"
   },
   {
    "duration": 15,
    "start_time": "2022-07-21T09:54:36.951Z"
   },
   {
    "duration": 155,
    "start_time": "2022-07-21T09:54:36.967Z"
   },
   {
    "duration": 13,
    "start_time": "2022-07-21T09:54:37.124Z"
   },
   {
    "duration": 145,
    "start_time": "2022-07-21T09:54:37.138Z"
   },
   {
    "duration": 13,
    "start_time": "2022-07-21T09:54:38.793Z"
   },
   {
    "duration": 137,
    "start_time": "2022-07-21T09:55:36.322Z"
   },
   {
    "duration": 123,
    "start_time": "2022-07-21T09:55:48.485Z"
   },
   {
    "duration": 78,
    "start_time": "2022-07-21T09:56:00.072Z"
   },
   {
    "duration": 18,
    "start_time": "2022-07-21T09:56:00.152Z"
   },
   {
    "duration": 28,
    "start_time": "2022-07-21T09:56:00.171Z"
   },
   {
    "duration": 47,
    "start_time": "2022-07-21T09:56:00.201Z"
   },
   {
    "duration": 41,
    "start_time": "2022-07-21T09:56:00.251Z"
   },
   {
    "duration": 4,
    "start_time": "2022-07-21T09:56:00.294Z"
   },
   {
    "duration": 35,
    "start_time": "2022-07-21T09:56:00.299Z"
   },
   {
    "duration": 15,
    "start_time": "2022-07-21T09:56:00.336Z"
   },
   {
    "duration": 23,
    "start_time": "2022-07-21T09:56:00.353Z"
   },
   {
    "duration": 16,
    "start_time": "2022-07-21T09:56:00.379Z"
   },
   {
    "duration": 65,
    "start_time": "2022-07-21T09:56:00.397Z"
   },
   {
    "duration": 12,
    "start_time": "2022-07-21T09:56:00.464Z"
   },
   {
    "duration": 38,
    "start_time": "2022-07-21T09:56:00.478Z"
   },
   {
    "duration": 45,
    "start_time": "2022-07-21T09:56:00.519Z"
   },
   {
    "duration": 23,
    "start_time": "2022-07-21T09:56:00.566Z"
   },
   {
    "duration": 15,
    "start_time": "2022-07-21T09:56:00.591Z"
   },
   {
    "duration": 22,
    "start_time": "2022-07-21T09:56:00.607Z"
   },
   {
    "duration": 29,
    "start_time": "2022-07-21T09:56:00.631Z"
   },
   {
    "duration": 12,
    "start_time": "2022-07-21T09:56:00.662Z"
   },
   {
    "duration": 7,
    "start_time": "2022-07-21T09:56:00.676Z"
   },
   {
    "duration": 39,
    "start_time": "2022-07-21T09:56:00.685Z"
   },
   {
    "duration": 15,
    "start_time": "2022-07-21T09:56:00.726Z"
   },
   {
    "duration": 148,
    "start_time": "2022-07-21T09:56:00.743Z"
   },
   {
    "duration": 26,
    "start_time": "2022-07-21T09:56:00.893Z"
   },
   {
    "duration": 152,
    "start_time": "2022-07-21T09:56:00.921Z"
   },
   {
    "duration": 16,
    "start_time": "2022-07-21T09:56:01.075Z"
   },
   {
    "duration": 138,
    "start_time": "2022-07-21T09:56:01.093Z"
   },
   {
    "duration": 14,
    "start_time": "2022-07-21T09:56:01.233Z"
   },
   {
    "duration": 144,
    "start_time": "2022-07-21T09:56:01.248Z"
   },
   {
    "duration": 224,
    "start_time": "2022-07-21T09:56:07.173Z"
   },
   {
    "duration": 139,
    "start_time": "2022-07-21T09:56:49.853Z"
   },
   {
    "duration": 468,
    "start_time": "2022-07-21T10:25:28.223Z"
   },
   {
    "duration": 69,
    "start_time": "2022-07-21T10:25:36.301Z"
   },
   {
    "duration": 10,
    "start_time": "2022-07-21T10:25:50.854Z"
   },
   {
    "duration": 401,
    "start_time": "2022-07-21T10:27:40.609Z"
   },
   {
    "duration": 390,
    "start_time": "2022-07-21T10:27:54.430Z"
   },
   {
    "duration": 404,
    "start_time": "2022-07-21T10:29:14.036Z"
   },
   {
    "duration": 390,
    "start_time": "2022-07-21T10:29:26.619Z"
   },
   {
    "duration": 354,
    "start_time": "2022-07-21T10:29:45.057Z"
   },
   {
    "duration": 221,
    "start_time": "2022-07-21T10:30:00.196Z"
   },
   {
    "duration": 210,
    "start_time": "2022-07-21T10:30:16.439Z"
   },
   {
    "duration": 77,
    "start_time": "2022-07-21T10:32:28.119Z"
   },
   {
    "duration": 73,
    "start_time": "2022-07-21T10:32:42.260Z"
   },
   {
    "duration": 90,
    "start_time": "2022-07-21T10:32:51.002Z"
   },
   {
    "duration": 333,
    "start_time": "2022-07-21T10:33:18.198Z"
   },
   {
    "duration": 81,
    "start_time": "2022-07-21T10:33:55.879Z"
   },
   {
    "duration": 78,
    "start_time": "2022-07-21T10:34:08.152Z"
   },
   {
    "duration": 76,
    "start_time": "2022-07-21T10:34:18.659Z"
   },
   {
    "duration": 78,
    "start_time": "2022-07-21T10:34:24.309Z"
   },
   {
    "duration": 19,
    "start_time": "2022-07-21T10:34:24.389Z"
   },
   {
    "duration": 30,
    "start_time": "2022-07-21T10:34:24.411Z"
   },
   {
    "duration": 12,
    "start_time": "2022-07-21T10:34:24.443Z"
   },
   {
    "duration": 73,
    "start_time": "2022-07-21T10:34:24.458Z"
   },
   {
    "duration": 3,
    "start_time": "2022-07-21T10:34:24.533Z"
   },
   {
    "duration": 11,
    "start_time": "2022-07-21T10:34:24.538Z"
   },
   {
    "duration": 6,
    "start_time": "2022-07-21T10:34:24.551Z"
   },
   {
    "duration": 8,
    "start_time": "2022-07-21T10:34:24.558Z"
   },
   {
    "duration": 6,
    "start_time": "2022-07-21T10:34:24.568Z"
   },
   {
    "duration": 45,
    "start_time": "2022-07-21T10:34:24.611Z"
   },
   {
    "duration": 11,
    "start_time": "2022-07-21T10:34:24.658Z"
   },
   {
    "duration": 32,
    "start_time": "2022-07-21T10:34:24.670Z"
   },
   {
    "duration": 42,
    "start_time": "2022-07-21T10:34:24.705Z"
   },
   {
    "duration": 19,
    "start_time": "2022-07-21T10:34:24.749Z"
   },
   {
    "duration": 12,
    "start_time": "2022-07-21T10:34:24.770Z"
   },
   {
    "duration": 34,
    "start_time": "2022-07-21T10:34:24.784Z"
   },
   {
    "duration": 45,
    "start_time": "2022-07-21T10:34:24.820Z"
   },
   {
    "duration": 24,
    "start_time": "2022-07-21T10:34:24.867Z"
   },
   {
    "duration": 14,
    "start_time": "2022-07-21T10:34:24.893Z"
   },
   {
    "duration": 45,
    "start_time": "2022-07-21T10:34:24.909Z"
   },
   {
    "duration": 32,
    "start_time": "2022-07-21T10:34:24.955Z"
   },
   {
    "duration": 180,
    "start_time": "2022-07-21T10:34:24.989Z"
   },
   {
    "duration": 17,
    "start_time": "2022-07-21T10:34:25.171Z"
   },
   {
    "duration": 180,
    "start_time": "2022-07-21T10:34:25.190Z"
   },
   {
    "duration": 16,
    "start_time": "2022-07-21T10:34:25.373Z"
   },
   {
    "duration": 163,
    "start_time": "2022-07-21T10:34:25.391Z"
   },
   {
    "duration": 20,
    "start_time": "2022-07-21T10:34:25.557Z"
   },
   {
    "duration": 167,
    "start_time": "2022-07-21T10:34:25.579Z"
   },
   {
    "duration": 76,
    "start_time": "2022-07-21T10:34:27.157Z"
   },
   {
    "duration": 88,
    "start_time": "2022-07-21T10:34:36.327Z"
   },
   {
    "duration": 17,
    "start_time": "2022-07-21T10:34:36.418Z"
   },
   {
    "duration": 36,
    "start_time": "2022-07-21T10:34:36.437Z"
   },
   {
    "duration": 14,
    "start_time": "2022-07-21T10:34:36.475Z"
   },
   {
    "duration": 44,
    "start_time": "2022-07-21T10:34:36.492Z"
   },
   {
    "duration": 4,
    "start_time": "2022-07-21T10:34:36.537Z"
   },
   {
    "duration": 11,
    "start_time": "2022-07-21T10:34:36.543Z"
   },
   {
    "duration": 6,
    "start_time": "2022-07-21T10:34:36.556Z"
   },
   {
    "duration": 14,
    "start_time": "2022-07-21T10:34:36.563Z"
   },
   {
    "duration": 10,
    "start_time": "2022-07-21T10:34:36.579Z"
   },
   {
    "duration": 37,
    "start_time": "2022-07-21T10:34:36.610Z"
   },
   {
    "duration": 11,
    "start_time": "2022-07-21T10:34:36.649Z"
   },
   {
    "duration": 17,
    "start_time": "2022-07-21T10:34:36.662Z"
   },
   {
    "duration": 32,
    "start_time": "2022-07-21T10:34:36.682Z"
   },
   {
    "duration": 20,
    "start_time": "2022-07-21T10:34:36.715Z"
   },
   {
    "duration": 13,
    "start_time": "2022-07-21T10:34:36.737Z"
   },
   {
    "duration": 13,
    "start_time": "2022-07-21T10:34:36.752Z"
   },
   {
    "duration": 15,
    "start_time": "2022-07-21T10:34:36.767Z"
   },
   {
    "duration": 29,
    "start_time": "2022-07-21T10:34:36.784Z"
   },
   {
    "duration": 4,
    "start_time": "2022-07-21T10:34:36.815Z"
   },
   {
    "duration": 40,
    "start_time": "2022-07-21T10:34:36.821Z"
   },
   {
    "duration": 15,
    "start_time": "2022-07-21T10:34:36.863Z"
   },
   {
    "duration": 175,
    "start_time": "2022-07-21T10:34:36.880Z"
   },
   {
    "duration": 16,
    "start_time": "2022-07-21T10:34:37.057Z"
   },
   {
    "duration": 159,
    "start_time": "2022-07-21T10:34:37.075Z"
   },
   {
    "duration": 15,
    "start_time": "2022-07-21T10:34:37.235Z"
   },
   {
    "duration": 143,
    "start_time": "2022-07-21T10:34:37.251Z"
   },
   {
    "duration": 26,
    "start_time": "2022-07-21T10:34:37.396Z"
   },
   {
    "duration": 143,
    "start_time": "2022-07-21T10:34:37.423Z"
   },
   {
    "duration": 78,
    "start_time": "2022-07-21T10:34:37.567Z"
   },
   {
    "duration": 538,
    "start_time": "2022-07-21T10:34:45.383Z"
   },
   {
    "duration": 25,
    "start_time": "2022-07-21T10:34:45.924Z"
   },
   {
    "duration": 18,
    "start_time": "2022-07-21T10:34:45.950Z"
   },
   {
    "duration": 12,
    "start_time": "2022-07-21T10:34:45.969Z"
   },
   {
    "duration": 58,
    "start_time": "2022-07-21T10:34:45.984Z"
   },
   {
    "duration": 3,
    "start_time": "2022-07-21T10:34:46.044Z"
   },
   {
    "duration": 12,
    "start_time": "2022-07-21T10:34:46.049Z"
   },
   {
    "duration": 5,
    "start_time": "2022-07-21T10:34:46.063Z"
   },
   {
    "duration": 42,
    "start_time": "2022-07-21T10:34:46.069Z"
   },
   {
    "duration": 5,
    "start_time": "2022-07-21T10:34:46.112Z"
   },
   {
    "duration": 45,
    "start_time": "2022-07-21T10:34:46.119Z"
   },
   {
    "duration": 16,
    "start_time": "2022-07-21T10:34:46.166Z"
   },
   {
    "duration": 8,
    "start_time": "2022-07-21T10:34:46.185Z"
   },
   {
    "duration": 30,
    "start_time": "2022-07-21T10:34:46.212Z"
   },
   {
    "duration": 21,
    "start_time": "2022-07-21T10:34:46.244Z"
   },
   {
    "duration": 12,
    "start_time": "2022-07-21T10:34:46.267Z"
   },
   {
    "duration": 30,
    "start_time": "2022-07-21T10:34:46.281Z"
   },
   {
    "duration": 17,
    "start_time": "2022-07-21T10:34:46.313Z"
   },
   {
    "duration": 9,
    "start_time": "2022-07-21T10:34:46.332Z"
   },
   {
    "duration": 3,
    "start_time": "2022-07-21T10:34:46.343Z"
   },
   {
    "duration": 29,
    "start_time": "2022-07-21T10:34:46.348Z"
   },
   {
    "duration": 34,
    "start_time": "2022-07-21T10:34:46.379Z"
   },
   {
    "duration": 903,
    "start_time": "2022-07-21T10:34:46.415Z"
   },
   {
    "duration": 15,
    "start_time": "2022-07-21T10:34:47.320Z"
   },
   {
    "duration": 155,
    "start_time": "2022-07-21T10:34:47.337Z"
   },
   {
    "duration": 20,
    "start_time": "2022-07-21T10:34:47.494Z"
   },
   {
    "duration": 135,
    "start_time": "2022-07-21T10:34:47.516Z"
   },
   {
    "duration": 15,
    "start_time": "2022-07-21T10:34:47.653Z"
   },
   {
    "duration": 145,
    "start_time": "2022-07-21T10:34:47.670Z"
   },
   {
    "duration": 84,
    "start_time": "2022-07-21T10:34:47.818Z"
   },
   {
    "duration": 980,
    "start_time": "2022-07-21T10:35:03.722Z"
   },
   {
    "duration": 352,
    "start_time": "2022-07-21T10:35:15.831Z"
   },
   {
    "duration": 249,
    "start_time": "2022-07-21T10:35:32.039Z"
   },
   {
    "duration": 214,
    "start_time": "2022-07-21T10:36:13.370Z"
   },
   {
    "duration": 220,
    "start_time": "2022-07-21T10:36:19.610Z"
   },
   {
    "duration": 633,
    "start_time": "2022-07-21T10:37:10.111Z"
   },
   {
    "duration": 209,
    "start_time": "2022-07-21T10:37:34.142Z"
   },
   {
    "duration": 707,
    "start_time": "2022-07-21T10:38:15.913Z"
   },
   {
    "duration": 213,
    "start_time": "2022-07-21T10:45:50.861Z"
   },
   {
    "duration": 348,
    "start_time": "2022-07-21T10:45:59.340Z"
   },
   {
    "duration": 216,
    "start_time": "2022-07-21T10:46:14.411Z"
   },
   {
    "duration": 204,
    "start_time": "2022-07-21T10:47:43.201Z"
   },
   {
    "duration": 205,
    "start_time": "2022-07-21T10:48:10.569Z"
   },
   {
    "duration": 207,
    "start_time": "2022-07-21T10:48:17.333Z"
   },
   {
    "duration": 235,
    "start_time": "2022-07-21T10:49:50.214Z"
   },
   {
    "duration": 295,
    "start_time": "2022-07-21T10:50:46.611Z"
   },
   {
    "duration": 282,
    "start_time": "2022-07-21T10:51:05.890Z"
   },
   {
    "duration": 368,
    "start_time": "2022-07-21T10:52:07.516Z"
   },
   {
    "duration": 8,
    "start_time": "2022-07-21T10:54:37.150Z"
   },
   {
    "duration": 127,
    "start_time": "2022-07-21T11:07:50.073Z"
   },
   {
    "duration": 123,
    "start_time": "2022-07-21T11:07:59.468Z"
   },
   {
    "duration": 132,
    "start_time": "2022-07-21T11:08:07.566Z"
   },
   {
    "duration": 128,
    "start_time": "2022-07-21T11:08:20.643Z"
   },
   {
    "duration": 515,
    "start_time": "2022-07-21T11:15:05.030Z"
   },
   {
    "duration": 31,
    "start_time": "2022-07-21T11:15:05.547Z"
   },
   {
    "duration": 23,
    "start_time": "2022-07-21T11:15:05.579Z"
   },
   {
    "duration": 13,
    "start_time": "2022-07-21T11:15:05.611Z"
   },
   {
    "duration": 46,
    "start_time": "2022-07-21T11:15:05.625Z"
   },
   {
    "duration": 4,
    "start_time": "2022-07-21T11:15:05.673Z"
   },
   {
    "duration": 14,
    "start_time": "2022-07-21T11:15:05.679Z"
   },
   {
    "duration": 6,
    "start_time": "2022-07-21T11:15:05.710Z"
   },
   {
    "duration": 15,
    "start_time": "2022-07-21T11:15:05.718Z"
   },
   {
    "duration": 6,
    "start_time": "2022-07-21T11:15:05.737Z"
   },
   {
    "duration": 81,
    "start_time": "2022-07-21T11:15:05.745Z"
   },
   {
    "duration": 16,
    "start_time": "2022-07-21T11:15:05.829Z"
   },
   {
    "duration": 20,
    "start_time": "2022-07-21T11:15:05.847Z"
   },
   {
    "duration": 28,
    "start_time": "2022-07-21T11:15:05.870Z"
   },
   {
    "duration": 19,
    "start_time": "2022-07-21T11:15:05.899Z"
   },
   {
    "duration": 12,
    "start_time": "2022-07-21T11:15:05.920Z"
   },
   {
    "duration": 8,
    "start_time": "2022-07-21T11:15:05.934Z"
   },
   {
    "duration": 26,
    "start_time": "2022-07-21T11:15:05.943Z"
   },
   {
    "duration": 16,
    "start_time": "2022-07-21T11:15:05.971Z"
   },
   {
    "duration": 4,
    "start_time": "2022-07-21T11:15:05.989Z"
   },
   {
    "duration": 31,
    "start_time": "2022-07-21T11:15:06.011Z"
   },
   {
    "duration": 25,
    "start_time": "2022-07-21T11:15:06.044Z"
   },
   {
    "duration": 958,
    "start_time": "2022-07-21T11:15:06.071Z"
   },
   {
    "duration": 17,
    "start_time": "2022-07-21T11:15:07.031Z"
   },
   {
    "duration": 186,
    "start_time": "2022-07-21T11:15:07.050Z"
   },
   {
    "duration": 21,
    "start_time": "2022-07-21T11:15:07.239Z"
   },
   {
    "duration": 172,
    "start_time": "2022-07-21T11:15:07.263Z"
   },
   {
    "duration": 23,
    "start_time": "2022-07-21T11:15:07.440Z"
   },
   {
    "duration": 150,
    "start_time": "2022-07-21T11:15:07.465Z"
   },
   {
    "duration": 384,
    "start_time": "2022-07-21T11:15:07.617Z"
   },
   {
    "duration": 13,
    "start_time": "2022-07-21T11:15:08.002Z"
   },
   {
    "duration": 52,
    "start_time": "2022-07-22T11:32:41.651Z"
   },
   {
    "duration": 512,
    "start_time": "2022-07-22T11:32:50.270Z"
   },
   {
    "duration": 23,
    "start_time": "2022-07-22T11:32:50.784Z"
   },
   {
    "duration": 16,
    "start_time": "2022-07-22T11:32:50.808Z"
   },
   {
    "duration": 9,
    "start_time": "2022-07-22T11:32:50.826Z"
   },
   {
    "duration": 41,
    "start_time": "2022-07-22T11:32:50.837Z"
   },
   {
    "duration": 4,
    "start_time": "2022-07-22T11:32:50.879Z"
   },
   {
    "duration": 11,
    "start_time": "2022-07-22T11:32:50.885Z"
   },
   {
    "duration": 4,
    "start_time": "2022-07-22T11:32:50.897Z"
   },
   {
    "duration": 11,
    "start_time": "2022-07-22T11:32:50.903Z"
   },
   {
    "duration": 4,
    "start_time": "2022-07-22T11:32:50.915Z"
   },
   {
    "duration": 67,
    "start_time": "2022-07-22T11:32:50.920Z"
   },
   {
    "duration": 11,
    "start_time": "2022-07-22T11:32:50.988Z"
   },
   {
    "duration": 9,
    "start_time": "2022-07-22T11:32:51.001Z"
   },
   {
    "duration": 34,
    "start_time": "2022-07-22T11:32:51.013Z"
   },
   {
    "duration": 20,
    "start_time": "2022-07-22T11:32:51.049Z"
   },
   {
    "duration": 17,
    "start_time": "2022-07-22T11:32:51.071Z"
   },
   {
    "duration": 14,
    "start_time": "2022-07-22T11:32:51.090Z"
   },
   {
    "duration": 22,
    "start_time": "2022-07-22T11:32:51.106Z"
   },
   {
    "duration": 18,
    "start_time": "2022-07-22T11:32:51.130Z"
   },
   {
    "duration": 10,
    "start_time": "2022-07-22T11:32:51.150Z"
   },
   {
    "duration": 37,
    "start_time": "2022-07-22T11:32:51.162Z"
   },
   {
    "duration": 45,
    "start_time": "2022-07-22T11:32:54.855Z"
   },
   {
    "duration": 57,
    "start_time": "2022-07-22T11:33:03.278Z"
   },
   {
    "duration": 24,
    "start_time": "2022-07-22T11:33:59.813Z"
   },
   {
    "duration": 23,
    "start_time": "2022-07-22T11:37:49.277Z"
   },
   {
    "duration": 890,
    "start_time": "2022-07-22T11:38:44.969Z"
   },
   {
    "duration": 14,
    "start_time": "2022-07-22T11:38:45.861Z"
   },
   {
    "duration": 16,
    "start_time": "2022-07-22T11:38:45.876Z"
   },
   {
    "duration": 9,
    "start_time": "2022-07-22T11:38:45.894Z"
   },
   {
    "duration": 31,
    "start_time": "2022-07-22T11:38:45.904Z"
   },
   {
    "duration": 4,
    "start_time": "2022-07-22T11:38:45.951Z"
   },
   {
    "duration": 10,
    "start_time": "2022-07-22T11:38:45.956Z"
   },
   {
    "duration": 4,
    "start_time": "2022-07-22T11:38:45.968Z"
   },
   {
    "duration": 5,
    "start_time": "2022-07-22T11:38:45.973Z"
   },
   {
    "duration": 4,
    "start_time": "2022-07-22T11:38:45.981Z"
   },
   {
    "duration": 36,
    "start_time": "2022-07-22T11:38:45.986Z"
   },
   {
    "duration": 40,
    "start_time": "2022-07-22T11:38:46.024Z"
   },
   {
    "duration": 7,
    "start_time": "2022-07-22T11:38:46.065Z"
   },
   {
    "duration": 24,
    "start_time": "2022-07-22T11:38:46.074Z"
   },
   {
    "duration": 17,
    "start_time": "2022-07-22T11:38:46.100Z"
   },
   {
    "duration": 12,
    "start_time": "2022-07-22T11:38:46.119Z"
   },
   {
    "duration": 28,
    "start_time": "2022-07-22T11:38:46.133Z"
   },
   {
    "duration": 22,
    "start_time": "2022-07-22T11:38:46.163Z"
   },
   {
    "duration": 10,
    "start_time": "2022-07-22T11:38:46.187Z"
   },
   {
    "duration": 4,
    "start_time": "2022-07-22T11:38:46.198Z"
   },
   {
    "duration": 23,
    "start_time": "2022-07-22T11:38:46.203Z"
   },
   {
    "duration": 25,
    "start_time": "2022-07-22T11:38:47.978Z"
   },
   {
    "duration": 1576,
    "start_time": "2022-07-22T11:39:20.280Z"
   },
   {
    "duration": 484,
    "start_time": "2022-07-22T11:42:51.958Z"
   },
   {
    "duration": 22,
    "start_time": "2022-07-22T11:44:34.362Z"
   },
   {
    "duration": 104,
    "start_time": "2022-07-22T12:47:06.168Z"
   },
   {
    "duration": 24,
    "start_time": "2022-07-22T12:47:14.970Z"
   },
   {
    "duration": 25,
    "start_time": "2022-07-22T12:48:42.029Z"
   },
   {
    "duration": 65,
    "start_time": "2022-07-22T12:48:49.432Z"
   },
   {
    "duration": 15,
    "start_time": "2022-07-22T12:48:49.499Z"
   },
   {
    "duration": 27,
    "start_time": "2022-07-22T12:48:49.516Z"
   },
   {
    "duration": 10,
    "start_time": "2022-07-22T12:48:49.545Z"
   },
   {
    "duration": 42,
    "start_time": "2022-07-22T12:48:49.556Z"
   },
   {
    "duration": 3,
    "start_time": "2022-07-22T12:48:49.600Z"
   },
   {
    "duration": 19,
    "start_time": "2022-07-22T12:48:49.605Z"
   },
   {
    "duration": 9,
    "start_time": "2022-07-22T12:48:49.626Z"
   },
   {
    "duration": 15,
    "start_time": "2022-07-22T12:48:49.637Z"
   },
   {
    "duration": 5,
    "start_time": "2022-07-22T12:48:49.655Z"
   },
   {
    "duration": 46,
    "start_time": "2022-07-22T12:48:49.662Z"
   },
   {
    "duration": 12,
    "start_time": "2022-07-22T12:48:49.710Z"
   },
   {
    "duration": 10,
    "start_time": "2022-07-22T12:48:49.724Z"
   },
   {
    "duration": 31,
    "start_time": "2022-07-22T12:48:49.736Z"
   },
   {
    "duration": 22,
    "start_time": "2022-07-22T12:48:49.769Z"
   },
   {
    "duration": 12,
    "start_time": "2022-07-22T12:48:49.793Z"
   },
   {
    "duration": 14,
    "start_time": "2022-07-22T12:48:49.806Z"
   },
   {
    "duration": 20,
    "start_time": "2022-07-22T12:48:49.821Z"
   },
   {
    "duration": 13,
    "start_time": "2022-07-22T12:48:49.843Z"
   },
   {
    "duration": 19,
    "start_time": "2022-07-22T12:48:49.857Z"
   },
   {
    "duration": 29,
    "start_time": "2022-07-22T12:48:49.878Z"
   },
   {
    "duration": 39,
    "start_time": "2022-07-22T12:48:52.051Z"
   },
   {
    "duration": 1241,
    "start_time": "2022-07-22T12:49:18.290Z"
   },
   {
    "duration": 18,
    "start_time": "2022-07-22T12:49:19.534Z"
   },
   {
    "duration": 42,
    "start_time": "2022-07-22T12:49:19.554Z"
   },
   {
    "duration": 13,
    "start_time": "2022-07-22T12:49:19.598Z"
   },
   {
    "duration": 39,
    "start_time": "2022-07-22T12:49:19.614Z"
   },
   {
    "duration": 22,
    "start_time": "2022-07-22T12:49:19.655Z"
   },
   {
    "duration": 41,
    "start_time": "2022-07-22T12:49:19.678Z"
   },
   {
    "duration": 25,
    "start_time": "2022-07-22T12:49:19.721Z"
   },
   {
    "duration": 54,
    "start_time": "2022-07-22T12:49:19.747Z"
   },
   {
    "duration": 32,
    "start_time": "2022-07-22T12:49:19.803Z"
   },
   {
    "duration": 62,
    "start_time": "2022-07-22T12:49:19.837Z"
   },
   {
    "duration": 14,
    "start_time": "2022-07-22T12:49:19.900Z"
   },
   {
    "duration": 23,
    "start_time": "2022-07-22T12:49:19.916Z"
   },
   {
    "duration": 50,
    "start_time": "2022-07-22T12:49:19.943Z"
   },
   {
    "duration": 21,
    "start_time": "2022-07-22T12:49:19.996Z"
   },
   {
    "duration": 11,
    "start_time": "2022-07-22T12:49:20.019Z"
   },
   {
    "duration": 44,
    "start_time": "2022-07-22T12:49:20.031Z"
   },
   {
    "duration": 17,
    "start_time": "2022-07-22T12:49:20.076Z"
   },
   {
    "duration": 22,
    "start_time": "2022-07-22T12:49:20.095Z"
   },
   {
    "duration": 19,
    "start_time": "2022-07-22T12:49:20.119Z"
   },
   {
    "duration": 57,
    "start_time": "2022-07-22T12:49:20.140Z"
   },
   {
    "duration": 141,
    "start_time": "2022-07-22T12:49:23.835Z"
   },
   {
    "duration": 25,
    "start_time": "2022-07-22T12:49:52.119Z"
   },
   {
    "duration": 34,
    "start_time": "2022-07-22T12:50:06.345Z"
   },
   {
    "duration": 156,
    "start_time": "2022-07-22T12:50:31.739Z"
   },
   {
    "duration": 11,
    "start_time": "2022-07-22T13:19:30.002Z"
   },
   {
    "duration": 346,
    "start_time": "2022-07-22T13:19:46.591Z"
   },
   {
    "duration": 343,
    "start_time": "2022-07-22T13:19:53.247Z"
   },
   {
    "duration": 72,
    "start_time": "2022-07-22T13:20:02.855Z"
   },
   {
    "duration": 14,
    "start_time": "2022-07-22T13:20:02.929Z"
   },
   {
    "duration": 15,
    "start_time": "2022-07-22T13:20:02.944Z"
   },
   {
    "duration": 8,
    "start_time": "2022-07-22T13:20:02.961Z"
   },
   {
    "duration": 28,
    "start_time": "2022-07-22T13:20:02.971Z"
   },
   {
    "duration": 3,
    "start_time": "2022-07-22T13:20:03.000Z"
   },
   {
    "duration": 10,
    "start_time": "2022-07-22T13:20:03.004Z"
   },
   {
    "duration": 5,
    "start_time": "2022-07-22T13:20:03.015Z"
   },
   {
    "duration": 31,
    "start_time": "2022-07-22T13:20:03.021Z"
   },
   {
    "duration": 4,
    "start_time": "2022-07-22T13:20:03.054Z"
   },
   {
    "duration": 29,
    "start_time": "2022-07-22T13:20:03.059Z"
   },
   {
    "duration": 7,
    "start_time": "2022-07-22T13:20:03.090Z"
   },
   {
    "duration": 5,
    "start_time": "2022-07-22T13:20:03.098Z"
   },
   {
    "duration": 19,
    "start_time": "2022-07-22T13:20:03.105Z"
   },
   {
    "duration": 36,
    "start_time": "2022-07-22T13:20:03.126Z"
   },
   {
    "duration": 9,
    "start_time": "2022-07-22T13:20:03.164Z"
   },
   {
    "duration": 6,
    "start_time": "2022-07-22T13:20:03.174Z"
   },
   {
    "duration": 12,
    "start_time": "2022-07-22T13:20:03.181Z"
   },
   {
    "duration": 7,
    "start_time": "2022-07-22T13:20:03.194Z"
   },
   {
    "duration": 6,
    "start_time": "2022-07-22T13:20:03.202Z"
   },
   {
    "duration": 30,
    "start_time": "2022-07-22T13:20:03.209Z"
   },
   {
    "duration": 929,
    "start_time": "2022-07-22T13:20:05.092Z"
   },
   {
    "duration": 405,
    "start_time": "2022-07-22T13:21:49.498Z"
   },
   {
    "duration": 356,
    "start_time": "2022-07-22T13:22:55.699Z"
   },
   {
    "duration": 1159,
    "start_time": "2022-07-22T13:30:17.105Z"
   },
   {
    "duration": 24,
    "start_time": "2022-07-22T13:30:18.267Z"
   },
   {
    "duration": 21,
    "start_time": "2022-07-22T13:30:18.293Z"
   },
   {
    "duration": 18,
    "start_time": "2022-07-22T13:30:18.317Z"
   },
   {
    "duration": 49,
    "start_time": "2022-07-22T13:30:18.352Z"
   },
   {
    "duration": 3,
    "start_time": "2022-07-22T13:30:18.404Z"
   },
   {
    "duration": 15,
    "start_time": "2022-07-22T13:30:18.409Z"
   },
   {
    "duration": 28,
    "start_time": "2022-07-22T13:30:18.426Z"
   },
   {
    "duration": 9,
    "start_time": "2022-07-22T13:30:18.456Z"
   },
   {
    "duration": 16,
    "start_time": "2022-07-22T13:30:18.467Z"
   },
   {
    "duration": 58,
    "start_time": "2022-07-22T13:30:18.485Z"
   },
   {
    "duration": 17,
    "start_time": "2022-07-22T13:30:18.545Z"
   },
   {
    "duration": 6,
    "start_time": "2022-07-22T13:30:18.564Z"
   },
   {
    "duration": 26,
    "start_time": "2022-07-22T13:30:18.573Z"
   },
   {
    "duration": 19,
    "start_time": "2022-07-22T13:30:18.602Z"
   },
   {
    "duration": 36,
    "start_time": "2022-07-22T13:30:18.623Z"
   },
   {
    "duration": 5,
    "start_time": "2022-07-22T13:30:18.662Z"
   },
   {
    "duration": 22,
    "start_time": "2022-07-22T13:30:18.668Z"
   },
   {
    "duration": 8,
    "start_time": "2022-07-22T13:30:18.692Z"
   },
   {
    "duration": 5,
    "start_time": "2022-07-22T13:30:18.702Z"
   },
   {
    "duration": 51,
    "start_time": "2022-07-22T13:30:18.709Z"
   },
   {
    "duration": 112,
    "start_time": "2022-07-22T13:30:18.762Z"
   },
   {
    "duration": 93,
    "start_time": "2022-07-22T13:30:58.869Z"
   },
   {
    "duration": 79,
    "start_time": "2022-07-22T13:31:15.622Z"
   },
   {
    "duration": 109,
    "start_time": "2022-07-22T13:31:45.368Z"
   },
   {
    "duration": 106,
    "start_time": "2022-07-22T13:32:08.612Z"
   },
   {
    "duration": 82,
    "start_time": "2022-07-22T13:32:49.790Z"
   },
   {
    "duration": 76,
    "start_time": "2022-07-22T13:33:00.867Z"
   },
   {
    "duration": 139,
    "start_time": "2022-07-22T13:33:45.955Z"
   },
   {
    "duration": 29,
    "start_time": "2022-07-22T13:34:38.387Z"
   },
   {
    "duration": 28,
    "start_time": "2022-07-22T13:34:44.743Z"
   },
   {
    "duration": 26,
    "start_time": "2022-07-22T13:35:18.994Z"
   },
   {
    "duration": 24,
    "start_time": "2022-07-22T13:35:30.167Z"
   },
   {
    "duration": 133,
    "start_time": "2022-07-22T13:35:39.267Z"
   },
   {
    "duration": 31,
    "start_time": "2022-07-22T13:36:35.858Z"
   },
   {
    "duration": 1525,
    "start_time": "2022-07-22T13:37:14.871Z"
   },
   {
    "duration": 128,
    "start_time": "2022-07-22T13:37:31.063Z"
   },
   {
    "duration": 9,
    "start_time": "2022-07-22T13:39:58.076Z"
   },
   {
    "duration": 123,
    "start_time": "2022-07-22T13:40:50.936Z"
   },
   {
    "duration": 131,
    "start_time": "2022-07-22T13:42:56.872Z"
   },
   {
    "duration": 42,
    "start_time": "2022-07-22T13:44:05.863Z"
   },
   {
    "duration": 119,
    "start_time": "2022-07-22T13:44:50.154Z"
   },
   {
    "duration": 37,
    "start_time": "2022-07-22T13:45:38.279Z"
   },
   {
    "duration": 30,
    "start_time": "2022-07-22T13:45:47.586Z"
   },
   {
    "duration": 117,
    "start_time": "2022-07-22T13:46:14.057Z"
   },
   {
    "duration": 1546,
    "start_time": "2022-07-22T13:59:20.218Z"
   },
   {
    "duration": 1564,
    "start_time": "2022-07-22T13:59:22.389Z"
   },
   {
    "duration": 307,
    "start_time": "2022-07-22T13:59:35.398Z"
   },
   {
    "duration": 296,
    "start_time": "2022-07-22T14:00:12.721Z"
   },
   {
    "duration": 306,
    "start_time": "2022-07-22T14:00:18.363Z"
   },
   {
    "duration": 320,
    "start_time": "2022-07-22T14:00:43.768Z"
   },
   {
    "duration": 374,
    "start_time": "2022-07-22T14:01:24.009Z"
   },
   {
    "duration": 330,
    "start_time": "2022-07-22T14:02:23.214Z"
   },
   {
    "duration": 7,
    "start_time": "2022-07-22T14:02:27.717Z"
   },
   {
    "duration": 290,
    "start_time": "2022-07-22T14:03:06.281Z"
   },
   {
    "duration": 290,
    "start_time": "2022-07-22T14:03:18.378Z"
   },
   {
    "duration": 8,
    "start_time": "2022-07-22T14:03:22.187Z"
   },
   {
    "duration": 358,
    "start_time": "2022-07-22T14:03:23.969Z"
   },
   {
    "duration": 350,
    "start_time": "2022-07-22T14:03:39.602Z"
   },
   {
    "duration": 1375,
    "start_time": "2022-07-22T14:41:23.330Z"
   },
   {
    "duration": 21,
    "start_time": "2022-07-22T14:41:24.708Z"
   },
   {
    "duration": 26,
    "start_time": "2022-07-22T14:41:24.731Z"
   },
   {
    "duration": 26,
    "start_time": "2022-07-22T14:41:24.760Z"
   },
   {
    "duration": 50,
    "start_time": "2022-07-22T14:41:24.788Z"
   },
   {
    "duration": 3,
    "start_time": "2022-07-22T14:41:24.840Z"
   },
   {
    "duration": 45,
    "start_time": "2022-07-22T14:41:24.845Z"
   },
   {
    "duration": 4,
    "start_time": "2022-07-22T14:41:24.892Z"
   },
   {
    "duration": 8,
    "start_time": "2022-07-22T14:41:24.898Z"
   },
   {
    "duration": 5,
    "start_time": "2022-07-22T14:41:24.908Z"
   },
   {
    "duration": 37,
    "start_time": "2022-07-22T14:41:24.914Z"
   },
   {
    "duration": 14,
    "start_time": "2022-07-22T14:41:24.959Z"
   },
   {
    "duration": 28,
    "start_time": "2022-07-22T14:41:24.975Z"
   },
   {
    "duration": 27,
    "start_time": "2022-07-22T14:41:25.007Z"
   },
   {
    "duration": 41,
    "start_time": "2022-07-22T14:41:25.036Z"
   },
   {
    "duration": 14,
    "start_time": "2022-07-22T14:41:25.082Z"
   },
   {
    "duration": 10,
    "start_time": "2022-07-22T14:41:25.098Z"
   },
   {
    "duration": 16,
    "start_time": "2022-07-22T14:41:25.111Z"
   },
   {
    "duration": 16,
    "start_time": "2022-07-22T14:41:25.129Z"
   },
   {
    "duration": 27,
    "start_time": "2022-07-22T14:41:25.146Z"
   },
   {
    "duration": 36,
    "start_time": "2022-07-22T14:41:25.179Z"
   },
   {
    "duration": 32,
    "start_time": "2022-07-22T14:41:25.217Z"
   },
   {
    "duration": 187,
    "start_time": "2022-07-22T14:41:25.251Z"
   },
   {
    "duration": 52,
    "start_time": "2022-07-22T14:41:25.440Z"
   },
   {
    "duration": 183,
    "start_time": "2022-07-22T14:41:25.495Z"
   },
   {
    "duration": 36,
    "start_time": "2022-07-22T14:41:25.681Z"
   },
   {
    "duration": 173,
    "start_time": "2022-07-22T14:41:25.719Z"
   },
   {
    "duration": 42,
    "start_time": "2022-07-22T14:41:25.894Z"
   },
   {
    "duration": 194,
    "start_time": "2022-07-22T14:41:25.937Z"
   },
   {
    "duration": 479,
    "start_time": "2022-07-22T14:41:26.133Z"
   },
   {
    "duration": 6,
    "start_time": "2022-07-22T14:41:26.614Z"
   },
   {
    "duration": 487,
    "start_time": "2022-07-22T14:41:26.622Z"
   },
   {
    "duration": 108,
    "start_time": "2022-07-22T14:45:30.590Z"
   },
   {
    "duration": 29,
    "start_time": "2022-07-22T14:45:52.160Z"
   },
   {
    "duration": 1171,
    "start_time": "2022-07-22T14:47:57.122Z"
   },
   {
    "duration": 106,
    "start_time": "2022-07-22T14:48:10.478Z"
   },
   {
    "duration": 1325,
    "start_time": "2022-07-22T14:57:45.822Z"
   },
   {
    "duration": 19,
    "start_time": "2022-07-22T14:57:47.149Z"
   },
   {
    "duration": 19,
    "start_time": "2022-07-22T14:57:47.170Z"
   },
   {
    "duration": 12,
    "start_time": "2022-07-22T14:57:47.192Z"
   },
   {
    "duration": 59,
    "start_time": "2022-07-22T14:57:47.206Z"
   },
   {
    "duration": 3,
    "start_time": "2022-07-22T14:57:47.267Z"
   },
   {
    "duration": 9,
    "start_time": "2022-07-22T14:57:47.272Z"
   },
   {
    "duration": 4,
    "start_time": "2022-07-22T14:57:47.283Z"
   },
   {
    "duration": 7,
    "start_time": "2022-07-22T14:57:47.288Z"
   },
   {
    "duration": 5,
    "start_time": "2022-07-22T14:57:47.297Z"
   },
   {
    "duration": 70,
    "start_time": "2022-07-22T14:57:47.304Z"
   },
   {
    "duration": 9,
    "start_time": "2022-07-22T14:57:47.376Z"
   },
   {
    "duration": 4,
    "start_time": "2022-07-22T14:57:47.387Z"
   },
   {
    "duration": 22,
    "start_time": "2022-07-22T14:57:47.392Z"
   },
   {
    "duration": 45,
    "start_time": "2022-07-22T14:57:47.416Z"
   },
   {
    "duration": 12,
    "start_time": "2022-07-22T14:57:47.463Z"
   },
   {
    "duration": 6,
    "start_time": "2022-07-22T14:57:47.477Z"
   },
   {
    "duration": 14,
    "start_time": "2022-07-22T14:57:47.485Z"
   },
   {
    "duration": 10,
    "start_time": "2022-07-22T14:57:47.501Z"
   },
   {
    "duration": 4,
    "start_time": "2022-07-22T14:57:47.513Z"
   },
   {
    "duration": 45,
    "start_time": "2022-07-22T14:57:47.518Z"
   },
   {
    "duration": 30,
    "start_time": "2022-07-22T14:57:47.565Z"
   },
   {
    "duration": 156,
    "start_time": "2022-07-22T14:57:47.596Z"
   },
   {
    "duration": 30,
    "start_time": "2022-07-22T14:57:47.754Z"
   },
   {
    "duration": 148,
    "start_time": "2022-07-22T14:57:47.785Z"
   },
   {
    "duration": 35,
    "start_time": "2022-07-22T14:57:47.935Z"
   },
   {
    "duration": 129,
    "start_time": "2022-07-22T14:57:47.972Z"
   },
   {
    "duration": 30,
    "start_time": "2022-07-22T14:57:48.105Z"
   },
   {
    "duration": 157,
    "start_time": "2022-07-22T14:57:48.137Z"
   },
   {
    "duration": 31,
    "start_time": "2022-07-22T14:57:48.296Z"
   },
   {
    "duration": 131,
    "start_time": "2022-07-22T14:57:48.329Z"
   },
   {
    "duration": 338,
    "start_time": "2022-07-22T14:57:48.462Z"
   },
   {
    "duration": 6,
    "start_time": "2022-07-22T14:57:48.802Z"
   },
   {
    "duration": 376,
    "start_time": "2022-07-22T14:57:48.810Z"
   },
   {
    "duration": 372,
    "start_time": "2022-07-22T15:02:17.885Z"
   },
   {
    "duration": 9,
    "start_time": "2022-07-22T15:02:25.042Z"
   },
   {
    "duration": 507,
    "start_time": "2022-07-22T15:02:51.945Z"
   },
   {
    "duration": 89,
    "start_time": "2022-07-22T15:03:14.070Z"
   },
   {
    "duration": 19,
    "start_time": "2022-07-22T15:03:14.162Z"
   },
   {
    "duration": 16,
    "start_time": "2022-07-22T15:03:14.183Z"
   },
   {
    "duration": 10,
    "start_time": "2022-07-22T15:03:14.201Z"
   },
   {
    "duration": 71,
    "start_time": "2022-07-22T15:03:14.213Z"
   },
   {
    "duration": 4,
    "start_time": "2022-07-22T15:03:14.285Z"
   },
   {
    "duration": 16,
    "start_time": "2022-07-22T15:03:14.291Z"
   },
   {
    "duration": 4,
    "start_time": "2022-07-22T15:03:14.309Z"
   },
   {
    "duration": 7,
    "start_time": "2022-07-22T15:03:14.314Z"
   },
   {
    "duration": 32,
    "start_time": "2022-07-22T15:03:14.323Z"
   },
   {
    "duration": 41,
    "start_time": "2022-07-22T15:03:14.356Z"
   },
   {
    "duration": 11,
    "start_time": "2022-07-22T15:03:14.399Z"
   },
   {
    "duration": 4,
    "start_time": "2022-07-22T15:03:14.413Z"
   },
   {
    "duration": 24,
    "start_time": "2022-07-22T15:03:14.453Z"
   },
   {
    "duration": 17,
    "start_time": "2022-07-22T15:03:14.480Z"
   },
   {
    "duration": 10,
    "start_time": "2022-07-22T15:03:14.499Z"
   },
   {
    "duration": 6,
    "start_time": "2022-07-22T15:03:14.511Z"
   },
   {
    "duration": 35,
    "start_time": "2022-07-22T15:03:14.519Z"
   },
   {
    "duration": 6,
    "start_time": "2022-07-22T15:03:14.556Z"
   },
   {
    "duration": 9,
    "start_time": "2022-07-22T15:03:14.564Z"
   },
   {
    "duration": 46,
    "start_time": "2022-07-22T15:03:14.576Z"
   },
   {
    "duration": 65,
    "start_time": "2022-07-22T15:03:14.623Z"
   },
   {
    "duration": 153,
    "start_time": "2022-07-22T15:03:14.692Z"
   },
   {
    "duration": 41,
    "start_time": "2022-07-22T15:03:14.847Z"
   },
   {
    "duration": 183,
    "start_time": "2022-07-22T15:03:14.889Z"
   },
   {
    "duration": 35,
    "start_time": "2022-07-22T15:03:15.074Z"
   },
   {
    "duration": 143,
    "start_time": "2022-07-22T15:03:15.112Z"
   },
   {
    "duration": 37,
    "start_time": "2022-07-22T15:03:15.257Z"
   },
   {
    "duration": 150,
    "start_time": "2022-07-22T15:03:15.295Z"
   },
   {
    "duration": 39,
    "start_time": "2022-07-22T15:03:15.446Z"
   },
   {
    "duration": 208,
    "start_time": "2022-07-22T15:03:15.486Z"
   },
   {
    "duration": 448,
    "start_time": "2022-07-22T15:03:15.696Z"
   },
   {
    "duration": 11,
    "start_time": "2022-07-22T15:03:16.146Z"
   },
   {
    "duration": 523,
    "start_time": "2022-07-22T15:03:16.158Z"
   },
   {
    "duration": 1342,
    "start_time": "2022-07-22T21:08:29.278Z"
   },
   {
    "duration": 20,
    "start_time": "2022-07-22T21:08:30.622Z"
   },
   {
    "duration": 15,
    "start_time": "2022-07-22T21:08:30.643Z"
   },
   {
    "duration": 9,
    "start_time": "2022-07-22T21:08:30.660Z"
   },
   {
    "duration": 46,
    "start_time": "2022-07-22T21:08:30.670Z"
   },
   {
    "duration": 3,
    "start_time": "2022-07-22T21:08:30.718Z"
   },
   {
    "duration": 28,
    "start_time": "2022-07-22T21:08:30.723Z"
   },
   {
    "duration": 11,
    "start_time": "2022-07-22T21:08:30.752Z"
   },
   {
    "duration": 25,
    "start_time": "2022-07-22T21:08:30.765Z"
   },
   {
    "duration": 5,
    "start_time": "2022-07-22T21:08:30.792Z"
   },
   {
    "duration": 47,
    "start_time": "2022-07-22T21:08:30.799Z"
   },
   {
    "duration": 10,
    "start_time": "2022-07-22T21:08:30.848Z"
   },
   {
    "duration": 25,
    "start_time": "2022-07-22T21:08:30.860Z"
   },
   {
    "duration": 26,
    "start_time": "2022-07-22T21:08:30.886Z"
   },
   {
    "duration": 19,
    "start_time": "2022-07-22T21:08:30.913Z"
   },
   {
    "duration": 11,
    "start_time": "2022-07-22T21:08:30.933Z"
   },
   {
    "duration": 12,
    "start_time": "2022-07-22T21:08:30.945Z"
   },
   {
    "duration": 35,
    "start_time": "2022-07-22T21:08:30.958Z"
   },
   {
    "duration": 22,
    "start_time": "2022-07-22T21:08:30.994Z"
   },
   {
    "duration": 19,
    "start_time": "2022-07-22T21:08:31.018Z"
   },
   {
    "duration": 33,
    "start_time": "2022-07-22T21:08:31.039Z"
   },
   {
    "duration": 51,
    "start_time": "2022-07-22T21:08:31.073Z"
   },
   {
    "duration": 140,
    "start_time": "2022-07-22T21:08:31.126Z"
   },
   {
    "duration": 38,
    "start_time": "2022-07-22T21:08:31.268Z"
   },
   {
    "duration": 151,
    "start_time": "2022-07-22T21:08:31.307Z"
   },
   {
    "duration": 223,
    "start_time": "2022-07-22T21:10:36.425Z"
   },
   {
    "duration": 183,
    "start_time": "2022-07-22T21:10:48.697Z"
   },
   {
    "duration": 156,
    "start_time": "2022-07-22T21:10:56.748Z"
   },
   {
    "duration": 110,
    "start_time": "2022-07-22T21:11:08.421Z"
   },
   {
    "duration": 137,
    "start_time": "2022-07-22T21:11:11.070Z"
   },
   {
    "duration": 140,
    "start_time": "2022-07-22T21:11:23.303Z"
   },
   {
    "duration": 164,
    "start_time": "2022-07-22T21:11:32.670Z"
   },
   {
    "duration": 148,
    "start_time": "2022-07-22T21:11:39.904Z"
   },
   {
    "duration": 217,
    "start_time": "2022-07-22T21:16:36.861Z"
   },
   {
    "duration": 147,
    "start_time": "2022-07-22T21:16:43.600Z"
   },
   {
    "duration": 139,
    "start_time": "2022-07-22T21:16:49.966Z"
   },
   {
    "duration": 141,
    "start_time": "2022-07-22T21:17:31.798Z"
   },
   {
    "duration": 1409,
    "start_time": "2022-07-22T21:17:42.090Z"
   },
   {
    "duration": 20,
    "start_time": "2022-07-22T21:17:43.501Z"
   },
   {
    "duration": 14,
    "start_time": "2022-07-22T21:17:43.522Z"
   },
   {
    "duration": 9,
    "start_time": "2022-07-22T21:17:43.538Z"
   },
   {
    "duration": 34,
    "start_time": "2022-07-22T21:17:43.548Z"
   },
   {
    "duration": 3,
    "start_time": "2022-07-22T21:17:43.584Z"
   },
   {
    "duration": 18,
    "start_time": "2022-07-22T21:17:43.588Z"
   },
   {
    "duration": 4,
    "start_time": "2022-07-22T21:17:43.607Z"
   },
   {
    "duration": 13,
    "start_time": "2022-07-22T21:17:43.613Z"
   },
   {
    "duration": 12,
    "start_time": "2022-07-22T21:17:43.629Z"
   },
   {
    "duration": 38,
    "start_time": "2022-07-22T21:17:43.643Z"
   },
   {
    "duration": 9,
    "start_time": "2022-07-22T21:17:43.682Z"
   },
   {
    "duration": 3,
    "start_time": "2022-07-22T21:17:43.693Z"
   },
   {
    "duration": 20,
    "start_time": "2022-07-22T21:17:43.697Z"
   },
   {
    "duration": 15,
    "start_time": "2022-07-22T21:17:43.719Z"
   },
   {
    "duration": 10,
    "start_time": "2022-07-22T21:17:43.736Z"
   },
   {
    "duration": 57,
    "start_time": "2022-07-22T21:17:43.748Z"
   },
   {
    "duration": 11,
    "start_time": "2022-07-22T21:17:43.807Z"
   },
   {
    "duration": 5,
    "start_time": "2022-07-22T21:17:43.820Z"
   },
   {
    "duration": 3,
    "start_time": "2022-07-22T21:17:43.827Z"
   },
   {
    "duration": 27,
    "start_time": "2022-07-22T21:17:43.832Z"
   },
   {
    "duration": 53,
    "start_time": "2022-07-22T21:17:43.861Z"
   },
   {
    "duration": 145,
    "start_time": "2022-07-22T21:17:43.915Z"
   },
   {
    "duration": 29,
    "start_time": "2022-07-22T21:17:44.062Z"
   },
   {
    "duration": 141,
    "start_time": "2022-07-22T21:17:44.104Z"
   },
   {
    "duration": 27,
    "start_time": "2022-07-22T21:17:44.247Z"
   },
   {
    "duration": 142,
    "start_time": "2022-07-22T21:17:44.276Z"
   },
   {
    "duration": 31,
    "start_time": "2022-07-22T21:17:44.422Z"
   },
   {
    "duration": 137,
    "start_time": "2022-07-22T21:17:44.455Z"
   },
   {
    "duration": 35,
    "start_time": "2022-07-22T21:17:44.594Z"
   },
   {
    "duration": 123,
    "start_time": "2022-07-22T21:17:44.631Z"
   },
   {
    "duration": 375,
    "start_time": "2022-07-22T21:17:44.756Z"
   },
   {
    "duration": 7,
    "start_time": "2022-07-22T21:17:45.133Z"
   },
   {
    "duration": 444,
    "start_time": "2022-07-22T21:17:45.141Z"
   },
   {
    "duration": 145,
    "start_time": "2022-07-22T21:25:48.364Z"
   },
   {
    "duration": 350,
    "start_time": "2022-07-22T21:25:59.240Z"
   },
   {
    "duration": 415,
    "start_time": "2022-07-22T21:27:59.435Z"
   },
   {
    "duration": 437,
    "start_time": "2022-07-22T21:28:22.159Z"
   }
  ],
  "colab": {
   "name": "dpp_template_part2.ipynb",
   "provenance": []
  },
  "kernelspec": {
   "display_name": "Python 3 (ipykernel)",
   "language": "python",
   "name": "python3"
  },
  "language_info": {
   "codemirror_mode": {
    "name": "ipython",
    "version": 3
   },
   "file_extension": ".py",
   "mimetype": "text/x-python",
   "name": "python",
   "nbconvert_exporter": "python",
   "pygments_lexer": "ipython3",
   "version": "3.9.15"
  },
  "toc": {
   "base_numbering": 1,
   "nav_menu": {},
   "number_sections": true,
   "sideBar": true,
   "skip_h1_title": true,
   "title_cell": "Table of Contents",
   "title_sidebar": "Contents",
   "toc_cell": false,
   "toc_position": {},
   "toc_section_display": true,
   "toc_window_display": false
  }
 },
 "nbformat": 4,
 "nbformat_minor": 5
}
