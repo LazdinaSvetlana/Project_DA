{
 "cells": [
  {
   "cell_type": "markdown",
   "metadata": {
    "deletable": false,
    "editable": false,
    "id": "E0vqbgi9ay0H"
   },
   "source": [
    "# Яндекс Музыка"
   ]
  },
  {
   "cell_type": "markdown",
   "metadata": {
    "deletable": false,
    "editable": false,
    "id": "VUC88oWjTJw2"
   },
   "source": [
    "Сравнение Москвы и Петербурга окружено мифами. Например:\n",
    " * Москва — мегаполис, подчинённый жёсткому ритму рабочей недели;\n",
    " * Петербург — культурная столица, со своими вкусами.\n",
    "\n",
    "На данных Яндекс Музыки вы сравните поведение пользователей двух столиц.\n",
    "\n",
    "**Цель исследования** — проверьте три гипотезы:\n",
    "1. Активность пользователей зависит от дня недели. Причём в Москве и Петербурге это проявляется по-разному.\n",
    "2. В понедельник утром в Москве преобладают одни жанры, а в Петербурге — другие. Так же и вечером пятницы преобладают разные жанры — в зависимости от города. \n",
    "3. Москва и Петербург предпочитают разные жанры музыки. В Москве чаще слушают поп-музыку, в Петербурге — русский рэп.\n",
    "\n",
    "**Ход исследования**\n",
    "\n",
    "Данные о поведении пользователей вы получите из файла `yandex_music_project.csv`. О качестве данных ничего не известно. Поэтому перед проверкой гипотез понадобится обзор данных. \n",
    "\n",
    "Вы проверите данные на ошибки и оцените их влияние на исследование. Затем, на этапе предобработки вы поищете возможность исправить самые критичные ошибки данных.\n",
    " \n",
    "Таким образом, исследование пройдёт в три этапа:\n",
    " 1. Обзор данных.\n",
    " 2. Предобработка данных.\n",
    " 3. Проверка гипотез.\n",
    "\n"
   ]
  },
  {
   "cell_type": "markdown",
   "metadata": {
    "deletable": false,
    "editable": false,
    "id": "Ml1hmfXC_Zcs"
   },
   "source": [
    "## Обзор данных\n",
    "\n",
    "Составьте первое представление о данных Яндекс Музыки.\n",
    "\n",
    "\n"
   ]
  },
  {
   "cell_type": "markdown",
   "metadata": {
    "deletable": false,
    "editable": false,
    "id": "57eAOGIz_Zcs",
    "tags": [
     "start_task"
    ]
   },
   "source": [
    "**Задание 1**\n",
    "\n",
    "Основной инструмент аналитика — `pandas`. Импортируйте эту библиотеку."
   ]
  },
  {
   "cell_type": "code",
   "execution_count": 1,
   "metadata": {
    "deletable": false,
    "id": "AXN7PHPN_Zcs"
   },
   "outputs": [],
   "source": [
    "import pandas as pd # импорт библиотеки pandas"
   ]
  },
  {
   "cell_type": "markdown",
   "metadata": {
    "deletable": false,
    "editable": false,
    "id": "SG23P8tt_Zcs",
    "tags": [
     "start_task"
    ]
   },
   "source": [
    "**Задание 2**\n",
    "\n",
    "Прочитайте файл `yandex_music_project.csv` из папки `/datasets` и сохраните его в переменной `df`:"
   ]
  },
  {
   "cell_type": "code",
   "execution_count": 2,
   "metadata": {
    "deletable": false,
    "id": "fFVu7vqh_Zct"
   },
   "outputs": [],
   "source": [
    "try:\n",
    "    df = pd.read_csv('/datasets/yandex_music_project.csv') # чтение файла с данными и сохранение в df\n",
    "except:\n",
    "    df = pd.read_csv('C:\\Python\\datasets/yandex_music_project.csv')"
   ]
  },
  {
   "cell_type": "markdown",
   "metadata": {
    "deletable": false,
    "editable": false,
    "id": "rDoOMd3uTqnZ",
    "tags": [
     "start_task"
    ]
   },
   "source": [
    "**Задание 3**\n",
    "\n",
    "\n",
    "Выведите на экран первые десять строк таблицы:"
   ]
  },
  {
   "cell_type": "code",
   "execution_count": 3,
   "metadata": {
    "deletable": false,
    "id": "oWTVX3gW_Zct"
   },
   "outputs": [
    {
     "data": {
      "text/html": [
       "<div>\n",
       "<style scoped>\n",
       "    .dataframe tbody tr th:only-of-type {\n",
       "        vertical-align: middle;\n",
       "    }\n",
       "\n",
       "    .dataframe tbody tr th {\n",
       "        vertical-align: top;\n",
       "    }\n",
       "\n",
       "    .dataframe thead th {\n",
       "        text-align: right;\n",
       "    }\n",
       "</style>\n",
       "<table border=\"1\" class=\"dataframe\">\n",
       "  <thead>\n",
       "    <tr style=\"text-align: right;\">\n",
       "      <th></th>\n",
       "      <th>userID</th>\n",
       "      <th>Track</th>\n",
       "      <th>artist</th>\n",
       "      <th>genre</th>\n",
       "      <th>City</th>\n",
       "      <th>time</th>\n",
       "      <th>Day</th>\n",
       "    </tr>\n",
       "  </thead>\n",
       "  <tbody>\n",
       "    <tr>\n",
       "      <th>0</th>\n",
       "      <td>FFB692EC</td>\n",
       "      <td>Kamigata To Boots</td>\n",
       "      <td>The Mass Missile</td>\n",
       "      <td>rock</td>\n",
       "      <td>Saint-Petersburg</td>\n",
       "      <td>20:28:33</td>\n",
       "      <td>Wednesday</td>\n",
       "    </tr>\n",
       "    <tr>\n",
       "      <th>1</th>\n",
       "      <td>55204538</td>\n",
       "      <td>Delayed Because of Accident</td>\n",
       "      <td>Andreas Rönnberg</td>\n",
       "      <td>rock</td>\n",
       "      <td>Moscow</td>\n",
       "      <td>14:07:09</td>\n",
       "      <td>Friday</td>\n",
       "    </tr>\n",
       "    <tr>\n",
       "      <th>2</th>\n",
       "      <td>20EC38</td>\n",
       "      <td>Funiculì funiculà</td>\n",
       "      <td>Mario Lanza</td>\n",
       "      <td>pop</td>\n",
       "      <td>Saint-Petersburg</td>\n",
       "      <td>20:58:07</td>\n",
       "      <td>Wednesday</td>\n",
       "    </tr>\n",
       "    <tr>\n",
       "      <th>3</th>\n",
       "      <td>A3DD03C9</td>\n",
       "      <td>Dragons in the Sunset</td>\n",
       "      <td>Fire + Ice</td>\n",
       "      <td>folk</td>\n",
       "      <td>Saint-Petersburg</td>\n",
       "      <td>08:37:09</td>\n",
       "      <td>Monday</td>\n",
       "    </tr>\n",
       "    <tr>\n",
       "      <th>4</th>\n",
       "      <td>E2DC1FAE</td>\n",
       "      <td>Soul People</td>\n",
       "      <td>Space Echo</td>\n",
       "      <td>dance</td>\n",
       "      <td>Moscow</td>\n",
       "      <td>08:34:34</td>\n",
       "      <td>Monday</td>\n",
       "    </tr>\n",
       "    <tr>\n",
       "      <th>5</th>\n",
       "      <td>842029A1</td>\n",
       "      <td>Преданная</td>\n",
       "      <td>IMPERVTOR</td>\n",
       "      <td>rusrap</td>\n",
       "      <td>Saint-Petersburg</td>\n",
       "      <td>13:09:41</td>\n",
       "      <td>Friday</td>\n",
       "    </tr>\n",
       "    <tr>\n",
       "      <th>6</th>\n",
       "      <td>4CB90AA5</td>\n",
       "      <td>True</td>\n",
       "      <td>Roman Messer</td>\n",
       "      <td>dance</td>\n",
       "      <td>Moscow</td>\n",
       "      <td>13:00:07</td>\n",
       "      <td>Wednesday</td>\n",
       "    </tr>\n",
       "    <tr>\n",
       "      <th>7</th>\n",
       "      <td>F03E1C1F</td>\n",
       "      <td>Feeling This Way</td>\n",
       "      <td>Polina Griffith</td>\n",
       "      <td>dance</td>\n",
       "      <td>Moscow</td>\n",
       "      <td>20:47:49</td>\n",
       "      <td>Wednesday</td>\n",
       "    </tr>\n",
       "    <tr>\n",
       "      <th>8</th>\n",
       "      <td>8FA1D3BE</td>\n",
       "      <td>И вновь продолжается бой</td>\n",
       "      <td>NaN</td>\n",
       "      <td>ruspop</td>\n",
       "      <td>Moscow</td>\n",
       "      <td>09:17:40</td>\n",
       "      <td>Friday</td>\n",
       "    </tr>\n",
       "    <tr>\n",
       "      <th>9</th>\n",
       "      <td>E772D5C0</td>\n",
       "      <td>Pessimist</td>\n",
       "      <td>NaN</td>\n",
       "      <td>dance</td>\n",
       "      <td>Saint-Petersburg</td>\n",
       "      <td>21:20:49</td>\n",
       "      <td>Wednesday</td>\n",
       "    </tr>\n",
       "  </tbody>\n",
       "</table>\n",
       "</div>"
      ],
      "text/plain": [
       "     userID                        Track            artist   genre  \\\n",
       "0  FFB692EC            Kamigata To Boots  The Mass Missile    rock   \n",
       "1  55204538  Delayed Because of Accident  Andreas Rönnberg    rock   \n",
       "2    20EC38            Funiculì funiculà       Mario Lanza     pop   \n",
       "3  A3DD03C9        Dragons in the Sunset        Fire + Ice    folk   \n",
       "4  E2DC1FAE                  Soul People        Space Echo   dance   \n",
       "5  842029A1                    Преданная         IMPERVTOR  rusrap   \n",
       "6  4CB90AA5                         True      Roman Messer   dance   \n",
       "7  F03E1C1F             Feeling This Way   Polina Griffith   dance   \n",
       "8  8FA1D3BE     И вновь продолжается бой               NaN  ruspop   \n",
       "9  E772D5C0                    Pessimist               NaN   dance   \n",
       "\n",
       "             City        time        Day  \n",
       "0  Saint-Petersburg  20:28:33  Wednesday  \n",
       "1            Moscow  14:07:09     Friday  \n",
       "2  Saint-Petersburg  20:58:07  Wednesday  \n",
       "3  Saint-Petersburg  08:37:09     Monday  \n",
       "4            Moscow  08:34:34     Monday  \n",
       "5  Saint-Petersburg  13:09:41     Friday  \n",
       "6            Moscow  13:00:07  Wednesday  \n",
       "7            Moscow  20:47:49  Wednesday  \n",
       "8            Moscow  09:17:40     Friday  \n",
       "9  Saint-Petersburg  21:20:49  Wednesday  "
      ]
     },
     "execution_count": 3,
     "metadata": {},
     "output_type": "execute_result"
    }
   ],
   "source": [
    "df.head(10) # получение первых 10 строк таблицы df"
   ]
  },
  {
   "cell_type": "markdown",
   "metadata": {
    "deletable": false,
    "editable": false,
    "id": "EO73Kwic_Zct",
    "tags": [
     "start_task"
    ]
   },
   "source": [
    "**Задание 4**\n",
    "\n",
    "\n",
    "Одной командой получить общую информацию о таблице c помощью метода `info()`:"
   ]
  },
  {
   "cell_type": "code",
   "execution_count": 4,
   "metadata": {
    "deletable": false,
    "id": "DSf2kIb-_Zct"
   },
   "outputs": [
    {
     "name": "stdout",
     "output_type": "stream",
     "text": [
      "<class 'pandas.core.frame.DataFrame'>\n",
      "RangeIndex: 65079 entries, 0 to 65078\n",
      "Data columns (total 7 columns):\n",
      " #   Column    Non-Null Count  Dtype \n",
      "---  ------    --------------  ----- \n",
      " 0     userID  65079 non-null  object\n",
      " 1   Track     63848 non-null  object\n",
      " 2   artist    57876 non-null  object\n",
      " 3   genre     63881 non-null  object\n",
      " 4     City    65079 non-null  object\n",
      " 5   time      65079 non-null  object\n",
      " 6   Day       65079 non-null  object\n",
      "dtypes: object(7)\n",
      "memory usage: 3.5+ MB\n"
     ]
    }
   ],
   "source": [
    "df.info() # получение общей информации о данных в таблице df"
   ]
  },
  {
   "cell_type": "markdown",
   "metadata": {
    "deletable": false,
    "editable": false,
    "id": "TaQ2Iwbr_Zct"
   },
   "source": [
    "Итак, в таблице семь столбцов. Тип данных во всех столбцах — `object`.\n",
    "\n",
    "Согласно документации к данным:\n",
    "* `userID` — идентификатор пользователя;\n",
    "* `Track` — название трека;  \n",
    "* `artist` — имя исполнителя;\n",
    "* `genre` — название жанра;\n",
    "* `City` — город пользователя;\n",
    "* `time` — время начала прослушивания;\n",
    "* `Day` — день недели.\n",
    "\n",
    "Количество значений в столбцах различается. Значит, в данных есть пропущенные значения."
   ]
  },
  {
   "cell_type": "markdown",
   "metadata": {
    "deletable": false,
    "editable": false,
    "id": "rAfziTBDmf2h",
    "tags": [
     "start_task"
    ]
   },
   "source": [
    "**Задание 5**\n",
    "\n",
    "**Вопрос со свободной формой ответа**\n",
    "\n",
    "В названиях колонок видны нарушения стиля:\n",
    "* Строчные буквы сочетаются с прописными.\n",
    "* Встречаются пробелы.\n",
    "\n",
    "Какое третье нарушение?"
   ]
  },
  {
   "cell_type": "code",
   "execution_count": 5,
   "metadata": {
    "id": "jD8EXEIvmf2h"
   },
   "outputs": [],
   "source": [
    "# Лучше использовать змеиный_регистр, чем слитное написание"
   ]
  },
  {
   "cell_type": "markdown",
   "metadata": {
    "deletable": false,
    "editable": false,
    "id": "MCB6-dXG_Zct"
   },
   "source": [
    "**Выводы**\n",
    "\n",
    "В каждой строке таблицы — данные о прослушанном треке. Часть колонок описывает саму композицию: название, исполнителя и жанр. Остальные данные рассказывают о пользователе: из какого он города, когда он слушал музыку. \n",
    "\n",
    "Предварительно можно утверждать, что данных достаточно для проверки гипотез. Но встречаются пропуски в данных, а в названиях колонок — расхождения с хорошим стилем.\n",
    "\n",
    "Чтобы двигаться дальше, нужно устранить проблемы в данных."
   ]
  },
  {
   "cell_type": "markdown",
   "metadata": {
    "deletable": false,
    "editable": false,
    "id": "SjYF6Ub9_Zct"
   },
   "source": [
    "## Предобработка данных\n",
    "Исправьте стиль в заголовках столбцов, исключите пропуски. Затем проверьте данные на дубликаты."
   ]
  },
  {
   "cell_type": "markdown",
   "metadata": {
    "deletable": false,
    "editable": false,
    "id": "dIaKXr29_Zct",
    "tags": [
     "start_task"
    ]
   },
   "source": [
    "### Стиль заголовков\n",
    "\n",
    "**Задание 6**\n",
    "\n",
    "Выведите на экран названия столбцов:"
   ]
  },
  {
   "cell_type": "code",
   "execution_count": 6,
   "metadata": {
    "deletable": false,
    "id": "oKOTdF_Q_Zct"
   },
   "outputs": [
    {
     "data": {
      "text/plain": [
       "Index(['  userID', 'Track', 'artist', 'genre', '  City  ', 'time', 'Day'], dtype='object')"
      ]
     },
     "execution_count": 6,
     "metadata": {},
     "output_type": "execute_result"
    }
   ],
   "source": [
    "df.columns # перечень названий столбцов таблицы df"
   ]
  },
  {
   "cell_type": "markdown",
   "metadata": {
    "deletable": false,
    "editable": false,
    "id": "zj5534cv_Zct",
    "tags": [
     "start_task"
    ]
   },
   "source": [
    "**Задание 7**\n",
    "\n",
    "\n",
    "Приведите названия в соответствие с хорошим стилем:\n",
    "* несколько слов в названии запишите в «змеином_регистре»,\n",
    "* все символы сделайте строчными,\n",
    "* устраните пробелы.\n",
    "\n",
    "Для этого переименуйте колонки так:\n",
    "* `'  userID'` → `'user_id'`;\n",
    "* `'Track'` → `'track'`;\n",
    "* `'  City  '` → `'city'`;\n",
    "* `'Day'` → `'day'`."
   ]
  },
  {
   "cell_type": "code",
   "execution_count": 7,
   "metadata": {
    "deletable": false,
    "id": "ISlFqs5y_Zct"
   },
   "outputs": [],
   "source": [
    "df = df.rename(columns={'  userID': 'user_id', 'Track': 'track', '  City  ': 'city', 'Day': 'day'}) # переименование столбцов"
   ]
  },
  {
   "cell_type": "markdown",
   "metadata": {
    "deletable": false,
    "editable": false,
    "id": "1dqbh00J_Zct",
    "tags": [
     "start_task"
    ]
   },
   "source": [
    "**Задание 8**\n",
    "\n",
    "\n",
    "Проверьте результат. Для этого ещё раз выведите на экран названия столбцов:"
   ]
  },
  {
   "cell_type": "code",
   "execution_count": 8,
   "metadata": {
    "deletable": false,
    "id": "d4NOAmTW_Zct"
   },
   "outputs": [
    {
     "data": {
      "text/plain": [
       "Index(['user_id', 'track', 'artist', 'genre', 'city', 'time', 'day'], dtype='object')"
      ]
     },
     "execution_count": 8,
     "metadata": {},
     "output_type": "execute_result"
    }
   ],
   "source": [
    "df.columns # проверка результатов - перечень названий столбцов"
   ]
  },
  {
   "cell_type": "markdown",
   "metadata": {
    "deletable": false,
    "editable": false,
    "id": "5ISfbcfY_Zct",
    "tags": [
     "start_task"
    ]
   },
   "source": [
    "### Пропуски значений\n",
    "\n",
    "**Задание 9**\n",
    "\n",
    "Сначала посчитайте, сколько в таблице пропущенных значений. Для этого достаточно двух методов `pandas`:"
   ]
  },
  {
   "cell_type": "code",
   "execution_count": 9,
   "metadata": {
    "deletable": false,
    "id": "RskX29qr_Zct"
   },
   "outputs": [
    {
     "data": {
      "text/plain": [
       "user_id       0\n",
       "track      1231\n",
       "artist     7203\n",
       "genre      1198\n",
       "city          0\n",
       "time          0\n",
       "day           0\n",
       "dtype: int64"
      ]
     },
     "execution_count": 9,
     "metadata": {},
     "output_type": "execute_result"
    }
   ],
   "source": [
    "df.isna().sum() # подсчёт пропусков"
   ]
  },
  {
   "cell_type": "markdown",
   "metadata": {
    "deletable": false,
    "editable": false,
    "id": "qubhgnlO_Zct"
   },
   "source": [
    "Не все пропущенные значения влияют на исследование. Так в `track` и `artist` пропуски не важны для вашей работы. Достаточно заменить их явными обозначениями.\n",
    "\n",
    "Но пропуски в `genre` могут помешать сравнению музыкальных вкусов в Москве и Санкт-Петербурге. На практике было бы правильно установить причину пропусков и восстановить данные. Такой возможности нет в учебном проекте. Придётся:\n",
    "* заполнить и эти пропуски явными обозначениями;\n",
    "* оценить, насколько они повредят расчётам. "
   ]
  },
  {
   "cell_type": "markdown",
   "metadata": {
    "deletable": false,
    "editable": false,
    "id": "fSv2laPA_Zct",
    "tags": [
     "start_task"
    ]
   },
   "source": [
    "**Задание 10**\n",
    "\n",
    "Замените пропущенные значения в столбцах `track`, `artist` и `genre` на строку `'unknown'`. Для этого создайте список `columns_to_replace`, переберите его элементы циклом `for` и для каждого столбца выполните замену пропущенных значений:"
   ]
  },
  {
   "cell_type": "code",
   "execution_count": 10,
   "metadata": {
    "deletable": false,
    "id": "KplB5qWs_Zct"
   },
   "outputs": [],
   "source": [
    "columns_to_replace = ['track', 'artist', 'genre'] \n",
    "for column in columns_to_replace:\n",
    "    df[column] = df[column].fillna('unknown')\n",
    "# перебор названий столбцов в цикле и замена пропущенных значений на 'unknown'"
   ]
  },
  {
   "cell_type": "markdown",
   "metadata": {
    "deletable": false,
    "editable": false,
    "id": "Ilsm-MZo_Zct",
    "tags": [
     "start_task"
    ]
   },
   "source": [
    "**Задание 11**\n",
    "\n",
    "Убедитесь, что в таблице не осталось пропусков. Для этого ещё раз посчитайте пропущенные значения."
   ]
  },
  {
   "cell_type": "code",
   "execution_count": 11,
   "metadata": {
    "deletable": false,
    "id": "Tq4nYRX4_Zct"
   },
   "outputs": [
    {
     "data": {
      "text/plain": [
       "user_id    0\n",
       "track      0\n",
       "artist     0\n",
       "genre      0\n",
       "city       0\n",
       "time       0\n",
       "day        0\n",
       "dtype: int64"
      ]
     },
     "execution_count": 11,
     "metadata": {},
     "output_type": "execute_result"
    }
   ],
   "source": [
    "df.isna().sum() # подсчёт пропусков"
   ]
  },
  {
   "cell_type": "markdown",
   "metadata": {
    "deletable": false,
    "editable": false,
    "id": "BWKRtBJ3_Zct",
    "tags": [
     "start_task"
    ]
   },
   "source": [
    "### Дубликаты\n",
    "\n",
    "**Задание 12**\n",
    "\n",
    "Посчитайте явные дубликаты в таблице одной командой:"
   ]
  },
  {
   "cell_type": "code",
   "execution_count": 12,
   "metadata": {
    "deletable": false,
    "id": "36eES_S0_Zct"
   },
   "outputs": [
    {
     "data": {
      "text/plain": [
       "3826"
      ]
     },
     "execution_count": 12,
     "metadata": {},
     "output_type": "execute_result"
    }
   ],
   "source": [
    "df.duplicated().sum() # подсчёт явных дубликатов"
   ]
  },
  {
   "cell_type": "markdown",
   "metadata": {
    "deletable": false,
    "editable": false,
    "id": "Ot25h6XR_Zct",
    "tags": [
     "start_task"
    ]
   },
   "source": [
    "**Задание 13**\n",
    "\n",
    "Вызовите специальный метод `pandas`, чтобы удалить явные дубликаты:"
   ]
  },
  {
   "cell_type": "code",
   "execution_count": 13,
   "metadata": {
    "deletable": false,
    "id": "exFHq6tt_Zct"
   },
   "outputs": [],
   "source": [
    "df = df.drop_duplicates() # удаление явных дубликатов"
   ]
  },
  {
   "cell_type": "markdown",
   "metadata": {
    "deletable": false,
    "editable": false,
    "id": "Im2YwBEG_Zct",
    "tags": [
     "start_task"
    ]
   },
   "source": [
    "**Задание 14**\n",
    "\n",
    "Ещё раз посчитайте явные дубликаты в таблице — убедитесь, что полностью от них избавились:"
   ]
  },
  {
   "cell_type": "code",
   "execution_count": 14,
   "metadata": {
    "deletable": false,
    "id": "-8PuNWQ0_Zct"
   },
   "outputs": [
    {
     "data": {
      "text/plain": [
       "0"
      ]
     },
     "execution_count": 14,
     "metadata": {},
     "output_type": "execute_result"
    }
   ],
   "source": [
    "df.duplicated().sum() # проверка на отсутствие дубликатов"
   ]
  },
  {
   "cell_type": "markdown",
   "metadata": {
    "deletable": false,
    "editable": false,
    "id": "QlFBsxAr_Zct"
   },
   "source": [
    "Теперь избавьтесь от неявных дубликатов в колонке `genre`. Например, название одного и того же жанра может быть записано немного по-разному. Такие ошибки тоже повлияют на результат исследования."
   ]
  },
  {
   "cell_type": "markdown",
   "metadata": {
    "deletable": false,
    "editable": false,
    "id": "eSjWwsOh_Zct",
    "tags": [
     "start_task"
    ]
   },
   "source": [
    "**Задание 15**\n",
    "\n",
    "Выведите на экран список уникальных названий жанров, отсортированный в алфавитном порядке. Для этого:\n",
    "1. извлеките нужный столбец датафрейма; \n",
    "2. примените к нему метод сортировки;\n",
    "3. для отсортированного столбца вызовите метод, который вернёт уникальные значения из столбца."
   ]
  },
  {
   "cell_type": "code",
   "execution_count": 15,
   "metadata": {
    "deletable": false,
    "id": "JIUcqzZN_Zct",
    "scrolled": true
   },
   "outputs": [
    {
     "data": {
      "text/plain": [
       "array(['acid', 'acoustic', 'action', 'adult', 'africa', 'afrikaans',\n",
       "       'alternative', 'alternativepunk', 'ambient', 'americana',\n",
       "       'animated', 'anime', 'arabesk', 'arabic', 'arena',\n",
       "       'argentinetango', 'art', 'audiobook', 'author', 'avantgarde',\n",
       "       'axé', 'baile', 'balkan', 'beats', 'bigroom', 'black', 'bluegrass',\n",
       "       'blues', 'bollywood', 'bossa', 'brazilian', 'breakbeat', 'breaks',\n",
       "       'broadway', 'cantautori', 'cantopop', 'canzone', 'caribbean',\n",
       "       'caucasian', 'celtic', 'chamber', 'chanson', 'children', 'chill',\n",
       "       'chinese', 'choral', 'christian', 'christmas', 'classical',\n",
       "       'classicmetal', 'club', 'colombian', 'comedy', 'conjazz',\n",
       "       'contemporary', 'country', 'cuban', 'dance', 'dancehall',\n",
       "       'dancepop', 'dark', 'death', 'deep', 'deutschrock', 'deutschspr',\n",
       "       'dirty', 'disco', 'dnb', 'documentary', 'downbeat', 'downtempo',\n",
       "       'drum', 'dub', 'dubstep', 'eastern', 'easy', 'electronic',\n",
       "       'electropop', 'emo', 'entehno', 'epicmetal', 'estrada', 'ethnic',\n",
       "       'eurofolk', 'european', 'experimental', 'extrememetal', 'fado',\n",
       "       'fairytail', 'film', 'fitness', 'flamenco', 'folk', 'folklore',\n",
       "       'folkmetal', 'folkrock', 'folktronica', 'forró', 'frankreich',\n",
       "       'französisch', 'french', 'funk', 'future', 'gangsta', 'garage',\n",
       "       'german', 'ghazal', 'gitarre', 'glitch', 'gospel', 'gothic',\n",
       "       'grime', 'grunge', 'gypsy', 'handsup', \"hard'n'heavy\", 'hardcore',\n",
       "       'hardstyle', 'hardtechno', 'hip', 'hip-hop', 'hiphop',\n",
       "       'historisch', 'holiday', 'hop', 'horror', 'house', 'hymn', 'idm',\n",
       "       'independent', 'indian', 'indie', 'indipop', 'industrial',\n",
       "       'inspirational', 'instrumental', 'international', 'irish', 'jam',\n",
       "       'japanese', 'jazz', 'jewish', 'jpop', 'jungle', 'k-pop',\n",
       "       'karadeniz', 'karaoke', 'kayokyoku', 'korean', 'laiko', 'latin',\n",
       "       'latino', 'leftfield', 'local', 'lounge', 'loungeelectronic',\n",
       "       'lovers', 'malaysian', 'mandopop', 'marschmusik', 'meditative',\n",
       "       'mediterranean', 'melodic', 'metal', 'metalcore', 'mexican',\n",
       "       'middle', 'minimal', 'miscellaneous', 'modern', 'mood', 'mpb',\n",
       "       'muslim', 'native', 'neoklassik', 'neue', 'new', 'newage',\n",
       "       'newwave', 'nu', 'nujazz', 'numetal', 'oceania', 'old', 'opera',\n",
       "       'orchestral', 'other', 'piano', 'podcasts', 'pop', 'popdance',\n",
       "       'popelectronic', 'popeurodance', 'poprussian', 'post',\n",
       "       'posthardcore', 'postrock', 'power', 'progmetal', 'progressive',\n",
       "       'psychedelic', 'punjabi', 'punk', 'quebecois', 'ragga', 'ram',\n",
       "       'rancheras', 'rap', 'rave', 'reggae', 'reggaeton', 'regional',\n",
       "       'relax', 'religious', 'retro', 'rhythm', 'rnb', 'rnr', 'rock',\n",
       "       'rockabilly', 'rockalternative', 'rockindie', 'rockother',\n",
       "       'romance', 'roots', 'ruspop', 'rusrap', 'rusrock', 'russian',\n",
       "       'salsa', 'samba', 'scenic', 'schlager', 'self', 'sertanejo',\n",
       "       'shanson', 'shoegazing', 'showtunes', 'singer', 'ska', 'skarock',\n",
       "       'slow', 'smooth', 'soft', 'soul', 'soulful', 'sound', 'soundtrack',\n",
       "       'southern', 'specialty', 'speech', 'spiritual', 'sport',\n",
       "       'stonerrock', 'surf', 'swing', 'synthpop', 'synthrock',\n",
       "       'sängerportrait', 'tango', 'tanzorchester', 'taraftar', 'tatar',\n",
       "       'tech', 'techno', 'teen', 'thrash', 'top', 'traditional',\n",
       "       'tradjazz', 'trance', 'tribal', 'trip', 'triphop', 'tropical',\n",
       "       'türk', 'türkçe', 'ukrrock', 'unknown', 'urban', 'uzbek',\n",
       "       'variété', 'vi', 'videogame', 'vocal', 'western', 'world',\n",
       "       'worldbeat', 'ïîï', 'электроника'], dtype=object)"
      ]
     },
     "execution_count": 15,
     "metadata": {},
     "output_type": "execute_result"
    }
   ],
   "source": [
    "sort_genre = df['genre']\n",
    "sort_genre = sort_genre.sort_values(ascending=True)\n",
    "sort_genre.unique()\n",
    "# Просмотр уникальных названий жанров"
   ]
  },
  {
   "cell_type": "markdown",
   "metadata": {
    "deletable": false,
    "editable": false,
    "id": "qej-Qmuo_Zct",
    "tags": [
     "start_task"
    ]
   },
   "source": [
    "**Задание 16**\n",
    "\n",
    "Просмотрите список и найдите неявные дубликаты названия `hiphop`. Это могут быть названия с ошибками или альтернативные названия того же жанра.\n",
    "\n",
    "Вы увидите следующие неявные дубликаты:\n",
    "* *hip*,\n",
    "* *hop*,\n",
    "* *hip-hop*.\n",
    "\n",
    "Чтобы очистить от них таблицу используйте метод `replace()` с двумя аргументами: списком строк-дубликатов (включащий *hip*, *hop* и *hip-hop*) и строкой с правильным значением. Вам нужно исправить колонку `genre` в таблице `df`: заменить каждое значение из списка дубликатов на верное. Вместо `hip`, `hop` и `hip-hop` в таблице должно быть значение `hiphop`:"
   ]
  },
  {
   "cell_type": "code",
   "execution_count": 16,
   "metadata": {
    "deletable": false,
    "id": "ErNDkmns_Zct"
   },
   "outputs": [],
   "source": [
    "duplicates = ['hip', 'hop', 'hip-hop']\n",
    "genre = 'hiphop'\n",
    "df['genre'] = df['genre'].replace(duplicates, genre) \n",
    "    # Устранение неявных дубликатов"
   ]
  },
  {
   "cell_type": "markdown",
   "metadata": {
    "deletable": false,
    "editable": false,
    "id": "zQKF16_RG15m",
    "tags": [
     "start_task"
    ]
   },
   "source": [
    "**Задание 17**\n",
    "\n",
    "Проверьте, что заменили неправильные названия:\n",
    "\n",
    "*   hip,\n",
    "*   hop,\n",
    "*   hip-hop.\n",
    "\n",
    "Выведите отсортированный список уникальных значений столбца `genre`:"
   ]
  },
  {
   "cell_type": "code",
   "execution_count": 17,
   "metadata": {
    "deletable": false,
    "id": "wvixALnFG15m",
    "scrolled": true
   },
   "outputs": [
    {
     "data": {
      "text/plain": [
       "array(['acid', 'acoustic', 'action', 'adult', 'africa', 'afrikaans',\n",
       "       'alternative', 'alternativepunk', 'ambient', 'americana',\n",
       "       'animated', 'anime', 'arabesk', 'arabic', 'arena',\n",
       "       'argentinetango', 'art', 'audiobook', 'author', 'avantgarde',\n",
       "       'axé', 'baile', 'balkan', 'beats', 'bigroom', 'black', 'bluegrass',\n",
       "       'blues', 'bollywood', 'bossa', 'brazilian', 'breakbeat', 'breaks',\n",
       "       'broadway', 'cantautori', 'cantopop', 'canzone', 'caribbean',\n",
       "       'caucasian', 'celtic', 'chamber', 'chanson', 'children', 'chill',\n",
       "       'chinese', 'choral', 'christian', 'christmas', 'classical',\n",
       "       'classicmetal', 'club', 'colombian', 'comedy', 'conjazz',\n",
       "       'contemporary', 'country', 'cuban', 'dance', 'dancehall',\n",
       "       'dancepop', 'dark', 'death', 'deep', 'deutschrock', 'deutschspr',\n",
       "       'dirty', 'disco', 'dnb', 'documentary', 'downbeat', 'downtempo',\n",
       "       'drum', 'dub', 'dubstep', 'eastern', 'easy', 'electronic',\n",
       "       'electropop', 'emo', 'entehno', 'epicmetal', 'estrada', 'ethnic',\n",
       "       'eurofolk', 'european', 'experimental', 'extrememetal', 'fado',\n",
       "       'fairytail', 'film', 'fitness', 'flamenco', 'folk', 'folklore',\n",
       "       'folkmetal', 'folkrock', 'folktronica', 'forró', 'frankreich',\n",
       "       'französisch', 'french', 'funk', 'future', 'gangsta', 'garage',\n",
       "       'german', 'ghazal', 'gitarre', 'glitch', 'gospel', 'gothic',\n",
       "       'grime', 'grunge', 'gypsy', 'handsup', \"hard'n'heavy\", 'hardcore',\n",
       "       'hardstyle', 'hardtechno', 'hiphop', 'historisch', 'holiday',\n",
       "       'horror', 'house', 'hymn', 'idm', 'independent', 'indian', 'indie',\n",
       "       'indipop', 'industrial', 'inspirational', 'instrumental',\n",
       "       'international', 'irish', 'jam', 'japanese', 'jazz', 'jewish',\n",
       "       'jpop', 'jungle', 'k-pop', 'karadeniz', 'karaoke', 'kayokyoku',\n",
       "       'korean', 'laiko', 'latin', 'latino', 'leftfield', 'local',\n",
       "       'lounge', 'loungeelectronic', 'lovers', 'malaysian', 'mandopop',\n",
       "       'marschmusik', 'meditative', 'mediterranean', 'melodic', 'metal',\n",
       "       'metalcore', 'mexican', 'middle', 'minimal', 'miscellaneous',\n",
       "       'modern', 'mood', 'mpb', 'muslim', 'native', 'neoklassik', 'neue',\n",
       "       'new', 'newage', 'newwave', 'nu', 'nujazz', 'numetal', 'oceania',\n",
       "       'old', 'opera', 'orchestral', 'other', 'piano', 'podcasts', 'pop',\n",
       "       'popdance', 'popelectronic', 'popeurodance', 'poprussian', 'post',\n",
       "       'posthardcore', 'postrock', 'power', 'progmetal', 'progressive',\n",
       "       'psychedelic', 'punjabi', 'punk', 'quebecois', 'ragga', 'ram',\n",
       "       'rancheras', 'rap', 'rave', 'reggae', 'reggaeton', 'regional',\n",
       "       'relax', 'religious', 'retro', 'rhythm', 'rnb', 'rnr', 'rock',\n",
       "       'rockabilly', 'rockalternative', 'rockindie', 'rockother',\n",
       "       'romance', 'roots', 'ruspop', 'rusrap', 'rusrock', 'russian',\n",
       "       'salsa', 'samba', 'scenic', 'schlager', 'self', 'sertanejo',\n",
       "       'shanson', 'shoegazing', 'showtunes', 'singer', 'ska', 'skarock',\n",
       "       'slow', 'smooth', 'soft', 'soul', 'soulful', 'sound', 'soundtrack',\n",
       "       'southern', 'specialty', 'speech', 'spiritual', 'sport',\n",
       "       'stonerrock', 'surf', 'swing', 'synthpop', 'synthrock',\n",
       "       'sängerportrait', 'tango', 'tanzorchester', 'taraftar', 'tatar',\n",
       "       'tech', 'techno', 'teen', 'thrash', 'top', 'traditional',\n",
       "       'tradjazz', 'trance', 'tribal', 'trip', 'triphop', 'tropical',\n",
       "       'türk', 'türkçe', 'ukrrock', 'unknown', 'urban', 'uzbek',\n",
       "       'variété', 'vi', 'videogame', 'vocal', 'western', 'world',\n",
       "       'worldbeat', 'ïîï', 'электроника'], dtype=object)"
      ]
     },
     "execution_count": 17,
     "metadata": {},
     "output_type": "execute_result"
    }
   ],
   "source": [
    "df['genre'].sort_values().unique() # Проверка на неявные дубликаты"
   ]
  },
  {
   "cell_type": "markdown",
   "metadata": {
    "deletable": false,
    "editable": false,
    "id": "jz6a9-7HQUDd"
   },
   "source": [
    "**Выводы**\n",
    "\n",
    "Предобработка обнаружила три проблемы в данных:\n",
    "\n",
    "- нарушения в стиле заголовков,\n",
    "- пропущенные значения,\n",
    "- дубликаты — явные и неявные.\n",
    "\n",
    "Вы исправили заголовки, чтобы упростить работу с таблицей. Без дубликатов исследование станет более точным.\n",
    "\n",
    "Пропущенные значения вы заменили на `'unknown'`. Ещё предстоит увидеть, не повредят ли исследованию пропуски в колонке `genre`.\n",
    "\n",
    "Теперь можно перейти к проверке гипотез. "
   ]
  },
  {
   "cell_type": "markdown",
   "metadata": {
    "deletable": false,
    "editable": false,
    "id": "WttZHXH0SqKk"
   },
   "source": [
    "## Проверка гипотез"
   ]
  },
  {
   "cell_type": "markdown",
   "metadata": {
    "deletable": false,
    "editable": false,
    "id": "Im936VVi_Zcu"
   },
   "source": [
    "### Сравнение поведения пользователей двух столиц"
   ]
  },
  {
   "cell_type": "markdown",
   "metadata": {
    "deletable": false,
    "editable": false,
    "id": "nwt_MuaL_Zcu"
   },
   "source": [
    "Первая гипотеза утверждает, что пользователи по-разному слушают музыку в Москве и Санкт-Петербурге. Проверьте это предположение по данным о трёх днях недели — понедельнике, среде и пятнице. Для этого:\n",
    "\n",
    "* Разделите пользователей Москвы и Санкт-Петербурга.\n",
    "* Сравните, сколько треков послушала каждая группа пользователей в понедельник, среду и пятницу.\n"
   ]
  },
  {
   "cell_type": "markdown",
   "metadata": {
    "deletable": false,
    "editable": false,
    "id": "8Dw_YMmT_Zcu",
    "tags": [
     "start_task"
    ]
   },
   "source": [
    "**Задание 18**\n",
    "\n",
    "Для тренировки сначала выполните каждый из расчётов по отдельности. \n",
    "\n",
    "Оцените активность пользователей в каждом городе. Сгруппируйте данные по городу и посчитайте прослушивания в каждой группе.\n",
    "\n"
   ]
  },
  {
   "cell_type": "code",
   "execution_count": 18,
   "metadata": {
    "deletable": false,
    "id": "0_Qs96oh_Zcu"
   },
   "outputs": [
    {
     "data": {
      "text/plain": [
       "city\n",
       "Moscow              42741\n",
       "Saint-Petersburg    18512\n",
       "Name: user_id, dtype: int64"
      ]
     },
     "execution_count": 18,
     "metadata": {},
     "output_type": "execute_result"
    }
   ],
   "source": [
    "df.groupby('city')['user_id'].count()\n",
    "# Подсчёт прослушиваний в каждом городе"
   ]
  },
  {
   "cell_type": "markdown",
   "metadata": {
    "deletable": false,
    "editable": false,
    "id": "dzli3w8o_Zcu",
    "tags": [
     "start_task"
    ]
   },
   "source": [
    "В Москве прослушиваний больше, чем в Петербурге. Из этого не следует, что московские пользователи чаще слушают музыку. Просто самих пользователей в Москве больше.\n",
    "\n",
    "**Задание 19**\n",
    "\n",
    "Теперь сгруппируйте данные по дню недели и посчитайте прослушивания в понедельник, среду и пятницу. Учтите, что в данных есть информация о прослушиваниях только за эти дни.\n"
   ]
  },
  {
   "cell_type": "code",
   "execution_count": 19,
   "metadata": {
    "deletable": false,
    "id": "uZMKjiJz_Zcu"
   },
   "outputs": [
    {
     "data": {
      "text/plain": [
       "day\n",
       "Friday       21840\n",
       "Monday       21354\n",
       "Wednesday    18059\n",
       "Name: day, dtype: int64"
      ]
     },
     "execution_count": 19,
     "metadata": {},
     "output_type": "execute_result"
    }
   ],
   "source": [
    "df.groupby('day')['day'].count()\n",
    "# Подсчёт прослушиваний в каждый из трёх дней"
   ]
  },
  {
   "cell_type": "markdown",
   "metadata": {
    "deletable": false,
    "editable": false,
    "id": "cC2tNrlL_Zcu"
   },
   "source": [
    "В среднем пользователи из двух городов менее активны по средам. Но картина может измениться, если рассмотреть каждый город в отдельности."
   ]
  },
  {
   "cell_type": "markdown",
   "metadata": {
    "deletable": false,
    "editable": false,
    "id": "POzs8bGa_Zcu",
    "tags": [
     "start_task"
    ]
   },
   "source": [
    "**Задание 20**\n",
    "\n",
    "\n",
    "Вы видели, как работает группировка по городу и по дням недели. Теперь напишите функцию, которая объединит два эти расчёта.\n",
    "\n",
    "Создайте функцию `number_tracks()`, которая посчитает прослушивания для заданного дня и города. Ей понадобятся два параметра:\n",
    "* день недели,\n",
    "* название города.\n",
    "\n",
    "В функции сохраните в переменную строки исходной таблицы, у которых значение:\n",
    "  * в колонке `day` равно параметру `day`,\n",
    "  * в колонке `city` равно параметру `city`.\n",
    "\n",
    "Для этого примените последовательную фильтрацию с логической индексацией (или сложные логические выражения в одну строку, если вы уже знакомы с ними).\n",
    "\n",
    "Затем посчитайте значения в столбце `user_id` получившейся таблицы. Результат сохраните в новую переменную. Верните эту переменную из функции."
   ]
  },
  {
   "cell_type": "code",
   "execution_count": 20,
   "metadata": {
    "deletable": false,
    "id": "Nz3GdQB1_Zcu"
   },
   "outputs": [],
   "source": [
    "def number_tracks(day,city): # <создание функции number_tracks()>\n",
    "    track_list = df[df['day'] == day]\n",
    "    track_list = track_list[track_list['city'] == city]\n",
    "    track_list_count = track_list['user_id'].count()\n",
    "    return track_list_count\n",
    "    \n",
    "# В переменной track_list сохраняются те строки таблицы df, для которых \n",
    "# значение в столбце 'day' равно параметру day и одновременно значение\n",
    "# в столбце 'city' равно параметру city (используйте последовательную фильтрацию\n",
    "# с помощью логической индексации или сложные логические выражения в одну строку, если вы уже знакомы с ними).\n",
    "# В переменной track_list_count сохраняется число значений столбца 'user_id',\n",
    "# рассчитанное методом count() для таблицы track_list.\n",
    "# Функция возвращает число - значение track_list_count.\n",
    "\n",
    "# Функция для подсчёта прослушиваний для конкретного города и дня.\n",
    "# С помощью последовательной фильтрации с логической индексацией она \n",
    "# сначала получит из исходной таблицы строки с нужным днём,\n",
    "# затем из результата отфильтрует строки с нужным городом,\n",
    "# методом count() посчитает количество значений в колонке user_id. \n",
    "# Это количество функция вернёт в качестве результата"
   ]
  },
  {
   "cell_type": "markdown",
   "metadata": {
    "deletable": false,
    "editable": false,
    "id": "ytf7xFrFJQ2r",
    "tags": [
     "start_task"
    ]
   },
   "source": [
    "**Задание 21**\n",
    "\n",
    "Вызовите `number_tracks()` шесть раз, меняя значение параметров — так, чтобы получить данные для каждого города в каждый из трёх дней."
   ]
  },
  {
   "cell_type": "code",
   "execution_count": 21,
   "metadata": {
    "deletable": false,
    "id": "rJcRATNQ_Zcu"
   },
   "outputs": [
    {
     "data": {
      "text/plain": [
       "15740"
      ]
     },
     "execution_count": 21,
     "metadata": {},
     "output_type": "execute_result"
    }
   ],
   "source": [
    "number_tracks('Monday','Moscow')# количество прослушиваний в Москве по понедельникам"
   ]
  },
  {
   "cell_type": "code",
   "execution_count": 22,
   "metadata": {
    "deletable": false,
    "id": "hq_ncZ5T_Zcu"
   },
   "outputs": [
    {
     "data": {
      "text/plain": [
       "5614"
      ]
     },
     "execution_count": 22,
     "metadata": {},
     "output_type": "execute_result"
    }
   ],
   "source": [
    "number_tracks('Monday','Saint-Petersburg')# количество прослушиваний в Санкт-Петербурге по понедельникам"
   ]
  },
  {
   "cell_type": "code",
   "execution_count": 23,
   "metadata": {
    "deletable": false,
    "id": "_NTy2VPU_Zcu"
   },
   "outputs": [
    {
     "data": {
      "text/plain": [
       "11056"
      ]
     },
     "execution_count": 23,
     "metadata": {},
     "output_type": "execute_result"
    }
   ],
   "source": [
    "number_tracks('Wednesday','Moscow')# количество прослушиваний в Москве по средам"
   ]
  },
  {
   "cell_type": "code",
   "execution_count": 24,
   "metadata": {
    "deletable": false,
    "id": "j2y3TAwo_Zcu"
   },
   "outputs": [
    {
     "data": {
      "text/plain": [
       "7003"
      ]
     },
     "execution_count": 24,
     "metadata": {},
     "output_type": "execute_result"
    }
   ],
   "source": [
    "number_tracks('Wednesday','Saint-Petersburg')# количество прослушиваний в Санкт-Петербурге по средам"
   ]
  },
  {
   "cell_type": "code",
   "execution_count": 25,
   "metadata": {
    "deletable": false,
    "id": "vYDw5u_K_Zcu"
   },
   "outputs": [
    {
     "data": {
      "text/plain": [
       "15945"
      ]
     },
     "execution_count": 25,
     "metadata": {},
     "output_type": "execute_result"
    }
   ],
   "source": [
    "number_tracks('Friday','Moscow') # количество прослушиваний в Москве по пятницам"
   ]
  },
  {
   "cell_type": "code",
   "execution_count": 26,
   "metadata": {
    "deletable": false,
    "id": "8_yzFtW3_Zcu"
   },
   "outputs": [
    {
     "data": {
      "text/plain": [
       "5895"
      ]
     },
     "execution_count": 26,
     "metadata": {},
     "output_type": "execute_result"
    }
   ],
   "source": [
    "number_tracks('Friday','Saint-Petersburg')# количество прослушиваний в Санкт-Петербурге по пятницам"
   ]
  },
  {
   "cell_type": "markdown",
   "metadata": {
    "deletable": false,
    "editable": false,
    "id": "7QXffbO-_Zcu",
    "tags": [
     "start_task"
    ]
   },
   "source": [
    "**Задание 22**\n",
    "\n",
    "Создайте c помощью конструктора `pd.DataFrame` таблицу, где\n",
    "* названия колонок — `['city', 'monday', 'wednesday', 'friday']`;\n",
    "* данные — результаты, которые вы получили с помощью `number_tracks`."
   ]
  },
  {
   "cell_type": "code",
   "execution_count": 27,
   "metadata": {
    "deletable": false,
    "id": "APAcLpOr_Zcu"
   },
   "outputs": [
    {
     "data": {
      "text/html": [
       "<div>\n",
       "<style scoped>\n",
       "    .dataframe tbody tr th:only-of-type {\n",
       "        vertical-align: middle;\n",
       "    }\n",
       "\n",
       "    .dataframe tbody tr th {\n",
       "        vertical-align: top;\n",
       "    }\n",
       "\n",
       "    .dataframe thead th {\n",
       "        text-align: right;\n",
       "    }\n",
       "</style>\n",
       "<table border=\"1\" class=\"dataframe\">\n",
       "  <thead>\n",
       "    <tr style=\"text-align: right;\">\n",
       "      <th></th>\n",
       "      <th>city</th>\n",
       "      <th>monday</th>\n",
       "      <th>wednesday</th>\n",
       "      <th>friday</th>\n",
       "    </tr>\n",
       "  </thead>\n",
       "  <tbody>\n",
       "    <tr>\n",
       "      <th>0</th>\n",
       "      <td>Москва</td>\n",
       "      <td>15740</td>\n",
       "      <td>11056</td>\n",
       "      <td>15945</td>\n",
       "    </tr>\n",
       "    <tr>\n",
       "      <th>1</th>\n",
       "      <td>Санкт-Петербург</td>\n",
       "      <td>5614</td>\n",
       "      <td>7003</td>\n",
       "      <td>5895</td>\n",
       "    </tr>\n",
       "  </tbody>\n",
       "</table>\n",
       "</div>"
      ],
      "text/plain": [
       "              city  monday  wednesday  friday\n",
       "0           Москва   15740      11056   15945\n",
       "1  Санкт-Петербург    5614       7003    5895"
      ]
     },
     "execution_count": 27,
     "metadata": {},
     "output_type": "execute_result"
    }
   ],
   "source": [
    "columns = ['city', 'monday', 'wednesday', 'friday']\n",
    "data = [['Москва', 15740, 11056, 15945], ['Санкт-Петербург', 5614, 7003, 5895]]\n",
    "info =  pd.DataFrame(data = data, columns = columns)\n",
    "info\n",
    "# Таблица с результатами"
   ]
  },
  {
   "cell_type": "markdown",
   "metadata": {
    "deletable": false,
    "editable": false,
    "id": "-EgPIHYu_Zcu"
   },
   "source": [
    "**Выводы**\n",
    "\n",
    "Данные показывают разницу поведения пользователей:\n",
    "\n",
    "- В Москве пик прослушиваний приходится на понедельник и пятницу, а в среду заметен спад.\n",
    "- В Петербурге, наоборот, больше слушают музыку по средам. Активность в понедельник и пятницу здесь почти в равной мере уступает среде.\n",
    "\n",
    "Значит, данные говорят в пользу первой гипотезы."
   ]
  },
  {
   "cell_type": "markdown",
   "metadata": {
    "deletable": false,
    "editable": false,
    "id": "atZAxtq4_Zcu"
   },
   "source": [
    "### Музыка в начале и в конце недели"
   ]
  },
  {
   "cell_type": "markdown",
   "metadata": {
    "deletable": false,
    "editable": false,
    "id": "eXrQqXFH_Zcu"
   },
   "source": [
    "Согласно второй гипотезе, утром в понедельник в Москве преобладают одни жанры, а в Петербурге — другие. Так же и вечером пятницы преобладают разные жанры — в зависимости от города."
   ]
  },
  {
   "cell_type": "markdown",
   "metadata": {
    "deletable": false,
    "editable": false,
    "id": "S8UcW6Hw_Zcu",
    "tags": [
     "start_task"
    ]
   },
   "source": [
    "**Задание 23**\n",
    "\n",
    "Сохраните таблицы с данными в две переменные:\n",
    "* по Москве — в `moscow_general`;\n",
    "* по Санкт-Петербургу — в `spb_general`."
   ]
  },
  {
   "cell_type": "code",
   "execution_count": 31,
   "metadata": {
    "deletable": false,
    "id": "qeaFfM_P_Zcu"
   },
   "outputs": [
    {
     "data": {
      "text/html": [
       "<div>\n",
       "<style scoped>\n",
       "    .dataframe tbody tr th:only-of-type {\n",
       "        vertical-align: middle;\n",
       "    }\n",
       "\n",
       "    .dataframe tbody tr th {\n",
       "        vertical-align: top;\n",
       "    }\n",
       "\n",
       "    .dataframe thead th {\n",
       "        text-align: right;\n",
       "    }\n",
       "</style>\n",
       "<table border=\"1\" class=\"dataframe\">\n",
       "  <thead>\n",
       "    <tr style=\"text-align: right;\">\n",
       "      <th></th>\n",
       "      <th>user_id</th>\n",
       "      <th>track</th>\n",
       "      <th>artist</th>\n",
       "      <th>genre</th>\n",
       "      <th>city</th>\n",
       "      <th>time</th>\n",
       "      <th>day</th>\n",
       "    </tr>\n",
       "  </thead>\n",
       "  <tbody>\n",
       "    <tr>\n",
       "      <th>1</th>\n",
       "      <td>55204538</td>\n",
       "      <td>Delayed Because of Accident</td>\n",
       "      <td>Andreas Rönnberg</td>\n",
       "      <td>rock</td>\n",
       "      <td>Moscow</td>\n",
       "      <td>14:07:09</td>\n",
       "      <td>Friday</td>\n",
       "    </tr>\n",
       "    <tr>\n",
       "      <th>4</th>\n",
       "      <td>E2DC1FAE</td>\n",
       "      <td>Soul People</td>\n",
       "      <td>Space Echo</td>\n",
       "      <td>dance</td>\n",
       "      <td>Moscow</td>\n",
       "      <td>08:34:34</td>\n",
       "      <td>Monday</td>\n",
       "    </tr>\n",
       "    <tr>\n",
       "      <th>6</th>\n",
       "      <td>4CB90AA5</td>\n",
       "      <td>True</td>\n",
       "      <td>Roman Messer</td>\n",
       "      <td>dance</td>\n",
       "      <td>Moscow</td>\n",
       "      <td>13:00:07</td>\n",
       "      <td>Wednesday</td>\n",
       "    </tr>\n",
       "    <tr>\n",
       "      <th>7</th>\n",
       "      <td>F03E1C1F</td>\n",
       "      <td>Feeling This Way</td>\n",
       "      <td>Polina Griffith</td>\n",
       "      <td>dance</td>\n",
       "      <td>Moscow</td>\n",
       "      <td>20:47:49</td>\n",
       "      <td>Wednesday</td>\n",
       "    </tr>\n",
       "    <tr>\n",
       "      <th>8</th>\n",
       "      <td>8FA1D3BE</td>\n",
       "      <td>И вновь продолжается бой</td>\n",
       "      <td>unknown</td>\n",
       "      <td>ruspop</td>\n",
       "      <td>Moscow</td>\n",
       "      <td>09:17:40</td>\n",
       "      <td>Friday</td>\n",
       "    </tr>\n",
       "  </tbody>\n",
       "</table>\n",
       "</div>"
      ],
      "text/plain": [
       "    user_id                        track            artist   genre    city  \\\n",
       "1  55204538  Delayed Because of Accident  Andreas Rönnberg    rock  Moscow   \n",
       "4  E2DC1FAE                  Soul People        Space Echo   dance  Moscow   \n",
       "6  4CB90AA5                         True      Roman Messer   dance  Moscow   \n",
       "7  F03E1C1F             Feeling This Way   Polina Griffith   dance  Moscow   \n",
       "8  8FA1D3BE     И вновь продолжается бой           unknown  ruspop  Moscow   \n",
       "\n",
       "       time        day  \n",
       "1  14:07:09     Friday  \n",
       "4  08:34:34     Monday  \n",
       "6  13:00:07  Wednesday  \n",
       "7  20:47:49  Wednesday  \n",
       "8  09:17:40     Friday  "
      ]
     },
     "execution_count": 31,
     "metadata": {},
     "output_type": "execute_result"
    }
   ],
   "source": [
    "moscow_general = df[df['city'] == 'Moscow']\n",
    "moscow_general.head()\n",
    "\n",
    "# получение таблицы moscow_general из тех строк таблицы df, \n",
    "# для которых значение в столбце 'city' равно 'Moscow'\n"
   ]
  },
  {
   "cell_type": "code",
   "execution_count": 32,
   "metadata": {
    "deletable": false,
    "id": "ORaVRKto_Zcu",
    "scrolled": true
   },
   "outputs": [
    {
     "data": {
      "text/html": [
       "<div>\n",
       "<style scoped>\n",
       "    .dataframe tbody tr th:only-of-type {\n",
       "        vertical-align: middle;\n",
       "    }\n",
       "\n",
       "    .dataframe tbody tr th {\n",
       "        vertical-align: top;\n",
       "    }\n",
       "\n",
       "    .dataframe thead th {\n",
       "        text-align: right;\n",
       "    }\n",
       "</style>\n",
       "<table border=\"1\" class=\"dataframe\">\n",
       "  <thead>\n",
       "    <tr style=\"text-align: right;\">\n",
       "      <th></th>\n",
       "      <th>user_id</th>\n",
       "      <th>track</th>\n",
       "      <th>artist</th>\n",
       "      <th>genre</th>\n",
       "      <th>city</th>\n",
       "      <th>time</th>\n",
       "      <th>day</th>\n",
       "    </tr>\n",
       "  </thead>\n",
       "  <tbody>\n",
       "    <tr>\n",
       "      <th>0</th>\n",
       "      <td>FFB692EC</td>\n",
       "      <td>Kamigata To Boots</td>\n",
       "      <td>The Mass Missile</td>\n",
       "      <td>rock</td>\n",
       "      <td>Saint-Petersburg</td>\n",
       "      <td>20:28:33</td>\n",
       "      <td>Wednesday</td>\n",
       "    </tr>\n",
       "    <tr>\n",
       "      <th>2</th>\n",
       "      <td>20EC38</td>\n",
       "      <td>Funiculì funiculà</td>\n",
       "      <td>Mario Lanza</td>\n",
       "      <td>pop</td>\n",
       "      <td>Saint-Petersburg</td>\n",
       "      <td>20:58:07</td>\n",
       "      <td>Wednesday</td>\n",
       "    </tr>\n",
       "    <tr>\n",
       "      <th>3</th>\n",
       "      <td>A3DD03C9</td>\n",
       "      <td>Dragons in the Sunset</td>\n",
       "      <td>Fire + Ice</td>\n",
       "      <td>folk</td>\n",
       "      <td>Saint-Petersburg</td>\n",
       "      <td>08:37:09</td>\n",
       "      <td>Monday</td>\n",
       "    </tr>\n",
       "    <tr>\n",
       "      <th>5</th>\n",
       "      <td>842029A1</td>\n",
       "      <td>Преданная</td>\n",
       "      <td>IMPERVTOR</td>\n",
       "      <td>rusrap</td>\n",
       "      <td>Saint-Petersburg</td>\n",
       "      <td>13:09:41</td>\n",
       "      <td>Friday</td>\n",
       "    </tr>\n",
       "    <tr>\n",
       "      <th>9</th>\n",
       "      <td>E772D5C0</td>\n",
       "      <td>Pessimist</td>\n",
       "      <td>unknown</td>\n",
       "      <td>dance</td>\n",
       "      <td>Saint-Petersburg</td>\n",
       "      <td>21:20:49</td>\n",
       "      <td>Wednesday</td>\n",
       "    </tr>\n",
       "  </tbody>\n",
       "</table>\n",
       "</div>"
      ],
      "text/plain": [
       "    user_id                  track            artist   genre  \\\n",
       "0  FFB692EC      Kamigata To Boots  The Mass Missile    rock   \n",
       "2    20EC38      Funiculì funiculà       Mario Lanza     pop   \n",
       "3  A3DD03C9  Dragons in the Sunset        Fire + Ice    folk   \n",
       "5  842029A1              Преданная         IMPERVTOR  rusrap   \n",
       "9  E772D5C0              Pessimist           unknown   dance   \n",
       "\n",
       "               city      time        day  \n",
       "0  Saint-Petersburg  20:28:33  Wednesday  \n",
       "2  Saint-Petersburg  20:58:07  Wednesday  \n",
       "3  Saint-Petersburg  08:37:09     Monday  \n",
       "5  Saint-Petersburg  13:09:41     Friday  \n",
       "9  Saint-Petersburg  21:20:49  Wednesday  "
      ]
     },
     "execution_count": 32,
     "metadata": {},
     "output_type": "execute_result"
    }
   ],
   "source": [
    "spb_general = df[df['city'] == 'Saint-Petersburg'] \n",
    "spb_general.head()\n",
    "# получение таблицы spb_general из тех строк таблицы df,\n",
    "# для которых значение в столбце 'city' равно 'Saint-Petersburg'\n"
   ]
  },
  {
   "cell_type": "markdown",
   "metadata": {
    "deletable": false,
    "id": "MEJV-CX2_Zcu",
    "tags": [
     "start_task"
    ]
   },
   "source": [
    "**Задание 24**\n",
    "\n",
    "Создайте функцию `genre_weekday()` с четырьмя параметрами:\n",
    "* таблица (датафрейм) с данными,\n",
    "* день недели,\n",
    "* начальная временная метка в формате 'hh:mm', \n",
    "* последняя временная метка в формате 'hh:mm'.\n",
    "\n",
    "Функция должна вернуть информацию о топ-10 жанров тех треков, которые прослушивали в указанный день, в промежутке между двумя отметками времени."
   ]
  },
  {
   "cell_type": "code",
   "execution_count": 34,
   "metadata": {
    "deletable": false,
    "id": "laJT9BYl_Zcu"
   },
   "outputs": [],
   "source": [
    "# Объявление функции genre_weekday() с параметрами table, day, time1, time2,\n",
    "# которая возвращает информацию о самых популярных жанрах в указанный день в\n",
    "# заданное время:\n",
    "# 1) в переменную genre_df сохраняются те строки переданного датафрейма table, для\n",
    "#    которых одновременно:\n",
    "#    - значение в столбце day равно значению аргумента day\n",
    "#    - значение в столбце time больше значения аргумента time1\n",
    "#    - значение в столбце time меньше значения аргумента time2\n",
    "#    Используйте последовательную фильтрацию с помощью логической индексации.\n",
    "# 2) сгруппировать датафрейм genre_df по столбцу genre, взять один из его\n",
    "#    столбцов и посчитать методом count() количество записей для каждого из\n",
    "#    присутствующих жанров, получившийся Series записать в переменную\n",
    "#    genre_df_count\n",
    "# 3) отсортировать genre_df_count по убыванию встречаемости и сохранить\n",
    "#    в переменную genre_df_sorted\n",
    "# 4) вернуть Series из 10 первых значений genre_df_sorted, это будут топ-10\n",
    "#    популярных жанров (в указанный день, в заданное время)\n",
    "\n",
    "def genre_weekday(df, day, time1, time2):\n",
    "    # последовательная фильтрация\n",
    "    # оставляем в genre_df только те строки df, у которых день равен day\n",
    "    genre_df = df[df['day'] == day]\n",
    "    # оставляем в genre_df только те строки genre_df, у которых время меньше time2\n",
    "    genre_df = genre_df[genre_df['time'] < time2]\n",
    "    # оставляем в genre_df только те строки genre_df, у которых время больше time1\n",
    "    genre_df = genre_df[genre_df['time'] > time1]\n",
    "    # сгруппируем отфильтрованный датафрейм по столбцу с названиями жанров, возьмём столбец genre и посчитаем кол-во строк для каждого жанра методом count()\n",
    "    genre_df_grouped = genre_df.groupby('genre')['genre'].count()\n",
    "    # отсортируем результат по убыванию (чтобы в начале Series оказались самые популярные жанры)\n",
    "    genre_df_sorted = genre_df_grouped.sort_values(ascending=False)\n",
    "    # вернём Series с 10 самыми популярными жанрами в указанный отрезок времени заданного дня\n",
    "    return genre_df_sorted[:10]"
   ]
  },
  {
   "cell_type": "markdown",
   "metadata": {
    "deletable": false,
    "editable": false,
    "id": "la2s2_PF_Zcu",
    "tags": [
     "start_task"
    ]
   },
   "source": [
    "**Задание 25**\n",
    "\n",
    "\n",
    "Cравните результаты функции `genre_weekday()` для Москвы и Санкт-Петербурга в понедельник утром (с 7:00 до 11:00) и в пятницу вечером (с 17:00 до 23:00):"
   ]
  },
  {
   "cell_type": "code",
   "execution_count": 35,
   "metadata": {
    "deletable": false,
    "id": "yz7itPUQ_Zcu"
   },
   "outputs": [
    {
     "data": {
      "text/plain": [
       "genre\n",
       "pop            781\n",
       "dance          549\n",
       "electronic     480\n",
       "rock           474\n",
       "hiphop         286\n",
       "ruspop         186\n",
       "world          181\n",
       "rusrap         175\n",
       "alternative    164\n",
       "unknown        161\n",
       "Name: genre, dtype: int64"
      ]
     },
     "execution_count": 35,
     "metadata": {},
     "output_type": "execute_result"
    }
   ],
   "source": [
    "genre_weekday(moscow_general, 'Monday', '07:00', '11:00')\n",
    "# вызов функции для утра понедельника в Москве (вместо df — таблица moscow_general)\n",
    "# объекты, хранящие время, являются строками и сравниваются как строки\n",
    "# пример вызова: genre_weekday(moscow_general, 'Monday', '07:00', '11:00')"
   ]
  },
  {
   "cell_type": "code",
   "execution_count": 36,
   "metadata": {
    "deletable": false,
    "id": "kwUcHPdy_Zcu"
   },
   "outputs": [
    {
     "data": {
      "text/plain": [
       "genre\n",
       "pop            218\n",
       "dance          182\n",
       "rock           162\n",
       "electronic     147\n",
       "hiphop          80\n",
       "ruspop          64\n",
       "alternative     58\n",
       "rusrap          55\n",
       "jazz            44\n",
       "classical       40\n",
       "Name: genre, dtype: int64"
      ]
     },
     "execution_count": 36,
     "metadata": {},
     "output_type": "execute_result"
    }
   ],
   "source": [
    "genre_weekday(spb_general, 'Monday', '07:00', '11:00')\n",
    "# вызов функции для утра понедельника в Петербурге (вместо df — таблица spb_general)"
   ]
  },
  {
   "cell_type": "code",
   "execution_count": 37,
   "metadata": {
    "deletable": false,
    "id": "EzXVRE1o_Zcu"
   },
   "outputs": [
    {
     "data": {
      "text/plain": [
       "genre\n",
       "pop            713\n",
       "rock           517\n",
       "dance          495\n",
       "electronic     482\n",
       "hiphop         273\n",
       "world          208\n",
       "ruspop         170\n",
       "alternative    163\n",
       "classical      163\n",
       "rusrap         142\n",
       "Name: genre, dtype: int64"
      ]
     },
     "execution_count": 37,
     "metadata": {},
     "output_type": "execute_result"
    }
   ],
   "source": [
    "genre_weekday(moscow_general, 'Friday', '17:00', '23:00')\n",
    "# вызов функции для вечера пятницы в Москве"
   ]
  },
  {
   "cell_type": "code",
   "execution_count": 38,
   "metadata": {
    "deletable": false,
    "id": "JZaEKu5v_Zcu"
   },
   "outputs": [
    {
     "data": {
      "text/plain": [
       "genre\n",
       "pop            256\n",
       "electronic     216\n",
       "rock           216\n",
       "dance          210\n",
       "hiphop          97\n",
       "alternative     63\n",
       "jazz            61\n",
       "classical       60\n",
       "rusrap          59\n",
       "world           54\n",
       "Name: genre, dtype: int64"
      ]
     },
     "execution_count": 38,
     "metadata": {},
     "output_type": "execute_result"
    }
   ],
   "source": [
    "genre_weekday(spb_general, 'Friday', '17:00', '23:00')\n",
    "# вызов функции для вечера пятницы в Петербурге"
   ]
  },
  {
   "cell_type": "markdown",
   "metadata": {
    "deletable": false,
    "editable": false,
    "id": "wrCe4MNX_Zcu"
   },
   "source": [
    "**Выводы**\n",
    "\n",
    "Если сравнить топ-10 жанров в понедельник утром, можно сделать такие выводы:\n",
    "\n",
    "1. В Москве и Петербурге слушают похожую музыку. Единственное отличие — в московский рейтинг вошёл жанр “world”, а в петербургский — джаз и классика.\n",
    "\n",
    "2. В Москве пропущенных значений оказалось так много, что значение `'unknown'` заняло десятое место среди самых популярных жанров. Значит, пропущенные значения занимают существенную долю в данных и угрожают достоверности исследования.\n",
    "\n",
    "Вечер пятницы не меняет эту картину. Некоторые жанры поднимаются немного выше, другие спускаются, но в целом топ-10 остаётся тем же самым.\n",
    "\n",
    "Таким образом, вторая гипотеза подтвердилась лишь частично:\n",
    "* Пользователи слушают похожую музыку в начале недели и в конце.\n",
    "* Разница между Москвой и Петербургом не слишком выражена. В Москве чаще слушают русскую популярную музыку, в Петербурге — джаз.\n",
    "\n",
    "Однако пропуски в данных ставят под сомнение этот результат. В Москве их так много, что рейтинг топ-10 мог бы выглядеть иначе, если бы не утерянные  данные о жанрах."
   ]
  },
  {
   "cell_type": "markdown",
   "metadata": {
    "deletable": false,
    "editable": false,
    "id": "JolODAqr_Zcu"
   },
   "source": [
    "### Жанровые предпочтения в Москве и Петербурге\n",
    "\n",
    "Гипотеза: Петербург — столица рэпа, музыку этого жанра там слушают чаще, чем в Москве.  А Москва — город контрастов, в котором, тем не менее, преобладает поп-музыка."
   ]
  },
  {
   "cell_type": "markdown",
   "metadata": {
    "deletable": false,
    "editable": false,
    "id": "DlegSvaT_Zcu",
    "tags": [
     "start_task"
    ]
   },
   "source": [
    "**Задание 26**\n",
    "\n",
    "Сгруппируйте таблицу `moscow_general` по жанру и посчитайте прослушивания треков каждого жанра методом `count()`. Затем отсортируйте результат в порядке убывания и сохраните его в таблице `moscow_genres`."
   ]
  },
  {
   "cell_type": "code",
   "execution_count": 39,
   "metadata": {
    "deletable": false,
    "id": "r19lIPke_Zcu"
   },
   "outputs": [],
   "source": [
    "moscow_genres = moscow_general.groupby('genre')['genre'].count().sort_values(ascending=False)\n",
    "\n",
    "# одной строкой: группировка таблицы moscow_general по столбцу 'genre', \n",
    "# подсчёт числа значений 'genre' в этой группировке методом count(), \n",
    "# сортировка получившегося Series в порядке убывания и сохранение в moscow_genres"
   ]
  },
  {
   "cell_type": "markdown",
   "metadata": {
    "deletable": false,
    "editable": false,
    "id": "6kMuomxTiIr8",
    "tags": [
     "start_task"
    ]
   },
   "source": [
    "**Задание 27**\n",
    "\n",
    "Выведите на экран первые десять строк `moscow_genres`:"
   ]
  },
  {
   "cell_type": "code",
   "execution_count": 40,
   "metadata": {
    "deletable": false,
    "id": "WhCSooF8_Zcv"
   },
   "outputs": [
    {
     "data": {
      "text/plain": [
       "genre\n",
       "pop            5892\n",
       "dance          4435\n",
       "rock           3965\n",
       "electronic     3786\n",
       "hiphop         2096\n",
       "classical      1616\n",
       "world          1432\n",
       "alternative    1379\n",
       "ruspop         1372\n",
       "rusrap         1161\n",
       "Name: genre, dtype: int64"
      ]
     },
     "execution_count": 40,
     "metadata": {},
     "output_type": "execute_result"
    }
   ],
   "source": [
    "moscow_genres.head(10) # просмотр первых 10 строк moscow_genres"
   ]
  },
  {
   "cell_type": "markdown",
   "metadata": {
    "deletable": false,
    "editable": false,
    "id": "cnPG2vnN_Zcv",
    "tags": [
     "start_task"
    ]
   },
   "source": [
    "**Задание 28**\n",
    "\n",
    "\n",
    "Теперь повторите то же и для Петербурга.\n",
    "\n",
    "Сгруппируйте таблицу `spb_general` по жанру. Посчитайте прослушивания треков каждого жанра. Результат отсортируйте в порядке убывания и сохраните в таблице `spb_genres`:\n"
   ]
  },
  {
   "cell_type": "code",
   "execution_count": 41,
   "metadata": {
    "deletable": false,
    "id": "gluLIpE7_Zcv"
   },
   "outputs": [],
   "source": [
    "spb_genres = spb_general.groupby('genre')['genre'].count().sort_values(ascending=False)\n",
    "\n",
    "# одной строкой: группировка таблицы spb_general по столбцу 'genre', \n",
    "# подсчёт числа значений 'genre' в этой группировке методом count(), \n",
    "# сортировка получившегося Series в порядке убывания и сохранение в spb_genres"
   ]
  },
  {
   "cell_type": "markdown",
   "metadata": {
    "deletable": false,
    "editable": false,
    "id": "5Doha_ODgyQ8",
    "tags": [
     "start_task"
    ]
   },
   "source": [
    "**Задание 29**\n",
    "\n",
    "Выведите на экран первые десять строк `spb_genres`:"
   ]
  },
  {
   "cell_type": "code",
   "execution_count": 42,
   "metadata": {
    "deletable": false,
    "id": "uaGJHjVU_Zcv"
   },
   "outputs": [
    {
     "data": {
      "text/plain": [
       "genre\n",
       "pop            2431\n",
       "dance          1932\n",
       "rock           1879\n",
       "electronic     1736\n",
       "hiphop          960\n",
       "alternative     649\n",
       "classical       646\n",
       "rusrap          564\n",
       "ruspop          538\n",
       "world           515\n",
       "Name: genre, dtype: int64"
      ]
     },
     "execution_count": 42,
     "metadata": {},
     "output_type": "execute_result"
    }
   ],
   "source": [
    "spb_genres.head(10) # просмотр первых 10 строк spb_genres"
   ]
  },
  {
   "cell_type": "markdown",
   "metadata": {
    "deletable": false,
    "editable": false,
    "id": "RY51YJYu_Zcv"
   },
   "source": [
    "**Выводы**"
   ]
  },
  {
   "cell_type": "markdown",
   "metadata": {
    "deletable": false,
    "editable": false,
    "id": "nVhnJEm__Zcv"
   },
   "source": [
    "Гипотеза частично подтвердилась:\n",
    "* Поп-музыка — самый популярный жанр в Москве, как и предполагала гипотеза. Более того, в топ-10 жанров встречается близкий жанр — русская популярная музыка.\n",
    "* Вопреки ожиданиям, рэп одинаково популярен в Москве и Петербурге. \n"
   ]
  },
  {
   "cell_type": "markdown",
   "metadata": {
    "deletable": false,
    "editable": false,
    "id": "ykKQ0N65_Zcv"
   },
   "source": [
    "## Итоги исследования"
   ]
  },
  {
   "cell_type": "markdown",
   "metadata": {
    "deletable": false,
    "editable": false,
    "id": "tjUwbHb3_Zcv"
   },
   "source": [
    "Вы проверили три гипотезы и установили:\n",
    "\n",
    "1. День недели по-разному влияет на активность пользователей в Москве и Петербурге. \n",
    "\n",
    "Первая гипотеза полностью подтвердилась.\n",
    "\n",
    "2. Музыкальные предпочтения не сильно меняются в течение недели — будь то Москва или Петербург. Небольшие различия заметны в начале недели, по понедельникам:\n",
    "* в Москве слушают музыку жанра “world”,\n",
    "* в Петербурге — джаз и классику.\n",
    "\n",
    "Таким образом, вторая гипотеза подтвердилась лишь отчасти. Этот результат мог оказаться иным, если бы не пропуски в данных.\n",
    "\n",
    "3. Во вкусах пользователей Москвы и Петербурга больше общего чем различий. Вопреки ожиданиям, предпочтения жанров в Петербурге напоминают московские.\n",
    "\n",
    "Третья гипотеза не подтвердилась. Если различия в предпочтениях и существуют, на основной массе пользователей они незаметны.\n",
    "\n",
    "**На практике исследования содержат проверки статистических гипотез.**\n",
    "Из данных одного сервиса не всегда можно сделать вывод о всех жителях города.\n",
    "Проверки статистических гипотез покажут, насколько они достоверны, исходя из имеющихся данных. \n",
    "С методами проверок гипотез вы ещё познакомитесь в следующих темах."
   ]
  }
 ],
 "metadata": {
  "ExecuteTimeLog": [
   {
    "duration": 60,
    "start_time": "2022-07-03T23:09:07.120Z"
   },
   {
    "duration": 114,
    "start_time": "2022-07-03T23:09:17.023Z"
   },
   {
    "duration": 6,
    "start_time": "2022-07-03T23:09:32.319Z"
   },
   {
    "duration": 94,
    "start_time": "2022-07-03T23:09:57.214Z"
   },
   {
    "duration": 98,
    "start_time": "2022-07-03T23:10:04.827Z"
   },
   {
    "duration": 498,
    "start_time": "2022-07-03T23:10:21.925Z"
   },
   {
    "duration": 94,
    "start_time": "2022-07-03T23:10:36.614Z"
   },
   {
    "duration": 222,
    "start_time": "2022-07-03T23:11:49.706Z"
   },
   {
    "duration": 425,
    "start_time": "2022-07-03T23:12:21.419Z"
   },
   {
    "duration": 23,
    "start_time": "2022-07-03T23:12:29.635Z"
   },
   {
    "duration": 51,
    "start_time": "2022-07-03T23:13:10.011Z"
   },
   {
    "duration": 5,
    "start_time": "2022-07-03T23:19:36.535Z"
   },
   {
    "duration": 5,
    "start_time": "2022-07-03T23:23:16.721Z"
   },
   {
    "duration": 28,
    "start_time": "2022-07-03T23:23:47.895Z"
   },
   {
    "duration": 5,
    "start_time": "2022-07-03T23:23:51.124Z"
   },
   {
    "duration": 39,
    "start_time": "2022-07-03T23:28:53.677Z"
   },
   {
    "duration": 41,
    "start_time": "2022-07-04T10:14:48.150Z"
   },
   {
    "duration": 6,
    "start_time": "2022-07-04T10:14:55.107Z"
   },
   {
    "duration": 6,
    "start_time": "2022-07-04T10:15:03.100Z"
   },
   {
    "duration": 6,
    "start_time": "2022-07-04T10:15:08.707Z"
   },
   {
    "duration": 40,
    "start_time": "2022-07-04T10:15:31.800Z"
   },
   {
    "duration": 350,
    "start_time": "2022-07-04T10:16:26.720Z"
   },
   {
    "duration": 409,
    "start_time": "2022-07-04T10:16:27.072Z"
   },
   {
    "duration": 15,
    "start_time": "2022-07-04T10:16:27.482Z"
   },
   {
    "duration": 25,
    "start_time": "2022-07-04T10:16:27.498Z"
   },
   {
    "duration": 2,
    "start_time": "2022-07-04T10:16:27.525Z"
   },
   {
    "duration": 5,
    "start_time": "2022-07-04T10:16:27.528Z"
   },
   {
    "duration": 11,
    "start_time": "2022-07-04T10:16:27.534Z"
   },
   {
    "duration": 5,
    "start_time": "2022-07-04T10:16:27.546Z"
   },
   {
    "duration": 39,
    "start_time": "2022-07-04T10:16:27.552Z"
   },
   {
    "duration": 16,
    "start_time": "2022-07-04T10:16:27.592Z"
   },
   {
    "duration": 4,
    "start_time": "2022-07-04T10:16:27.609Z"
   },
   {
    "duration": 5,
    "start_time": "2022-07-04T10:16:27.614Z"
   },
   {
    "duration": 6,
    "start_time": "2022-07-04T10:16:27.620Z"
   },
   {
    "duration": 3,
    "start_time": "2022-07-04T10:16:27.629Z"
   },
   {
    "duration": 4,
    "start_time": "2022-07-04T10:16:27.634Z"
   },
   {
    "duration": 4,
    "start_time": "2022-07-04T10:16:27.639Z"
   },
   {
    "duration": 5,
    "start_time": "2022-07-04T10:16:27.644Z"
   },
   {
    "duration": 4,
    "start_time": "2022-07-04T10:16:27.651Z"
   },
   {
    "duration": 4,
    "start_time": "2022-07-04T10:16:27.656Z"
   },
   {
    "duration": 4,
    "start_time": "2022-07-04T10:16:27.661Z"
   },
   {
    "duration": 12,
    "start_time": "2022-07-04T10:16:27.666Z"
   },
   {
    "duration": 5,
    "start_time": "2022-07-04T10:16:27.692Z"
   },
   {
    "duration": 4,
    "start_time": "2022-07-04T10:16:27.699Z"
   },
   {
    "duration": 4,
    "start_time": "2022-07-04T10:16:27.705Z"
   },
   {
    "duration": 6,
    "start_time": "2022-07-04T10:16:27.710Z"
   },
   {
    "duration": 4,
    "start_time": "2022-07-04T10:16:27.718Z"
   },
   {
    "duration": 5,
    "start_time": "2022-07-04T10:16:27.723Z"
   },
   {
    "duration": 5,
    "start_time": "2022-07-04T10:16:27.729Z"
   },
   {
    "duration": 6,
    "start_time": "2022-07-04T10:16:27.735Z"
   },
   {
    "duration": 79,
    "start_time": "2022-07-04T10:16:27.742Z"
   },
   {
    "duration": 0,
    "start_time": "2022-07-04T10:16:27.823Z"
   },
   {
    "duration": 0,
    "start_time": "2022-07-04T10:16:27.824Z"
   },
   {
    "duration": 0,
    "start_time": "2022-07-04T10:16:27.825Z"
   },
   {
    "duration": 0,
    "start_time": "2022-07-04T10:16:27.825Z"
   },
   {
    "duration": 0,
    "start_time": "2022-07-04T10:16:27.826Z"
   },
   {
    "duration": 0,
    "start_time": "2022-07-04T10:16:27.827Z"
   },
   {
    "duration": 0,
    "start_time": "2022-07-04T10:16:27.828Z"
   },
   {
    "duration": 0,
    "start_time": "2022-07-04T10:16:27.829Z"
   },
   {
    "duration": 17,
    "start_time": "2022-07-04T10:16:40.699Z"
   },
   {
    "duration": 20,
    "start_time": "2022-07-04T10:17:30.608Z"
   },
   {
    "duration": 59,
    "start_time": "2022-07-04T10:18:24.312Z"
   },
   {
    "duration": 60,
    "start_time": "2022-07-04T10:18:55.818Z"
   },
   {
    "duration": 57,
    "start_time": "2022-07-04T10:19:37.392Z"
   },
   {
    "duration": 31,
    "start_time": "2022-07-04T10:23:10.075Z"
   },
   {
    "duration": 28,
    "start_time": "2022-07-04T10:27:51.707Z"
   },
   {
    "duration": 1304,
    "start_time": "2022-07-04T10:28:20.605Z"
   },
   {
    "duration": 8,
    "start_time": "2022-07-04T10:28:58.336Z"
   },
   {
    "duration": 8,
    "start_time": "2022-07-04T10:29:03.967Z"
   },
   {
    "duration": 38,
    "start_time": "2022-07-04T10:31:33.543Z"
   },
   {
    "duration": 7,
    "start_time": "2022-07-04T10:32:28.500Z"
   },
   {
    "duration": 26,
    "start_time": "2022-07-04T10:32:42.616Z"
   },
   {
    "duration": 8,
    "start_time": "2022-07-04T10:33:33.148Z"
   },
   {
    "duration": 9,
    "start_time": "2022-07-04T10:36:08.728Z"
   },
   {
    "duration": 9,
    "start_time": "2022-07-04T10:36:56.298Z"
   },
   {
    "duration": 26,
    "start_time": "2022-07-04T10:38:24.002Z"
   },
   {
    "duration": 4,
    "start_time": "2022-07-04T12:30:04.868Z"
   },
   {
    "duration": 14,
    "start_time": "2022-07-04T12:30:13.145Z"
   },
   {
    "duration": 10,
    "start_time": "2022-07-04T12:31:02.919Z"
   },
   {
    "duration": 74,
    "start_time": "2022-07-04T12:39:49.092Z"
   },
   {
    "duration": 3,
    "start_time": "2022-07-04T12:40:43.504Z"
   },
   {
    "duration": 6,
    "start_time": "2022-07-04T12:42:52.168Z"
   },
   {
    "duration": 18,
    "start_time": "2022-07-04T12:43:33.212Z"
   },
   {
    "duration": 13,
    "start_time": "2022-07-04T12:43:52.529Z"
   },
   {
    "duration": 17,
    "start_time": "2022-07-04T12:43:55.717Z"
   },
   {
    "duration": 17,
    "start_time": "2022-07-04T12:43:57.949Z"
   },
   {
    "duration": 16,
    "start_time": "2022-07-04T12:43:59.845Z"
   },
   {
    "duration": 15,
    "start_time": "2022-07-04T12:44:02.321Z"
   },
   {
    "duration": 16,
    "start_time": "2022-07-04T12:46:28.438Z"
   },
   {
    "duration": 14,
    "start_time": "2022-07-04T12:46:32.918Z"
   },
   {
    "duration": 14,
    "start_time": "2022-07-04T12:46:36.005Z"
   },
   {
    "duration": 14,
    "start_time": "2022-07-04T12:46:38.606Z"
   },
   {
    "duration": 103,
    "start_time": "2022-07-04T12:46:41.108Z"
   },
   {
    "duration": 105,
    "start_time": "2022-07-04T12:46:47.852Z"
   },
   {
    "duration": 116,
    "start_time": "2022-07-04T12:47:07.195Z"
   },
   {
    "duration": 14,
    "start_time": "2022-07-04T12:47:40.649Z"
   },
   {
    "duration": 73,
    "start_time": "2022-07-04T12:47:44.108Z"
   },
   {
    "duration": 14,
    "start_time": "2022-07-04T12:47:52.110Z"
   },
   {
    "duration": 79,
    "start_time": "2022-07-04T12:48:02.208Z"
   },
   {
    "duration": 20,
    "start_time": "2022-07-04T12:48:32.079Z"
   },
   {
    "duration": 9,
    "start_time": "2022-07-04T12:50:43.182Z"
   },
   {
    "duration": 11,
    "start_time": "2022-07-04T12:54:07.864Z"
   },
   {
    "duration": 4,
    "start_time": "2022-07-04T12:55:03.768Z"
   },
   {
    "duration": 5,
    "start_time": "2022-07-04T12:55:16.006Z"
   },
   {
    "duration": 8,
    "start_time": "2022-07-04T12:55:29.696Z"
   },
   {
    "duration": 9,
    "start_time": "2022-07-04T17:32:44.274Z"
   },
   {
    "duration": 18,
    "start_time": "2022-07-04T17:33:17.381Z"
   },
   {
    "duration": 18,
    "start_time": "2022-07-04T17:33:23.133Z"
   },
   {
    "duration": 17,
    "start_time": "2022-07-04T17:34:35.719Z"
   },
   {
    "duration": 17,
    "start_time": "2022-07-04T17:35:00.354Z"
   },
   {
    "duration": 21,
    "start_time": "2022-07-04T17:35:10.050Z"
   },
   {
    "duration": 17,
    "start_time": "2022-07-04T17:36:35.874Z"
   },
   {
    "duration": 84,
    "start_time": "2022-07-04T17:36:35.892Z"
   },
   {
    "duration": 0,
    "start_time": "2022-07-04T17:36:35.978Z"
   },
   {
    "duration": 0,
    "start_time": "2022-07-04T17:36:35.979Z"
   },
   {
    "duration": 0,
    "start_time": "2022-07-04T17:36:35.980Z"
   },
   {
    "duration": 0,
    "start_time": "2022-07-04T17:36:35.981Z"
   },
   {
    "duration": 0,
    "start_time": "2022-07-04T17:36:35.982Z"
   },
   {
    "duration": 0,
    "start_time": "2022-07-04T17:36:35.983Z"
   },
   {
    "duration": 0,
    "start_time": "2022-07-04T17:36:35.984Z"
   },
   {
    "duration": 0,
    "start_time": "2022-07-04T17:36:35.985Z"
   },
   {
    "duration": 2,
    "start_time": "2022-07-04T17:36:43.597Z"
   },
   {
    "duration": 137,
    "start_time": "2022-07-04T17:36:43.601Z"
   },
   {
    "duration": 10,
    "start_time": "2022-07-04T17:36:43.739Z"
   },
   {
    "duration": 24,
    "start_time": "2022-07-04T17:36:43.750Z"
   },
   {
    "duration": 3,
    "start_time": "2022-07-04T17:36:43.775Z"
   },
   {
    "duration": 4,
    "start_time": "2022-07-04T17:36:43.791Z"
   },
   {
    "duration": 10,
    "start_time": "2022-07-04T17:36:43.796Z"
   },
   {
    "duration": 3,
    "start_time": "2022-07-04T17:36:43.807Z"
   },
   {
    "duration": 19,
    "start_time": "2022-07-04T17:36:43.811Z"
   },
   {
    "duration": 13,
    "start_time": "2022-07-04T17:36:43.831Z"
   },
   {
    "duration": 47,
    "start_time": "2022-07-04T17:36:43.845Z"
   },
   {
    "duration": 52,
    "start_time": "2022-07-04T17:36:43.893Z"
   },
   {
    "duration": 66,
    "start_time": "2022-07-04T17:36:43.947Z"
   },
   {
    "duration": 45,
    "start_time": "2022-07-04T17:36:44.015Z"
   },
   {
    "duration": 40,
    "start_time": "2022-07-04T17:36:44.062Z"
   },
   {
    "duration": 11,
    "start_time": "2022-07-04T17:36:44.103Z"
   },
   {
    "duration": 34,
    "start_time": "2022-07-04T17:36:44.115Z"
   },
   {
    "duration": 10,
    "start_time": "2022-07-04T17:36:44.150Z"
   },
   {
    "duration": 32,
    "start_time": "2022-07-04T17:36:44.161Z"
   },
   {
    "duration": 3,
    "start_time": "2022-07-04T17:36:44.194Z"
   },
   {
    "duration": 28,
    "start_time": "2022-07-04T17:36:44.198Z"
   },
   {
    "duration": 12,
    "start_time": "2022-07-04T17:36:44.228Z"
   },
   {
    "duration": 16,
    "start_time": "2022-07-04T17:36:44.242Z"
   },
   {
    "duration": 10,
    "start_time": "2022-07-04T17:36:44.260Z"
   },
   {
    "duration": 27,
    "start_time": "2022-07-04T17:36:44.271Z"
   },
   {
    "duration": 10,
    "start_time": "2022-07-04T17:36:44.300Z"
   },
   {
    "duration": 7,
    "start_time": "2022-07-04T17:36:44.311Z"
   },
   {
    "duration": 18,
    "start_time": "2022-07-04T17:36:44.319Z"
   },
   {
    "duration": 18,
    "start_time": "2022-07-04T17:36:58.978Z"
   },
   {
    "duration": 16,
    "start_time": "2022-07-04T17:37:02.555Z"
   },
   {
    "duration": 9,
    "start_time": "2022-07-04T17:39:04.514Z"
   },
   {
    "duration": 8,
    "start_time": "2022-07-04T17:39:08.302Z"
   },
   {
    "duration": 11,
    "start_time": "2022-07-04T17:39:11.838Z"
   },
   {
    "duration": 9,
    "start_time": "2022-07-04T17:39:13.223Z"
   },
   {
    "duration": 3,
    "start_time": "2022-07-04T17:39:17.478Z"
   },
   {
    "duration": 131,
    "start_time": "2022-07-04T17:39:17.483Z"
   },
   {
    "duration": 10,
    "start_time": "2022-07-04T17:39:17.616Z"
   },
   {
    "duration": 26,
    "start_time": "2022-07-04T17:39:17.627Z"
   },
   {
    "duration": 3,
    "start_time": "2022-07-04T17:39:17.654Z"
   },
   {
    "duration": 8,
    "start_time": "2022-07-04T17:39:17.658Z"
   },
   {
    "duration": 7,
    "start_time": "2022-07-04T17:39:17.667Z"
   },
   {
    "duration": 3,
    "start_time": "2022-07-04T17:39:17.691Z"
   },
   {
    "duration": 20,
    "start_time": "2022-07-04T17:39:17.695Z"
   },
   {
    "duration": 14,
    "start_time": "2022-07-04T17:39:17.716Z"
   },
   {
    "duration": 17,
    "start_time": "2022-07-04T17:39:17.731Z"
   },
   {
    "duration": 76,
    "start_time": "2022-07-04T17:39:17.750Z"
   },
   {
    "duration": 53,
    "start_time": "2022-07-04T17:39:17.828Z"
   },
   {
    "duration": 47,
    "start_time": "2022-07-04T17:39:17.891Z"
   },
   {
    "duration": 32,
    "start_time": "2022-07-04T17:39:17.940Z"
   },
   {
    "duration": 25,
    "start_time": "2022-07-04T17:39:17.973Z"
   },
   {
    "duration": 31,
    "start_time": "2022-07-04T17:39:17.999Z"
   },
   {
    "duration": 11,
    "start_time": "2022-07-04T17:39:18.031Z"
   },
   {
    "duration": 10,
    "start_time": "2022-07-04T17:39:18.043Z"
   },
   {
    "duration": 4,
    "start_time": "2022-07-04T17:39:18.054Z"
   },
   {
    "duration": 14,
    "start_time": "2022-07-04T17:39:18.092Z"
   },
   {
    "duration": 12,
    "start_time": "2022-07-04T17:39:18.107Z"
   },
   {
    "duration": 12,
    "start_time": "2022-07-04T17:39:18.120Z"
   },
   {
    "duration": 11,
    "start_time": "2022-07-04T17:39:18.134Z"
   },
   {
    "duration": 44,
    "start_time": "2022-07-04T17:39:18.147Z"
   },
   {
    "duration": 14,
    "start_time": "2022-07-04T17:39:18.193Z"
   },
   {
    "duration": 7,
    "start_time": "2022-07-04T17:39:18.209Z"
   },
   {
    "duration": 12,
    "start_time": "2022-07-04T17:39:21.856Z"
   },
   {
    "duration": 11,
    "start_time": "2022-07-04T17:40:20.820Z"
   },
   {
    "duration": 9,
    "start_time": "2022-07-04T17:40:21.690Z"
   },
   {
    "duration": 316,
    "start_time": "2022-07-04T17:40:44.642Z"
   },
   {
    "duration": 141,
    "start_time": "2022-07-04T17:40:44.959Z"
   },
   {
    "duration": 16,
    "start_time": "2022-07-04T17:40:45.101Z"
   },
   {
    "duration": 25,
    "start_time": "2022-07-04T17:40:45.118Z"
   },
   {
    "duration": 2,
    "start_time": "2022-07-04T17:40:45.145Z"
   },
   {
    "duration": 10,
    "start_time": "2022-07-04T17:40:45.149Z"
   },
   {
    "duration": 12,
    "start_time": "2022-07-04T17:40:45.160Z"
   },
   {
    "duration": 20,
    "start_time": "2022-07-04T17:40:45.173Z"
   },
   {
    "duration": 21,
    "start_time": "2022-07-04T17:40:45.194Z"
   },
   {
    "duration": 16,
    "start_time": "2022-07-04T17:40:45.216Z"
   },
   {
    "duration": 19,
    "start_time": "2022-07-04T17:40:45.233Z"
   },
   {
    "duration": 75,
    "start_time": "2022-07-04T17:40:45.253Z"
   },
   {
    "duration": 62,
    "start_time": "2022-07-04T17:40:45.329Z"
   },
   {
    "duration": 52,
    "start_time": "2022-07-04T17:40:45.393Z"
   },
   {
    "duration": 49,
    "start_time": "2022-07-04T17:40:45.446Z"
   },
   {
    "duration": 10,
    "start_time": "2022-07-04T17:40:45.497Z"
   },
   {
    "duration": 38,
    "start_time": "2022-07-04T17:40:45.508Z"
   },
   {
    "duration": 10,
    "start_time": "2022-07-04T17:40:45.548Z"
   },
   {
    "duration": 9,
    "start_time": "2022-07-04T17:40:45.559Z"
   },
   {
    "duration": 3,
    "start_time": "2022-07-04T17:40:45.569Z"
   },
   {
    "duration": 29,
    "start_time": "2022-07-04T17:40:45.574Z"
   },
   {
    "duration": 10,
    "start_time": "2022-07-04T17:40:45.604Z"
   },
   {
    "duration": 11,
    "start_time": "2022-07-04T17:40:45.615Z"
   },
   {
    "duration": 10,
    "start_time": "2022-07-04T17:40:45.628Z"
   },
   {
    "duration": 12,
    "start_time": "2022-07-04T17:40:45.639Z"
   },
   {
    "duration": 40,
    "start_time": "2022-07-04T17:40:45.652Z"
   },
   {
    "duration": 7,
    "start_time": "2022-07-04T17:40:45.693Z"
   },
   {
    "duration": 11,
    "start_time": "2022-07-04T17:40:45.701Z"
   },
   {
    "duration": 9,
    "start_time": "2022-07-04T17:40:52.433Z"
   },
   {
    "duration": 12,
    "start_time": "2022-07-04T17:41:50.150Z"
   },
   {
    "duration": 21,
    "start_time": "2022-07-04T17:42:02.445Z"
   },
   {
    "duration": 17,
    "start_time": "2022-07-04T17:42:10.108Z"
   },
   {
    "duration": 16,
    "start_time": "2022-07-04T17:42:27.704Z"
   },
   {
    "duration": 18,
    "start_time": "2022-07-04T17:43:01.912Z"
   },
   {
    "duration": 16,
    "start_time": "2022-07-04T17:43:11.837Z"
   },
   {
    "duration": 20,
    "start_time": "2022-07-04T18:06:51.300Z"
   },
   {
    "duration": 17,
    "start_time": "2022-07-04T18:07:05.891Z"
   },
   {
    "duration": 2,
    "start_time": "2022-07-04T18:07:08.918Z"
   },
   {
    "duration": 156,
    "start_time": "2022-07-04T18:07:08.922Z"
   },
   {
    "duration": 16,
    "start_time": "2022-07-04T18:07:09.080Z"
   },
   {
    "duration": 38,
    "start_time": "2022-07-04T18:07:09.097Z"
   },
   {
    "duration": 17,
    "start_time": "2022-07-04T18:07:09.137Z"
   },
   {
    "duration": 29,
    "start_time": "2022-07-04T18:07:09.155Z"
   },
   {
    "duration": 17,
    "start_time": "2022-07-04T18:07:09.186Z"
   },
   {
    "duration": 12,
    "start_time": "2022-07-04T18:07:09.205Z"
   },
   {
    "duration": 40,
    "start_time": "2022-07-04T18:07:09.218Z"
   },
   {
    "duration": 25,
    "start_time": "2022-07-04T18:07:09.259Z"
   },
   {
    "duration": 29,
    "start_time": "2022-07-04T18:07:09.285Z"
   },
   {
    "duration": 89,
    "start_time": "2022-07-04T18:07:09.316Z"
   },
   {
    "duration": 66,
    "start_time": "2022-07-04T18:07:09.407Z"
   },
   {
    "duration": 57,
    "start_time": "2022-07-04T18:07:09.476Z"
   },
   {
    "duration": 32,
    "start_time": "2022-07-04T18:07:09.535Z"
   },
   {
    "duration": 22,
    "start_time": "2022-07-04T18:07:09.569Z"
   },
   {
    "duration": 43,
    "start_time": "2022-07-04T18:07:09.593Z"
   },
   {
    "duration": 12,
    "start_time": "2022-07-04T18:07:09.637Z"
   },
   {
    "duration": 28,
    "start_time": "2022-07-04T18:07:09.651Z"
   },
   {
    "duration": 18,
    "start_time": "2022-07-04T18:07:09.680Z"
   },
   {
    "duration": 40,
    "start_time": "2022-07-04T18:07:09.700Z"
   },
   {
    "duration": 18,
    "start_time": "2022-07-04T18:07:09.741Z"
   },
   {
    "duration": 52,
    "start_time": "2022-07-04T18:07:09.761Z"
   },
   {
    "duration": 31,
    "start_time": "2022-07-04T18:07:09.815Z"
   },
   {
    "duration": 16,
    "start_time": "2022-07-04T18:07:09.848Z"
   },
   {
    "duration": 17,
    "start_time": "2022-07-04T18:07:09.866Z"
   },
   {
    "duration": 28,
    "start_time": "2022-07-04T18:07:09.885Z"
   },
   {
    "duration": 28,
    "start_time": "2022-07-04T18:07:09.915Z"
   },
   {
    "duration": 21,
    "start_time": "2022-07-04T18:07:09.945Z"
   },
   {
    "duration": 76,
    "start_time": "2022-07-04T18:07:09.967Z"
   },
   {
    "duration": 1,
    "start_time": "2022-07-04T18:07:10.044Z"
   },
   {
    "duration": 0,
    "start_time": "2022-07-04T18:07:10.046Z"
   },
   {
    "duration": 0,
    "start_time": "2022-07-04T18:07:10.047Z"
   },
   {
    "duration": 0,
    "start_time": "2022-07-04T18:07:10.049Z"
   },
   {
    "duration": 0,
    "start_time": "2022-07-04T18:07:10.050Z"
   },
   {
    "duration": 0,
    "start_time": "2022-07-04T18:07:10.051Z"
   },
   {
    "duration": 0,
    "start_time": "2022-07-04T18:07:10.053Z"
   },
   {
    "duration": 0,
    "start_time": "2022-07-04T18:07:10.053Z"
   },
   {
    "duration": 384,
    "start_time": "2022-07-04T18:07:36.084Z"
   },
   {
    "duration": 148,
    "start_time": "2022-07-04T18:07:36.469Z"
   },
   {
    "duration": 16,
    "start_time": "2022-07-04T18:07:36.619Z"
   },
   {
    "duration": 28,
    "start_time": "2022-07-04T18:07:36.637Z"
   },
   {
    "duration": 2,
    "start_time": "2022-07-04T18:07:36.668Z"
   },
   {
    "duration": 5,
    "start_time": "2022-07-04T18:07:36.691Z"
   },
   {
    "duration": 13,
    "start_time": "2022-07-04T18:07:36.698Z"
   },
   {
    "duration": 6,
    "start_time": "2022-07-04T18:07:36.712Z"
   },
   {
    "duration": 23,
    "start_time": "2022-07-04T18:07:36.719Z"
   },
   {
    "duration": 17,
    "start_time": "2022-07-04T18:07:36.744Z"
   },
   {
    "duration": 44,
    "start_time": "2022-07-04T18:07:36.762Z"
   },
   {
    "duration": 56,
    "start_time": "2022-07-04T18:07:36.808Z"
   },
   {
    "duration": 73,
    "start_time": "2022-07-04T18:07:36.866Z"
   },
   {
    "duration": 64,
    "start_time": "2022-07-04T18:07:36.942Z"
   },
   {
    "duration": 42,
    "start_time": "2022-07-04T18:07:37.008Z"
   },
   {
    "duration": 11,
    "start_time": "2022-07-04T18:07:37.052Z"
   },
   {
    "duration": 59,
    "start_time": "2022-07-04T18:07:37.065Z"
   },
   {
    "duration": 14,
    "start_time": "2022-07-04T18:07:37.125Z"
   },
   {
    "duration": 12,
    "start_time": "2022-07-04T18:07:37.141Z"
   },
   {
    "duration": 18,
    "start_time": "2022-07-04T18:07:37.155Z"
   },
   {
    "duration": 42,
    "start_time": "2022-07-04T18:07:37.175Z"
   },
   {
    "duration": 30,
    "start_time": "2022-07-04T18:07:37.219Z"
   },
   {
    "duration": 39,
    "start_time": "2022-07-04T18:07:37.251Z"
   },
   {
    "duration": 19,
    "start_time": "2022-07-04T18:07:37.292Z"
   },
   {
    "duration": 20,
    "start_time": "2022-07-04T18:07:37.313Z"
   },
   {
    "duration": 15,
    "start_time": "2022-07-04T18:07:37.334Z"
   },
   {
    "duration": 8,
    "start_time": "2022-07-04T18:07:37.350Z"
   },
   {
    "duration": 39,
    "start_time": "2022-07-04T18:07:37.360Z"
   },
   {
    "duration": 17,
    "start_time": "2022-07-04T18:07:37.401Z"
   },
   {
    "duration": 97,
    "start_time": "2022-07-04T18:07:37.420Z"
   },
   {
    "duration": 0,
    "start_time": "2022-07-04T18:07:37.519Z"
   },
   {
    "duration": 0,
    "start_time": "2022-07-04T18:07:37.520Z"
   },
   {
    "duration": 0,
    "start_time": "2022-07-04T18:07:37.522Z"
   },
   {
    "duration": 0,
    "start_time": "2022-07-04T18:07:37.523Z"
   },
   {
    "duration": 0,
    "start_time": "2022-07-04T18:07:37.525Z"
   },
   {
    "duration": 0,
    "start_time": "2022-07-04T18:07:37.526Z"
   },
   {
    "duration": 0,
    "start_time": "2022-07-04T18:07:37.527Z"
   },
   {
    "duration": 0,
    "start_time": "2022-07-04T18:07:37.529Z"
   },
   {
    "duration": 2,
    "start_time": "2022-07-04T18:15:21.897Z"
   },
   {
    "duration": 137,
    "start_time": "2022-07-04T18:15:21.901Z"
   },
   {
    "duration": 9,
    "start_time": "2022-07-04T18:15:22.040Z"
   },
   {
    "duration": 23,
    "start_time": "2022-07-04T18:15:22.051Z"
   },
   {
    "duration": 2,
    "start_time": "2022-07-04T18:15:22.075Z"
   },
   {
    "duration": 3,
    "start_time": "2022-07-04T18:15:22.091Z"
   },
   {
    "duration": 9,
    "start_time": "2022-07-04T18:15:22.096Z"
   },
   {
    "duration": 6,
    "start_time": "2022-07-04T18:15:22.107Z"
   },
   {
    "duration": 20,
    "start_time": "2022-07-04T18:15:22.114Z"
   },
   {
    "duration": 14,
    "start_time": "2022-07-04T18:15:22.137Z"
   },
   {
    "duration": 40,
    "start_time": "2022-07-04T18:15:22.152Z"
   },
   {
    "duration": 67,
    "start_time": "2022-07-04T18:15:22.194Z"
   },
   {
    "duration": 58,
    "start_time": "2022-07-04T18:15:22.263Z"
   },
   {
    "duration": 45,
    "start_time": "2022-07-04T18:15:22.323Z"
   },
   {
    "duration": 37,
    "start_time": "2022-07-04T18:15:22.370Z"
   },
   {
    "duration": 8,
    "start_time": "2022-07-04T18:15:22.408Z"
   },
   {
    "duration": 31,
    "start_time": "2022-07-04T18:15:22.418Z"
   },
   {
    "duration": 9,
    "start_time": "2022-07-04T18:15:22.451Z"
   },
   {
    "duration": 32,
    "start_time": "2022-07-04T18:15:22.461Z"
   },
   {
    "duration": 3,
    "start_time": "2022-07-04T18:15:22.494Z"
   },
   {
    "duration": 17,
    "start_time": "2022-07-04T18:15:22.498Z"
   },
   {
    "duration": 11,
    "start_time": "2022-07-04T18:15:22.517Z"
   },
   {
    "duration": 12,
    "start_time": "2022-07-04T18:15:22.529Z"
   },
   {
    "duration": 10,
    "start_time": "2022-07-04T18:15:22.543Z"
   },
   {
    "duration": 40,
    "start_time": "2022-07-04T18:15:22.555Z"
   },
   {
    "duration": 11,
    "start_time": "2022-07-04T18:15:22.596Z"
   },
   {
    "duration": 6,
    "start_time": "2022-07-04T18:15:22.609Z"
   },
   {
    "duration": 18,
    "start_time": "2022-07-04T18:15:22.618Z"
   },
   {
    "duration": 61,
    "start_time": "2022-07-04T18:15:30.118Z"
   },
   {
    "duration": 17,
    "start_time": "2022-07-04T18:15:44.553Z"
   },
   {
    "duration": 19,
    "start_time": "2022-07-04T18:15:50.690Z"
   },
   {
    "duration": 2,
    "start_time": "2022-07-04T18:15:55.055Z"
   },
   {
    "duration": 145,
    "start_time": "2022-07-04T18:15:55.059Z"
   },
   {
    "duration": 9,
    "start_time": "2022-07-04T18:15:55.206Z"
   },
   {
    "duration": 23,
    "start_time": "2022-07-04T18:15:55.216Z"
   },
   {
    "duration": 2,
    "start_time": "2022-07-04T18:15:55.241Z"
   },
   {
    "duration": 5,
    "start_time": "2022-07-04T18:15:55.245Z"
   },
   {
    "duration": 7,
    "start_time": "2022-07-04T18:15:55.252Z"
   },
   {
    "duration": 3,
    "start_time": "2022-07-04T18:15:55.260Z"
   },
   {
    "duration": 39,
    "start_time": "2022-07-04T18:15:55.264Z"
   },
   {
    "duration": 16,
    "start_time": "2022-07-04T18:15:55.305Z"
   },
   {
    "duration": 21,
    "start_time": "2022-07-04T18:15:55.322Z"
   },
   {
    "duration": 76,
    "start_time": "2022-07-04T18:15:55.345Z"
   },
   {
    "duration": 72,
    "start_time": "2022-07-04T18:15:55.423Z"
   },
   {
    "duration": 52,
    "start_time": "2022-07-04T18:15:55.496Z"
   },
   {
    "duration": 44,
    "start_time": "2022-07-04T18:15:55.550Z"
   },
   {
    "duration": 8,
    "start_time": "2022-07-04T18:15:55.596Z"
   },
   {
    "duration": 31,
    "start_time": "2022-07-04T18:15:55.605Z"
   },
   {
    "duration": 10,
    "start_time": "2022-07-04T18:15:55.637Z"
   },
   {
    "duration": 9,
    "start_time": "2022-07-04T18:15:55.648Z"
   },
   {
    "duration": 3,
    "start_time": "2022-07-04T18:15:55.658Z"
   },
   {
    "duration": 42,
    "start_time": "2022-07-04T18:15:55.662Z"
   },
   {
    "duration": 12,
    "start_time": "2022-07-04T18:15:55.705Z"
   },
   {
    "duration": 12,
    "start_time": "2022-07-04T18:15:55.719Z"
   },
   {
    "duration": 11,
    "start_time": "2022-07-04T18:15:55.732Z"
   },
   {
    "duration": 19,
    "start_time": "2022-07-04T18:15:55.745Z"
   },
   {
    "duration": 34,
    "start_time": "2022-07-04T18:15:55.765Z"
   },
   {
    "duration": 10,
    "start_time": "2022-07-04T18:15:55.800Z"
   },
   {
    "duration": 27,
    "start_time": "2022-07-04T18:15:55.811Z"
   },
   {
    "duration": 3,
    "start_time": "2022-07-04T18:16:00.438Z"
   },
   {
    "duration": 188,
    "start_time": "2022-07-04T18:16:00.443Z"
   },
   {
    "duration": 9,
    "start_time": "2022-07-04T18:16:00.633Z"
   },
   {
    "duration": 37,
    "start_time": "2022-07-04T18:16:00.644Z"
   },
   {
    "duration": 35,
    "start_time": "2022-07-04T18:16:00.683Z"
   },
   {
    "duration": 25,
    "start_time": "2022-07-04T18:16:00.720Z"
   },
   {
    "duration": 28,
    "start_time": "2022-07-04T18:16:00.746Z"
   },
   {
    "duration": 31,
    "start_time": "2022-07-04T18:16:00.776Z"
   },
   {
    "duration": 50,
    "start_time": "2022-07-04T18:16:00.809Z"
   },
   {
    "duration": 28,
    "start_time": "2022-07-04T18:16:00.860Z"
   },
   {
    "duration": 67,
    "start_time": "2022-07-04T18:16:00.890Z"
   },
   {
    "duration": 84,
    "start_time": "2022-07-04T18:16:00.959Z"
   },
   {
    "duration": 59,
    "start_time": "2022-07-04T18:16:01.046Z"
   },
   {
    "duration": 47,
    "start_time": "2022-07-04T18:16:01.107Z"
   },
   {
    "duration": 42,
    "start_time": "2022-07-04T18:16:01.155Z"
   },
   {
    "duration": 22,
    "start_time": "2022-07-04T18:16:01.199Z"
   },
   {
    "duration": 55,
    "start_time": "2022-07-04T18:16:01.222Z"
   },
   {
    "duration": 10,
    "start_time": "2022-07-04T18:16:01.278Z"
   },
   {
    "duration": 32,
    "start_time": "2022-07-04T18:16:01.289Z"
   },
   {
    "duration": 15,
    "start_time": "2022-07-04T18:16:01.323Z"
   },
   {
    "duration": 43,
    "start_time": "2022-07-04T18:16:01.339Z"
   },
   {
    "duration": 14,
    "start_time": "2022-07-04T18:16:01.383Z"
   },
   {
    "duration": 50,
    "start_time": "2022-07-04T18:16:01.399Z"
   },
   {
    "duration": 31,
    "start_time": "2022-07-04T18:16:01.450Z"
   },
   {
    "duration": 19,
    "start_time": "2022-07-04T18:16:01.482Z"
   },
   {
    "duration": 26,
    "start_time": "2022-07-04T18:16:01.502Z"
   },
   {
    "duration": 19,
    "start_time": "2022-07-04T18:16:01.529Z"
   },
   {
    "duration": 39,
    "start_time": "2022-07-04T18:16:01.549Z"
   },
   {
    "duration": 17,
    "start_time": "2022-07-04T18:16:05.758Z"
   },
   {
    "duration": 12,
    "start_time": "2022-07-04T20:10:38.881Z"
   },
   {
    "duration": 10,
    "start_time": "2022-07-04T20:11:00.278Z"
   },
   {
    "duration": 17,
    "start_time": "2022-07-04T20:11:51.710Z"
   },
   {
    "duration": 19,
    "start_time": "2022-07-04T20:11:54.182Z"
   },
   {
    "duration": 17,
    "start_time": "2022-07-04T20:12:45.783Z"
   },
   {
    "duration": 19,
    "start_time": "2022-07-04T20:12:49.331Z"
   },
   {
    "duration": 8,
    "start_time": "2022-07-04T20:15:13.941Z"
   },
   {
    "duration": 8,
    "start_time": "2022-07-04T22:04:39.921Z"
   },
   {
    "duration": 39,
    "start_time": "2022-07-04T22:07:24.246Z"
   },
   {
    "duration": 333,
    "start_time": "2022-07-04T22:07:35.991Z"
   },
   {
    "duration": 188,
    "start_time": "2022-07-04T22:07:36.326Z"
   },
   {
    "duration": 15,
    "start_time": "2022-07-04T22:07:36.515Z"
   },
   {
    "duration": 27,
    "start_time": "2022-07-04T22:07:36.532Z"
   },
   {
    "duration": 2,
    "start_time": "2022-07-04T22:07:36.561Z"
   },
   {
    "duration": 8,
    "start_time": "2022-07-04T22:07:36.564Z"
   },
   {
    "duration": 11,
    "start_time": "2022-07-04T22:07:36.573Z"
   },
   {
    "duration": 6,
    "start_time": "2022-07-04T22:07:36.586Z"
   },
   {
    "duration": 25,
    "start_time": "2022-07-04T22:07:36.593Z"
   },
   {
    "duration": 34,
    "start_time": "2022-07-04T22:07:36.619Z"
   },
   {
    "duration": 21,
    "start_time": "2022-07-04T22:07:36.654Z"
   },
   {
    "duration": 69,
    "start_time": "2022-07-04T22:07:36.677Z"
   },
   {
    "duration": 63,
    "start_time": "2022-07-04T22:07:36.747Z"
   },
   {
    "duration": 62,
    "start_time": "2022-07-04T22:07:36.813Z"
   },
   {
    "duration": 31,
    "start_time": "2022-07-04T22:07:36.877Z"
   },
   {
    "duration": 10,
    "start_time": "2022-07-04T22:07:36.909Z"
   },
   {
    "duration": 51,
    "start_time": "2022-07-04T22:07:36.920Z"
   },
   {
    "duration": 10,
    "start_time": "2022-07-04T22:07:36.973Z"
   },
   {
    "duration": 9,
    "start_time": "2022-07-04T22:07:36.984Z"
   },
   {
    "duration": 2,
    "start_time": "2022-07-04T22:07:36.995Z"
   },
   {
    "duration": 20,
    "start_time": "2022-07-04T22:07:36.998Z"
   },
   {
    "duration": 36,
    "start_time": "2022-07-04T22:07:37.020Z"
   },
   {
    "duration": 13,
    "start_time": "2022-07-04T22:07:37.057Z"
   },
   {
    "duration": 11,
    "start_time": "2022-07-04T22:07:37.071Z"
   },
   {
    "duration": 13,
    "start_time": "2022-07-04T22:07:37.084Z"
   },
   {
    "duration": 12,
    "start_time": "2022-07-04T22:07:37.098Z"
   },
   {
    "duration": 8,
    "start_time": "2022-07-04T22:07:37.142Z"
   },
   {
    "duration": 12,
    "start_time": "2022-07-04T22:07:37.152Z"
   },
   {
    "duration": 9,
    "start_time": "2022-07-04T22:07:37.165Z"
   },
   {
    "duration": 4,
    "start_time": "2022-07-04T22:07:37.175Z"
   },
   {
    "duration": 901,
    "start_time": "2022-07-04T22:07:41.373Z"
   },
   {
    "duration": 2,
    "start_time": "2022-07-04T22:07:43.110Z"
   },
   {
    "duration": 4,
    "start_time": "2022-07-04T22:08:09.372Z"
   },
   {
    "duration": 1103,
    "start_time": "2022-07-04T22:10:22.214Z"
   },
   {
    "duration": 936,
    "start_time": "2022-07-04T22:11:55.342Z"
   },
   {
    "duration": 5,
    "start_time": "2022-07-04T22:12:03.514Z"
   },
   {
    "duration": 1204,
    "start_time": "2022-07-04T22:14:50.266Z"
   },
   {
    "duration": 6,
    "start_time": "2022-07-04T22:15:04.718Z"
   },
   {
    "duration": 176,
    "start_time": "2022-07-04T22:15:04.727Z"
   },
   {
    "duration": 12,
    "start_time": "2022-07-04T22:15:04.905Z"
   },
   {
    "duration": 58,
    "start_time": "2022-07-04T22:15:04.919Z"
   },
   {
    "duration": 3,
    "start_time": "2022-07-04T22:15:04.981Z"
   },
   {
    "duration": 11,
    "start_time": "2022-07-04T22:15:04.985Z"
   },
   {
    "duration": 17,
    "start_time": "2022-07-04T22:15:04.998Z"
   },
   {
    "duration": 11,
    "start_time": "2022-07-04T22:15:05.017Z"
   },
   {
    "duration": 46,
    "start_time": "2022-07-04T22:15:05.030Z"
   },
   {
    "duration": 17,
    "start_time": "2022-07-04T22:15:05.078Z"
   },
   {
    "duration": 25,
    "start_time": "2022-07-04T22:15:05.097Z"
   },
   {
    "duration": 99,
    "start_time": "2022-07-04T22:15:05.124Z"
   },
   {
    "duration": 88,
    "start_time": "2022-07-04T22:15:05.225Z"
   },
   {
    "duration": 92,
    "start_time": "2022-07-04T22:15:05.316Z"
   },
   {
    "duration": 52,
    "start_time": "2022-07-04T22:15:05.409Z"
   },
   {
    "duration": 14,
    "start_time": "2022-07-04T22:15:05.464Z"
   },
   {
    "duration": 35,
    "start_time": "2022-07-04T22:15:05.480Z"
   },
   {
    "duration": 12,
    "start_time": "2022-07-04T22:15:05.518Z"
   },
   {
    "duration": 17,
    "start_time": "2022-07-04T22:15:05.542Z"
   },
   {
    "duration": 8,
    "start_time": "2022-07-04T22:15:05.562Z"
   },
   {
    "duration": 21,
    "start_time": "2022-07-04T22:15:05.572Z"
   },
   {
    "duration": 19,
    "start_time": "2022-07-04T22:15:05.594Z"
   },
   {
    "duration": 44,
    "start_time": "2022-07-04T22:15:05.615Z"
   },
   {
    "duration": 22,
    "start_time": "2022-07-04T22:15:05.660Z"
   },
   {
    "duration": 18,
    "start_time": "2022-07-04T22:15:05.683Z"
   },
   {
    "duration": 14,
    "start_time": "2022-07-04T22:15:05.703Z"
   },
   {
    "duration": 24,
    "start_time": "2022-07-04T22:15:05.719Z"
   },
   {
    "duration": 25,
    "start_time": "2022-07-04T22:15:05.745Z"
   },
   {
    "duration": 12,
    "start_time": "2022-07-04T22:15:05.772Z"
   },
   {
    "duration": 930,
    "start_time": "2022-07-04T22:17:02.357Z"
   },
   {
    "duration": 846,
    "start_time": "2022-07-04T22:17:54.179Z"
   },
   {
    "duration": 1000,
    "start_time": "2022-07-04T22:19:00.005Z"
   },
   {
    "duration": 864,
    "start_time": "2022-07-04T22:20:08.734Z"
   },
   {
    "duration": 872,
    "start_time": "2022-07-04T22:21:22.763Z"
   },
   {
    "duration": 989,
    "start_time": "2022-07-04T22:21:55.741Z"
   },
   {
    "duration": 1006,
    "start_time": "2022-07-04T22:22:30.249Z"
   },
   {
    "duration": 832,
    "start_time": "2022-07-04T22:23:34.308Z"
   },
   {
    "duration": 787,
    "start_time": "2022-07-04T22:26:33.342Z"
   },
   {
    "duration": 5,
    "start_time": "2022-07-04T23:00:00.484Z"
   },
   {
    "duration": 809,
    "start_time": "2022-07-04T23:01:46.125Z"
   },
   {
    "duration": 787,
    "start_time": "2022-07-04T23:01:54.721Z"
   },
   {
    "duration": 9,
    "start_time": "2022-07-04T23:03:53.734Z"
   },
   {
    "duration": 19,
    "start_time": "2022-07-04T23:04:00.588Z"
   },
   {
    "duration": 889,
    "start_time": "2022-07-04T23:04:19.249Z"
   },
   {
    "duration": 971,
    "start_time": "2022-07-04T23:04:53.790Z"
   },
   {
    "duration": 64,
    "start_time": "2022-07-04T23:05:14.713Z"
   },
   {
    "duration": 767,
    "start_time": "2022-07-04T23:06:55.095Z"
   },
   {
    "duration": 818,
    "start_time": "2022-07-04T23:07:08.545Z"
   },
   {
    "duration": 896,
    "start_time": "2022-07-04T23:07:22.785Z"
   },
   {
    "duration": 804,
    "start_time": "2022-07-04T23:09:01.370Z"
   },
   {
    "duration": 2,
    "start_time": "2022-07-04T23:13:13.002Z"
   },
   {
    "duration": 152,
    "start_time": "2022-07-04T23:13:13.006Z"
   },
   {
    "duration": 11,
    "start_time": "2022-07-04T23:13:13.160Z"
   },
   {
    "duration": 28,
    "start_time": "2022-07-04T23:13:13.173Z"
   },
   {
    "duration": 4,
    "start_time": "2022-07-04T23:13:13.203Z"
   },
   {
    "duration": 6,
    "start_time": "2022-07-04T23:13:13.208Z"
   },
   {
    "duration": 9,
    "start_time": "2022-07-04T23:13:13.215Z"
   },
   {
    "duration": 4,
    "start_time": "2022-07-04T23:13:13.241Z"
   },
   {
    "duration": 23,
    "start_time": "2022-07-04T23:13:13.247Z"
   },
   {
    "duration": 16,
    "start_time": "2022-07-04T23:13:13.272Z"
   },
   {
    "duration": 22,
    "start_time": "2022-07-04T23:13:13.290Z"
   },
   {
    "duration": 83,
    "start_time": "2022-07-04T23:13:13.314Z"
   },
   {
    "duration": 64,
    "start_time": "2022-07-04T23:13:13.398Z"
   },
   {
    "duration": 51,
    "start_time": "2022-07-04T23:13:13.463Z"
   },
   {
    "duration": 47,
    "start_time": "2022-07-04T23:13:13.515Z"
   },
   {
    "duration": 9,
    "start_time": "2022-07-04T23:13:13.564Z"
   },
   {
    "duration": 31,
    "start_time": "2022-07-04T23:13:13.574Z"
   },
   {
    "duration": 10,
    "start_time": "2022-07-04T23:13:13.606Z"
   },
   {
    "duration": 29,
    "start_time": "2022-07-04T23:13:13.618Z"
   },
   {
    "duration": 3,
    "start_time": "2022-07-04T23:13:13.649Z"
   },
   {
    "duration": 20,
    "start_time": "2022-07-04T23:13:13.654Z"
   },
   {
    "duration": 14,
    "start_time": "2022-07-04T23:13:13.675Z"
   },
   {
    "duration": 19,
    "start_time": "2022-07-04T23:13:13.691Z"
   },
   {
    "duration": 37,
    "start_time": "2022-07-04T23:13:13.712Z"
   },
   {
    "duration": 15,
    "start_time": "2022-07-04T23:13:13.751Z"
   },
   {
    "duration": 14,
    "start_time": "2022-07-04T23:13:13.768Z"
   },
   {
    "duration": 9,
    "start_time": "2022-07-04T23:13:13.784Z"
   },
   {
    "duration": 21,
    "start_time": "2022-07-04T23:13:13.794Z"
   },
   {
    "duration": 9,
    "start_time": "2022-07-04T23:13:13.845Z"
   },
   {
    "duration": 5,
    "start_time": "2022-07-04T23:13:13.856Z"
   },
   {
    "duration": 2,
    "start_time": "2022-07-04T23:13:20.721Z"
   },
   {
    "duration": 155,
    "start_time": "2022-07-04T23:13:20.726Z"
   },
   {
    "duration": 11,
    "start_time": "2022-07-04T23:13:20.882Z"
   },
   {
    "duration": 27,
    "start_time": "2022-07-04T23:13:20.895Z"
   },
   {
    "duration": 3,
    "start_time": "2022-07-04T23:13:20.924Z"
   },
   {
    "duration": 4,
    "start_time": "2022-07-04T23:13:20.942Z"
   },
   {
    "duration": 7,
    "start_time": "2022-07-04T23:13:20.948Z"
   },
   {
    "duration": 4,
    "start_time": "2022-07-04T23:13:20.956Z"
   },
   {
    "duration": 22,
    "start_time": "2022-07-04T23:13:20.962Z"
   },
   {
    "duration": 15,
    "start_time": "2022-07-04T23:13:20.986Z"
   },
   {
    "duration": 51,
    "start_time": "2022-07-04T23:13:21.003Z"
   },
   {
    "duration": 60,
    "start_time": "2022-07-04T23:13:21.056Z"
   },
   {
    "duration": 76,
    "start_time": "2022-07-04T23:13:21.117Z"
   },
   {
    "duration": 57,
    "start_time": "2022-07-04T23:13:21.195Z"
   },
   {
    "duration": 32,
    "start_time": "2022-07-04T23:13:21.253Z"
   },
   {
    "duration": 9,
    "start_time": "2022-07-04T23:13:21.286Z"
   },
   {
    "duration": 46,
    "start_time": "2022-07-04T23:13:21.297Z"
   },
   {
    "duration": 11,
    "start_time": "2022-07-04T23:13:21.344Z"
   },
   {
    "duration": 10,
    "start_time": "2022-07-04T23:13:21.357Z"
   },
   {
    "duration": 4,
    "start_time": "2022-07-04T23:13:21.368Z"
   },
   {
    "duration": 20,
    "start_time": "2022-07-04T23:13:21.374Z"
   },
   {
    "duration": 12,
    "start_time": "2022-07-04T23:13:21.396Z"
   },
   {
    "duration": 44,
    "start_time": "2022-07-04T23:13:21.409Z"
   },
   {
    "duration": 12,
    "start_time": "2022-07-04T23:13:21.455Z"
   },
   {
    "duration": 15,
    "start_time": "2022-07-04T23:13:21.468Z"
   },
   {
    "duration": 13,
    "start_time": "2022-07-04T23:13:21.484Z"
   },
   {
    "duration": 10,
    "start_time": "2022-07-04T23:13:21.498Z"
   },
   {
    "duration": 53,
    "start_time": "2022-07-04T23:13:21.509Z"
   },
   {
    "duration": 10,
    "start_time": "2022-07-04T23:13:21.564Z"
   },
   {
    "duration": 4,
    "start_time": "2022-07-04T23:13:21.575Z"
   },
   {
    "duration": 115,
    "start_time": "2022-07-04T23:13:26.057Z"
   },
   {
    "duration": 16,
    "start_time": "2022-07-04T23:13:32.660Z"
   },
   {
    "duration": 11,
    "start_time": "2022-07-04T23:13:40.307Z"
   },
   {
    "duration": 17,
    "start_time": "2022-07-04T23:13:44.913Z"
   },
   {
    "duration": 12,
    "start_time": "2022-07-04T23:13:48.927Z"
   },
   {
    "duration": 7,
    "start_time": "2022-07-04T23:18:42.699Z"
   },
   {
    "duration": 7,
    "start_time": "2022-07-04T23:18:47.507Z"
   },
   {
    "duration": 7,
    "start_time": "2022-07-04T23:18:58.517Z"
   },
   {
    "duration": 9,
    "start_time": "2022-07-04T23:19:04.032Z"
   },
   {
    "duration": 5,
    "start_time": "2022-07-04T23:19:45.240Z"
   },
   {
    "duration": 6,
    "start_time": "2022-07-04T23:21:05.769Z"
   },
   {
    "duration": 7,
    "start_time": "2022-07-04T23:21:24.461Z"
   },
   {
    "duration": 8,
    "start_time": "2022-07-04T23:21:30.667Z"
   },
   {
    "duration": 7,
    "start_time": "2022-07-04T23:21:32.293Z"
   },
   {
    "duration": 13,
    "start_time": "2022-07-04T23:21:37.709Z"
   },
   {
    "duration": 6,
    "start_time": "2022-07-04T23:21:49.830Z"
   },
   {
    "duration": 5,
    "start_time": "2022-07-04T23:21:58.924Z"
   },
   {
    "duration": 5,
    "start_time": "2022-07-04T23:22:01.480Z"
   }
  ],
  "colab": {
   "collapsed_sections": [
    "E0vqbgi9ay0H",
    "VUC88oWjTJw2"
   ],
   "name": "automatization_template_upd4.ipynb",
   "provenance": []
  },
  "kernelspec": {
   "display_name": "Python 3 (ipykernel)",
   "language": "python",
   "name": "python3"
  },
  "language_info": {
   "codemirror_mode": {
    "name": "ipython",
    "version": 3
   },
   "file_extension": ".py",
   "mimetype": "text/x-python",
   "name": "python",
   "nbconvert_exporter": "python",
   "pygments_lexer": "ipython3",
   "version": "3.9.15"
  },
  "toc": {
   "base_numbering": 1,
   "nav_menu": {
    "height": "215px",
    "width": "403px"
   },
   "number_sections": true,
   "sideBar": true,
   "skip_h1_title": true,
   "title_cell": "Table of Contents",
   "title_sidebar": "Contents",
   "toc_cell": false,
   "toc_position": {
    "height": "calc(100% - 180px)",
    "left": "10px",
    "top": "150px",
    "width": "285.825px"
   },
   "toc_section_display": true,
   "toc_window_display": false
  }
 },
 "nbformat": 4,
 "nbformat_minor": 1
}
