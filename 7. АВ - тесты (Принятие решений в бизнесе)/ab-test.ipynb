{
 "cells": [
  {
   "cell_type": "markdown",
   "id": "561801c9",
   "metadata": {},
   "source": [
    "# Принятие решений в бизнесе"
   ]
  },
  {
   "cell_type": "markdown",
   "id": "c0a8b1c8",
   "metadata": {},
   "source": [
    "Вместе с отделом маркетинга подготовили список гипотез для увеличения выручки.\n",
    "\n",
    "Цель проекта:\n",
    "- приоритизировать гипотезы, \n",
    "- запустить A/B-тест и проанализировать результаты."
   ]
  },
  {
   "cell_type": "markdown",
   "id": "36649612",
   "metadata": {},
   "source": [
    "Данные предосталены тремя датасетами:\n",
    "- Файл /datasets/hypothesis.csv с 9 гипотезами по увеличению выручки интернет-магазина с указанными параметрами Reach, Impact, Confidence, Effort\n",
    "- Файл с заказами во время A/B-теста /datasets/orders.csv \n",
    "- Файл с посещениями пользователей во время A/B-теста /datasets/visitors.csv\n",
    "\n",
    "О качестве данных ничего не известно. Поэтому перед проверкой гипотез понадобится обзор данных.\n",
    "Нужно проверить данные на ошибки и оцените их влияние на исследование. \n",
    "\n",
    "Таким образом, исследование пройдёт в 5 этапов:\n",
    "\n",
    "- Ознакомление с данными\n",
    "- Предобработка данных\n",
    "- Приоритизация гипотез\n",
    "- Анализ A/B-теста\n",
    "- Общий вывод"
   ]
  },
  {
   "cell_type": "markdown",
   "id": "5a2e8e78",
   "metadata": {},
   "source": [
    "## Загрузка данных"
   ]
  },
  {
   "cell_type": "code",
   "execution_count": 1,
   "id": "13c6176d",
   "metadata": {},
   "outputs": [],
   "source": [
    "#загружаем библиотеки\n",
    "import pandas as pd\n",
    "import seaborn as sns\n",
    "from matplotlib import pyplot as plt\n",
    "import numpy as np\n",
    "from datetime import datetime, timedelta\n",
    "from scipy import stats as st\n",
    "import scipy.stats as stats"
   ]
  },
  {
   "cell_type": "code",
   "execution_count": 2,
   "id": "1aaa4880",
   "metadata": {},
   "outputs": [],
   "source": [
    "try:\n",
    "    visits = pd.read_csv('/datasets/visitors.csv')\n",
    "    orders = pd.read_csv('/datasets/orders.csv')\n",
    "    hypothesis = pd.read_csv('/datasets/hypothesis.csv')\n",
    "except:\n",
    "    visits = pd.read_csv('C:\\Python\\datasets/visitors.csv')\n",
    "    orders = pd.read_csv('C:\\Python\\datasets/orders.csv')\n",
    "    hypothesis = pd.read_csv('C:\\Python\\datasets/hypothesis.csv')"
   ]
  },
  {
   "cell_type": "markdown",
   "id": "3d5be553",
   "metadata": {},
   "source": [
    "## Ознакомление с данными"
   ]
  },
  {
   "cell_type": "code",
   "execution_count": 3,
   "id": "c259e90b",
   "metadata": {},
   "outputs": [
    {
     "data": {
      "text/html": [
       "<div>\n",
       "<style scoped>\n",
       "    .dataframe tbody tr th:only-of-type {\n",
       "        vertical-align: middle;\n",
       "    }\n",
       "\n",
       "    .dataframe tbody tr th {\n",
       "        vertical-align: top;\n",
       "    }\n",
       "\n",
       "    .dataframe thead th {\n",
       "        text-align: right;\n",
       "    }\n",
       "</style>\n",
       "<table border=\"1\" class=\"dataframe\">\n",
       "  <thead>\n",
       "    <tr style=\"text-align: right;\">\n",
       "      <th></th>\n",
       "      <th>date</th>\n",
       "      <th>group</th>\n",
       "      <th>visitors</th>\n",
       "    </tr>\n",
       "  </thead>\n",
       "  <tbody>\n",
       "    <tr>\n",
       "      <th>0</th>\n",
       "      <td>2019-08-01</td>\n",
       "      <td>A</td>\n",
       "      <td>719</td>\n",
       "    </tr>\n",
       "    <tr>\n",
       "      <th>1</th>\n",
       "      <td>2019-08-02</td>\n",
       "      <td>A</td>\n",
       "      <td>619</td>\n",
       "    </tr>\n",
       "    <tr>\n",
       "      <th>2</th>\n",
       "      <td>2019-08-03</td>\n",
       "      <td>A</td>\n",
       "      <td>507</td>\n",
       "    </tr>\n",
       "    <tr>\n",
       "      <th>3</th>\n",
       "      <td>2019-08-04</td>\n",
       "      <td>A</td>\n",
       "      <td>717</td>\n",
       "    </tr>\n",
       "    <tr>\n",
       "      <th>4</th>\n",
       "      <td>2019-08-05</td>\n",
       "      <td>A</td>\n",
       "      <td>756</td>\n",
       "    </tr>\n",
       "  </tbody>\n",
       "</table>\n",
       "</div>"
      ],
      "text/plain": [
       "         date group  visitors\n",
       "0  2019-08-01     A       719\n",
       "1  2019-08-02     A       619\n",
       "2  2019-08-03     A       507\n",
       "3  2019-08-04     A       717\n",
       "4  2019-08-05     A       756"
      ]
     },
     "execution_count": 3,
     "metadata": {},
     "output_type": "execute_result"
    }
   ],
   "source": [
    "visits.head(5)"
   ]
  },
  {
   "cell_type": "markdown",
   "id": "d694b986",
   "metadata": {},
   "source": [
    "**date** — дата;\\\n",
    "**group** — группа A/B-теста;\\\n",
    "**visitors** — количество пользователей в указанную дату в указанной группе A/B-теста"
   ]
  },
  {
   "cell_type": "code",
   "execution_count": 4,
   "id": "ba71549a",
   "metadata": {},
   "outputs": [
    {
     "data": {
      "text/html": [
       "<div>\n",
       "<style scoped>\n",
       "    .dataframe tbody tr th:only-of-type {\n",
       "        vertical-align: middle;\n",
       "    }\n",
       "\n",
       "    .dataframe tbody tr th {\n",
       "        vertical-align: top;\n",
       "    }\n",
       "\n",
       "    .dataframe thead th {\n",
       "        text-align: right;\n",
       "    }\n",
       "</style>\n",
       "<table border=\"1\" class=\"dataframe\">\n",
       "  <thead>\n",
       "    <tr style=\"text-align: right;\">\n",
       "      <th></th>\n",
       "      <th>transactionId</th>\n",
       "      <th>visitorId</th>\n",
       "      <th>date</th>\n",
       "      <th>revenue</th>\n",
       "      <th>group</th>\n",
       "    </tr>\n",
       "  </thead>\n",
       "  <tbody>\n",
       "    <tr>\n",
       "      <th>0</th>\n",
       "      <td>3667963787</td>\n",
       "      <td>3312258926</td>\n",
       "      <td>2019-08-15</td>\n",
       "      <td>1650</td>\n",
       "      <td>B</td>\n",
       "    </tr>\n",
       "    <tr>\n",
       "      <th>1</th>\n",
       "      <td>2804400009</td>\n",
       "      <td>3642806036</td>\n",
       "      <td>2019-08-15</td>\n",
       "      <td>730</td>\n",
       "      <td>B</td>\n",
       "    </tr>\n",
       "    <tr>\n",
       "      <th>2</th>\n",
       "      <td>2961555356</td>\n",
       "      <td>4069496402</td>\n",
       "      <td>2019-08-15</td>\n",
       "      <td>400</td>\n",
       "      <td>A</td>\n",
       "    </tr>\n",
       "    <tr>\n",
       "      <th>3</th>\n",
       "      <td>3797467345</td>\n",
       "      <td>1196621759</td>\n",
       "      <td>2019-08-15</td>\n",
       "      <td>9759</td>\n",
       "      <td>B</td>\n",
       "    </tr>\n",
       "    <tr>\n",
       "      <th>4</th>\n",
       "      <td>2282983706</td>\n",
       "      <td>2322279887</td>\n",
       "      <td>2019-08-15</td>\n",
       "      <td>2308</td>\n",
       "      <td>B</td>\n",
       "    </tr>\n",
       "  </tbody>\n",
       "</table>\n",
       "</div>"
      ],
      "text/plain": [
       "   transactionId   visitorId        date  revenue group\n",
       "0     3667963787  3312258926  2019-08-15     1650     B\n",
       "1     2804400009  3642806036  2019-08-15      730     B\n",
       "2     2961555356  4069496402  2019-08-15      400     A\n",
       "3     3797467345  1196621759  2019-08-15     9759     B\n",
       "4     2282983706  2322279887  2019-08-15     2308     B"
      ]
     },
     "execution_count": 4,
     "metadata": {},
     "output_type": "execute_result"
    }
   ],
   "source": [
    "orders.head(5)"
   ]
  },
  {
   "cell_type": "markdown",
   "id": "323ce881",
   "metadata": {},
   "source": [
    "**transactionId** — идентификатор заказа;\\\n",
    "**visitorId** — идентификатор пользователя, совершившего заказ;\\\n",
    "**date** — дата, когда был совершён заказ;\\\n",
    "**revenue** — выручка заказа;\\\n",
    "**group** — группа A/B-теста, в которую попал заказ."
   ]
  },
  {
   "cell_type": "markdown",
   "id": "c2bab3c6",
   "metadata": {},
   "source": [
    "Для удобства можно привести названия столбцов к строчному написанию"
   ]
  },
  {
   "cell_type": "code",
   "execution_count": 5,
   "id": "aa6096a6",
   "metadata": {
    "scrolled": true
   },
   "outputs": [
    {
     "data": {
      "text/html": [
       "<div>\n",
       "<style scoped>\n",
       "    .dataframe tbody tr th:only-of-type {\n",
       "        vertical-align: middle;\n",
       "    }\n",
       "\n",
       "    .dataframe tbody tr th {\n",
       "        vertical-align: top;\n",
       "    }\n",
       "\n",
       "    .dataframe thead th {\n",
       "        text-align: right;\n",
       "    }\n",
       "</style>\n",
       "<table border=\"1\" class=\"dataframe\">\n",
       "  <thead>\n",
       "    <tr style=\"text-align: right;\">\n",
       "      <th></th>\n",
       "      <th>Hypothesis</th>\n",
       "      <th>Reach</th>\n",
       "      <th>Impact</th>\n",
       "      <th>Confidence</th>\n",
       "      <th>Efforts</th>\n",
       "    </tr>\n",
       "  </thead>\n",
       "  <tbody>\n",
       "    <tr>\n",
       "      <th>0</th>\n",
       "      <td>Добавить два новых канала привлечения трафика, что позволит привлекать на 30% больше пользователей</td>\n",
       "      <td>3</td>\n",
       "      <td>10</td>\n",
       "      <td>8</td>\n",
       "      <td>6</td>\n",
       "    </tr>\n",
       "    <tr>\n",
       "      <th>1</th>\n",
       "      <td>Запустить собственную службу доставки, что сократит срок доставки заказов</td>\n",
       "      <td>2</td>\n",
       "      <td>5</td>\n",
       "      <td>4</td>\n",
       "      <td>10</td>\n",
       "    </tr>\n",
       "    <tr>\n",
       "      <th>2</th>\n",
       "      <td>Добавить блоки рекомендаций товаров на сайт интернет магазина, чтобы повысить конверсию и средний чек заказа</td>\n",
       "      <td>8</td>\n",
       "      <td>3</td>\n",
       "      <td>7</td>\n",
       "      <td>3</td>\n",
       "    </tr>\n",
       "    <tr>\n",
       "      <th>3</th>\n",
       "      <td>Изменить структура категорий, что увеличит конверсию, т.к. пользователи быстрее найдут нужный товар</td>\n",
       "      <td>8</td>\n",
       "      <td>3</td>\n",
       "      <td>3</td>\n",
       "      <td>8</td>\n",
       "    </tr>\n",
       "    <tr>\n",
       "      <th>4</th>\n",
       "      <td>Изменить цвет фона главной страницы, чтобы увеличить вовлеченность пользователей</td>\n",
       "      <td>3</td>\n",
       "      <td>1</td>\n",
       "      <td>1</td>\n",
       "      <td>1</td>\n",
       "    </tr>\n",
       "    <tr>\n",
       "      <th>5</th>\n",
       "      <td>Добавить страницу отзывов клиентов о магазине, что позволит увеличить количество заказов</td>\n",
       "      <td>3</td>\n",
       "      <td>2</td>\n",
       "      <td>2</td>\n",
       "      <td>3</td>\n",
       "    </tr>\n",
       "    <tr>\n",
       "      <th>6</th>\n",
       "      <td>Показать на главной странице баннеры с актуальными акциями и распродажами, чтобы увеличить конверсию</td>\n",
       "      <td>5</td>\n",
       "      <td>3</td>\n",
       "      <td>8</td>\n",
       "      <td>3</td>\n",
       "    </tr>\n",
       "    <tr>\n",
       "      <th>7</th>\n",
       "      <td>Добавить форму подписки на все основные страницы, чтобы собрать базу клиентов для email-рассылок</td>\n",
       "      <td>10</td>\n",
       "      <td>7</td>\n",
       "      <td>8</td>\n",
       "      <td>5</td>\n",
       "    </tr>\n",
       "    <tr>\n",
       "      <th>8</th>\n",
       "      <td>Запустить акцию, дающую скидку на товар в день рождения</td>\n",
       "      <td>1</td>\n",
       "      <td>9</td>\n",
       "      <td>9</td>\n",
       "      <td>5</td>\n",
       "    </tr>\n",
       "  </tbody>\n",
       "</table>\n",
       "</div>"
      ],
      "text/plain": [
       "                                                                                                     Hypothesis  \\\n",
       "0            Добавить два новых канала привлечения трафика, что позволит привлекать на 30% больше пользователей   \n",
       "1                                     Запустить собственную службу доставки, что сократит срок доставки заказов   \n",
       "2  Добавить блоки рекомендаций товаров на сайт интернет магазина, чтобы повысить конверсию и средний чек заказа   \n",
       "3           Изменить структура категорий, что увеличит конверсию, т.к. пользователи быстрее найдут нужный товар   \n",
       "4                              Изменить цвет фона главной страницы, чтобы увеличить вовлеченность пользователей   \n",
       "5                      Добавить страницу отзывов клиентов о магазине, что позволит увеличить количество заказов   \n",
       "6          Показать на главной странице баннеры с актуальными акциями и распродажами, чтобы увеличить конверсию   \n",
       "7              Добавить форму подписки на все основные страницы, чтобы собрать базу клиентов для email-рассылок   \n",
       "8                                                       Запустить акцию, дающую скидку на товар в день рождения   \n",
       "\n",
       "   Reach  Impact  Confidence  Efforts  \n",
       "0      3      10           8        6  \n",
       "1      2       5           4       10  \n",
       "2      8       3           7        3  \n",
       "3      8       3           3        8  \n",
       "4      3       1           1        1  \n",
       "5      3       2           2        3  \n",
       "6      5       3           8        3  \n",
       "7     10       7           8        5  \n",
       "8      1       9           9        5  "
      ]
     },
     "metadata": {},
     "output_type": "display_data"
    }
   ],
   "source": [
    "pd.options.display.max_colwidth = 110\n",
    "display(hypothesis)"
   ]
  },
  {
   "cell_type": "markdown",
   "id": "56154eb3",
   "metadata": {},
   "source": [
    "**Hypothesis** — краткое описание гипотезы;\\\n",
    "**Reach** — охват пользователей по 10-балльной шкале;\\\n",
    "**Impact** — влияние на пользователей по 10-балльной шкале;\\\n",
    "**Confidence** — уверенность в гипотезе по 10-балльной шкале;\\\n",
    "**Efforts** — затраты ресурсов на проверку гипотезы по 10-балльной шкале. Чем больше значение Efforts, тем дороже проверка гипотезы."
   ]
  },
  {
   "cell_type": "markdown",
   "id": "47dc1cee",
   "metadata": {},
   "source": [
    "Для удобства  так же можно привести названия столбцов к строчному написанию"
   ]
  },
  {
   "cell_type": "code",
   "execution_count": 6,
   "id": "d2b2b387",
   "metadata": {},
   "outputs": [
    {
     "name": "stdout",
     "output_type": "stream",
     "text": [
      "<class 'pandas.core.frame.DataFrame'>\n",
      "RangeIndex: 62 entries, 0 to 61\n",
      "Data columns (total 3 columns):\n",
      " #   Column    Non-Null Count  Dtype \n",
      "---  ------    --------------  ----- \n",
      " 0   date      62 non-null     object\n",
      " 1   group     62 non-null     object\n",
      " 2   visitors  62 non-null     int64 \n",
      "dtypes: int64(1), object(2)\n",
      "memory usage: 1.6+ KB\n"
     ]
    }
   ],
   "source": [
    "visits.info()"
   ]
  },
  {
   "cell_type": "code",
   "execution_count": 7,
   "id": "547422d2",
   "metadata": {},
   "outputs": [
    {
     "data": {
      "text/plain": [
       "0"
      ]
     },
     "execution_count": 7,
     "metadata": {},
     "output_type": "execute_result"
    }
   ],
   "source": [
    "visits.duplicated().sum()"
   ]
  },
  {
   "cell_type": "markdown",
   "id": "89f2e7f3",
   "metadata": {},
   "source": [
    "В таблице визито видим дату в формате object, нужно будет перевести в формат даты.\\\n",
    "Явных дубликатов в таблице нет.\\\n",
    "Пропусков тоже нет"
   ]
  },
  {
   "cell_type": "code",
   "execution_count": 8,
   "id": "c889fef9",
   "metadata": {},
   "outputs": [
    {
     "name": "stdout",
     "output_type": "stream",
     "text": [
      "<class 'pandas.core.frame.DataFrame'>\n",
      "RangeIndex: 1197 entries, 0 to 1196\n",
      "Data columns (total 5 columns):\n",
      " #   Column         Non-Null Count  Dtype \n",
      "---  ------         --------------  ----- \n",
      " 0   transactionId  1197 non-null   int64 \n",
      " 1   visitorId      1197 non-null   int64 \n",
      " 2   date           1197 non-null   object\n",
      " 3   revenue        1197 non-null   int64 \n",
      " 4   group          1197 non-null   object\n",
      "dtypes: int64(3), object(2)\n",
      "memory usage: 46.9+ KB\n"
     ]
    }
   ],
   "source": [
    "orders.info()"
   ]
  },
  {
   "cell_type": "code",
   "execution_count": 9,
   "id": "3afba5e0",
   "metadata": {},
   "outputs": [
    {
     "data": {
      "text/plain": [
       "0"
      ]
     },
     "execution_count": 9,
     "metadata": {},
     "output_type": "execute_result"
    }
   ],
   "source": [
    "orders.duplicated().sum()"
   ]
  },
  {
   "cell_type": "code",
   "execution_count": 10,
   "id": "a7631202",
   "metadata": {},
   "outputs": [
    {
     "data": {
      "text/html": [
       "<div>\n",
       "<style scoped>\n",
       "    .dataframe tbody tr th:only-of-type {\n",
       "        vertical-align: middle;\n",
       "    }\n",
       "\n",
       "    .dataframe tbody tr th {\n",
       "        vertical-align: top;\n",
       "    }\n",
       "\n",
       "    .dataframe thead th {\n",
       "        text-align: right;\n",
       "    }\n",
       "</style>\n",
       "<table border=\"1\" class=\"dataframe\">\n",
       "  <thead>\n",
       "    <tr style=\"text-align: right;\">\n",
       "      <th></th>\n",
       "      <th>transactionId</th>\n",
       "      <th>visitorId</th>\n",
       "      <th>revenue</th>\n",
       "    </tr>\n",
       "  </thead>\n",
       "  <tbody>\n",
       "    <tr>\n",
       "      <th>count</th>\n",
       "      <td>1.197000e+03</td>\n",
       "      <td>1.197000e+03</td>\n",
       "      <td>1.197000e+03</td>\n",
       "    </tr>\n",
       "    <tr>\n",
       "      <th>mean</th>\n",
       "      <td>2.155621e+09</td>\n",
       "      <td>2.165960e+09</td>\n",
       "      <td>8.348006e+03</td>\n",
       "    </tr>\n",
       "    <tr>\n",
       "      <th>std</th>\n",
       "      <td>1.229085e+09</td>\n",
       "      <td>1.236014e+09</td>\n",
       "      <td>3.919113e+04</td>\n",
       "    </tr>\n",
       "    <tr>\n",
       "      <th>min</th>\n",
       "      <td>1.062393e+06</td>\n",
       "      <td>5.114589e+06</td>\n",
       "      <td>5.000000e+01</td>\n",
       "    </tr>\n",
       "    <tr>\n",
       "      <th>25%</th>\n",
       "      <td>1.166776e+09</td>\n",
       "      <td>1.111826e+09</td>\n",
       "      <td>1.220000e+03</td>\n",
       "    </tr>\n",
       "    <tr>\n",
       "      <th>50%</th>\n",
       "      <td>2.145194e+09</td>\n",
       "      <td>2.217985e+09</td>\n",
       "      <td>2.978000e+03</td>\n",
       "    </tr>\n",
       "    <tr>\n",
       "      <th>75%</th>\n",
       "      <td>3.237740e+09</td>\n",
       "      <td>3.177606e+09</td>\n",
       "      <td>8.290000e+03</td>\n",
       "    </tr>\n",
       "    <tr>\n",
       "      <th>max</th>\n",
       "      <td>4.293856e+09</td>\n",
       "      <td>4.283872e+09</td>\n",
       "      <td>1.294500e+06</td>\n",
       "    </tr>\n",
       "  </tbody>\n",
       "</table>\n",
       "</div>"
      ],
      "text/plain": [
       "       transactionId     visitorId       revenue\n",
       "count   1.197000e+03  1.197000e+03  1.197000e+03\n",
       "mean    2.155621e+09  2.165960e+09  8.348006e+03\n",
       "std     1.229085e+09  1.236014e+09  3.919113e+04\n",
       "min     1.062393e+06  5.114589e+06  5.000000e+01\n",
       "25%     1.166776e+09  1.111826e+09  1.220000e+03\n",
       "50%     2.145194e+09  2.217985e+09  2.978000e+03\n",
       "75%     3.237740e+09  3.177606e+09  8.290000e+03\n",
       "max     4.293856e+09  4.283872e+09  1.294500e+06"
      ]
     },
     "execution_count": 10,
     "metadata": {},
     "output_type": "execute_result"
    }
   ],
   "source": [
    "orders.describe()"
   ]
  },
  {
   "cell_type": "code",
   "execution_count": 11,
   "id": "dbb43817",
   "metadata": {},
   "outputs": [
    {
     "data": {
      "image/png": "[encoded data removed]",
      "text/plain": [
       "<Figure size 1200x500 with 1 Axes>"
      ]
     },
     "metadata": {},
     "output_type": "display_data"
    }
   ],
   "source": [
    "orders['revenue'].hist(bins=50, figsize = (12,5))\n",
    "plt.ticklabel_format(style='plain')"
   ]
  },
  {
   "cell_type": "code",
   "execution_count": 12,
   "id": "d067d457",
   "metadata": {},
   "outputs": [
    {
     "name": "stdout",
     "output_type": "stream",
     "text": [
      "Максимальный заказ 1294500\n",
      "Минимальный заказ 50\n",
      "Медианный заказ 2978.0\n"
     ]
    }
   ],
   "source": [
    "print('Максимальный заказ', orders['revenue'].max())\n",
    "print('Минимальный заказ', orders['revenue'].min())\n",
    "print('Медианный заказ', orders['revenue'].median())"
   ]
  },
  {
   "cell_type": "markdown",
   "id": "759f5794",
   "metadata": {},
   "source": [
    "В таблице заказов так же дата в формате object, нужно будет перевести в формат даты.\\\n",
    "Явных дубликатов и пропусков в таблице нет\\\n",
    "Видим довольно большой разброс в суммах заказов. от 50 аж до 1 294 500\\\n",
    "Будем учитавать аномальные значения во время анализа результатов теста. Они могут сместить оценку."
   ]
  },
  {
   "cell_type": "code",
   "execution_count": 13,
   "id": "daf371e3",
   "metadata": {},
   "outputs": [
    {
     "name": "stdout",
     "output_type": "stream",
     "text": [
      "<class 'pandas.core.frame.DataFrame'>\n",
      "RangeIndex: 9 entries, 0 to 8\n",
      "Data columns (total 5 columns):\n",
      " #   Column      Non-Null Count  Dtype \n",
      "---  ------      --------------  ----- \n",
      " 0   Hypothesis  9 non-null      object\n",
      " 1   Reach       9 non-null      int64 \n",
      " 2   Impact      9 non-null      int64 \n",
      " 3   Confidence  9 non-null      int64 \n",
      " 4   Efforts     9 non-null      int64 \n",
      "dtypes: int64(4), object(1)\n",
      "memory usage: 488.0+ bytes\n"
     ]
    }
   ],
   "source": [
    "hypothesis.info()"
   ]
  },
  {
   "cell_type": "markdown",
   "id": "96cda33b",
   "metadata": {},
   "source": [
    "С датасетом с гипозами все в порядке."
   ]
  },
  {
   "cell_type": "markdown",
   "id": "f51caae2",
   "metadata": {},
   "source": [
    "### **Вывод:**\n",
    "- Данные чистые, пропусков и дубликатов нет\n",
    "- Нет отрицательных значений, где их быть не может. Данные собраны корректно\n",
    "\n",
    "На этапе предобработки:\n",
    "- Необходимо привести формат даты к верному типу.\n",
    "- Для удобства привести названия столбцов к строчному написанию (orders и hypothesis)"
   ]
  },
  {
   "cell_type": "markdown",
   "id": "dd875508",
   "metadata": {},
   "source": [
    "## Предобработка данных"
   ]
  },
  {
   "cell_type": "markdown",
   "id": "a6316509",
   "metadata": {},
   "source": [
    "### Преобразования"
   ]
  },
  {
   "cell_type": "code",
   "execution_count": 14,
   "id": "281f9e37",
   "metadata": {},
   "outputs": [],
   "source": [
    "# приводим дату к нужному формату\n",
    "visits['date'] = pd.to_datetime(visits['date'])\n",
    "orders['date'] = pd.to_datetime(orders['date'])"
   ]
  },
  {
   "cell_type": "code",
   "execution_count": 15,
   "id": "286e1614",
   "metadata": {},
   "outputs": [],
   "source": [
    "#приводим названия столбцов\n",
    "hypothesis.columns = hypothesis.columns.str.lower()\n",
    "orders = orders.rename(columns={'transactionId': 'transaction_id', 'visitorId':'visitor_id'})"
   ]
  },
  {
   "cell_type": "code",
   "execution_count": 16,
   "id": "d3431885",
   "metadata": {},
   "outputs": [
    {
     "name": "stdout",
     "output_type": "stream",
     "text": [
      "<class 'pandas.core.frame.DataFrame'>\n",
      "RangeIndex: 62 entries, 0 to 61\n",
      "Data columns (total 3 columns):\n",
      " #   Column    Non-Null Count  Dtype         \n",
      "---  ------    --------------  -----         \n",
      " 0   date      62 non-null     datetime64[ns]\n",
      " 1   group     62 non-null     object        \n",
      " 2   visitors  62 non-null     int64         \n",
      "dtypes: datetime64[ns](1), int64(1), object(1)\n",
      "memory usage: 1.6+ KB\n"
     ]
    }
   ],
   "source": [
    "visits.info() #проверка"
   ]
  },
  {
   "cell_type": "code",
   "execution_count": 17,
   "id": "812093fc",
   "metadata": {},
   "outputs": [
    {
     "name": "stdout",
     "output_type": "stream",
     "text": [
      "<class 'pandas.core.frame.DataFrame'>\n",
      "RangeIndex: 1197 entries, 0 to 1196\n",
      "Data columns (total 5 columns):\n",
      " #   Column          Non-Null Count  Dtype         \n",
      "---  ------          --------------  -----         \n",
      " 0   transaction_id  1197 non-null   int64         \n",
      " 1   visitor_id      1197 non-null   int64         \n",
      " 2   date            1197 non-null   datetime64[ns]\n",
      " 3   revenue         1197 non-null   int64         \n",
      " 4   group           1197 non-null   object        \n",
      "dtypes: datetime64[ns](1), int64(3), object(1)\n",
      "memory usage: 46.9+ KB\n"
     ]
    }
   ],
   "source": [
    "orders.info() #проверка"
   ]
  },
  {
   "cell_type": "markdown",
   "id": "a9b3fb7d",
   "metadata": {},
   "source": [
    "### Проверка дат"
   ]
  },
  {
   "cell_type": "code",
   "execution_count": 18,
   "id": "4cb09159",
   "metadata": {},
   "outputs": [
    {
     "name": "stdout",
     "output_type": "stream",
     "text": [
      "Минимальная дата в таблице посещений 2019-08-01\n",
      "Максимальная дата в таблице посещений 2019-08-31\n"
     ]
    }
   ],
   "source": [
    "print('Минимальная дата в таблице посещений', visits['date'].dt.date.min())\n",
    "print('Максимальная дата в таблице посещений', visits['date'].dt.date.max())"
   ]
  },
  {
   "cell_type": "code",
   "execution_count": 19,
   "id": "37bfd97a",
   "metadata": {},
   "outputs": [
    {
     "name": "stdout",
     "output_type": "stream",
     "text": [
      "Минимальная дата в таблице заказов 2019-08-01\n",
      "Максимальная дата в таблице заказов 2019-08-31\n"
     ]
    }
   ],
   "source": [
    "print('Минимальная дата в таблице заказов', orders['date'].dt.date.min())\n",
    "print('Максимальная дата в таблице заказов', orders['date'].dt.date.max())"
   ]
  },
  {
   "cell_type": "markdown",
   "id": "66df53ca",
   "metadata": {},
   "source": [
    "**Вывод:** Даты совпадают, все верно. Лишние записи отсутствуют.\\\n",
    "Получаем, что эксперимент запущен 1 августа 2019 года и длится 31 день."
   ]
  },
  {
   "cell_type": "markdown",
   "id": "784f04e5",
   "metadata": {},
   "source": [
    "### Проверка кол-ва пользователей в группах теста"
   ]
  },
  {
   "cell_type": "code",
   "execution_count": 20,
   "id": "53377eed",
   "metadata": {},
   "outputs": [
    {
     "data": {
      "text/html": [
       "<div>\n",
       "<style scoped>\n",
       "    .dataframe tbody tr th:only-of-type {\n",
       "        vertical-align: middle;\n",
       "    }\n",
       "\n",
       "    .dataframe tbody tr th {\n",
       "        vertical-align: top;\n",
       "    }\n",
       "\n",
       "    .dataframe thead th {\n",
       "        text-align: right;\n",
       "    }\n",
       "</style>\n",
       "<table border=\"1\" class=\"dataframe\">\n",
       "  <thead>\n",
       "    <tr style=\"text-align: right;\">\n",
       "      <th></th>\n",
       "      <th>date</th>\n",
       "      <th>group</th>\n",
       "      <th>visitors</th>\n",
       "    </tr>\n",
       "  </thead>\n",
       "  <tbody>\n",
       "    <tr>\n",
       "      <th>0</th>\n",
       "      <td>2019-08-01</td>\n",
       "      <td>A</td>\n",
       "      <td>719</td>\n",
       "    </tr>\n",
       "    <tr>\n",
       "      <th>1</th>\n",
       "      <td>2019-08-02</td>\n",
       "      <td>A</td>\n",
       "      <td>619</td>\n",
       "    </tr>\n",
       "    <tr>\n",
       "      <th>2</th>\n",
       "      <td>2019-08-03</td>\n",
       "      <td>A</td>\n",
       "      <td>507</td>\n",
       "    </tr>\n",
       "    <tr>\n",
       "      <th>3</th>\n",
       "      <td>2019-08-04</td>\n",
       "      <td>A</td>\n",
       "      <td>717</td>\n",
       "    </tr>\n",
       "    <tr>\n",
       "      <th>4</th>\n",
       "      <td>2019-08-05</td>\n",
       "      <td>A</td>\n",
       "      <td>756</td>\n",
       "    </tr>\n",
       "  </tbody>\n",
       "</table>\n",
       "</div>"
      ],
      "text/plain": [
       "        date group  visitors\n",
       "0 2019-08-01     A       719\n",
       "1 2019-08-02     A       619\n",
       "2 2019-08-03     A       507\n",
       "3 2019-08-04     A       717\n",
       "4 2019-08-05     A       756"
      ]
     },
     "execution_count": 20,
     "metadata": {},
     "output_type": "execute_result"
    }
   ],
   "source": [
    "visits.head()"
   ]
  },
  {
   "cell_type": "code",
   "execution_count": 21,
   "id": "c780cfc5",
   "metadata": {},
   "outputs": [
    {
     "data": {
      "text/html": [
       "<div>\n",
       "<style scoped>\n",
       "    .dataframe tbody tr th:only-of-type {\n",
       "        vertical-align: middle;\n",
       "    }\n",
       "\n",
       "    .dataframe tbody tr th {\n",
       "        vertical-align: top;\n",
       "    }\n",
       "\n",
       "    .dataframe thead th {\n",
       "        text-align: right;\n",
       "    }\n",
       "</style>\n",
       "<table border=\"1\" class=\"dataframe\">\n",
       "  <thead>\n",
       "    <tr style=\"text-align: right;\">\n",
       "      <th></th>\n",
       "      <th>group</th>\n",
       "      <th>visitors</th>\n",
       "    </tr>\n",
       "  </thead>\n",
       "  <tbody>\n",
       "    <tr>\n",
       "      <th>0</th>\n",
       "      <td>A</td>\n",
       "      <td>18736</td>\n",
       "    </tr>\n",
       "    <tr>\n",
       "      <th>1</th>\n",
       "      <td>B</td>\n",
       "      <td>18916</td>\n",
       "    </tr>\n",
       "  </tbody>\n",
       "</table>\n",
       "</div>"
      ],
      "text/plain": [
       "  group  visitors\n",
       "0     A     18736\n",
       "1     B     18916"
      ]
     },
     "execution_count": 21,
     "metadata": {},
     "output_type": "execute_result"
    }
   ],
   "source": [
    "group_visits = visits.groupby('group', as_index=False).agg({'visitors':'sum'})\n",
    "group_visits"
   ]
  },
  {
   "cell_type": "code",
   "execution_count": 22,
   "id": "1c9d03f0",
   "metadata": {},
   "outputs": [
    {
     "name": "stdout",
     "output_type": "stream",
     "text": [
      "Разница между группами 180 человек\n",
      "Относительное различие количества пользователей равно 0.95%\n"
     ]
    }
   ],
   "source": [
    "print(f'Разница между группами {group_visits.visitors[1] - group_visits.visitors[0]} человек')\n",
    "print(f'Относительное различие количества пользователей равно {(1-(group_visits.visitors[0]/group_visits.visitors[1])):.2%}')\n",
    "#f'Я изучаю {prog_language.upper()} уже {day + 1}-й день'"
   ]
  },
  {
   "cell_type": "markdown",
   "id": "4218b6b7",
   "metadata": {},
   "source": [
    "**Вывод:** \n",
    "Кол-во пользователей в контрольной и тестовой группах различается на 1%. Что может отразится на анализе результатов теста. Будем учитывать это при анализе"
   ]
  },
  {
   "cell_type": "code",
   "execution_count": 23,
   "id": "8c8bbbf5",
   "metadata": {},
   "outputs": [
    {
     "data": {
      "text/html": [
       "<div>\n",
       "<style scoped>\n",
       "    .dataframe tbody tr th:only-of-type {\n",
       "        vertical-align: middle;\n",
       "    }\n",
       "\n",
       "    .dataframe tbody tr th {\n",
       "        vertical-align: top;\n",
       "    }\n",
       "\n",
       "    .dataframe thead th {\n",
       "        text-align: right;\n",
       "    }\n",
       "</style>\n",
       "<table border=\"1\" class=\"dataframe\">\n",
       "  <thead>\n",
       "    <tr style=\"text-align: right;\">\n",
       "      <th></th>\n",
       "      <th>transaction_id</th>\n",
       "      <th>visitor_id</th>\n",
       "      <th>date</th>\n",
       "      <th>revenue</th>\n",
       "      <th>group</th>\n",
       "    </tr>\n",
       "  </thead>\n",
       "  <tbody>\n",
       "    <tr>\n",
       "      <th>0</th>\n",
       "      <td>3667963787</td>\n",
       "      <td>3312258926</td>\n",
       "      <td>2019-08-15</td>\n",
       "      <td>1650</td>\n",
       "      <td>B</td>\n",
       "    </tr>\n",
       "    <tr>\n",
       "      <th>1</th>\n",
       "      <td>2804400009</td>\n",
       "      <td>3642806036</td>\n",
       "      <td>2019-08-15</td>\n",
       "      <td>730</td>\n",
       "      <td>B</td>\n",
       "    </tr>\n",
       "    <tr>\n",
       "      <th>2</th>\n",
       "      <td>2961555356</td>\n",
       "      <td>4069496402</td>\n",
       "      <td>2019-08-15</td>\n",
       "      <td>400</td>\n",
       "      <td>A</td>\n",
       "    </tr>\n",
       "    <tr>\n",
       "      <th>3</th>\n",
       "      <td>3797467345</td>\n",
       "      <td>1196621759</td>\n",
       "      <td>2019-08-15</td>\n",
       "      <td>9759</td>\n",
       "      <td>B</td>\n",
       "    </tr>\n",
       "    <tr>\n",
       "      <th>4</th>\n",
       "      <td>2282983706</td>\n",
       "      <td>2322279887</td>\n",
       "      <td>2019-08-15</td>\n",
       "      <td>2308</td>\n",
       "      <td>B</td>\n",
       "    </tr>\n",
       "  </tbody>\n",
       "</table>\n",
       "</div>"
      ],
      "text/plain": [
       "   transaction_id  visitor_id       date  revenue group\n",
       "0      3667963787  3312258926 2019-08-15     1650     B\n",
       "1      2804400009  3642806036 2019-08-15      730     B\n",
       "2      2961555356  4069496402 2019-08-15      400     A\n",
       "3      3797467345  1196621759 2019-08-15     9759     B\n",
       "4      2282983706  2322279887 2019-08-15     2308     B"
      ]
     },
     "execution_count": 23,
     "metadata": {},
     "output_type": "execute_result"
    }
   ],
   "source": [
    "orders.head()"
   ]
  },
  {
   "cell_type": "code",
   "execution_count": 24,
   "id": "041a4deb",
   "metadata": {},
   "outputs": [],
   "source": [
    "id_a = orders[orders.group == 'A']['visitor_id'].unique()\n",
    "id_b = orders[orders.group == 'B']['visitor_id'].unique()"
   ]
  },
  {
   "cell_type": "code",
   "execution_count": 25,
   "id": "322d7fcb",
   "metadata": {},
   "outputs": [
    {
     "data": {
      "text/plain": [
       "58"
      ]
     },
     "execution_count": 25,
     "metadata": {},
     "output_type": "execute_result"
    }
   ],
   "source": [
    "len(list(set(id_a) & set(id_b)))"
   ]
  },
  {
   "cell_type": "markdown",
   "id": "23757860",
   "metadata": {},
   "source": [
    "**Вывод:**\\\n",
    "Получаем 58 пользователей, которые делали заказы в обеих группах. При идеальном проведении А/В теста такого быть не должно."
   ]
  },
  {
   "cell_type": "markdown",
   "id": "be9adfde",
   "metadata": {},
   "source": [
    "### Вывод по предобработке"
   ]
  },
  {
   "cell_type": "markdown",
   "id": "2fff771f",
   "metadata": {},
   "source": [
    "- Привели формат даты к верному типу.\n",
    "- Для удобства привели названия столбцов к строчному написанию\n",
    "- Проверили совпадение временного интервала в таблице посещений и заказов\n",
    "- Выявили разницу кол-ва пользователей в контрольной и тестовой группах - 1%. \n",
    "- Выявили 58 пользователей, которые делали заказы в обеих группах. \n",
    "\n",
    "Удаление лишних пользователей для приведения к одинаковому кол-ву в обоих группах невозможно - т.к. это повлияет на конверсию. Id пользователей у нас имеются только в таблице с заказами, в то время как в таблице посещений лишь общее число пользователей по дням. "
   ]
  },
  {
   "cell_type": "markdown",
   "id": "ed169b42",
   "metadata": {},
   "source": [
    "## Приоритизация гипотез"
   ]
  },
  {
   "cell_type": "code",
   "execution_count": 26,
   "id": "0067fbd9",
   "metadata": {},
   "outputs": [
    {
     "data": {
      "text/html": [
       "<div>\n",
       "<style scoped>\n",
       "    .dataframe tbody tr th:only-of-type {\n",
       "        vertical-align: middle;\n",
       "    }\n",
       "\n",
       "    .dataframe tbody tr th {\n",
       "        vertical-align: top;\n",
       "    }\n",
       "\n",
       "    .dataframe thead th {\n",
       "        text-align: right;\n",
       "    }\n",
       "</style>\n",
       "<table border=\"1\" class=\"dataframe\">\n",
       "  <thead>\n",
       "    <tr style=\"text-align: right;\">\n",
       "      <th></th>\n",
       "      <th>hypothesis</th>\n",
       "      <th>reach</th>\n",
       "      <th>impact</th>\n",
       "      <th>confidence</th>\n",
       "      <th>efforts</th>\n",
       "    </tr>\n",
       "  </thead>\n",
       "  <tbody>\n",
       "    <tr>\n",
       "      <th>0</th>\n",
       "      <td>Добавить два новых канала привлечения трафика, что позволит привлекать на 30% больше пользователей</td>\n",
       "      <td>3</td>\n",
       "      <td>10</td>\n",
       "      <td>8</td>\n",
       "      <td>6</td>\n",
       "    </tr>\n",
       "    <tr>\n",
       "      <th>1</th>\n",
       "      <td>Запустить собственную службу доставки, что сократит срок доставки заказов</td>\n",
       "      <td>2</td>\n",
       "      <td>5</td>\n",
       "      <td>4</td>\n",
       "      <td>10</td>\n",
       "    </tr>\n",
       "    <tr>\n",
       "      <th>2</th>\n",
       "      <td>Добавить блоки рекомендаций товаров на сайт интернет магазина, чтобы повысить конверсию и средний чек заказа</td>\n",
       "      <td>8</td>\n",
       "      <td>3</td>\n",
       "      <td>7</td>\n",
       "      <td>3</td>\n",
       "    </tr>\n",
       "    <tr>\n",
       "      <th>3</th>\n",
       "      <td>Изменить структура категорий, что увеличит конверсию, т.к. пользователи быстрее найдут нужный товар</td>\n",
       "      <td>8</td>\n",
       "      <td>3</td>\n",
       "      <td>3</td>\n",
       "      <td>8</td>\n",
       "    </tr>\n",
       "    <tr>\n",
       "      <th>4</th>\n",
       "      <td>Изменить цвет фона главной страницы, чтобы увеличить вовлеченность пользователей</td>\n",
       "      <td>3</td>\n",
       "      <td>1</td>\n",
       "      <td>1</td>\n",
       "      <td>1</td>\n",
       "    </tr>\n",
       "    <tr>\n",
       "      <th>5</th>\n",
       "      <td>Добавить страницу отзывов клиентов о магазине, что позволит увеличить количество заказов</td>\n",
       "      <td>3</td>\n",
       "      <td>2</td>\n",
       "      <td>2</td>\n",
       "      <td>3</td>\n",
       "    </tr>\n",
       "    <tr>\n",
       "      <th>6</th>\n",
       "      <td>Показать на главной странице баннеры с актуальными акциями и распродажами, чтобы увеличить конверсию</td>\n",
       "      <td>5</td>\n",
       "      <td>3</td>\n",
       "      <td>8</td>\n",
       "      <td>3</td>\n",
       "    </tr>\n",
       "    <tr>\n",
       "      <th>7</th>\n",
       "      <td>Добавить форму подписки на все основные страницы, чтобы собрать базу клиентов для email-рассылок</td>\n",
       "      <td>10</td>\n",
       "      <td>7</td>\n",
       "      <td>8</td>\n",
       "      <td>5</td>\n",
       "    </tr>\n",
       "    <tr>\n",
       "      <th>8</th>\n",
       "      <td>Запустить акцию, дающую скидку на товар в день рождения</td>\n",
       "      <td>1</td>\n",
       "      <td>9</td>\n",
       "      <td>9</td>\n",
       "      <td>5</td>\n",
       "    </tr>\n",
       "  </tbody>\n",
       "</table>\n",
       "</div>"
      ],
      "text/plain": [
       "                                                                                                     hypothesis  \\\n",
       "0            Добавить два новых канала привлечения трафика, что позволит привлекать на 30% больше пользователей   \n",
       "1                                     Запустить собственную службу доставки, что сократит срок доставки заказов   \n",
       "2  Добавить блоки рекомендаций товаров на сайт интернет магазина, чтобы повысить конверсию и средний чек заказа   \n",
       "3           Изменить структура категорий, что увеличит конверсию, т.к. пользователи быстрее найдут нужный товар   \n",
       "4                              Изменить цвет фона главной страницы, чтобы увеличить вовлеченность пользователей   \n",
       "5                      Добавить страницу отзывов клиентов о магазине, что позволит увеличить количество заказов   \n",
       "6          Показать на главной странице баннеры с актуальными акциями и распродажами, чтобы увеличить конверсию   \n",
       "7              Добавить форму подписки на все основные страницы, чтобы собрать базу клиентов для email-рассылок   \n",
       "8                                                       Запустить акцию, дающую скидку на товар в день рождения   \n",
       "\n",
       "   reach  impact  confidence  efforts  \n",
       "0      3      10           8        6  \n",
       "1      2       5           4       10  \n",
       "2      8       3           7        3  \n",
       "3      8       3           3        8  \n",
       "4      3       1           1        1  \n",
       "5      3       2           2        3  \n",
       "6      5       3           8        3  \n",
       "7     10       7           8        5  \n",
       "8      1       9           9        5  "
      ]
     },
     "execution_count": 26,
     "metadata": {},
     "output_type": "execute_result"
    }
   ],
   "source": [
    "hypothesis"
   ]
  },
  {
   "cell_type": "markdown",
   "id": "711d32ff",
   "metadata": {},
   "source": [
    "### Фреймворк ICE для приоритизации гипотез. Сортировка по убыванию приоритета."
   ]
  },
  {
   "cell_type": "code",
   "execution_count": 27,
   "id": "d1c4f1e5",
   "metadata": {},
   "outputs": [],
   "source": [
    "hypothesis['ICE'] = (hypothesis.impact * hypothesis.confidence)/hypothesis.efforts"
   ]
  },
  {
   "cell_type": "code",
   "execution_count": 28,
   "id": "f3e7481e",
   "metadata": {},
   "outputs": [
    {
     "data": {
      "text/html": [
       "<div>\n",
       "<style scoped>\n",
       "    .dataframe tbody tr th:only-of-type {\n",
       "        vertical-align: middle;\n",
       "    }\n",
       "\n",
       "    .dataframe tbody tr th {\n",
       "        vertical-align: top;\n",
       "    }\n",
       "\n",
       "    .dataframe thead th {\n",
       "        text-align: right;\n",
       "    }\n",
       "</style>\n",
       "<table border=\"1\" class=\"dataframe\">\n",
       "  <thead>\n",
       "    <tr style=\"text-align: right;\">\n",
       "      <th></th>\n",
       "      <th>hypothesis</th>\n",
       "      <th>ICE</th>\n",
       "    </tr>\n",
       "  </thead>\n",
       "  <tbody>\n",
       "    <tr>\n",
       "      <th>8</th>\n",
       "      <td>Запустить акцию, дающую скидку на товар в день рождения</td>\n",
       "      <td>16.20</td>\n",
       "    </tr>\n",
       "    <tr>\n",
       "      <th>0</th>\n",
       "      <td>Добавить два новых канала привлечения трафика, что позволит привлекать на 30% больше пользователей</td>\n",
       "      <td>13.33</td>\n",
       "    </tr>\n",
       "    <tr>\n",
       "      <th>7</th>\n",
       "      <td>Добавить форму подписки на все основные страницы, чтобы собрать базу клиентов для email-рассылок</td>\n",
       "      <td>11.20</td>\n",
       "    </tr>\n",
       "    <tr>\n",
       "      <th>6</th>\n",
       "      <td>Показать на главной странице баннеры с актуальными акциями и распродажами, чтобы увеличить конверсию</td>\n",
       "      <td>8.00</td>\n",
       "    </tr>\n",
       "    <tr>\n",
       "      <th>2</th>\n",
       "      <td>Добавить блоки рекомендаций товаров на сайт интернет магазина, чтобы повысить конверсию и средний чек заказа</td>\n",
       "      <td>7.00</td>\n",
       "    </tr>\n",
       "    <tr>\n",
       "      <th>1</th>\n",
       "      <td>Запустить собственную службу доставки, что сократит срок доставки заказов</td>\n",
       "      <td>2.00</td>\n",
       "    </tr>\n",
       "    <tr>\n",
       "      <th>5</th>\n",
       "      <td>Добавить страницу отзывов клиентов о магазине, что позволит увеличить количество заказов</td>\n",
       "      <td>1.33</td>\n",
       "    </tr>\n",
       "    <tr>\n",
       "      <th>3</th>\n",
       "      <td>Изменить структура категорий, что увеличит конверсию, т.к. пользователи быстрее найдут нужный товар</td>\n",
       "      <td>1.12</td>\n",
       "    </tr>\n",
       "    <tr>\n",
       "      <th>4</th>\n",
       "      <td>Изменить цвет фона главной страницы, чтобы увеличить вовлеченность пользователей</td>\n",
       "      <td>1.00</td>\n",
       "    </tr>\n",
       "  </tbody>\n",
       "</table>\n",
       "</div>"
      ],
      "text/plain": [
       "                                                                                                     hypothesis  \\\n",
       "8                                                       Запустить акцию, дающую скидку на товар в день рождения   \n",
       "0            Добавить два новых канала привлечения трафика, что позволит привлекать на 30% больше пользователей   \n",
       "7              Добавить форму подписки на все основные страницы, чтобы собрать базу клиентов для email-рассылок   \n",
       "6          Показать на главной странице баннеры с актуальными акциями и распродажами, чтобы увеличить конверсию   \n",
       "2  Добавить блоки рекомендаций товаров на сайт интернет магазина, чтобы повысить конверсию и средний чек заказа   \n",
       "1                                     Запустить собственную службу доставки, что сократит срок доставки заказов   \n",
       "5                      Добавить страницу отзывов клиентов о магазине, что позволит увеличить количество заказов   \n",
       "3           Изменить структура категорий, что увеличит конверсию, т.к. пользователи быстрее найдут нужный товар   \n",
       "4                              Изменить цвет фона главной страницы, чтобы увеличить вовлеченность пользователей   \n",
       "\n",
       "     ICE  \n",
       "8  16.20  \n",
       "0  13.33  \n",
       "7  11.20  \n",
       "6   8.00  \n",
       "2   7.00  \n",
       "1   2.00  \n",
       "5   1.33  \n",
       "3   1.12  \n",
       "4   1.00  "
      ]
     },
     "metadata": {},
     "output_type": "display_data"
    }
   ],
   "source": [
    "display((hypothesis[['hypothesis', 'ICE']].sort_values(by = 'ICE', ascending=False)).round(2))"
   ]
  },
  {
   "cell_type": "markdown",
   "id": "07464ed5",
   "metadata": {},
   "source": [
    "**Вывод:** Топ-3 гипотезы по ICE - 8, 0 и 7:\n",
    "- 8. Запустить акцию, дающую скидку на товар в день рождения\n",
    "- 0. Добавить два новых канала привлечения трафика, что позволит привлекать на 30% больше пользователей\n",
    "- 7. Добавить форму подписки на все основные страницы, чтобы собрать базу клиентов для email-рассылок"
   ]
  },
  {
   "cell_type": "markdown",
   "id": "59ac2091",
   "metadata": {},
   "source": [
    "### Фреймворк RICE для приоритизации гипотез. Сортировка по убыванию приоритета."
   ]
  },
  {
   "cell_type": "code",
   "execution_count": 29,
   "id": "23908b0b",
   "metadata": {},
   "outputs": [],
   "source": [
    "hypothesis['RICE'] = (hypothesis.reach * hypothesis.impact * hypothesis.confidence)/hypothesis.efforts"
   ]
  },
  {
   "cell_type": "code",
   "execution_count": 30,
   "id": "a40c81f3",
   "metadata": {},
   "outputs": [
    {
     "data": {
      "text/html": [
       "<div>\n",
       "<style scoped>\n",
       "    .dataframe tbody tr th:only-of-type {\n",
       "        vertical-align: middle;\n",
       "    }\n",
       "\n",
       "    .dataframe tbody tr th {\n",
       "        vertical-align: top;\n",
       "    }\n",
       "\n",
       "    .dataframe thead th {\n",
       "        text-align: right;\n",
       "    }\n",
       "</style>\n",
       "<table border=\"1\" class=\"dataframe\">\n",
       "  <thead>\n",
       "    <tr style=\"text-align: right;\">\n",
       "      <th></th>\n",
       "      <th>hypothesis</th>\n",
       "      <th>RICE</th>\n",
       "    </tr>\n",
       "  </thead>\n",
       "  <tbody>\n",
       "    <tr>\n",
       "      <th>7</th>\n",
       "      <td>Добавить форму подписки на все основные страницы, чтобы собрать базу клиентов для email-рассылок</td>\n",
       "      <td>112.0</td>\n",
       "    </tr>\n",
       "    <tr>\n",
       "      <th>2</th>\n",
       "      <td>Добавить блоки рекомендаций товаров на сайт интернет магазина, чтобы повысить конверсию и средний чек заказа</td>\n",
       "      <td>56.0</td>\n",
       "    </tr>\n",
       "    <tr>\n",
       "      <th>0</th>\n",
       "      <td>Добавить два новых канала привлечения трафика, что позволит привлекать на 30% больше пользователей</td>\n",
       "      <td>40.0</td>\n",
       "    </tr>\n",
       "    <tr>\n",
       "      <th>6</th>\n",
       "      <td>Показать на главной странице баннеры с актуальными акциями и распродажами, чтобы увеличить конверсию</td>\n",
       "      <td>40.0</td>\n",
       "    </tr>\n",
       "    <tr>\n",
       "      <th>8</th>\n",
       "      <td>Запустить акцию, дающую скидку на товар в день рождения</td>\n",
       "      <td>16.2</td>\n",
       "    </tr>\n",
       "    <tr>\n",
       "      <th>3</th>\n",
       "      <td>Изменить структура категорий, что увеличит конверсию, т.к. пользователи быстрее найдут нужный товар</td>\n",
       "      <td>9.0</td>\n",
       "    </tr>\n",
       "    <tr>\n",
       "      <th>1</th>\n",
       "      <td>Запустить собственную службу доставки, что сократит срок доставки заказов</td>\n",
       "      <td>4.0</td>\n",
       "    </tr>\n",
       "    <tr>\n",
       "      <th>5</th>\n",
       "      <td>Добавить страницу отзывов клиентов о магазине, что позволит увеличить количество заказов</td>\n",
       "      <td>4.0</td>\n",
       "    </tr>\n",
       "    <tr>\n",
       "      <th>4</th>\n",
       "      <td>Изменить цвет фона главной страницы, чтобы увеличить вовлеченность пользователей</td>\n",
       "      <td>3.0</td>\n",
       "    </tr>\n",
       "  </tbody>\n",
       "</table>\n",
       "</div>"
      ],
      "text/plain": [
       "                                                                                                     hypothesis  \\\n",
       "7              Добавить форму подписки на все основные страницы, чтобы собрать базу клиентов для email-рассылок   \n",
       "2  Добавить блоки рекомендаций товаров на сайт интернет магазина, чтобы повысить конверсию и средний чек заказа   \n",
       "0            Добавить два новых канала привлечения трафика, что позволит привлекать на 30% больше пользователей   \n",
       "6          Показать на главной странице баннеры с актуальными акциями и распродажами, чтобы увеличить конверсию   \n",
       "8                                                       Запустить акцию, дающую скидку на товар в день рождения   \n",
       "3           Изменить структура категорий, что увеличит конверсию, т.к. пользователи быстрее найдут нужный товар   \n",
       "1                                     Запустить собственную службу доставки, что сократит срок доставки заказов   \n",
       "5                      Добавить страницу отзывов клиентов о магазине, что позволит увеличить количество заказов   \n",
       "4                              Изменить цвет фона главной страницы, чтобы увеличить вовлеченность пользователей   \n",
       "\n",
       "    RICE  \n",
       "7  112.0  \n",
       "2   56.0  \n",
       "0   40.0  \n",
       "6   40.0  \n",
       "8   16.2  \n",
       "3    9.0  \n",
       "1    4.0  \n",
       "5    4.0  \n",
       "4    3.0  "
      ]
     },
     "metadata": {},
     "output_type": "display_data"
    }
   ],
   "source": [
    "display((hypothesis[['hypothesis', 'RICE']].sort_values(by = 'RICE', ascending=False)).round(2))"
   ]
  },
  {
   "cell_type": "markdown",
   "id": "4cae1e94",
   "metadata": {},
   "source": [
    "**Вывод:** Топ-4 гипотезы по RICE - 7, 2 0 и 6:\n",
    "- 7. Добавить форму подписки на все основные страницы, чтобы собрать базу клиентов для email-рассылок\n",
    "- 2. Добавить блоки рекомендаций товаров на сайт интернет магазина, чтобы повысить конверсию и средний чек заказа\n",
    "- 0. Добавить два новых канала привлечения трафика, что позволит привлекать на 30% больше пользователей\t\n",
    "- 6. Показать на главной странице баннеры с актуальными акциями и распродажами, чтобы увеличить конверсию"
   ]
  },
  {
   "cell_type": "markdown",
   "id": "8d0309ba",
   "metadata": {},
   "source": [
    "### Анализ изменений\n",
    "Укажите, как изменилась приоритизация гипотез при применении RICE вместо ICE. Объясните, почему так произошло."
   ]
  },
  {
   "cell_type": "code",
   "execution_count": 31,
   "id": "e4fdd696",
   "metadata": {
    "scrolled": true
   },
   "outputs": [
    {
     "data": {
      "text/html": [
       "<style  type=\"text/css\" >\n",
       "#T_c0db5_row0_col1,#T_c0db5_row8_col2,#T_c0db5_row8_col3,#T_c0db5_row8_col4,#T_c0db5_row8_col5,#T_c0db5_row8_col6{\n",
       "            background-color:  #3b4cc0;\n",
       "            color:  #f1f1f1;\n",
       "        }#T_c0db5_row0_col2{\n",
       "            background-color:  #d95847;\n",
       "            color:  #000000;\n",
       "        }#T_c0db5_row0_col3,#T_c0db5_row0_col5,#T_c0db5_row1_col2,#T_c0db5_row2_col1,#T_c0db5_row2_col6,#T_c0db5_row5_col4{\n",
       "            background-color:  #b40426;\n",
       "            color:  #f1f1f1;\n",
       "        }#T_c0db5_row0_col4,#T_c0db5_row2_col4,#T_c0db5_row3_col1,#T_c0db5_row5_col2{\n",
       "            background-color:  #cdd9ec;\n",
       "            color:  #000000;\n",
       "        }#T_c0db5_row0_col6{\n",
       "            background-color:  #6180e9;\n",
       "            color:  #000000;\n",
       "        }#T_c0db5_row1_col1,#T_c0db5_row3_col2,#T_c0db5_row3_col4,#T_c0db5_row4_col2,#T_c0db5_row4_col4,#T_c0db5_row6_col1,#T_c0db5_row6_col4,#T_c0db5_row7_col2,#T_c0db5_row8_col1{\n",
       "            background-color:  #82a6fb;\n",
       "            color:  #000000;\n",
       "        }#T_c0db5_row1_col3,#T_c0db5_row2_col3,#T_c0db5_row3_col3{\n",
       "            background-color:  #dd5f4b;\n",
       "            color:  #000000;\n",
       "        }#T_c0db5_row1_col4{\n",
       "            background-color:  #ead4c8;\n",
       "            color:  #000000;\n",
       "        }#T_c0db5_row1_col5{\n",
       "            background-color:  #ec7f63;\n",
       "            color:  #000000;\n",
       "        }#T_c0db5_row1_col6,#T_c0db5_row3_col6{\n",
       "            background-color:  #abc8fd;\n",
       "            color:  #000000;\n",
       "        }#T_c0db5_row2_col2{\n",
       "            background-color:  #f7b89c;\n",
       "            color:  #000000;\n",
       "        }#T_c0db5_row2_col5{\n",
       "            background-color:  #f7b79b;\n",
       "            color:  #000000;\n",
       "        }#T_c0db5_row3_col5{\n",
       "            background-color:  #d2dbe8;\n",
       "            color:  #000000;\n",
       "        }#T_c0db5_row4_col1,#T_c0db5_row7_col1,#T_c0db5_row7_col4{\n",
       "            background-color:  #f18d6f;\n",
       "            color:  #000000;\n",
       "        }#T_c0db5_row4_col3{\n",
       "            background-color:  #f4987a;\n",
       "            color:  #000000;\n",
       "        }#T_c0db5_row4_col5{\n",
       "            background-color:  #bfd3f6;\n",
       "            color:  #000000;\n",
       "        }#T_c0db5_row4_col6{\n",
       "            background-color:  #d9dce1;\n",
       "            color:  #000000;\n",
       "        }#T_c0db5_row5_col1,#T_c0db5_row6_col2{\n",
       "            background-color:  #5d7ce6;\n",
       "            color:  #000000;\n",
       "        }#T_c0db5_row5_col3{\n",
       "            background-color:  #b9d0f9;\n",
       "            color:  #000000;\n",
       "        }#T_c0db5_row5_col5{\n",
       "            background-color:  #4e68d8;\n",
       "            color:  #000000;\n",
       "        }#T_c0db5_row5_col6,#T_c0db5_row6_col6,#T_c0db5_row7_col5{\n",
       "            background-color:  #3d50c3;\n",
       "            color:  #f1f1f1;\n",
       "        }#T_c0db5_row6_col3{\n",
       "            background-color:  #6282ea;\n",
       "            color:  #000000;\n",
       "        }#T_c0db5_row6_col5{\n",
       "            background-color:  #4055c8;\n",
       "            color:  #f1f1f1;\n",
       "        }#T_c0db5_row7_col3{\n",
       "            background-color:  #8db0fe;\n",
       "            color:  #000000;\n",
       "        }#T_c0db5_row7_col6{\n",
       "            background-color:  #4b64d5;\n",
       "            color:  #f1f1f1;\n",
       "        }</style><table id=\"T_c0db5_\" ><thead>    <tr>        <th class=\"blank level0\" ></th>        <th class=\"col_heading level0 col0\" >hypothesis</th>        <th class=\"col_heading level0 col1\" >reach</th>        <th class=\"col_heading level0 col2\" >impact</th>        <th class=\"col_heading level0 col3\" >confidence</th>        <th class=\"col_heading level0 col4\" >efforts</th>        <th class=\"col_heading level0 col5\" >ICE</th>        <th class=\"col_heading level0 col6\" >RICE</th>    </tr></thead><tbody>\n",
       "                <tr>\n",
       "                        <th id=\"T_c0db5_level0_row0\" class=\"row_heading level0 row0\" >8</th>\n",
       "                        <td id=\"T_c0db5_row0_col0\" class=\"data row0 col0\" >Запустить акцию, дающую скидку на товар в день рождения</td>\n",
       "                        <td id=\"T_c0db5_row0_col1\" class=\"data row0 col1\" >1</td>\n",
       "                        <td id=\"T_c0db5_row0_col2\" class=\"data row0 col2\" >9</td>\n",
       "                        <td id=\"T_c0db5_row0_col3\" class=\"data row0 col3\" >9</td>\n",
       "                        <td id=\"T_c0db5_row0_col4\" class=\"data row0 col4\" >5</td>\n",
       "                        <td id=\"T_c0db5_row0_col5\" class=\"data row0 col5\" >16.20</td>\n",
       "                        <td id=\"T_c0db5_row0_col6\" class=\"data row0 col6\" >16.20</td>\n",
       "            </tr>\n",
       "            <tr>\n",
       "                        <th id=\"T_c0db5_level0_row1\" class=\"row_heading level0 row1\" >0</th>\n",
       "                        <td id=\"T_c0db5_row1_col0\" class=\"data row1 col0\" >Добавить два новых канала привлечения трафика, что позволит привлекать на 30% больше пользователей</td>\n",
       "                        <td id=\"T_c0db5_row1_col1\" class=\"data row1 col1\" >3</td>\n",
       "                        <td id=\"T_c0db5_row1_col2\" class=\"data row1 col2\" >10</td>\n",
       "                        <td id=\"T_c0db5_row1_col3\" class=\"data row1 col3\" >8</td>\n",
       "                        <td id=\"T_c0db5_row1_col4\" class=\"data row1 col4\" >6</td>\n",
       "                        <td id=\"T_c0db5_row1_col5\" class=\"data row1 col5\" >13.33</td>\n",
       "                        <td id=\"T_c0db5_row1_col6\" class=\"data row1 col6\" >40.00</td>\n",
       "            </tr>\n",
       "            <tr>\n",
       "                        <th id=\"T_c0db5_level0_row2\" class=\"row_heading level0 row2\" >7</th>\n",
       "                        <td id=\"T_c0db5_row2_col0\" class=\"data row2 col0\" >Добавить форму подписки на все основные страницы, чтобы собрать базу клиентов для email-рассылок</td>\n",
       "                        <td id=\"T_c0db5_row2_col1\" class=\"data row2 col1\" >10</td>\n",
       "                        <td id=\"T_c0db5_row2_col2\" class=\"data row2 col2\" >7</td>\n",
       "                        <td id=\"T_c0db5_row2_col3\" class=\"data row2 col3\" >8</td>\n",
       "                        <td id=\"T_c0db5_row2_col4\" class=\"data row2 col4\" >5</td>\n",
       "                        <td id=\"T_c0db5_row2_col5\" class=\"data row2 col5\" >11.20</td>\n",
       "                        <td id=\"T_c0db5_row2_col6\" class=\"data row2 col6\" >112.00</td>\n",
       "            </tr>\n",
       "            <tr>\n",
       "                        <th id=\"T_c0db5_level0_row3\" class=\"row_heading level0 row3\" >6</th>\n",
       "                        <td id=\"T_c0db5_row3_col0\" class=\"data row3 col0\" >Показать на главной странице баннеры с актуальными акциями и распродажами, чтобы увеличить конверсию</td>\n",
       "                        <td id=\"T_c0db5_row3_col1\" class=\"data row3 col1\" >5</td>\n",
       "                        <td id=\"T_c0db5_row3_col2\" class=\"data row3 col2\" >3</td>\n",
       "                        <td id=\"T_c0db5_row3_col3\" class=\"data row3 col3\" >8</td>\n",
       "                        <td id=\"T_c0db5_row3_col4\" class=\"data row3 col4\" >3</td>\n",
       "                        <td id=\"T_c0db5_row3_col5\" class=\"data row3 col5\" >8.00</td>\n",
       "                        <td id=\"T_c0db5_row3_col6\" class=\"data row3 col6\" >40.00</td>\n",
       "            </tr>\n",
       "            <tr>\n",
       "                        <th id=\"T_c0db5_level0_row4\" class=\"row_heading level0 row4\" >2</th>\n",
       "                        <td id=\"T_c0db5_row4_col0\" class=\"data row4 col0\" >Добавить блоки рекомендаций товаров на сайт интернет магазина, чтобы повысить конверсию и средний чек заказа</td>\n",
       "                        <td id=\"T_c0db5_row4_col1\" class=\"data row4 col1\" >8</td>\n",
       "                        <td id=\"T_c0db5_row4_col2\" class=\"data row4 col2\" >3</td>\n",
       "                        <td id=\"T_c0db5_row4_col3\" class=\"data row4 col3\" >7</td>\n",
       "                        <td id=\"T_c0db5_row4_col4\" class=\"data row4 col4\" >3</td>\n",
       "                        <td id=\"T_c0db5_row4_col5\" class=\"data row4 col5\" >7.00</td>\n",
       "                        <td id=\"T_c0db5_row4_col6\" class=\"data row4 col6\" >56.00</td>\n",
       "            </tr>\n",
       "            <tr>\n",
       "                        <th id=\"T_c0db5_level0_row5\" class=\"row_heading level0 row5\" >1</th>\n",
       "                        <td id=\"T_c0db5_row5_col0\" class=\"data row5 col0\" >Запустить собственную службу доставки, что сократит срок доставки заказов</td>\n",
       "                        <td id=\"T_c0db5_row5_col1\" class=\"data row5 col1\" >2</td>\n",
       "                        <td id=\"T_c0db5_row5_col2\" class=\"data row5 col2\" >5</td>\n",
       "                        <td id=\"T_c0db5_row5_col3\" class=\"data row5 col3\" >4</td>\n",
       "                        <td id=\"T_c0db5_row5_col4\" class=\"data row5 col4\" >10</td>\n",
       "                        <td id=\"T_c0db5_row5_col5\" class=\"data row5 col5\" >2.00</td>\n",
       "                        <td id=\"T_c0db5_row5_col6\" class=\"data row5 col6\" >4.00</td>\n",
       "            </tr>\n",
       "            <tr>\n",
       "                        <th id=\"T_c0db5_level0_row6\" class=\"row_heading level0 row6\" >5</th>\n",
       "                        <td id=\"T_c0db5_row6_col0\" class=\"data row6 col0\" >Добавить страницу отзывов клиентов о магазине, что позволит увеличить количество заказов</td>\n",
       "                        <td id=\"T_c0db5_row6_col1\" class=\"data row6 col1\" >3</td>\n",
       "                        <td id=\"T_c0db5_row6_col2\" class=\"data row6 col2\" >2</td>\n",
       "                        <td id=\"T_c0db5_row6_col3\" class=\"data row6 col3\" >2</td>\n",
       "                        <td id=\"T_c0db5_row6_col4\" class=\"data row6 col4\" >3</td>\n",
       "                        <td id=\"T_c0db5_row6_col5\" class=\"data row6 col5\" >1.33</td>\n",
       "                        <td id=\"T_c0db5_row6_col6\" class=\"data row6 col6\" >4.00</td>\n",
       "            </tr>\n",
       "            <tr>\n",
       "                        <th id=\"T_c0db5_level0_row7\" class=\"row_heading level0 row7\" >3</th>\n",
       "                        <td id=\"T_c0db5_row7_col0\" class=\"data row7 col0\" >Изменить структура категорий, что увеличит конверсию, т.к. пользователи быстрее найдут нужный товар</td>\n",
       "                        <td id=\"T_c0db5_row7_col1\" class=\"data row7 col1\" >8</td>\n",
       "                        <td id=\"T_c0db5_row7_col2\" class=\"data row7 col2\" >3</td>\n",
       "                        <td id=\"T_c0db5_row7_col3\" class=\"data row7 col3\" >3</td>\n",
       "                        <td id=\"T_c0db5_row7_col4\" class=\"data row7 col4\" >8</td>\n",
       "                        <td id=\"T_c0db5_row7_col5\" class=\"data row7 col5\" >1.12</td>\n",
       "                        <td id=\"T_c0db5_row7_col6\" class=\"data row7 col6\" >9.00</td>\n",
       "            </tr>\n",
       "            <tr>\n",
       "                        <th id=\"T_c0db5_level0_row8\" class=\"row_heading level0 row8\" >4</th>\n",
       "                        <td id=\"T_c0db5_row8_col0\" class=\"data row8 col0\" >Изменить цвет фона главной страницы, чтобы увеличить вовлеченность пользователей</td>\n",
       "                        <td id=\"T_c0db5_row8_col1\" class=\"data row8 col1\" >3</td>\n",
       "                        <td id=\"T_c0db5_row8_col2\" class=\"data row8 col2\" >1</td>\n",
       "                        <td id=\"T_c0db5_row8_col3\" class=\"data row8 col3\" >1</td>\n",
       "                        <td id=\"T_c0db5_row8_col4\" class=\"data row8 col4\" >1</td>\n",
       "                        <td id=\"T_c0db5_row8_col5\" class=\"data row8 col5\" >1.00</td>\n",
       "                        <td id=\"T_c0db5_row8_col6\" class=\"data row8 col6\" >3.00</td>\n",
       "            </tr>\n",
       "    </tbody></table>"
      ],
      "text/plain": [
       "<pandas.io.formats.style.Styler at 0x2298b708e20>"
      ]
     },
     "execution_count": 31,
     "metadata": {},
     "output_type": "execute_result"
    }
   ],
   "source": [
    "hyp = (hypothesis.sort_values(by = 'ICE', ascending=False)).round(2)\n",
    "hyp.style.background_gradient(cmap='coolwarm').set_precision(2)"
   ]
  },
  {
   "cell_type": "markdown",
   "id": "2a99671e",
   "metadata": {},
   "source": [
    "**Вывод** \n",
    "- При приоритизации методом RICE появляется пораметр reach - охват. В 7й гипотезе оценка этого параметра максимальная. За счет этого, при методе RICE эта гипотеза выходит на первое место. \n",
    "\n",
    "- Лидирующая гипотеза по ICE (8) имеет высокие оценки в impact и confident - т.к. акция на день рождения конечно же сильно повлияет на пользователей с высокой вероятностью. Однако охват очень маленький. На короткой дистанции, только малая часть пользователей успеет получить скидку. Собрать 2 контрольные группы будет долго и сложно.\n",
    "\n",
    "- Лидирующая гипотеза по RICE (7) имеет довольно хорошие показатели во всех столбцах. Добавление формы подписки для сбора базы клиентов для рассылки иммет большой охват (не будет проблем с набором группы), высокую оценку по влиянию на пользователей и высокую оценку уверенности в гипотезе. В то же время среднюю стоимость тестирования гипотезы."
   ]
  },
  {
   "cell_type": "markdown",
   "id": "6b2cbf01",
   "metadata": {},
   "source": [
    "### Вывод по разделу приоритизация гипотез"
   ]
  },
  {
   "cell_type": "markdown",
   "id": "a53f5863",
   "metadata": {},
   "source": [
    "По результатам примененных методов можно отдать приоритет гипотезе №7:\\\n",
    "**\"Добавить форму подписки на все основные страницы, чтобы собрать базу клиентов для email-рассылок\"**"
   ]
  },
  {
   "cell_type": "markdown",
   "id": "1b895faf",
   "metadata": {},
   "source": [
    "## Анализ A/B-теста"
   ]
  },
  {
   "cell_type": "code",
   "execution_count": 32,
   "id": "235a971a",
   "metadata": {},
   "outputs": [
    {
     "data": {
      "text/html": [
       "<div>\n",
       "<style scoped>\n",
       "    .dataframe tbody tr th:only-of-type {\n",
       "        vertical-align: middle;\n",
       "    }\n",
       "\n",
       "    .dataframe tbody tr th {\n",
       "        vertical-align: top;\n",
       "    }\n",
       "\n",
       "    .dataframe thead th {\n",
       "        text-align: right;\n",
       "    }\n",
       "</style>\n",
       "<table border=\"1\" class=\"dataframe\">\n",
       "  <thead>\n",
       "    <tr style=\"text-align: right;\">\n",
       "      <th></th>\n",
       "      <th>date</th>\n",
       "      <th>group</th>\n",
       "      <th>visitors</th>\n",
       "    </tr>\n",
       "  </thead>\n",
       "  <tbody>\n",
       "    <tr>\n",
       "      <th>0</th>\n",
       "      <td>2019-08-01</td>\n",
       "      <td>A</td>\n",
       "      <td>719</td>\n",
       "    </tr>\n",
       "    <tr>\n",
       "      <th>1</th>\n",
       "      <td>2019-08-02</td>\n",
       "      <td>A</td>\n",
       "      <td>619</td>\n",
       "    </tr>\n",
       "    <tr>\n",
       "      <th>2</th>\n",
       "      <td>2019-08-03</td>\n",
       "      <td>A</td>\n",
       "      <td>507</td>\n",
       "    </tr>\n",
       "    <tr>\n",
       "      <th>3</th>\n",
       "      <td>2019-08-04</td>\n",
       "      <td>A</td>\n",
       "      <td>717</td>\n",
       "    </tr>\n",
       "    <tr>\n",
       "      <th>4</th>\n",
       "      <td>2019-08-05</td>\n",
       "      <td>A</td>\n",
       "      <td>756</td>\n",
       "    </tr>\n",
       "  </tbody>\n",
       "</table>\n",
       "</div>"
      ],
      "text/plain": [
       "        date group  visitors\n",
       "0 2019-08-01     A       719\n",
       "1 2019-08-02     A       619\n",
       "2 2019-08-03     A       507\n",
       "3 2019-08-04     A       717\n",
       "4 2019-08-05     A       756"
      ]
     },
     "execution_count": 32,
     "metadata": {},
     "output_type": "execute_result"
    }
   ],
   "source": [
    "visits.head()"
   ]
  },
  {
   "cell_type": "code",
   "execution_count": 33,
   "id": "acc86b99",
   "metadata": {},
   "outputs": [
    {
     "data": {
      "text/html": [
       "<div>\n",
       "<style scoped>\n",
       "    .dataframe tbody tr th:only-of-type {\n",
       "        vertical-align: middle;\n",
       "    }\n",
       "\n",
       "    .dataframe tbody tr th {\n",
       "        vertical-align: top;\n",
       "    }\n",
       "\n",
       "    .dataframe thead th {\n",
       "        text-align: right;\n",
       "    }\n",
       "</style>\n",
       "<table border=\"1\" class=\"dataframe\">\n",
       "  <thead>\n",
       "    <tr style=\"text-align: right;\">\n",
       "      <th></th>\n",
       "      <th>transaction_id</th>\n",
       "      <th>visitor_id</th>\n",
       "      <th>date</th>\n",
       "      <th>revenue</th>\n",
       "      <th>group</th>\n",
       "    </tr>\n",
       "  </thead>\n",
       "  <tbody>\n",
       "    <tr>\n",
       "      <th>0</th>\n",
       "      <td>3667963787</td>\n",
       "      <td>3312258926</td>\n",
       "      <td>2019-08-15</td>\n",
       "      <td>1650</td>\n",
       "      <td>B</td>\n",
       "    </tr>\n",
       "    <tr>\n",
       "      <th>1</th>\n",
       "      <td>2804400009</td>\n",
       "      <td>3642806036</td>\n",
       "      <td>2019-08-15</td>\n",
       "      <td>730</td>\n",
       "      <td>B</td>\n",
       "    </tr>\n",
       "    <tr>\n",
       "      <th>2</th>\n",
       "      <td>2961555356</td>\n",
       "      <td>4069496402</td>\n",
       "      <td>2019-08-15</td>\n",
       "      <td>400</td>\n",
       "      <td>A</td>\n",
       "    </tr>\n",
       "    <tr>\n",
       "      <th>3</th>\n",
       "      <td>3797467345</td>\n",
       "      <td>1196621759</td>\n",
       "      <td>2019-08-15</td>\n",
       "      <td>9759</td>\n",
       "      <td>B</td>\n",
       "    </tr>\n",
       "    <tr>\n",
       "      <th>4</th>\n",
       "      <td>2282983706</td>\n",
       "      <td>2322279887</td>\n",
       "      <td>2019-08-15</td>\n",
       "      <td>2308</td>\n",
       "      <td>B</td>\n",
       "    </tr>\n",
       "  </tbody>\n",
       "</table>\n",
       "</div>"
      ],
      "text/plain": [
       "   transaction_id  visitor_id       date  revenue group\n",
       "0      3667963787  3312258926 2019-08-15     1650     B\n",
       "1      2804400009  3642806036 2019-08-15      730     B\n",
       "2      2961555356  4069496402 2019-08-15      400     A\n",
       "3      3797467345  1196621759 2019-08-15     9759     B\n",
       "4      2282983706  2322279887 2019-08-15     2308     B"
      ]
     },
     "execution_count": 33,
     "metadata": {},
     "output_type": "execute_result"
    }
   ],
   "source": [
    "orders.head()"
   ]
  },
  {
   "cell_type": "code",
   "execution_count": 34,
   "id": "1a460197",
   "metadata": {},
   "outputs": [],
   "source": [
    "# массив уникальных пар значений дат и групп теста\n",
    "dates_groups = orders[['date','group']].drop_duplicates() "
   ]
  },
  {
   "cell_type": "code",
   "execution_count": 35,
   "id": "a99c6dbd",
   "metadata": {},
   "outputs": [],
   "source": [
    "# cобераем агрегированные кумулятивные по дням данные о заказах\n",
    "orders_agg = (\n",
    "    dates_groups.apply(lambda x: orders[np.logical_and(orders['date'] <= x['date'], orders['group'] == x['group'])]\n",
    "    .agg({'date' : 'max', 'group' : 'max', 'transaction_id' : 'nunique', 'visitor_id' : 'nunique', 'revenue' : 'sum'}), axis=1)\n",
    "    .sort_values(by=['date','group']) \n",
    ")"
   ]
  },
  {
   "cell_type": "code",
   "execution_count": 36,
   "id": "68be12bb",
   "metadata": {},
   "outputs": [
    {
     "data": {
      "text/html": [
       "<div>\n",
       "<style scoped>\n",
       "    .dataframe tbody tr th:only-of-type {\n",
       "        vertical-align: middle;\n",
       "    }\n",
       "\n",
       "    .dataframe tbody tr th {\n",
       "        vertical-align: top;\n",
       "    }\n",
       "\n",
       "    .dataframe thead th {\n",
       "        text-align: right;\n",
       "    }\n",
       "</style>\n",
       "<table border=\"1\" class=\"dataframe\">\n",
       "  <thead>\n",
       "    <tr style=\"text-align: right;\">\n",
       "      <th></th>\n",
       "      <th>date</th>\n",
       "      <th>group</th>\n",
       "      <th>transaction_id</th>\n",
       "      <th>visitor_id</th>\n",
       "      <th>revenue</th>\n",
       "    </tr>\n",
       "  </thead>\n",
       "  <tbody>\n",
       "    <tr>\n",
       "      <th>55</th>\n",
       "      <td>2019-08-01</td>\n",
       "      <td>A</td>\n",
       "      <td>24</td>\n",
       "      <td>20</td>\n",
       "      <td>148579</td>\n",
       "    </tr>\n",
       "    <tr>\n",
       "      <th>66</th>\n",
       "      <td>2019-08-01</td>\n",
       "      <td>B</td>\n",
       "      <td>21</td>\n",
       "      <td>20</td>\n",
       "      <td>101217</td>\n",
       "    </tr>\n",
       "    <tr>\n",
       "      <th>175</th>\n",
       "      <td>2019-08-02</td>\n",
       "      <td>A</td>\n",
       "      <td>44</td>\n",
       "      <td>38</td>\n",
       "      <td>242401</td>\n",
       "    </tr>\n",
       "    <tr>\n",
       "      <th>173</th>\n",
       "      <td>2019-08-02</td>\n",
       "      <td>B</td>\n",
       "      <td>45</td>\n",
       "      <td>43</td>\n",
       "      <td>266748</td>\n",
       "    </tr>\n",
       "    <tr>\n",
       "      <th>291</th>\n",
       "      <td>2019-08-03</td>\n",
       "      <td>A</td>\n",
       "      <td>68</td>\n",
       "      <td>62</td>\n",
       "      <td>354874</td>\n",
       "    </tr>\n",
       "  </tbody>\n",
       "</table>\n",
       "</div>"
      ],
      "text/plain": [
       "          date group  transaction_id  visitor_id  revenue\n",
       "55  2019-08-01     A              24          20   148579\n",
       "66  2019-08-01     B              21          20   101217\n",
       "175 2019-08-02     A              44          38   242401\n",
       "173 2019-08-02     B              45          43   266748\n",
       "291 2019-08-03     A              68          62   354874"
      ]
     },
     "execution_count": 36,
     "metadata": {},
     "output_type": "execute_result"
    }
   ],
   "source": [
    "orders_agg.head()"
   ]
  },
  {
   "cell_type": "code",
   "execution_count": 37,
   "id": "7eab636d",
   "metadata": {},
   "outputs": [],
   "source": [
    "# cобераем агрегированные кумулятивные по дням данные о посетителях\n",
    "visitors_agg = (\n",
    "    dates_groups.apply(lambda x: visits[np.logical_and(visits['date'] <= x['date'], visits['group'] == x['group'])]\n",
    "    .agg({'date' : 'max', 'group' : 'max', 'visitors' : 'sum'}), axis=1)\n",
    "    .sort_values(by=['date','group']) \n",
    ")"
   ]
  },
  {
   "cell_type": "code",
   "execution_count": 38,
   "id": "287455f1",
   "metadata": {},
   "outputs": [
    {
     "data": {
      "text/html": [
       "<div>\n",
       "<style scoped>\n",
       "    .dataframe tbody tr th:only-of-type {\n",
       "        vertical-align: middle;\n",
       "    }\n",
       "\n",
       "    .dataframe tbody tr th {\n",
       "        vertical-align: top;\n",
       "    }\n",
       "\n",
       "    .dataframe thead th {\n",
       "        text-align: right;\n",
       "    }\n",
       "</style>\n",
       "<table border=\"1\" class=\"dataframe\">\n",
       "  <thead>\n",
       "    <tr style=\"text-align: right;\">\n",
       "      <th></th>\n",
       "      <th>date</th>\n",
       "      <th>group</th>\n",
       "      <th>visitors</th>\n",
       "    </tr>\n",
       "  </thead>\n",
       "  <tbody>\n",
       "    <tr>\n",
       "      <th>55</th>\n",
       "      <td>2019-08-01</td>\n",
       "      <td>A</td>\n",
       "      <td>719</td>\n",
       "    </tr>\n",
       "    <tr>\n",
       "      <th>66</th>\n",
       "      <td>2019-08-01</td>\n",
       "      <td>B</td>\n",
       "      <td>713</td>\n",
       "    </tr>\n",
       "    <tr>\n",
       "      <th>175</th>\n",
       "      <td>2019-08-02</td>\n",
       "      <td>A</td>\n",
       "      <td>1338</td>\n",
       "    </tr>\n",
       "    <tr>\n",
       "      <th>173</th>\n",
       "      <td>2019-08-02</td>\n",
       "      <td>B</td>\n",
       "      <td>1294</td>\n",
       "    </tr>\n",
       "    <tr>\n",
       "      <th>291</th>\n",
       "      <td>2019-08-03</td>\n",
       "      <td>A</td>\n",
       "      <td>1845</td>\n",
       "    </tr>\n",
       "  </tbody>\n",
       "</table>\n",
       "</div>"
      ],
      "text/plain": [
       "          date group  visitors\n",
       "55  2019-08-01     A       719\n",
       "66  2019-08-01     B       713\n",
       "175 2019-08-02     A      1338\n",
       "173 2019-08-02     B      1294\n",
       "291 2019-08-03     A      1845"
      ]
     },
     "execution_count": 38,
     "metadata": {},
     "output_type": "execute_result"
    }
   ],
   "source": [
    "visitors_agg.head()"
   ]
  },
  {
   "cell_type": "code",
   "execution_count": 39,
   "id": "ec4137d4",
   "metadata": {},
   "outputs": [
    {
     "data": {
      "text/html": [
       "<div>\n",
       "<style scoped>\n",
       "    .dataframe tbody tr th:only-of-type {\n",
       "        vertical-align: middle;\n",
       "    }\n",
       "\n",
       "    .dataframe tbody tr th {\n",
       "        vertical-align: top;\n",
       "    }\n",
       "\n",
       "    .dataframe thead th {\n",
       "        text-align: right;\n",
       "    }\n",
       "</style>\n",
       "<table border=\"1\" class=\"dataframe\">\n",
       "  <thead>\n",
       "    <tr style=\"text-align: right;\">\n",
       "      <th></th>\n",
       "      <th>date</th>\n",
       "      <th>group</th>\n",
       "      <th>orders</th>\n",
       "      <th>buyers</th>\n",
       "      <th>revenue</th>\n",
       "      <th>visitors</th>\n",
       "    </tr>\n",
       "  </thead>\n",
       "  <tbody>\n",
       "    <tr>\n",
       "      <th>0</th>\n",
       "      <td>2019-08-01</td>\n",
       "      <td>A</td>\n",
       "      <td>24</td>\n",
       "      <td>20</td>\n",
       "      <td>148579</td>\n",
       "      <td>719</td>\n",
       "    </tr>\n",
       "    <tr>\n",
       "      <th>1</th>\n",
       "      <td>2019-08-01</td>\n",
       "      <td>B</td>\n",
       "      <td>21</td>\n",
       "      <td>20</td>\n",
       "      <td>101217</td>\n",
       "      <td>713</td>\n",
       "    </tr>\n",
       "    <tr>\n",
       "      <th>2</th>\n",
       "      <td>2019-08-02</td>\n",
       "      <td>A</td>\n",
       "      <td>44</td>\n",
       "      <td>38</td>\n",
       "      <td>242401</td>\n",
       "      <td>1338</td>\n",
       "    </tr>\n",
       "    <tr>\n",
       "      <th>3</th>\n",
       "      <td>2019-08-02</td>\n",
       "      <td>B</td>\n",
       "      <td>45</td>\n",
       "      <td>43</td>\n",
       "      <td>266748</td>\n",
       "      <td>1294</td>\n",
       "    </tr>\n",
       "    <tr>\n",
       "      <th>4</th>\n",
       "      <td>2019-08-03</td>\n",
       "      <td>A</td>\n",
       "      <td>68</td>\n",
       "      <td>62</td>\n",
       "      <td>354874</td>\n",
       "      <td>1845</td>\n",
       "    </tr>\n",
       "  </tbody>\n",
       "</table>\n",
       "</div>"
      ],
      "text/plain": [
       "        date group  orders  buyers  revenue  visitors\n",
       "0 2019-08-01     A      24      20   148579       719\n",
       "1 2019-08-01     B      21      20   101217       713\n",
       "2 2019-08-02     A      44      38   242401      1338\n",
       "3 2019-08-02     B      45      43   266748      1294\n",
       "4 2019-08-03     A      68      62   354874      1845"
      ]
     },
     "metadata": {},
     "output_type": "display_data"
    }
   ],
   "source": [
    "# объединяем обе таблицы в одну\n",
    "cumulative_data = orders_agg.merge(visitors_agg, left_on=['date', 'group'], right_on=['date', 'group'])\n",
    "cumulative_data.columns = ['date', 'group', 'orders', 'buyers', 'revenue', 'visitors']\n",
    "\n",
    "display(cumulative_data.head(5)) "
   ]
  },
  {
   "cell_type": "markdown",
   "id": "c1b0b3af",
   "metadata": {},
   "source": [
    "### График кумулятивной выручки по группам."
   ]
  },
  {
   "cell_type": "code",
   "execution_count": 40,
   "id": "afaeba49",
   "metadata": {},
   "outputs": [
    {
     "data": {
      "image/png": "[encoded data removed]",
      "text/plain": [
       "<Figure size 1500x500 with 1 Axes>"
      ]
     },
     "metadata": {},
     "output_type": "display_data"
    }
   ],
   "source": [
    "# датафрейм с кумулятивным количеством заказов и кумулятивной выручкой по дням в группе А\n",
    "cumulative_revenue_a = cumulative_data[cumulative_data['group']=='A'][['date','revenue', 'orders']]\n",
    "\n",
    "# датафрейм с кумулятивным количеством заказов и кумулятивной выручкой по дням в группе B\n",
    "cumulative_revenue_b = cumulative_data[cumulative_data['group']=='B'][['date','revenue', 'orders']]\n",
    "\n",
    "plt.figure(figsize=(15, 5))\n",
    "plt.ticklabel_format(style='plain')\n",
    "plt.grid()\n",
    "plt.title('График выручки по группам')\n",
    "plt.xlabel('Дата')\n",
    "plt.ylabel('Сумма')\n",
    "\n",
    "# Строим график выручки группы А\n",
    "plt.plot(cumulative_revenue_a['date'], cumulative_revenue_a['revenue'], label='A')\n",
    "\n",
    "# Строим график выручки группы B\n",
    "plt.plot(cumulative_revenue_b['date'], cumulative_revenue_b['revenue'], label='B')\n",
    "\n",
    "plt.legend();"
   ]
  },
  {
   "cell_type": "markdown",
   "id": "df6f87e9",
   "metadata": {},
   "source": [
    "**Вывод:** Выручка почти равномерно увеличивается в течение всего теста.\n",
    "График выручки группы B в одной из точек очень резко растет. Это может быть из-за всплесках числа заказов, либо о появлении очень дорогих заказов в выборке."
   ]
  },
  {
   "cell_type": "markdown",
   "id": "38d9336c",
   "metadata": {},
   "source": [
    "### График кумулятивного среднего чека по группам. "
   ]
  },
  {
   "cell_type": "code",
   "execution_count": 41,
   "id": "1b2eadf7",
   "metadata": {},
   "outputs": [
    {
     "data": {
      "image/png": "[encoded data removed]",
      "text/plain": [
       "<Figure size 1500x500 with 1 Axes>"
      ]
     },
     "metadata": {},
     "output_type": "display_data"
    }
   ],
   "source": [
    "plt.figure(figsize=(15, 5))\n",
    "plt.ticklabel_format(style='plain')\n",
    "plt.grid()\n",
    "plt.title('График среднего чека по группам')\n",
    "plt.xlabel('Дата')\n",
    "plt.ylabel('Сумма среднего чека')\n",
    "\n",
    "plt.plot(cumulative_revenue_a['date'], cumulative_revenue_a['revenue']/cumulative_revenue_a['orders'], label='A')\n",
    "plt.plot(cumulative_revenue_b['date'], cumulative_revenue_b['revenue']/cumulative_revenue_b['orders'], label='B')\n",
    "plt.legend();"
   ]
  },
  {
   "cell_type": "markdown",
   "id": "e3b26ede",
   "metadata": {},
   "source": [
    "**Вывод:**\n",
    "Средний чек становится более равномерным ближе к концу теста: ниже для группы A и выше для группы B. \n",
    "Сильный всплеск на графике может быть обусловлен крупным заказом (заказами) в группе B в районе 18-19 августа "
   ]
  },
  {
   "cell_type": "markdown",
   "id": "04b26a13",
   "metadata": {},
   "source": [
    "### График относительного изменения кумулятивного среднего чека группы B к группе A."
   ]
  },
  {
   "cell_type": "code",
   "execution_count": 42,
   "id": "574730a5",
   "metadata": {},
   "outputs": [
    {
     "data": {
      "image/png": "[encoded data removed]",
      "text/plain": [
       "<Figure size 1500x500 with 1 Axes>"
      ]
     },
     "metadata": {},
     "output_type": "display_data"
    }
   ],
   "source": [
    "# собираем данные в одном датафрейме\n",
    "merged_cumulative_revenue = cumulative_revenue_a.merge(cumulative_revenue_b, left_on='date', right_on='date', how='left', suffixes=['A', 'B'])\n",
    "\n",
    "# cтроим отношение средних чеков\n",
    "plt.figure(figsize=(15, 5))\n",
    "plt.grid()\n",
    "plt.title('График относительного различия cреднего чека между группами')\n",
    "plt.xlabel('Дата')\n",
    "\n",
    "plt.plot(merged_cumulative_revenue['date'], \n",
    "         (merged_cumulative_revenue['revenueB']/merged_cumulative_revenue['ordersB'])/\n",
    "         (merged_cumulative_revenue['revenueA']/merged_cumulative_revenue['ordersA'])-1)\n",
    "\n",
    "# добавляем ось X\n",
    "plt.axhline(y=0, color='black', linestyle='--');"
   ]
  },
  {
   "cell_type": "markdown",
   "id": "d6be9f03",
   "metadata": {},
   "source": [
    "**Вывод:**\n",
    "График различия между группами резко «скачет». Причина - крупные заказы и выбросы. Но практически всегда результаты группы B лучше группы А."
   ]
  },
  {
   "cell_type": "markdown",
   "id": "91efa75e",
   "metadata": {},
   "source": [
    "### График кумулятивной конверсии по группам."
   ]
  },
  {
   "cell_type": "code",
   "execution_count": 43,
   "id": "ca491637",
   "metadata": {},
   "outputs": [
    {
     "data": {
      "text/html": [
       "<div>\n",
       "<style scoped>\n",
       "    .dataframe tbody tr th:only-of-type {\n",
       "        vertical-align: middle;\n",
       "    }\n",
       "\n",
       "    .dataframe tbody tr th {\n",
       "        vertical-align: top;\n",
       "    }\n",
       "\n",
       "    .dataframe thead th {\n",
       "        text-align: right;\n",
       "    }\n",
       "</style>\n",
       "<table border=\"1\" class=\"dataframe\">\n",
       "  <thead>\n",
       "    <tr style=\"text-align: right;\">\n",
       "      <th></th>\n",
       "      <th>date</th>\n",
       "      <th>group</th>\n",
       "      <th>orders</th>\n",
       "      <th>buyers</th>\n",
       "      <th>revenue</th>\n",
       "      <th>visitors</th>\n",
       "    </tr>\n",
       "  </thead>\n",
       "  <tbody>\n",
       "    <tr>\n",
       "      <th>0</th>\n",
       "      <td>2019-08-01</td>\n",
       "      <td>A</td>\n",
       "      <td>24</td>\n",
       "      <td>20</td>\n",
       "      <td>148579</td>\n",
       "      <td>719</td>\n",
       "    </tr>\n",
       "    <tr>\n",
       "      <th>1</th>\n",
       "      <td>2019-08-01</td>\n",
       "      <td>B</td>\n",
       "      <td>21</td>\n",
       "      <td>20</td>\n",
       "      <td>101217</td>\n",
       "      <td>713</td>\n",
       "    </tr>\n",
       "    <tr>\n",
       "      <th>2</th>\n",
       "      <td>2019-08-02</td>\n",
       "      <td>A</td>\n",
       "      <td>44</td>\n",
       "      <td>38</td>\n",
       "      <td>242401</td>\n",
       "      <td>1338</td>\n",
       "    </tr>\n",
       "    <tr>\n",
       "      <th>3</th>\n",
       "      <td>2019-08-02</td>\n",
       "      <td>B</td>\n",
       "      <td>45</td>\n",
       "      <td>43</td>\n",
       "      <td>266748</td>\n",
       "      <td>1294</td>\n",
       "    </tr>\n",
       "    <tr>\n",
       "      <th>4</th>\n",
       "      <td>2019-08-03</td>\n",
       "      <td>A</td>\n",
       "      <td>68</td>\n",
       "      <td>62</td>\n",
       "      <td>354874</td>\n",
       "      <td>1845</td>\n",
       "    </tr>\n",
       "  </tbody>\n",
       "</table>\n",
       "</div>"
      ],
      "text/plain": [
       "        date group  orders  buyers  revenue  visitors\n",
       "0 2019-08-01     A      24      20   148579       719\n",
       "1 2019-08-01     B      21      20   101217       713\n",
       "2 2019-08-02     A      44      38   242401      1338\n",
       "3 2019-08-02     B      45      43   266748      1294\n",
       "4 2019-08-03     A      68      62   354874      1845"
      ]
     },
     "execution_count": 43,
     "metadata": {},
     "output_type": "execute_result"
    }
   ],
   "source": [
    "cumulative_data.head()"
   ]
  },
  {
   "cell_type": "code",
   "execution_count": 44,
   "id": "c173b289",
   "metadata": {},
   "outputs": [
    {
     "data": {
      "image/png": "[encoded data removed]",
      "text/plain": [
       "<Figure size 1500x500 with 1 Axes>"
      ]
     },
     "metadata": {},
     "output_type": "display_data"
    }
   ],
   "source": [
    "cumulative_data['conversion'] = cumulative_data['orders']/cumulative_data['visitors']\n",
    "\n",
    "# отделяем данные по группе A\n",
    "cumulative_data_a = cumulative_data[cumulative_data['group']=='A']\n",
    "\n",
    "# отделяем данные по группе B\n",
    "cumulative_data_b = cumulative_data[cumulative_data['group']=='B']\n",
    "\n",
    "# строим графики\n",
    "plt.figure(figsize=(15, 5))\n",
    "plt.grid()\n",
    "plt.title('График кумулятивной конверсии')\n",
    "plt.xlabel('Дата')\n",
    "plt.ylabel('Конверсия')\n",
    "plt.plot(cumulative_data_a['date'], cumulative_data_a['conversion'], label='A')\n",
    "plt.plot(cumulative_data_b['date'], cumulative_data_b['conversion'], label='B')\n",
    "plt.legend();\n"
   ]
  },
  {
   "cell_type": "markdown",
   "id": "84987891",
   "metadata": {},
   "source": [
    "Вначале теста видим сильные колебания. Но затем конверсия группы B вырвалась вперёд и зафиксировалась, а конверсия группы А просела и также зафиксировалась."
   ]
  },
  {
   "cell_type": "markdown",
   "id": "1d77a8ff",
   "metadata": {},
   "source": [
    "### График относительного изменения кумулятивной конверсии группы B к группе A.."
   ]
  },
  {
   "cell_type": "code",
   "execution_count": 45,
   "id": "f780ddf0",
   "metadata": {},
   "outputs": [],
   "source": [
    "merged_cumulative_conversions = (\n",
    "    cumulative_data_a[['date','conversion']]\n",
    "    .merge(cumulative_data_b[['date','conversion']], left_on='date', right_on='date', how='left', suffixes=['A', 'B'])\n",
    ")"
   ]
  },
  {
   "cell_type": "code",
   "execution_count": 46,
   "id": "b5d53dcb",
   "metadata": {},
   "outputs": [
    {
     "data": {
      "text/html": [
       "<div>\n",
       "<style scoped>\n",
       "    .dataframe tbody tr th:only-of-type {\n",
       "        vertical-align: middle;\n",
       "    }\n",
       "\n",
       "    .dataframe tbody tr th {\n",
       "        vertical-align: top;\n",
       "    }\n",
       "\n",
       "    .dataframe thead th {\n",
       "        text-align: right;\n",
       "    }\n",
       "</style>\n",
       "<table border=\"1\" class=\"dataframe\">\n",
       "  <thead>\n",
       "    <tr style=\"text-align: right;\">\n",
       "      <th></th>\n",
       "      <th>date</th>\n",
       "      <th>conversionA</th>\n",
       "      <th>conversionB</th>\n",
       "    </tr>\n",
       "  </thead>\n",
       "  <tbody>\n",
       "    <tr>\n",
       "      <th>0</th>\n",
       "      <td>2019-08-01</td>\n",
       "      <td>0.033380</td>\n",
       "      <td>0.029453</td>\n",
       "    </tr>\n",
       "    <tr>\n",
       "      <th>1</th>\n",
       "      <td>2019-08-02</td>\n",
       "      <td>0.032885</td>\n",
       "      <td>0.034776</td>\n",
       "    </tr>\n",
       "    <tr>\n",
       "      <th>2</th>\n",
       "      <td>2019-08-03</td>\n",
       "      <td>0.036856</td>\n",
       "      <td>0.033833</td>\n",
       "    </tr>\n",
       "    <tr>\n",
       "      <th>3</th>\n",
       "      <td>2019-08-04</td>\n",
       "      <td>0.032787</td>\n",
       "      <td>0.030315</td>\n",
       "    </tr>\n",
       "    <tr>\n",
       "      <th>4</th>\n",
       "      <td>2019-08-05</td>\n",
       "      <td>0.032851</td>\n",
       "      <td>0.030793</td>\n",
       "    </tr>\n",
       "  </tbody>\n",
       "</table>\n",
       "</div>"
      ],
      "text/plain": [
       "        date  conversionA  conversionB\n",
       "0 2019-08-01     0.033380     0.029453\n",
       "1 2019-08-02     0.032885     0.034776\n",
       "2 2019-08-03     0.036856     0.033833\n",
       "3 2019-08-04     0.032787     0.030315\n",
       "4 2019-08-05     0.032851     0.030793"
      ]
     },
     "execution_count": 46,
     "metadata": {},
     "output_type": "execute_result"
    }
   ],
   "source": [
    "merged_cumulative_conversions.head()"
   ]
  },
  {
   "cell_type": "code",
   "execution_count": 47,
   "id": "8378637c",
   "metadata": {},
   "outputs": [
    {
     "data": {
      "image/png": "[encoded data removed]",
      "text/plain": [
       "<Figure size 1500x500 with 1 Axes>"
      ]
     },
     "metadata": {},
     "output_type": "display_data"
    }
   ],
   "source": [
    "plt.figure(figsize=(15, 5))\n",
    "plt.grid()\n",
    "plt.title('график относительного различия кумулятивных конверсий')\n",
    "plt.xlabel('Дата')\n",
    "plt.ylabel('Дельта конверсии')\n",
    "plt.plot(\n",
    "    merged_cumulative_conversions['date'], \n",
    "    merged_cumulative_conversions['conversionB']/merged_cumulative_conversions['conversionA']-1, \n",
    "    label=\"Относительный прирост конверсии группы B относительно группы A\"\n",
    ")\n",
    "plt.legend()\n",
    "\n",
    "plt.axhline(y=0, color='black', linestyle='--')\n",
    "plt.axhline(y=-0.1, color='grey', linestyle='--');"
   ]
  },
  {
   "cell_type": "markdown",
   "id": "451eaddc",
   "metadata": {},
   "source": [
    "В начале теста группа B проигрывала группе A, затем вырвалась вперёд и зафиксировалась выше группы А."
   ]
  },
  {
   "cell_type": "markdown",
   "id": "e897aab3",
   "metadata": {},
   "source": [
    "### Точечный график количества заказов по пользователям."
   ]
  },
  {
   "cell_type": "code",
   "execution_count": 48,
   "id": "50b4537d",
   "metadata": {},
   "outputs": [
    {
     "data": {
      "text/html": [
       "<div>\n",
       "<style scoped>\n",
       "    .dataframe tbody tr th:only-of-type {\n",
       "        vertical-align: middle;\n",
       "    }\n",
       "\n",
       "    .dataframe tbody tr th {\n",
       "        vertical-align: top;\n",
       "    }\n",
       "\n",
       "    .dataframe thead th {\n",
       "        text-align: right;\n",
       "    }\n",
       "</style>\n",
       "<table border=\"1\" class=\"dataframe\">\n",
       "  <thead>\n",
       "    <tr style=\"text-align: right;\">\n",
       "      <th></th>\n",
       "      <th>transaction_id</th>\n",
       "      <th>visitor_id</th>\n",
       "      <th>date</th>\n",
       "      <th>revenue</th>\n",
       "      <th>group</th>\n",
       "    </tr>\n",
       "  </thead>\n",
       "  <tbody>\n",
       "    <tr>\n",
       "      <th>0</th>\n",
       "      <td>3667963787</td>\n",
       "      <td>3312258926</td>\n",
       "      <td>2019-08-15</td>\n",
       "      <td>1650</td>\n",
       "      <td>B</td>\n",
       "    </tr>\n",
       "    <tr>\n",
       "      <th>1</th>\n",
       "      <td>2804400009</td>\n",
       "      <td>3642806036</td>\n",
       "      <td>2019-08-15</td>\n",
       "      <td>730</td>\n",
       "      <td>B</td>\n",
       "    </tr>\n",
       "    <tr>\n",
       "      <th>2</th>\n",
       "      <td>2961555356</td>\n",
       "      <td>4069496402</td>\n",
       "      <td>2019-08-15</td>\n",
       "      <td>400</td>\n",
       "      <td>A</td>\n",
       "    </tr>\n",
       "    <tr>\n",
       "      <th>3</th>\n",
       "      <td>3797467345</td>\n",
       "      <td>1196621759</td>\n",
       "      <td>2019-08-15</td>\n",
       "      <td>9759</td>\n",
       "      <td>B</td>\n",
       "    </tr>\n",
       "    <tr>\n",
       "      <th>4</th>\n",
       "      <td>2282983706</td>\n",
       "      <td>2322279887</td>\n",
       "      <td>2019-08-15</td>\n",
       "      <td>2308</td>\n",
       "      <td>B</td>\n",
       "    </tr>\n",
       "  </tbody>\n",
       "</table>\n",
       "</div>"
      ],
      "text/plain": [
       "   transaction_id  visitor_id       date  revenue group\n",
       "0      3667963787  3312258926 2019-08-15     1650     B\n",
       "1      2804400009  3642806036 2019-08-15      730     B\n",
       "2      2961555356  4069496402 2019-08-15      400     A\n",
       "3      3797467345  1196621759 2019-08-15     9759     B\n",
       "4      2282983706  2322279887 2019-08-15     2308     B"
      ]
     },
     "execution_count": 48,
     "metadata": {},
     "output_type": "execute_result"
    }
   ],
   "source": [
    "orders.head()"
   ]
  },
  {
   "cell_type": "code",
   "execution_count": 49,
   "id": "98bb6177",
   "metadata": {},
   "outputs": [
    {
     "data": {
      "text/html": [
       "<div>\n",
       "<style scoped>\n",
       "    .dataframe tbody tr th:only-of-type {\n",
       "        vertical-align: middle;\n",
       "    }\n",
       "\n",
       "    .dataframe tbody tr th {\n",
       "        vertical-align: top;\n",
       "    }\n",
       "\n",
       "    .dataframe thead th {\n",
       "        text-align: right;\n",
       "    }\n",
       "</style>\n",
       "<table border=\"1\" class=\"dataframe\">\n",
       "  <thead>\n",
       "    <tr style=\"text-align: right;\">\n",
       "      <th></th>\n",
       "      <th>userId</th>\n",
       "      <th>orders</th>\n",
       "    </tr>\n",
       "  </thead>\n",
       "  <tbody>\n",
       "    <tr>\n",
       "      <th>1023</th>\n",
       "      <td>4256040402</td>\n",
       "      <td>11</td>\n",
       "    </tr>\n",
       "    <tr>\n",
       "      <th>591</th>\n",
       "      <td>2458001652</td>\n",
       "      <td>11</td>\n",
       "    </tr>\n",
       "    <tr>\n",
       "      <th>569</th>\n",
       "      <td>2378935119</td>\n",
       "      <td>9</td>\n",
       "    </tr>\n",
       "    <tr>\n",
       "      <th>487</th>\n",
       "      <td>2038680547</td>\n",
       "      <td>8</td>\n",
       "    </tr>\n",
       "    <tr>\n",
       "      <th>44</th>\n",
       "      <td>199603092</td>\n",
       "      <td>5</td>\n",
       "    </tr>\n",
       "  </tbody>\n",
       "</table>\n",
       "</div>"
      ],
      "text/plain": [
       "          userId  orders\n",
       "1023  4256040402      11\n",
       "591   2458001652      11\n",
       "569   2378935119       9\n",
       "487   2038680547       8\n",
       "44     199603092       5"
      ]
     },
     "metadata": {},
     "output_type": "display_data"
    }
   ],
   "source": [
    "orders_by_users = (\n",
    "    orders.groupby('visitor_id', as_index=False)\n",
    "    .agg({'transaction_id': 'nunique'})\n",
    ")\n",
    "orders_by_users.columns = ['userId', 'orders']\n",
    "\n",
    "display(orders_by_users.sort_values(by='orders', ascending=False).head(5))"
   ]
  },
  {
   "cell_type": "code",
   "execution_count": 50,
   "id": "039c5e17",
   "metadata": {},
   "outputs": [
    {
     "data": {
      "image/png": "[encoded data removed]",
      "text/plain": [
       "<Figure size 1500x500 with 2 Axes>"
      ]
     },
     "metadata": {},
     "output_type": "display_data"
    }
   ],
   "source": [
    "x_values = pd.Series(range(0, len(orders_by_users)))\n",
    "\n",
    "fig, (ax0,ax1) = plt.subplots(nrows=1, ncols=2, figsize=(15,5))\n",
    "ax0.grid(True)\n",
    "ax0.set_title('Гистограмма')\n",
    "ax0.hist(orders_by_users['orders'])\n",
    "ax0.set_xlabel('Кол-во заказов')\n",
    "ax0.set_ylabel('Кол-во пользователей')\n",
    "ax1.grid(True)\n",
    "ax1.set_title('Точечная диаграмма')\n",
    "ax1.scatter(x_values, orders_by_users['orders'])\n",
    "ax1.set_xlabel('Номер пользователя')\n",
    "ax1.set_ylabel('Кол-во заказов')\n",
    "fig.suptitle('График количества заказов по пользователям',\n",
    "             y = 1,\n",
    "             fontsize = 20);"
   ]
  },
  {
   "cell_type": "markdown",
   "id": "69fb5731",
   "metadata": {},
   "source": [
    "На графиках видно, что большинство пользователей делают не более 2х заказов. Узнаем более точные пороги с помощью расчета 95-го и 99-го перцентиля"
   ]
  },
  {
   "cell_type": "markdown",
   "id": "37706a1a",
   "metadata": {},
   "source": [
    "### 95-й и 99-й перцентили количества заказов на пользователя. Выбор границы для определения аномальных пользователей."
   ]
  },
  {
   "cell_type": "code",
   "execution_count": 51,
   "id": "0fa923d2",
   "metadata": {},
   "outputs": [
    {
     "name": "stdout",
     "output_type": "stream",
     "text": [
      "[2. 4.]\n"
     ]
    }
   ],
   "source": [
    "print(np.percentile(orders_by_users['orders'], [95, 99]))"
   ]
  },
  {
   "cell_type": "markdown",
   "id": "e9f5f0bb",
   "metadata": {},
   "source": [
    "Не более 5% пользователей оформили больше 2х заказов. И всего лишь 1% - больше 4х"
   ]
  },
  {
   "cell_type": "markdown",
   "id": "c27bd923",
   "metadata": {},
   "source": [
    "**Вывод:**\n",
    "Разумно выбрать 2 заказа на одного пользователя за верхнюю границу числа заказов, и отсеять аномальных пользователей по ней"
   ]
  },
  {
   "cell_type": "markdown",
   "id": "065c6f81",
   "metadata": {},
   "source": [
    "### Точечный график стоимостей заказов."
   ]
  },
  {
   "cell_type": "code",
   "execution_count": 52,
   "id": "1ceaef23",
   "metadata": {},
   "outputs": [
    {
     "data": {
      "image/png": "[encoded data removed]",
      "text/plain": [
       "<Figure size 1500x500 with 2 Axes>"
      ]
     },
     "metadata": {},
     "output_type": "display_data"
    }
   ],
   "source": [
    "x_values = pd.Series(range(0, len(orders['revenue'])))\n",
    "\n",
    "fig, (ax0,ax1) = plt.subplots(nrows=1, ncols=2, figsize=(15,5))\n",
    "plt.ticklabel_format(style='plain')\n",
    "ax0.grid(True)\n",
    "ax0.set_title('Гистограмма')\n",
    "ax0.hist(orders['revenue'], bins=40)\n",
    "ax0.set_xlabel('Сумма заказа')\n",
    "ax0.set_ylabel('Кол-во пользователей')\n",
    "ax0.ticklabel_format(style='plain')\n",
    "ax1.grid(True)\n",
    "ax1.set_title('Точечная диаграмма')\n",
    "ax1.scatter(x_values, orders['revenue'])\n",
    "ax1.set_xlabel('Номер пользователя')\n",
    "ax1.set_ylabel('Сумма заказа')\n",
    "fig.suptitle('График стоимости заказов по пользователям',\n",
    "             y = 1,\n",
    "             fontsize = 20);"
   ]
  },
  {
   "cell_type": "code",
   "execution_count": 53,
   "id": "fee1e250",
   "metadata": {},
   "outputs": [
    {
     "name": "stdout",
     "output_type": "stream",
     "text": [
      "Максимальный заказ 1294500\n",
      "Минимальный заказ 50\n",
      "Медианный заказ 2978.0\n"
     ]
    }
   ],
   "source": [
    "print('Максимальный заказ', orders['revenue'].max())\n",
    "print('Минимальный заказ', orders['revenue'].min())\n",
    "print('Медианный заказ', orders['revenue'].median())"
   ]
  },
  {
   "cell_type": "markdown",
   "id": "08065cba",
   "metadata": {},
   "source": [
    "### 95-й и 99-й перцентили стоимости заказов. Выбор границы для определения аномальных заказов."
   ]
  },
  {
   "cell_type": "code",
   "execution_count": 54,
   "id": "cdc3e662",
   "metadata": {},
   "outputs": [
    {
     "name": "stdout",
     "output_type": "stream",
     "text": [
      "[28000.  58233.2]\n"
     ]
    }
   ],
   "source": [
    "print(np.percentile(orders['revenue'], [95, 99]))"
   ]
  },
  {
   "cell_type": "markdown",
   "id": "ba2ec507",
   "metadata": {},
   "source": [
    "5% заказов больше 28 000, и только 1% больше 58 233. "
   ]
  },
  {
   "cell_type": "markdown",
   "id": "1d1bb1a4",
   "metadata": {},
   "source": [
    "**Вывод:**\n",
    "Разумно выбрать сумму заказа в 28 000 за верхнюю границу и отсеять аномальные заказы по ней"
   ]
  },
  {
   "cell_type": "markdown",
   "id": "d3afa4cd",
   "metadata": {},
   "source": [
    "### Статистическая значимость различий в среднем количестве заказов между группами по «сырым» данным. "
   ]
  },
  {
   "cell_type": "markdown",
   "id": "01c0f73d",
   "metadata": {},
   "source": [
    "Нулевая гипотеза: различий в среднем количестве заказов между группами нет. \\\n",
    "Альтернативная: различия в среднем между группами есть."
   ]
  },
  {
   "cell_type": "markdown",
   "id": "aff5cde3",
   "metadata": {},
   "source": [
    "#### Подготовка данных"
   ]
  },
  {
   "cell_type": "code",
   "execution_count": 55,
   "id": "e4a16247",
   "metadata": {},
   "outputs": [
    {
     "data": {
      "text/html": [
       "<div>\n",
       "<style scoped>\n",
       "    .dataframe tbody tr th:only-of-type {\n",
       "        vertical-align: middle;\n",
       "    }\n",
       "\n",
       "    .dataframe tbody tr th {\n",
       "        vertical-align: top;\n",
       "    }\n",
       "\n",
       "    .dataframe thead th {\n",
       "        text-align: right;\n",
       "    }\n",
       "</style>\n",
       "<table border=\"1\" class=\"dataframe\">\n",
       "  <thead>\n",
       "    <tr style=\"text-align: right;\">\n",
       "      <th></th>\n",
       "      <th>date</th>\n",
       "      <th>group</th>\n",
       "      <th>visitors</th>\n",
       "    </tr>\n",
       "  </thead>\n",
       "  <tbody>\n",
       "    <tr>\n",
       "      <th>0</th>\n",
       "      <td>2019-08-01</td>\n",
       "      <td>A</td>\n",
       "      <td>719</td>\n",
       "    </tr>\n",
       "    <tr>\n",
       "      <th>1</th>\n",
       "      <td>2019-08-02</td>\n",
       "      <td>A</td>\n",
       "      <td>619</td>\n",
       "    </tr>\n",
       "    <tr>\n",
       "      <th>2</th>\n",
       "      <td>2019-08-03</td>\n",
       "      <td>A</td>\n",
       "      <td>507</td>\n",
       "    </tr>\n",
       "    <tr>\n",
       "      <th>3</th>\n",
       "      <td>2019-08-04</td>\n",
       "      <td>A</td>\n",
       "      <td>717</td>\n",
       "    </tr>\n",
       "    <tr>\n",
       "      <th>4</th>\n",
       "      <td>2019-08-05</td>\n",
       "      <td>A</td>\n",
       "      <td>756</td>\n",
       "    </tr>\n",
       "  </tbody>\n",
       "</table>\n",
       "</div>"
      ],
      "text/plain": [
       "        date group  visitors\n",
       "0 2019-08-01     A       719\n",
       "1 2019-08-02     A       619\n",
       "2 2019-08-03     A       507\n",
       "3 2019-08-04     A       717\n",
       "4 2019-08-05     A       756"
      ]
     },
     "execution_count": 55,
     "metadata": {},
     "output_type": "execute_result"
    }
   ],
   "source": [
    "visits.head()"
   ]
  },
  {
   "cell_type": "code",
   "execution_count": 56,
   "id": "c4dbe9d8",
   "metadata": {},
   "outputs": [
    {
     "data": {
      "text/html": [
       "<div>\n",
       "<style scoped>\n",
       "    .dataframe tbody tr th:only-of-type {\n",
       "        vertical-align: middle;\n",
       "    }\n",
       "\n",
       "    .dataframe tbody tr th {\n",
       "        vertical-align: top;\n",
       "    }\n",
       "\n",
       "    .dataframe thead th {\n",
       "        text-align: right;\n",
       "    }\n",
       "</style>\n",
       "<table border=\"1\" class=\"dataframe\">\n",
       "  <thead>\n",
       "    <tr style=\"text-align: right;\">\n",
       "      <th></th>\n",
       "      <th>date</th>\n",
       "      <th>visitors_cum_a</th>\n",
       "    </tr>\n",
       "  </thead>\n",
       "  <tbody>\n",
       "    <tr>\n",
       "      <th>0</th>\n",
       "      <td>2019-08-01</td>\n",
       "      <td>719</td>\n",
       "    </tr>\n",
       "    <tr>\n",
       "      <th>1</th>\n",
       "      <td>2019-08-02</td>\n",
       "      <td>1338</td>\n",
       "    </tr>\n",
       "    <tr>\n",
       "      <th>2</th>\n",
       "      <td>2019-08-03</td>\n",
       "      <td>1845</td>\n",
       "    </tr>\n",
       "    <tr>\n",
       "      <th>3</th>\n",
       "      <td>2019-08-04</td>\n",
       "      <td>2562</td>\n",
       "    </tr>\n",
       "    <tr>\n",
       "      <th>4</th>\n",
       "      <td>2019-08-05</td>\n",
       "      <td>3318</td>\n",
       "    </tr>\n",
       "  </tbody>\n",
       "</table>\n",
       "</div>"
      ],
      "text/plain": [
       "        date  visitors_cum_a\n",
       "0 2019-08-01             719\n",
       "1 2019-08-02            1338\n",
       "2 2019-08-03            1845\n",
       "3 2019-08-04            2562\n",
       "4 2019-08-05            3318"
      ]
     },
     "execution_count": 56,
     "metadata": {},
     "output_type": "execute_result"
    }
   ],
   "source": [
    "# считаем количество посещений в группе А с накоплением\n",
    "visitors_daily_a = visits[visits['group'] == 'A'][['date', 'visitors']]\n",
    "visitors_daily_a.columns = ['date', 'visitors_per_date_a']\n",
    "\n",
    "visitors_cummulative_a = visitors_daily_a.apply(\n",
    "    lambda x: visitors_daily_a[visitors_daily_a['date'] <= x['date']].agg(\n",
    "        {'date': 'max', 'visitors_per_date_a': 'sum'}\n",
    "    ),\n",
    "    axis=1,\n",
    ")\n",
    "visitors_cummulative_a.columns = ['date', 'visitors_cum_a']\n",
    "visitors_cummulative_a.head()"
   ]
  },
  {
   "cell_type": "code",
   "execution_count": 57,
   "id": "f48078e6",
   "metadata": {},
   "outputs": [
    {
     "data": {
      "text/html": [
       "<div>\n",
       "<style scoped>\n",
       "    .dataframe tbody tr th:only-of-type {\n",
       "        vertical-align: middle;\n",
       "    }\n",
       "\n",
       "    .dataframe tbody tr th {\n",
       "        vertical-align: top;\n",
       "    }\n",
       "\n",
       "    .dataframe thead th {\n",
       "        text-align: right;\n",
       "    }\n",
       "</style>\n",
       "<table border=\"1\" class=\"dataframe\">\n",
       "  <thead>\n",
       "    <tr style=\"text-align: right;\">\n",
       "      <th></th>\n",
       "      <th>date</th>\n",
       "      <th>visitors_cum_b</th>\n",
       "    </tr>\n",
       "  </thead>\n",
       "  <tbody>\n",
       "    <tr>\n",
       "      <th>31</th>\n",
       "      <td>2019-08-01</td>\n",
       "      <td>713</td>\n",
       "    </tr>\n",
       "    <tr>\n",
       "      <th>32</th>\n",
       "      <td>2019-08-02</td>\n",
       "      <td>1294</td>\n",
       "    </tr>\n",
       "    <tr>\n",
       "      <th>33</th>\n",
       "      <td>2019-08-03</td>\n",
       "      <td>1803</td>\n",
       "    </tr>\n",
       "    <tr>\n",
       "      <th>34</th>\n",
       "      <td>2019-08-04</td>\n",
       "      <td>2573</td>\n",
       "    </tr>\n",
       "    <tr>\n",
       "      <th>35</th>\n",
       "      <td>2019-08-05</td>\n",
       "      <td>3280</td>\n",
       "    </tr>\n",
       "  </tbody>\n",
       "</table>\n",
       "</div>"
      ],
      "text/plain": [
       "         date  visitors_cum_b\n",
       "31 2019-08-01             713\n",
       "32 2019-08-02            1294\n",
       "33 2019-08-03            1803\n",
       "34 2019-08-04            2573\n",
       "35 2019-08-05            3280"
      ]
     },
     "execution_count": 57,
     "metadata": {},
     "output_type": "execute_result"
    }
   ],
   "source": [
    "# считаем количество посещений в группе B с накоплением\n",
    "visitors_daily_b = visits[visits['group'] == 'B'][['date', 'visitors']]\n",
    "visitors_daily_b.columns = ['date', 'visitors_per_date_b']\n",
    "\n",
    "visitors_cummulative_b = visitors_daily_b.apply(\n",
    "    lambda x: visitors_daily_b[visitors_daily_b['date'] <= x['date']].agg(\n",
    "        {'date': 'max', 'visitors_per_date_b': 'sum'}\n",
    "    ),\n",
    "    axis=1,\n",
    ")\n",
    "visitors_cummulative_b.columns = ['date', 'visitors_cum_b']\n",
    "visitors_cummulative_b.head()"
   ]
  },
  {
   "cell_type": "code",
   "execution_count": 58,
   "id": "d3f93fdf",
   "metadata": {},
   "outputs": [
    {
     "data": {
      "text/html": [
       "<div>\n",
       "<style scoped>\n",
       "    .dataframe tbody tr th:only-of-type {\n",
       "        vertical-align: middle;\n",
       "    }\n",
       "\n",
       "    .dataframe tbody tr th {\n",
       "        vertical-align: top;\n",
       "    }\n",
       "\n",
       "    .dataframe thead th {\n",
       "        text-align: right;\n",
       "    }\n",
       "</style>\n",
       "<table border=\"1\" class=\"dataframe\">\n",
       "  <thead>\n",
       "    <tr style=\"text-align: right;\">\n",
       "      <th></th>\n",
       "      <th>transaction_id</th>\n",
       "      <th>visitor_id</th>\n",
       "      <th>date</th>\n",
       "      <th>revenue</th>\n",
       "      <th>group</th>\n",
       "    </tr>\n",
       "  </thead>\n",
       "  <tbody>\n",
       "    <tr>\n",
       "      <th>0</th>\n",
       "      <td>3667963787</td>\n",
       "      <td>3312258926</td>\n",
       "      <td>2019-08-15</td>\n",
       "      <td>1650</td>\n",
       "      <td>B</td>\n",
       "    </tr>\n",
       "    <tr>\n",
       "      <th>1</th>\n",
       "      <td>2804400009</td>\n",
       "      <td>3642806036</td>\n",
       "      <td>2019-08-15</td>\n",
       "      <td>730</td>\n",
       "      <td>B</td>\n",
       "    </tr>\n",
       "    <tr>\n",
       "      <th>2</th>\n",
       "      <td>2961555356</td>\n",
       "      <td>4069496402</td>\n",
       "      <td>2019-08-15</td>\n",
       "      <td>400</td>\n",
       "      <td>A</td>\n",
       "    </tr>\n",
       "    <tr>\n",
       "      <th>3</th>\n",
       "      <td>3797467345</td>\n",
       "      <td>1196621759</td>\n",
       "      <td>2019-08-15</td>\n",
       "      <td>9759</td>\n",
       "      <td>B</td>\n",
       "    </tr>\n",
       "    <tr>\n",
       "      <th>4</th>\n",
       "      <td>2282983706</td>\n",
       "      <td>2322279887</td>\n",
       "      <td>2019-08-15</td>\n",
       "      <td>2308</td>\n",
       "      <td>B</td>\n",
       "    </tr>\n",
       "  </tbody>\n",
       "</table>\n",
       "</div>"
      ],
      "text/plain": [
       "   transaction_id  visitor_id       date  revenue group\n",
       "0      3667963787  3312258926 2019-08-15     1650     B\n",
       "1      2804400009  3642806036 2019-08-15      730     B\n",
       "2      2961555356  4069496402 2019-08-15      400     A\n",
       "3      3797467345  1196621759 2019-08-15     9759     B\n",
       "4      2282983706  2322279887 2019-08-15     2308     B"
      ]
     },
     "execution_count": 58,
     "metadata": {},
     "output_type": "execute_result"
    }
   ],
   "source": [
    "orders.head()"
   ]
  },
  {
   "cell_type": "code",
   "execution_count": 59,
   "id": "20520d80",
   "metadata": {},
   "outputs": [
    {
     "data": {
      "text/html": [
       "<div>\n",
       "<style scoped>\n",
       "    .dataframe tbody tr th:only-of-type {\n",
       "        vertical-align: middle;\n",
       "    }\n",
       "\n",
       "    .dataframe tbody tr th {\n",
       "        vertical-align: top;\n",
       "    }\n",
       "\n",
       "    .dataframe thead th {\n",
       "        text-align: right;\n",
       "    }\n",
       "</style>\n",
       "<table border=\"1\" class=\"dataframe\">\n",
       "  <thead>\n",
       "    <tr style=\"text-align: right;\">\n",
       "      <th></th>\n",
       "      <th>date</th>\n",
       "      <th>orders_cum_a</th>\n",
       "      <th>revenue_cum_a</th>\n",
       "    </tr>\n",
       "  </thead>\n",
       "  <tbody>\n",
       "    <tr>\n",
       "      <th>0</th>\n",
       "      <td>2019-08-01</td>\n",
       "      <td>24</td>\n",
       "      <td>148579</td>\n",
       "    </tr>\n",
       "    <tr>\n",
       "      <th>1</th>\n",
       "      <td>2019-08-02</td>\n",
       "      <td>44</td>\n",
       "      <td>242401</td>\n",
       "    </tr>\n",
       "    <tr>\n",
       "      <th>2</th>\n",
       "      <td>2019-08-03</td>\n",
       "      <td>68</td>\n",
       "      <td>354874</td>\n",
       "    </tr>\n",
       "    <tr>\n",
       "      <th>3</th>\n",
       "      <td>2019-08-04</td>\n",
       "      <td>84</td>\n",
       "      <td>425699</td>\n",
       "    </tr>\n",
       "    <tr>\n",
       "      <th>4</th>\n",
       "      <td>2019-08-05</td>\n",
       "      <td>109</td>\n",
       "      <td>549917</td>\n",
       "    </tr>\n",
       "  </tbody>\n",
       "</table>\n",
       "</div>"
      ],
      "text/plain": [
       "        date  orders_cum_a  revenue_cum_a\n",
       "0 2019-08-01            24         148579\n",
       "1 2019-08-02            44         242401\n",
       "2 2019-08-03            68         354874\n",
       "3 2019-08-04            84         425699\n",
       "4 2019-08-05           109         549917"
      ]
     },
     "execution_count": 59,
     "metadata": {},
     "output_type": "execute_result"
    }
   ],
   "source": [
    "# считаем кол-во заказов и выручку по дням с накоплением для группы А\n",
    "orders_daily_a = (\n",
    "    orders[orders['group'] == 'A'][['date', 'transaction_id', 'visitor_id', 'revenue']]\n",
    "    .groupby('date', as_index=False)\n",
    "    .agg({'transaction_id': pd.Series.nunique, 'revenue': 'sum'})\n",
    ")\n",
    "orders_daily_a.columns = ['date', 'orders_per_date_a', 'revenue_per_date_a']\n",
    "\n",
    "orders_cummulative_a = orders_daily_a.apply(\n",
    "    lambda x: orders_daily_a[orders_daily_a['date'] <= x['date']].agg(\n",
    "        {'date': 'max', 'orders_per_date_a': 'sum', 'revenue_per_date_a': 'sum'}\n",
    "    ),\n",
    "    axis=1,\n",
    ").sort_values(by=['date'])\n",
    "orders_cummulative_a.columns = ['date','orders_cum_a','revenue_cum_a']\n",
    "orders_cummulative_a.head()"
   ]
  },
  {
   "cell_type": "code",
   "execution_count": 60,
   "id": "21e69ffd",
   "metadata": {},
   "outputs": [
    {
     "data": {
      "text/html": [
       "<div>\n",
       "<style scoped>\n",
       "    .dataframe tbody tr th:only-of-type {\n",
       "        vertical-align: middle;\n",
       "    }\n",
       "\n",
       "    .dataframe tbody tr th {\n",
       "        vertical-align: top;\n",
       "    }\n",
       "\n",
       "    .dataframe thead th {\n",
       "        text-align: right;\n",
       "    }\n",
       "</style>\n",
       "<table border=\"1\" class=\"dataframe\">\n",
       "  <thead>\n",
       "    <tr style=\"text-align: right;\">\n",
       "      <th></th>\n",
       "      <th>date</th>\n",
       "      <th>orders_cum_b</th>\n",
       "      <th>revenue_cum_b</th>\n",
       "    </tr>\n",
       "  </thead>\n",
       "  <tbody>\n",
       "    <tr>\n",
       "      <th>0</th>\n",
       "      <td>2019-08-01</td>\n",
       "      <td>21</td>\n",
       "      <td>101217</td>\n",
       "    </tr>\n",
       "    <tr>\n",
       "      <th>1</th>\n",
       "      <td>2019-08-02</td>\n",
       "      <td>45</td>\n",
       "      <td>266748</td>\n",
       "    </tr>\n",
       "    <tr>\n",
       "      <th>2</th>\n",
       "      <td>2019-08-03</td>\n",
       "      <td>61</td>\n",
       "      <td>380996</td>\n",
       "    </tr>\n",
       "    <tr>\n",
       "      <th>3</th>\n",
       "      <td>2019-08-04</td>\n",
       "      <td>78</td>\n",
       "      <td>489567</td>\n",
       "    </tr>\n",
       "    <tr>\n",
       "      <th>4</th>\n",
       "      <td>2019-08-05</td>\n",
       "      <td>101</td>\n",
       "      <td>581995</td>\n",
       "    </tr>\n",
       "  </tbody>\n",
       "</table>\n",
       "</div>"
      ],
      "text/plain": [
       "        date  orders_cum_b  revenue_cum_b\n",
       "0 2019-08-01            21         101217\n",
       "1 2019-08-02            45         266748\n",
       "2 2019-08-03            61         380996\n",
       "3 2019-08-04            78         489567\n",
       "4 2019-08-05           101         581995"
      ]
     },
     "execution_count": 60,
     "metadata": {},
     "output_type": "execute_result"
    }
   ],
   "source": [
    "# считаем кол-во заказов и выручку по дням с накоплением для группы В\n",
    "\n",
    "orders_daily_b = (\n",
    "    orders[orders['group'] == 'B'][['date', 'transaction_id', 'visitor_id', 'revenue']]\n",
    "    .groupby('date', as_index=False)\n",
    "    .agg({'transaction_id': pd.Series.nunique, 'revenue': 'sum'})\n",
    ")\n",
    "orders_daily_b.columns = ['date', 'orders_per_date_b', 'revenue_per_date_b']\n",
    "\n",
    "orders_cummulative_b = orders_daily_b.apply(\n",
    "    lambda x: orders_daily_b[orders_daily_b['date'] <= x['date']].agg(\n",
    "        {'date': 'max', 'orders_per_date_b': 'sum', 'revenue_per_date_b': 'sum'}\n",
    "    ),\n",
    "    axis=1,\n",
    ").sort_values(by=['date'])\n",
    "orders_cummulative_b.columns = ['date','orders_cum_b','revenue_cum_b']\n",
    "orders_cummulative_b.head()"
   ]
  },
  {
   "cell_type": "code",
   "execution_count": 61,
   "id": "acad6dad",
   "metadata": {},
   "outputs": [
    {
     "data": {
      "text/html": [
       "<div>\n",
       "<style scoped>\n",
       "    .dataframe tbody tr th:only-of-type {\n",
       "        vertical-align: middle;\n",
       "    }\n",
       "\n",
       "    .dataframe tbody tr th {\n",
       "        vertical-align: top;\n",
       "    }\n",
       "\n",
       "    .dataframe thead th {\n",
       "        text-align: right;\n",
       "    }\n",
       "</style>\n",
       "<table border=\"1\" class=\"dataframe\">\n",
       "  <thead>\n",
       "    <tr style=\"text-align: right;\">\n",
       "      <th></th>\n",
       "      <th>0</th>\n",
       "      <th>1</th>\n",
       "      <th>2</th>\n",
       "      <th>3</th>\n",
       "      <th>4</th>\n",
       "      <th>5</th>\n",
       "      <th>6</th>\n",
       "      <th>7</th>\n",
       "      <th>8</th>\n",
       "      <th>9</th>\n",
       "    </tr>\n",
       "  </thead>\n",
       "  <tbody>\n",
       "    <tr>\n",
       "      <th>date</th>\n",
       "      <td>2019-08-01</td>\n",
       "      <td>2019-08-02</td>\n",
       "      <td>2019-08-03</td>\n",
       "      <td>2019-08-04</td>\n",
       "      <td>2019-08-05</td>\n",
       "      <td>2019-08-06</td>\n",
       "      <td>2019-08-07</td>\n",
       "      <td>2019-08-08</td>\n",
       "      <td>2019-08-09</td>\n",
       "      <td>2019-08-10</td>\n",
       "    </tr>\n",
       "    <tr>\n",
       "      <th>orders_per_date_a</th>\n",
       "      <td>24</td>\n",
       "      <td>20</td>\n",
       "      <td>24</td>\n",
       "      <td>16</td>\n",
       "      <td>25</td>\n",
       "      <td>18</td>\n",
       "      <td>18</td>\n",
       "      <td>16</td>\n",
       "      <td>16</td>\n",
       "      <td>16</td>\n",
       "    </tr>\n",
       "    <tr>\n",
       "      <th>revenue_per_date_a</th>\n",
       "      <td>148579</td>\n",
       "      <td>93822</td>\n",
       "      <td>112473</td>\n",
       "      <td>70825</td>\n",
       "      <td>124218</td>\n",
       "      <td>48484</td>\n",
       "      <td>142417</td>\n",
       "      <td>96279</td>\n",
       "      <td>188506</td>\n",
       "      <td>210495</td>\n",
       "    </tr>\n",
       "    <tr>\n",
       "      <th>orders_per_date_b</th>\n",
       "      <td>21</td>\n",
       "      <td>24</td>\n",
       "      <td>16</td>\n",
       "      <td>17</td>\n",
       "      <td>23</td>\n",
       "      <td>28</td>\n",
       "      <td>24</td>\n",
       "      <td>27</td>\n",
       "      <td>25</td>\n",
       "      <td>23</td>\n",
       "    </tr>\n",
       "    <tr>\n",
       "      <th>revenue_per_date_b</th>\n",
       "      <td>101217</td>\n",
       "      <td>165531</td>\n",
       "      <td>114248</td>\n",
       "      <td>108571</td>\n",
       "      <td>92428</td>\n",
       "      <td>242342</td>\n",
       "      <td>225334</td>\n",
       "      <td>220918</td>\n",
       "      <td>160812</td>\n",
       "      <td>107802</td>\n",
       "    </tr>\n",
       "    <tr>\n",
       "      <th>orders_cum_a</th>\n",
       "      <td>24</td>\n",
       "      <td>44</td>\n",
       "      <td>68</td>\n",
       "      <td>84</td>\n",
       "      <td>109</td>\n",
       "      <td>127</td>\n",
       "      <td>145</td>\n",
       "      <td>161</td>\n",
       "      <td>177</td>\n",
       "      <td>193</td>\n",
       "    </tr>\n",
       "    <tr>\n",
       "      <th>revenue_cum_a</th>\n",
       "      <td>148579</td>\n",
       "      <td>242401</td>\n",
       "      <td>354874</td>\n",
       "      <td>425699</td>\n",
       "      <td>549917</td>\n",
       "      <td>598401</td>\n",
       "      <td>740818</td>\n",
       "      <td>837097</td>\n",
       "      <td>1025603</td>\n",
       "      <td>1236098</td>\n",
       "    </tr>\n",
       "    <tr>\n",
       "      <th>orders_cum_b</th>\n",
       "      <td>21</td>\n",
       "      <td>45</td>\n",
       "      <td>61</td>\n",
       "      <td>78</td>\n",
       "      <td>101</td>\n",
       "      <td>129</td>\n",
       "      <td>153</td>\n",
       "      <td>180</td>\n",
       "      <td>205</td>\n",
       "      <td>228</td>\n",
       "    </tr>\n",
       "    <tr>\n",
       "      <th>revenue_cum_b</th>\n",
       "      <td>101217</td>\n",
       "      <td>266748</td>\n",
       "      <td>380996</td>\n",
       "      <td>489567</td>\n",
       "      <td>581995</td>\n",
       "      <td>824337</td>\n",
       "      <td>1049671</td>\n",
       "      <td>1270589</td>\n",
       "      <td>1431401</td>\n",
       "      <td>1539203</td>\n",
       "    </tr>\n",
       "    <tr>\n",
       "      <th>visitors_per_date_a</th>\n",
       "      <td>719</td>\n",
       "      <td>619</td>\n",
       "      <td>507</td>\n",
       "      <td>717</td>\n",
       "      <td>756</td>\n",
       "      <td>667</td>\n",
       "      <td>644</td>\n",
       "      <td>610</td>\n",
       "      <td>617</td>\n",
       "      <td>406</td>\n",
       "    </tr>\n",
       "    <tr>\n",
       "      <th>visitors_per_date_b</th>\n",
       "      <td>713</td>\n",
       "      <td>581</td>\n",
       "      <td>509</td>\n",
       "      <td>770</td>\n",
       "      <td>707</td>\n",
       "      <td>655</td>\n",
       "      <td>709</td>\n",
       "      <td>654</td>\n",
       "      <td>610</td>\n",
       "      <td>369</td>\n",
       "    </tr>\n",
       "    <tr>\n",
       "      <th>visitors_cum_a</th>\n",
       "      <td>719</td>\n",
       "      <td>1338</td>\n",
       "      <td>1845</td>\n",
       "      <td>2562</td>\n",
       "      <td>3318</td>\n",
       "      <td>3985</td>\n",
       "      <td>4629</td>\n",
       "      <td>5239</td>\n",
       "      <td>5856</td>\n",
       "      <td>6262</td>\n",
       "    </tr>\n",
       "    <tr>\n",
       "      <th>visitors_cum_b</th>\n",
       "      <td>713</td>\n",
       "      <td>1294</td>\n",
       "      <td>1803</td>\n",
       "      <td>2573</td>\n",
       "      <td>3280</td>\n",
       "      <td>3935</td>\n",
       "      <td>4644</td>\n",
       "      <td>5298</td>\n",
       "      <td>5908</td>\n",
       "      <td>6277</td>\n",
       "    </tr>\n",
       "  </tbody>\n",
       "</table>\n",
       "</div>"
      ],
      "text/plain": [
       "                              0           1           2           3  \\\n",
       "date                 2019-08-01  2019-08-02  2019-08-03  2019-08-04   \n",
       "orders_per_date_a            24          20          24          16   \n",
       "revenue_per_date_a       148579       93822      112473       70825   \n",
       "orders_per_date_b            21          24          16          17   \n",
       "revenue_per_date_b       101217      165531      114248      108571   \n",
       "orders_cum_a                 24          44          68          84   \n",
       "revenue_cum_a            148579      242401      354874      425699   \n",
       "orders_cum_b                 21          45          61          78   \n",
       "revenue_cum_b            101217      266748      380996      489567   \n",
       "visitors_per_date_a         719         619         507         717   \n",
       "visitors_per_date_b         713         581         509         770   \n",
       "visitors_cum_a              719        1338        1845        2562   \n",
       "visitors_cum_b              713        1294        1803        2573   \n",
       "\n",
       "                              4           5           6           7  \\\n",
       "date                 2019-08-05  2019-08-06  2019-08-07  2019-08-08   \n",
       "orders_per_date_a            25          18          18          16   \n",
       "revenue_per_date_a       124218       48484      142417       96279   \n",
       "orders_per_date_b            23          28          24          27   \n",
       "revenue_per_date_b        92428      242342      225334      220918   \n",
       "orders_cum_a                109         127         145         161   \n",
       "revenue_cum_a            549917      598401      740818      837097   \n",
       "orders_cum_b                101         129         153         180   \n",
       "revenue_cum_b            581995      824337     1049671     1270589   \n",
       "visitors_per_date_a         756         667         644         610   \n",
       "visitors_per_date_b         707         655         709         654   \n",
       "visitors_cum_a             3318        3985        4629        5239   \n",
       "visitors_cum_b             3280        3935        4644        5298   \n",
       "\n",
       "                              8           9  \n",
       "date                 2019-08-09  2019-08-10  \n",
       "orders_per_date_a            16          16  \n",
       "revenue_per_date_a       188506      210495  \n",
       "orders_per_date_b            25          23  \n",
       "revenue_per_date_b       160812      107802  \n",
       "orders_cum_a                177         193  \n",
       "revenue_cum_a           1025603     1236098  \n",
       "orders_cum_b                205         228  \n",
       "revenue_cum_b           1431401     1539203  \n",
       "visitors_per_date_a         617         406  \n",
       "visitors_per_date_b         610         369  \n",
       "visitors_cum_a             5856        6262  \n",
       "visitors_cum_b             5908        6277  "
      ]
     },
     "execution_count": 61,
     "metadata": {},
     "output_type": "execute_result"
    }
   ],
   "source": [
    "group_data = (\n",
    "    orders_daily_a.merge(\n",
    "        orders_daily_b, left_on='date', right_on='date', how='left'\n",
    "    )\n",
    "    .merge(orders_cummulative_a, left_on='date', right_on='date', how='left')\n",
    "    .merge(orders_cummulative_b, left_on='date', right_on='date', how='left')\n",
    "    .merge(visitors_daily_a, left_on='date', right_on='date', how='left')\n",
    "    .merge(visitors_daily_b, left_on='date', right_on='date', how='left')\n",
    "    .merge(visitors_cummulative_a, left_on='date', right_on='date', how='left')\n",
    "    .merge(visitors_cummulative_b, left_on='date', right_on='date', how='left')\n",
    ")\n",
    "group_data['date'] = group_data.date.dt.date\n",
    "group_data.head(10).T"
   ]
  },
  {
   "cell_type": "code",
   "execution_count": 62,
   "id": "c6b55160",
   "metadata": {},
   "outputs": [],
   "source": [
    "# считаем число совершённых заказов по пользователям в каждой группе\n",
    "orders_by_users_a = (\n",
    "    orders[orders['group'] == 'A']\n",
    "    .groupby('visitor_id', as_index=False)\n",
    "    .agg({'transaction_id': pd.Series.nunique})\n",
    ")\n",
    "orders_by_users_a.columns = ['userId', 'orders']\n",
    "\n",
    "orders_by_users_b = (\n",
    "    orders[orders['group'] == 'B']\n",
    "    .groupby('visitor_id', as_index=False)\n",
    "    .agg({'transaction_id': pd.Series.nunique})\n",
    ")\n",
    "orders_by_users_b.columns = ['userId', 'orders'] "
   ]
  },
  {
   "cell_type": "code",
   "execution_count": 63,
   "id": "74220634",
   "metadata": {},
   "outputs": [
    {
     "data": {
      "text/plain": [
       "8946     0\n",
       "8471     0\n",
       "4389     0\n",
       "12459    0\n",
       "12300    0\n",
       "Name: orders, dtype: int64"
      ]
     },
     "execution_count": 63,
     "metadata": {},
     "output_type": "execute_result"
    }
   ],
   "source": [
    "# создаем выборку, где каждый элемент — число заказов определённого пользователя, в том числе ноль по группе А\n",
    "# число элементов — это количество пользователей, сумма всех элементов — количество заказов.\n",
    "sample_a = (pd.concat([orders_by_users_a['orders'],\n",
    "            pd.Series(0, index=np.arange(group_data['visitors_per_date_a'].sum() - len(orders_by_users_a['orders'])),\n",
    "                      name='orders')],axis=0)\n",
    "          )\n",
    "sample_a.sample(5)"
   ]
  },
  {
   "cell_type": "code",
   "execution_count": 64,
   "id": "2a22f57f",
   "metadata": {},
   "outputs": [
    {
     "data": {
      "text/plain": [
       "9954     0\n",
       "10178    0\n",
       "2346     0\n",
       "9700     0\n",
       "9150     0\n",
       "Name: orders, dtype: int64"
      ]
     },
     "execution_count": 64,
     "metadata": {},
     "output_type": "execute_result"
    }
   ],
   "source": [
    "# создаем выборку, где каждый элемент — число заказов определённого пользователя, в том числе ноль по группе В\n",
    "# число элементов — это количество пользователей, сумма всех элементов — количество заказов.\n",
    "sample_b = (pd.concat([orders_by_users_b['orders'],\n",
    "            pd.Series(0, index=np.arange(group_data['visitors_per_date_b'].sum() - len(orders_by_users_b['orders'])),\n",
    "                      name='orders')],axis=0)\n",
    "          )\n",
    "sample_b.sample(5)"
   ]
  },
  {
   "cell_type": "markdown",
   "id": "73ae7c46",
   "metadata": {},
   "source": [
    "### Статистическая значимость различий в среднем количестве заказов между группами по «сырым» данным."
   ]
  },
  {
   "cell_type": "markdown",
   "id": "1dc7ab20",
   "metadata": {},
   "source": [
    "**Нулевая гипотеза:** Различий в среднем кол-ве заказов между группами нет. \\\n",
    "**Альтернативная гипотеза:** различия в среднем кол-ве заказов между группами есть."
   ]
  },
  {
   "cell_type": "code",
   "execution_count": 65,
   "id": "060d5876",
   "metadata": {},
   "outputs": [
    {
     "name": "stdout",
     "output_type": "stream",
     "text": [
      "p-value равно 0.01679236\n",
      "Разница между группами 0.138\n"
     ]
    }
   ],
   "source": [
    "print(\"p-value равно {0:.8f}\".format(stats.mannwhitneyu(sample_a, sample_b)[1]))\n",
    "print(\"Разница между группами {0:.3f}\".format(sample_b.mean() / sample_a.mean() - 1))"
   ]
  },
  {
   "cell_type": "markdown",
   "id": "fe8e46f0",
   "metadata": {},
   "source": [
    "**Вывод по сырым данным:** \\\n",
    "P-value = 0.017, т.е. меньше 0.05 (статистическая значимость). Значит отвергаем нулевую гипотезу о том, что статистически значимых различий в среднем количестве заказов заказов между группами нет. Количество заказов в группе B на 13,8% больше"
   ]
  },
  {
   "cell_type": "markdown",
   "id": "e40be0ce",
   "metadata": {},
   "source": [
    "### Статистическая значимость различий в среднем чеке заказа между группами по «сырым» данным."
   ]
  },
  {
   "cell_type": "markdown",
   "id": "cb85bdb1",
   "metadata": {},
   "source": [
    "**Нулевая гипотеза:** различий в среднем чеке между группами нет. \\\n",
    "**Альтернативная гипотеза:** различия в среднем чеке между группами есть."
   ]
  },
  {
   "cell_type": "code",
   "execution_count": 66,
   "id": "b977866f",
   "metadata": {},
   "outputs": [
    {
     "name": "stdout",
     "output_type": "stream",
     "text": [
      "P-value равно 0.72929099\n",
      "Разница между группами 0.259\n"
     ]
    }
   ],
   "source": [
    "print('P-value равно {0:.8f}'\n",
    "      .format(stats.mannwhitneyu(orders[orders['group']=='A']['revenue'], orders[orders['group']=='B']['revenue'])[1]))\n",
    "print('Разница между группами {0:.3f}'\n",
    "      .format(orders[orders['group']=='B']['revenue'].mean()/orders[orders['group']=='A']['revenue'].mean()-1)) "
   ]
  },
  {
   "cell_type": "markdown",
   "id": "4e10c088",
   "metadata": {},
   "source": [
    "**Вывод по сырым данным:** \\\n",
    "P-value значительно больше 0.05. Значит, причин отвергать нулевую гипотезу и считать, что в среднем чеке есть различия, нет. Впрочем, средний чек группы B значительно выше среднего чека группы A - на 25.9%"
   ]
  },
  {
   "cell_type": "markdown",
   "id": "dd6fdcd5",
   "metadata": {},
   "source": [
    "### Статистическая значимость различий в среднем количестве заказов между группами по «очищенным» данным."
   ]
  },
  {
   "cell_type": "markdown",
   "id": "34c8eff2",
   "metadata": {},
   "source": [
    "#### Очистка данных"
   ]
  },
  {
   "cell_type": "code",
   "execution_count": 67,
   "id": "7d6b3a7d",
   "metadata": {},
   "outputs": [
    {
     "data": {
      "text/plain": [
       "24"
      ]
     },
     "execution_count": 67,
     "metadata": {},
     "output_type": "execute_result"
    }
   ],
   "source": [
    "users_with_many_orders = pd.concat(\n",
    "    [orders_by_users_a[orders_by_users_a['orders'] > 2]['userId'],\n",
    "     orders_by_users_b[orders_by_users_b['orders'] > 2]['userId'],],axis=0,\n",
    "    )\n",
    "users_with_many_orders.count()"
   ]
  },
  {
   "cell_type": "markdown",
   "id": "8d346c64",
   "metadata": {},
   "source": [
    "24 пользователя имеют сильные отклонения в количестве заказов"
   ]
  },
  {
   "cell_type": "code",
   "execution_count": 72,
   "id": "7b75cb31",
   "metadata": {},
   "outputs": [
    {
     "data": {
      "text/plain": [
       "60"
      ]
     },
     "execution_count": 72,
     "metadata": {},
     "output_type": "execute_result"
    }
   ],
   "source": [
    "users_with_expensive_orders = orders[orders['revenue'] > 28000]['visitor_id']\n",
    "users_with_expensive_orders.count()"
   ]
  },
  {
   "cell_type": "markdown",
   "id": "b3d16d6e",
   "metadata": {},
   "source": [
    "У 60 пользователей присутствуют аномально большие заказы"
   ]
  },
  {
   "cell_type": "code",
   "execution_count": 75,
   "id": "ea9a4d04",
   "metadata": {},
   "outputs": [
    {
     "data": {
      "text/plain": [
       "74"
      ]
     },
     "execution_count": 75,
     "metadata": {},
     "output_type": "execute_result"
    }
   ],
   "source": [
    "abnormal_users = (\n",
    "    pd.concat([users_with_many_orders, users_with_expensive_orders], axis=0)\n",
    "    .drop_duplicates()\n",
    "    .sort_values()\n",
    ")\n",
    "abnormal_users.count()"
   ]
  },
  {
   "cell_type": "markdown",
   "id": "6572a910",
   "metadata": {},
   "source": [
    "Получаем 74 уникальных пользователя, котрые имеют аномальное кол-во заказов или сумму заказов."
   ]
  },
  {
   "cell_type": "code",
   "execution_count": 76,
   "id": "d7dfadbb",
   "metadata": {},
   "outputs": [],
   "source": [
    "# фильтруем и создаем выборку, где каждый элемент — число заказов определённого пользователя по группе А\n",
    "filter_sample_a = pd.concat(\n",
    "    [\n",
    "        orders_by_users_a[\n",
    "            np.logical_not(orders_by_users_a['userId'].isin(abnormal_users))\n",
    "        ]['orders'],\n",
    "        pd.Series(\n",
    "            0,\n",
    "            index=np.arange(\n",
    "                group_data['visitors_per_date_a'].sum() - len(orders_by_users_b['orders'])\n",
    "            ),\n",
    "            name='orders',\n",
    "        ),\n",
    "    ],\n",
    "    axis=0,\n",
    ")"
   ]
  },
  {
   "cell_type": "code",
   "execution_count": 77,
   "id": "2704ff2b",
   "metadata": {},
   "outputs": [],
   "source": [
    "# фильтруем и создаем выборку, где каждый элемент — число заказов определённого пользователя по группе В\n",
    "filter_sample_b = pd.concat(\n",
    "    [\n",
    "        orders_by_users_b[\n",
    "            np.logical_not(orders_by_users_b['userId'].isin(abnormal_users))\n",
    "        ]['orders'],\n",
    "        pd.Series(\n",
    "            0,\n",
    "            index=np.arange(\n",
    "                group_data['visitors_per_date_b'].sum() - len(orders_by_users_b['orders'])\n",
    "            ),\n",
    "            name='orders',\n",
    "        ),\n",
    "    ],\n",
    "    axis=0,\n",
    ")"
   ]
  },
  {
   "cell_type": "markdown",
   "id": "545fc6f6",
   "metadata": {},
   "source": [
    "#### Тест"
   ]
  },
  {
   "cell_type": "markdown",
   "id": "46e3110e",
   "metadata": {},
   "source": [
    "**Нулевая гипотеза:** Различий в среднем кол-ве заказов между группами нет. \\\n",
    "**Альтернативная гипотеза:** различия в среднем кол-ве заказов между группами есть."
   ]
  },
  {
   "cell_type": "code",
   "execution_count": 78,
   "id": "862b923c",
   "metadata": {},
   "outputs": [
    {
     "name": "stdout",
     "output_type": "stream",
     "text": [
      "P-value равно 0.016\n",
      "Разница в группах равна 0.167\n"
     ]
    }
   ],
   "source": [
    "print('P-value равно {0:.3f}'.format(stats.mannwhitneyu(filter_sample_a, filter_sample_b)[1]))\n",
    "print('Разница в группах равна {0:.3f}'.format(filter_sample_b.mean()/filter_sample_a.mean()-1)) "
   ]
  },
  {
   "cell_type": "markdown",
   "id": "fb2ff004",
   "metadata": {},
   "source": [
    "Результаты по среднему количеству заказов практически не изменились.\n",
    "\n",
    "*Было:\\\n",
    "p-value равно 0.017\\\n",
    "Разница между группами 0.138*\n",
    "\n",
    "P-value по прежнему меньше 0.05. Значит отвергаем нулевую гипотезу о равенстве в среднем количестве заказов в группах. Количество заказов в группе B по очищенным данным на 16.7% больше."
   ]
  },
  {
   "cell_type": "markdown",
   "id": "48f86dc6",
   "metadata": {},
   "source": [
    "### Статистическая значимость различий в среднем чеке заказа между группами по «очищенным» данным. "
   ]
  },
  {
   "cell_type": "markdown",
   "id": "84e076af",
   "metadata": {},
   "source": [
    "**Нулевая гипотеза:** различий в среднем чеке между группами нет. \\\n",
    "**Альтернативная гипотеза:** различия в среднем чеке между группами есть."
   ]
  },
  {
   "cell_type": "code",
   "execution_count": 79,
   "id": "86026630",
   "metadata": {},
   "outputs": [
    {
     "name": "stdout",
     "output_type": "stream",
     "text": [
      "P-value равно 0.738\n",
      "Разница между группами равна -0.020\n"
     ]
    }
   ],
   "source": [
    "print(\n",
    "    'P-value равно {0:.3f}'.format(\n",
    "        stats.mannwhitneyu(\n",
    "            orders[\n",
    "                np.logical_and(\n",
    "                    orders['group'] == 'A',\n",
    "                    np.logical_not(orders['visitor_id'].isin(abnormal_users)),\n",
    "                )\n",
    "            ]['revenue'],\n",
    "            orders[\n",
    "                np.logical_and(\n",
    "                    orders['group'] == 'B',\n",
    "                    np.logical_not(orders['visitor_id'].isin(abnormal_users)),\n",
    "                )\n",
    "            ]['revenue'],\n",
    "        )[1]\n",
    "    )\n",
    ")\n",
    "print(\n",
    "    \"Разница между группами равна {0:.3f}\".format(\n",
    "        orders[\n",
    "            np.logical_and(\n",
    "                orders['group'] == 'B',\n",
    "                np.logical_not(orders['visitor_id'].isin(abnormal_users)),\n",
    "            )\n",
    "        ]['revenue'].mean()\n",
    "        / orders[\n",
    "            np.logical_and(\n",
    "                orders['group'] == 'A',\n",
    "                np.logical_not(orders['visitor_id'].isin(abnormal_users)),\n",
    "            )\n",
    "        ]['revenue'].mean()\n",
    "        - 1\n",
    "    )\n",
    ") "
   ]
  },
  {
   "cell_type": "markdown",
   "id": "0b81bc2c",
   "metadata": {},
   "source": [
    "*Было:\\\n",
    "P-value равно 0.729\\\n",
    "Разница между группами 0.259*\n",
    "\n",
    "P-value практически не изменился, и он значительно больше 0.05. Значит, причин отвергать нулевую гипотезу и считать, что в среднем чеке есть различия, нет.\n",
    "Однако разница между группами изменилась с 25.9% до -0.02%. Т.е. по очищенным данным средний чек в группе B на 2% хуже, чем в группе A"
   ]
  },
  {
   "cell_type": "markdown",
   "id": "547e22cf",
   "metadata": {},
   "source": [
    "### Вывод\n"
   ]
  },
  {
   "cell_type": "markdown",
   "id": "17427726",
   "metadata": {},
   "source": [
    "- Статистически значимое различие по среднему количеству заказов между группами есть и по «сырым» данным и по данным после фильтрации аномалий. В среднем в группе В заказов на 16.7% больше (по очищенным данным)\n",
    "- Статистически значимых различий по среднему чеку между группами нет ни по «сырым» данным , ни по данным после фильтрации аномалий. Однако можно увидеть, как аномально большые заказы влияют на оценку. По сырым данным среднего чека группа В лидирует на 25.9%, а по очищенным проигрывает на 2%."
   ]
  },
  {
   "cell_type": "markdown",
   "id": "ceb476a1",
   "metadata": {},
   "source": [
    "## Общий вывод"
   ]
  },
  {
   "cell_type": "markdown",
   "id": "cdff9dab",
   "metadata": {},
   "source": [
    "*Примите решение по результатам теста и объясните его. Варианты решений: 1. Остановить тест, зафиксировать победу одной из групп. 2. Остановить тест, зафиксировать отсутствие различий между группами. 3. Продолжить тест.*"
   ]
  },
  {
   "cell_type": "markdown",
   "id": "93c5605d",
   "metadata": {},
   "source": [
    "- График различия конверсии между группами сообщает, что результаты группы B лучше группы A примерно на 4%, показатели зафиксировались около среднего значения. \n",
    "- График различия среднего чека так же лучше у группы В. Однако статистической разницы в среднем чеке нет. Нельзя принимать решение о различии в результатах теста только на основе относительного изменения.\n",
    "- Статистически значимое различие по среднему количеству заказов между группами есть. В группе В заказов в среднем на 16.7% больше.\n",
    "\n",
    "Таким образом А/В тест показал улучшения в среднем количестве заказов пользователей, однако не повлиял на средний чек пользователей. "
   ]
  },
  {
   "cell_type": "markdown",
   "id": "dccef629",
   "metadata": {},
   "source": [
    "Исходя из обнаруженных фактов, тест можно остановить и признать успешным, если его целью было именно увеличесния числа заказов.\n",
    "\n",
    "Так же не стоит забывать о выявленные ошибках в делении трафика. Мы выявили разницу кол-ва пользователей в контрольной и тестовой группах - около 1%, а так же 58 пользователей, которые делали заказы в обеих группах. "
   ]
  }
 ],
 "metadata": {
  "ExecuteTimeLog": [
   {
    "duration": 3,
    "start_time": "2022-10-31T15:58:27.567Z"
   },
   {
    "duration": 71,
    "start_time": "2022-10-31T15:58:27.572Z"
   },
   {
    "duration": 7,
    "start_time": "2022-10-31T15:58:27.645Z"
   },
   {
    "duration": 9,
    "start_time": "2022-10-31T15:58:27.655Z"
   },
   {
    "duration": 9,
    "start_time": "2022-10-31T15:58:27.666Z"
   },
   {
    "duration": 11,
    "start_time": "2022-10-31T15:58:27.677Z"
   },
   {
    "duration": 6,
    "start_time": "2022-10-31T15:58:27.690Z"
   },
   {
    "duration": 29,
    "start_time": "2022-10-31T15:58:27.697Z"
   },
   {
    "duration": 7,
    "start_time": "2022-10-31T15:58:27.727Z"
   },
   {
    "duration": 21,
    "start_time": "2022-10-31T15:58:27.735Z"
   },
   {
    "duration": 211,
    "start_time": "2022-10-31T15:58:27.758Z"
   },
   {
    "duration": 6,
    "start_time": "2022-10-31T15:58:27.971Z"
   },
   {
    "duration": 12,
    "start_time": "2022-10-31T15:58:27.979Z"
   },
   {
    "duration": 10,
    "start_time": "2022-10-31T15:58:27.993Z"
   },
   {
    "duration": 22,
    "start_time": "2022-10-31T15:58:28.005Z"
   },
   {
    "duration": 17,
    "start_time": "2022-10-31T15:58:28.028Z"
   },
   {
    "duration": 18,
    "start_time": "2022-10-31T15:58:28.047Z"
   },
   {
    "duration": 13,
    "start_time": "2022-10-31T15:58:28.067Z"
   },
   {
    "duration": 9,
    "start_time": "2022-10-31T15:58:28.082Z"
   },
   {
    "duration": 9,
    "start_time": "2022-10-31T15:58:28.093Z"
   },
   {
    "duration": 25,
    "start_time": "2022-10-31T15:58:28.103Z"
   },
   {
    "duration": 6,
    "start_time": "2022-10-31T15:58:28.130Z"
   },
   {
    "duration": 11,
    "start_time": "2022-10-31T15:58:28.138Z"
   },
   {
    "duration": 7,
    "start_time": "2022-10-31T15:58:28.150Z"
   },
   {
    "duration": 4,
    "start_time": "2022-10-31T15:58:28.159Z"
   },
   {
    "duration": 9,
    "start_time": "2022-10-31T15:58:28.165Z"
   },
   {
    "duration": 9,
    "start_time": "2022-10-31T15:58:28.176Z"
   },
   {
    "duration": 43,
    "start_time": "2022-10-31T15:58:28.186Z"
   },
   {
    "duration": 11,
    "start_time": "2022-10-31T15:58:28.231Z"
   },
   {
    "duration": 15,
    "start_time": "2022-10-31T15:58:28.245Z"
   },
   {
    "duration": 28,
    "start_time": "2022-10-31T15:58:28.262Z"
   },
   {
    "duration": 8,
    "start_time": "2022-10-31T15:58:28.292Z"
   },
   {
    "duration": 9,
    "start_time": "2022-10-31T15:58:28.325Z"
   },
   {
    "duration": 5,
    "start_time": "2022-10-31T15:58:28.336Z"
   },
   {
    "duration": 189,
    "start_time": "2022-10-31T15:58:28.343Z"
   },
   {
    "duration": 9,
    "start_time": "2022-10-31T15:58:28.534Z"
   },
   {
    "duration": 133,
    "start_time": "2022-10-31T15:58:28.545Z"
   },
   {
    "duration": 8,
    "start_time": "2022-10-31T15:58:28.680Z"
   },
   {
    "duration": 14,
    "start_time": "2022-10-31T15:58:28.689Z"
   },
   {
    "duration": 260,
    "start_time": "2022-10-31T15:58:28.705Z"
   },
   {
    "duration": 237,
    "start_time": "2022-10-31T15:58:28.967Z"
   },
   {
    "duration": 375,
    "start_time": "2022-10-31T15:58:29.206Z"
   },
   {
    "duration": 10,
    "start_time": "2022-10-31T15:58:29.583Z"
   },
   {
    "duration": 269,
    "start_time": "2022-10-31T15:58:29.595Z"
   },
   {
    "duration": 11,
    "start_time": "2022-10-31T15:58:29.866Z"
   },
   {
    "duration": 11,
    "start_time": "2022-10-31T15:58:29.879Z"
   },
   {
    "duration": 397,
    "start_time": "2022-10-31T15:58:29.891Z"
   },
   {
    "duration": 9,
    "start_time": "2022-10-31T15:58:30.290Z"
   },
   {
    "duration": 30,
    "start_time": "2022-10-31T15:58:30.307Z"
   },
   {
    "duration": 330,
    "start_time": "2022-10-31T15:58:30.338Z"
   },
   {
    "duration": 5,
    "start_time": "2022-10-31T15:58:30.670Z"
   },
   {
    "duration": 483,
    "start_time": "2022-10-31T15:58:30.676Z"
   },
   {
    "duration": 6,
    "start_time": "2022-10-31T15:58:31.161Z"
   },
   {
    "duration": 7,
    "start_time": "2022-10-31T15:58:31.169Z"
   },
   {
    "duration": 18,
    "start_time": "2022-10-31T15:58:31.178Z"
   },
   {
    "duration": 76,
    "start_time": "2022-10-31T15:58:31.198Z"
   },
   {
    "duration": 71,
    "start_time": "2022-10-31T15:58:31.276Z"
   },
   {
    "duration": 35,
    "start_time": "2022-10-31T15:58:31.349Z"
   },
   {
    "duration": 99,
    "start_time": "2022-10-31T15:58:31.386Z"
   },
   {
    "duration": 78,
    "start_time": "2022-10-31T15:58:31.487Z"
   },
   {
    "duration": 37,
    "start_time": "2022-10-31T15:58:31.567Z"
   },
   {
    "duration": 166,
    "start_time": "2022-10-31T15:58:31.624Z"
   },
   {
    "duration": 10,
    "start_time": "2022-10-31T15:58:31.793Z"
   },
   {
    "duration": 22,
    "start_time": "2022-10-31T15:58:31.806Z"
   },
   {
    "duration": 52,
    "start_time": "2022-10-31T15:58:31.831Z"
   },
   {
    "duration": 15,
    "start_time": "2022-10-31T15:58:31.885Z"
   },
   {
    "duration": 24,
    "start_time": "2022-10-31T15:58:31.902Z"
   },
   {
    "duration": 39,
    "start_time": "2022-10-31T15:58:31.929Z"
   },
   {
    "duration": 30,
    "start_time": "2022-10-31T15:58:31.971Z"
   },
   {
    "duration": 17,
    "start_time": "2022-10-31T15:58:32.004Z"
   },
   {
    "duration": 24,
    "start_time": "2022-10-31T15:58:32.023Z"
   },
   {
    "duration": 43,
    "start_time": "2022-10-31T15:58:32.049Z"
   },
   {
    "duration": 16,
    "start_time": "2022-10-31T15:58:32.094Z"
   },
   {
    "duration": 48,
    "start_time": "2022-10-31T17:04:31.079Z"
   },
   {
    "duration": 1298,
    "start_time": "2022-10-31T17:07:55.776Z"
   },
   {
    "duration": 189,
    "start_time": "2022-10-31T17:07:57.076Z"
   },
   {
    "duration": 11,
    "start_time": "2022-10-31T17:07:57.267Z"
   },
   {
    "duration": 8,
    "start_time": "2022-10-31T17:07:57.280Z"
   },
   {
    "duration": 14,
    "start_time": "2022-10-31T17:07:57.289Z"
   },
   {
    "duration": 16,
    "start_time": "2022-10-31T17:07:57.305Z"
   },
   {
    "duration": 9,
    "start_time": "2022-10-31T17:07:57.322Z"
   },
   {
    "duration": 16,
    "start_time": "2022-10-31T17:07:57.333Z"
   },
   {
    "duration": 23,
    "start_time": "2022-10-31T17:07:57.351Z"
   },
   {
    "duration": 19,
    "start_time": "2022-10-31T17:07:57.377Z"
   },
   {
    "duration": 185,
    "start_time": "2022-10-31T17:07:57.398Z"
   },
   {
    "duration": 5,
    "start_time": "2022-10-31T17:07:57.584Z"
   },
   {
    "duration": 11,
    "start_time": "2022-10-31T17:07:57.591Z"
   },
   {
    "duration": 10,
    "start_time": "2022-10-31T17:07:57.604Z"
   },
   {
    "duration": 7,
    "start_time": "2022-10-31T17:07:57.616Z"
   },
   {
    "duration": 13,
    "start_time": "2022-10-31T17:07:57.624Z"
   },
   {
    "duration": 26,
    "start_time": "2022-10-31T17:07:57.639Z"
   },
   {
    "duration": 10,
    "start_time": "2022-10-31T17:07:57.667Z"
   },
   {
    "duration": 11,
    "start_time": "2022-10-31T17:07:57.678Z"
   },
   {
    "duration": 15,
    "start_time": "2022-10-31T17:07:57.691Z"
   },
   {
    "duration": 15,
    "start_time": "2022-10-31T17:07:57.708Z"
   },
   {
    "duration": 17,
    "start_time": "2022-10-31T17:07:57.725Z"
   },
   {
    "duration": 17,
    "start_time": "2022-10-31T17:07:57.744Z"
   },
   {
    "duration": 15,
    "start_time": "2022-10-31T17:07:57.763Z"
   },
   {
    "duration": 6,
    "start_time": "2022-10-31T17:07:57.780Z"
   },
   {
    "duration": 11,
    "start_time": "2022-10-31T17:07:57.788Z"
   },
   {
    "duration": 17,
    "start_time": "2022-10-31T17:07:57.801Z"
   },
   {
    "duration": 14,
    "start_time": "2022-10-31T17:07:57.822Z"
   },
   {
    "duration": 9,
    "start_time": "2022-10-31T17:07:57.837Z"
   },
   {
    "duration": 19,
    "start_time": "2022-10-31T17:07:57.847Z"
   },
   {
    "duration": 66,
    "start_time": "2022-10-31T17:07:57.867Z"
   },
   {
    "duration": 7,
    "start_time": "2022-10-31T17:07:57.935Z"
   },
   {
    "duration": 21,
    "start_time": "2022-10-31T17:07:57.943Z"
   },
   {
    "duration": 9,
    "start_time": "2022-10-31T17:07:57.967Z"
   },
   {
    "duration": 167,
    "start_time": "2022-10-31T17:07:57.978Z"
   },
   {
    "duration": 13,
    "start_time": "2022-10-31T17:07:58.147Z"
   },
   {
    "duration": 129,
    "start_time": "2022-10-31T17:07:58.162Z"
   },
   {
    "duration": 7,
    "start_time": "2022-10-31T17:07:58.293Z"
   },
   {
    "duration": 17,
    "start_time": "2022-10-31T17:07:58.301Z"
   },
   {
    "duration": 309,
    "start_time": "2022-10-31T17:07:58.320Z"
   },
   {
    "duration": 225,
    "start_time": "2022-10-31T17:07:58.631Z"
   },
   {
    "duration": 360,
    "start_time": "2022-10-31T17:07:58.858Z"
   },
   {
    "duration": 9,
    "start_time": "2022-10-31T17:07:59.220Z"
   },
   {
    "duration": 264,
    "start_time": "2022-10-31T17:07:59.231Z"
   },
   {
    "duration": 7,
    "start_time": "2022-10-31T17:07:59.498Z"
   },
   {
    "duration": 15,
    "start_time": "2022-10-31T17:07:59.507Z"
   },
   {
    "duration": 366,
    "start_time": "2022-10-31T17:07:59.524Z"
   },
   {
    "duration": 8,
    "start_time": "2022-10-31T17:07:59.892Z"
   },
   {
    "duration": 16,
    "start_time": "2022-10-31T17:07:59.901Z"
   },
   {
    "duration": 379,
    "start_time": "2022-10-31T17:07:59.918Z"
   },
   {
    "duration": 4,
    "start_time": "2022-10-31T17:08:00.299Z"
   },
   {
    "duration": 371,
    "start_time": "2022-10-31T17:08:00.305Z"
   },
   {
    "duration": 6,
    "start_time": "2022-10-31T17:08:00.678Z"
   },
   {
    "duration": 30,
    "start_time": "2022-10-31T17:08:00.686Z"
   },
   {
    "duration": 25,
    "start_time": "2022-10-31T17:08:00.718Z"
   },
   {
    "duration": 158,
    "start_time": "2022-10-31T17:08:00.744Z"
   },
   {
    "duration": 97,
    "start_time": "2022-10-31T17:08:00.904Z"
   },
   {
    "duration": 13,
    "start_time": "2022-10-31T17:08:01.003Z"
   },
   {
    "duration": 107,
    "start_time": "2022-10-31T17:08:01.017Z"
   },
   {
    "duration": 65,
    "start_time": "2022-10-31T17:08:01.125Z"
   },
   {
    "duration": 55,
    "start_time": "2022-10-31T17:08:01.192Z"
   },
   {
    "duration": 155,
    "start_time": "2022-10-31T17:08:01.249Z"
   },
   {
    "duration": 10,
    "start_time": "2022-10-31T17:08:01.406Z"
   },
   {
    "duration": 39,
    "start_time": "2022-10-31T17:08:01.418Z"
   },
   {
    "duration": 61,
    "start_time": "2022-10-31T17:08:01.459Z"
   },
   {
    "duration": 16,
    "start_time": "2022-10-31T17:08:01.522Z"
   },
   {
    "duration": 50,
    "start_time": "2022-10-31T17:08:01.540Z"
   },
   {
    "duration": 48,
    "start_time": "2022-10-31T17:08:01.592Z"
   },
   {
    "duration": 70,
    "start_time": "2022-10-31T17:08:01.642Z"
   },
   {
    "duration": 25,
    "start_time": "2022-10-31T17:08:01.714Z"
   },
   {
    "duration": 105,
    "start_time": "2022-10-31T17:08:01.741Z"
   },
   {
    "duration": 66,
    "start_time": "2022-10-31T17:08:01.848Z"
   },
   {
    "duration": 59,
    "start_time": "2022-10-31T17:08:01.916Z"
   },
   {
    "duration": 6,
    "start_time": "2022-10-31T17:09:47.826Z"
   },
   {
    "duration": 5,
    "start_time": "2022-10-31T17:10:00.306Z"
   },
   {
    "duration": 3,
    "start_time": "2022-10-31T17:10:51.908Z"
   },
   {
    "duration": 68,
    "start_time": "2022-10-31T17:10:53.132Z"
   },
   {
    "duration": 7,
    "start_time": "2022-10-31T17:11:11.627Z"
   },
   {
    "duration": 6,
    "start_time": "2022-10-31T17:11:20.090Z"
   },
   {
    "duration": 4,
    "start_time": "2022-10-31T17:11:26.379Z"
   },
   {
    "duration": 6,
    "start_time": "2022-10-31T17:11:32.763Z"
   },
   {
    "duration": 6,
    "start_time": "2022-10-31T17:11:36.700Z"
   },
   {
    "duration": 5,
    "start_time": "2022-10-31T17:11:42.243Z"
   },
   {
    "duration": 6,
    "start_time": "2022-10-31T17:11:44.492Z"
   },
   {
    "duration": 6,
    "start_time": "2022-10-31T17:11:52.553Z"
   },
   {
    "duration": 5,
    "start_time": "2022-10-31T17:13:03.618Z"
   },
   {
    "duration": 7,
    "start_time": "2022-10-31T17:13:13.865Z"
   },
   {
    "duration": 180,
    "start_time": "2022-10-31T17:21:03.335Z"
   },
   {
    "duration": 177,
    "start_time": "2022-10-31T17:21:35.251Z"
   },
   {
    "duration": 183,
    "start_time": "2022-10-31T17:21:48.130Z"
   },
   {
    "duration": 26,
    "start_time": "2022-10-31T17:23:09.314Z"
   },
   {
    "duration": 21,
    "start_time": "2022-10-31T17:23:15.333Z"
   },
   {
    "duration": 12,
    "start_time": "2022-10-31T17:23:26.056Z"
   },
   {
    "duration": 1541,
    "start_time": "2022-10-31T17:41:17.083Z"
   },
   {
    "duration": 71,
    "start_time": "2022-10-31T17:41:18.626Z"
   },
   {
    "duration": 12,
    "start_time": "2022-10-31T17:41:18.724Z"
   },
   {
    "duration": 8,
    "start_time": "2022-10-31T17:41:18.739Z"
   },
   {
    "duration": 9,
    "start_time": "2022-10-31T17:41:18.749Z"
   },
   {
    "duration": 65,
    "start_time": "2022-10-31T17:41:18.760Z"
   },
   {
    "duration": 6,
    "start_time": "2022-10-31T17:41:18.827Z"
   },
   {
    "duration": 12,
    "start_time": "2022-10-31T17:41:18.835Z"
   },
   {
    "duration": 7,
    "start_time": "2022-10-31T17:41:18.848Z"
   },
   {
    "duration": 79,
    "start_time": "2022-10-31T17:41:18.858Z"
   },
   {
    "duration": 409,
    "start_time": "2022-10-31T17:41:18.939Z"
   },
   {
    "duration": 6,
    "start_time": "2022-10-31T17:41:19.350Z"
   },
   {
    "duration": 67,
    "start_time": "2022-10-31T17:41:19.358Z"
   },
   {
    "duration": 7,
    "start_time": "2022-10-31T17:41:19.427Z"
   },
   {
    "duration": 8,
    "start_time": "2022-10-31T17:41:19.436Z"
   },
   {
    "duration": 15,
    "start_time": "2022-10-31T17:41:19.445Z"
   },
   {
    "duration": 65,
    "start_time": "2022-10-31T17:41:19.462Z"
   },
   {
    "duration": 5,
    "start_time": "2022-10-31T17:41:19.529Z"
   },
   {
    "duration": 10,
    "start_time": "2022-10-31T17:41:19.536Z"
   },
   {
    "duration": 9,
    "start_time": "2022-10-31T17:41:19.547Z"
   },
   {
    "duration": 67,
    "start_time": "2022-10-31T17:41:19.558Z"
   },
   {
    "duration": 8,
    "start_time": "2022-10-31T17:41:19.627Z"
   },
   {
    "duration": 9,
    "start_time": "2022-10-31T17:41:19.637Z"
   },
   {
    "duration": 8,
    "start_time": "2022-10-31T17:41:19.648Z"
   },
   {
    "duration": 5,
    "start_time": "2022-10-31T17:41:19.658Z"
   },
   {
    "duration": 64,
    "start_time": "2022-10-31T17:41:19.665Z"
   },
   {
    "duration": 7,
    "start_time": "2022-10-31T17:41:19.731Z"
   },
   {
    "duration": 13,
    "start_time": "2022-10-31T17:41:19.742Z"
   },
   {
    "duration": 17,
    "start_time": "2022-10-31T17:41:19.757Z"
   },
   {
    "duration": 12,
    "start_time": "2022-10-31T17:41:19.824Z"
   },
   {
    "duration": 118,
    "start_time": "2022-10-31T17:41:19.838Z"
   },
   {
    "duration": 9,
    "start_time": "2022-10-31T17:41:19.958Z"
   },
   {
    "duration": 9,
    "start_time": "2022-10-31T17:41:20.024Z"
   },
   {
    "duration": 9,
    "start_time": "2022-10-31T17:41:20.035Z"
   },
   {
    "duration": 276,
    "start_time": "2022-10-31T17:41:20.046Z"
   },
   {
    "duration": 10,
    "start_time": "2022-10-31T17:41:20.324Z"
   },
   {
    "duration": 139,
    "start_time": "2022-10-31T17:41:20.335Z"
   },
   {
    "duration": 8,
    "start_time": "2022-10-31T17:41:20.476Z"
   },
   {
    "duration": 14,
    "start_time": "2022-10-31T17:41:20.485Z"
   },
   {
    "duration": 318,
    "start_time": "2022-10-31T17:41:20.500Z"
   },
   {
    "duration": 253,
    "start_time": "2022-10-31T17:41:20.823Z"
   },
   {
    "duration": 549,
    "start_time": "2022-10-31T17:41:21.079Z"
   },
   {
    "duration": 10,
    "start_time": "2022-10-31T17:41:21.630Z"
   },
   {
    "duration": 595,
    "start_time": "2022-10-31T17:41:21.642Z"
   },
   {
    "duration": 9,
    "start_time": "2022-10-31T17:41:22.239Z"
   },
   {
    "duration": 14,
    "start_time": "2022-10-31T17:41:22.250Z"
   },
   {
    "duration": 596,
    "start_time": "2022-10-31T17:41:22.265Z"
   },
   {
    "duration": 64,
    "start_time": "2022-10-31T17:41:22.862Z"
   },
   {
    "duration": 13,
    "start_time": "2022-10-31T17:41:22.928Z"
   },
   {
    "duration": 788,
    "start_time": "2022-10-31T17:41:22.942Z"
   },
   {
    "duration": 4,
    "start_time": "2022-10-31T17:41:23.732Z"
   },
   {
    "duration": 518,
    "start_time": "2022-10-31T17:41:23.738Z"
   },
   {
    "duration": 6,
    "start_time": "2022-10-31T17:41:24.258Z"
   },
   {
    "duration": 59,
    "start_time": "2022-10-31T17:41:24.266Z"
   },
   {
    "duration": 20,
    "start_time": "2022-10-31T17:41:24.327Z"
   },
   {
    "duration": 106,
    "start_time": "2022-10-31T17:41:24.349Z"
   },
   {
    "duration": 106,
    "start_time": "2022-10-31T17:41:24.457Z"
   },
   {
    "duration": 24,
    "start_time": "2022-10-31T17:41:24.565Z"
   },
   {
    "duration": 155,
    "start_time": "2022-10-31T17:41:24.591Z"
   },
   {
    "duration": 117,
    "start_time": "2022-10-31T17:41:24.748Z"
   },
   {
    "duration": 90,
    "start_time": "2022-10-31T17:41:24.867Z"
   },
   {
    "duration": 287,
    "start_time": "2022-10-31T17:41:24.959Z"
   },
   {
    "duration": 8,
    "start_time": "2022-10-31T17:41:25.248Z"
   },
   {
    "duration": 70,
    "start_time": "2022-10-31T17:41:25.258Z"
   },
   {
    "duration": 25,
    "start_time": "2022-10-31T17:41:25.330Z"
   },
   {
    "duration": 11,
    "start_time": "2022-10-31T17:41:25.357Z"
   },
   {
    "duration": 10,
    "start_time": "2022-10-31T17:41:25.423Z"
   },
   {
    "duration": 7,
    "start_time": "2022-10-31T17:41:25.435Z"
   },
   {
    "duration": 23,
    "start_time": "2022-10-31T17:41:25.444Z"
   },
   {
    "duration": 58,
    "start_time": "2022-10-31T17:41:25.468Z"
   },
   {
    "duration": 6,
    "start_time": "2022-10-31T17:41:25.528Z"
   },
   {
    "duration": 32,
    "start_time": "2022-10-31T17:41:25.535Z"
   },
   {
    "duration": 66,
    "start_time": "2022-10-31T17:41:25.568Z"
   }
  ],
  "kernelspec": {
   "display_name": "Python 3 (ipykernel)",
   "language": "python",
   "name": "python3"
  },
  "language_info": {
   "codemirror_mode": {
    "name": "ipython",
    "version": 3
   },
   "file_extension": ".py",
   "mimetype": "text/x-python",
   "name": "python",
   "nbconvert_exporter": "python",
   "pygments_lexer": "ipython3",
   "version": "3.9.15"
  },
  "toc": {
   "base_numbering": 1,
   "nav_menu": {},
   "number_sections": true,
   "sideBar": true,
   "skip_h1_title": true,
   "title_cell": "Table of Contents",
   "title_sidebar": "Contents",
   "toc_cell": false,
   "toc_position": {},
   "toc_section_display": true,
   "toc_window_display": false
  }
 },
 "nbformat": 4,
 "nbformat_minor": 5
}
